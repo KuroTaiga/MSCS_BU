{
 "cells": [
  {
   "cell_type": "markdown",
   "id": "69a4f2b4-cf1f-4a31-99d5-dd8efa895359",
   "metadata": {},
   "source": [
    "---\n",
    "title: \"Constraint Satisfaction Problems (CSP) - OR Tools (Part1)\"\n",
    "format: html\n",
    "page-layout: full\n",
    "code-line-numbers: true\n",
    "code-block-border: true\n",
    "toc: true\n",
    "toc-location: left\n",
    "number-sections: true\n",
    "jupyter: python3\n",
    "---"
   ]
  },
  {
   "cell_type": "markdown",
   "id": "374a8fa0-4237-49ae-8009-7bf81cd97e69",
   "metadata": {},
   "source": [
    " - https://developers.google.com/optimization\n",
    "   - pip install ortools"
   ]
  },
  {
   "cell_type": "code",
   "execution_count": 1,
   "id": "acaefefd-ad29-4478-ab35-736d114962bc",
   "metadata": {},
   "outputs": [],
   "source": [
    "from ortools.sat.python import cp_model"
   ]
  },
  {
   "cell_type": "markdown",
   "id": "f76f29e3-033e-4d2a-88e4-518bd787207c",
   "metadata": {},
   "source": [
    "# CP-SAT Solver"
   ]
  },
  {
   "cell_type": "markdown",
   "id": "8629aba7-ccfa-49b0-9657-9f72087d32c1",
   "metadata": {},
   "source": [
    "- Three variables x, y, z (each with domain [0,2])\n",
    "- All the variables should have different values"
   ]
  },
  {
   "cell_type": "code",
   "execution_count": 2,
   "id": "79c21382-7b11-47f8-8aaa-29d9dea18a86",
   "metadata": {},
   "outputs": [],
   "source": [
    "def SimpleSatProgram(lower=0, upper=2):\n",
    "    model = cp_model.CpModel()\n",
    "\n",
    "    # Create the variables\n",
    "    x = model.NewIntVar(lower, upper, \"x\")\n",
    "    y = model.NewIntVar(lower, upper, \"y\")\n",
    "    z = model.NewIntVar(lower, upper, \"z\")\n",
    "\n",
    "    # Create the constraints\n",
    "    model.Add(x != y)\n",
    "    model.Add(y != z)\n",
    "    model.Add(x != z)\n",
    "\n",
    "    # Create the solver and solve the constraints\n",
    "    solver = cp_model.CpSolver()\n",
    "    status = solver.Solve(model)\n",
    "\n",
    "    # Look for solutions\n",
    "    if status == cp_model.OPTIMAL or status == cp_model.FEASIBLE:\n",
    "        print(f\"x, y, z = {solver.Value(x)}, {solver.Value(y)}, {solver.Value(z)}\")\n",
    "    else:\n",
    "        print(\"No solutions...\")"
   ]
  },
  {
   "cell_type": "code",
   "execution_count": 3,
   "id": "7e87953a-e3a9-430e-8084-5ea08668c280",
   "metadata": {},
   "outputs": [
    {
     "name": "stdout",
     "output_type": "stream",
     "text": [
      "x, y, z = 0, 1, 2\n"
     ]
    }
   ],
   "source": [
    "SimpleSatProgram()"
   ]
  },
  {
   "cell_type": "code",
   "execution_count": 4,
   "id": "ddfef4f1-f002-45b3-9453-dd94f40d4516",
   "metadata": {},
   "outputs": [
    {
     "name": "stdout",
     "output_type": "stream",
     "text": [
      "x, y, z = 2, 1, 0\n"
     ]
    }
   ],
   "source": [
    "SimpleSatProgram()"
   ]
  },
  {
   "cell_type": "markdown",
   "id": "5e3399a1-358c-4257-820f-18a30ad651f5",
   "metadata": {},
   "source": [
    "## Finding all solutions"
   ]
  },
  {
   "cell_type": "code",
   "execution_count": 5,
   "id": "9129b149-9bc4-4088-b98f-1ad867ff47f4",
   "metadata": {},
   "outputs": [],
   "source": [
    "# Callback for solution printer\n",
    "\n",
    "class VarArraySolutionPrinter(cp_model.CpSolverSolutionCallback):\n",
    "    \"\"\"Print intermediate solutions.\"\"\"\n",
    "\n",
    "    def __init__(self, variables):\n",
    "        cp_model.CpSolverSolutionCallback.__init__(self)\n",
    "        self.__variables = variables\n",
    "        self.__solution_count = 0\n",
    "\n",
    "    def on_solution_callback(self):\n",
    "        self.__solution_count += 1\n",
    "        print(f\"{self.__solution_count:>2d}) \", end=\"\")\n",
    "        for v in self.__variables:\n",
    "            print(f\"{v}={self.Value(v)}\", end=\" \")\n",
    "        print()\n",
    "\n",
    "    def solution_count(self):\n",
    "        return self.__solution_count"
   ]
  },
  {
   "cell_type": "code",
   "execution_count": 6,
   "id": "75a4f6ac-5824-4066-8b63-8b5e146b1c6b",
   "metadata": {},
   "outputs": [],
   "source": [
    "def SimpleSatProgramAllSolutions(lower=0, upper=2):\n",
    "    model = cp_model.CpModel()\n",
    "\n",
    "    # Create the variables\n",
    "    x = model.NewIntVar(lower, upper, \"x\")\n",
    "    y = model.NewIntVar(lower, upper, \"y\")\n",
    "    z = model.NewIntVar(lower, upper, \"z\")\n",
    "\n",
    "    # Create the constraints\n",
    "    model.Add(x != y)\n",
    "    model.Add(y != z)\n",
    "    model.Add(x != z)\n",
    "\n",
    "    # Create the solver and solve the constraints\n",
    "    solver = cp_model.CpSolver()\n",
    "    solver.parameters.enumerate_all_solutions = True\n",
    "\n",
    "    solution_printer = VarArraySolutionPrinter([x, y, z])\n",
    "    status = solver.Solve(model, solution_printer)\n",
    "\n",
    "    print(f\"Number of solutions found: {solution_printer.solution_count()}\")\n"
   ]
  },
  {
   "cell_type": "code",
   "execution_count": 7,
   "id": "05a5b662-31c9-476a-8b9c-0248c5d1c6e8",
   "metadata": {},
   "outputs": [
    {
     "name": "stdout",
     "output_type": "stream",
     "text": [
      " 1) x=3 y=2 z=1 \n",
      " 2) x=3 y=1 z=2 \n",
      " 3) x=2 y=1 z=3 \n",
      " 4) x=4 y=1 z=2 \n",
      " 5) x=4 y=1 z=3 \n",
      " 6) x=4 y=2 z=3 \n",
      " 7) x=4 y=2 z=1 \n",
      " 8) x=4 y=3 z=1 \n",
      " 9) x=4 y=3 z=2 \n",
      "10) x=3 y=2 z=4 \n",
      "11) x=3 y=1 z=4 \n",
      "12) x=2 y=1 z=4 \n",
      "13) x=1 y=2 z=4 \n",
      "14) x=1 y=3 z=4 \n",
      "15) x=2 y=3 z=4 \n",
      "16) x=1 y=2 z=3 \n",
      "17) x=1 y=4 z=3 \n",
      "18) x=2 y=4 z=3 \n",
      "19) x=2 y=3 z=1 \n",
      "20) x=1 y=3 z=2 \n",
      "21) x=1 y=4 z=2 \n",
      "22) x=2 y=4 z=1 \n",
      "23) x=3 y=4 z=1 \n",
      "24) x=3 y=4 z=2 \n",
      "Number of solutions found: 24\n"
     ]
    }
   ],
   "source": [
    "SimpleSatProgramAllSolutions(1,4)"
   ]
  },
  {
   "cell_type": "markdown",
   "id": "18cf5e4d-b280-4020-be2b-2ac48f393812",
   "metadata": {},
   "source": [
    "# Optimization Problems"
   ]
  },
  {
   "cell_type": "markdown",
   "id": "a0b5daf8-ef09-48dd-ad77-2ccbda57648f",
   "metadata": {},
   "source": [
    "- Maximize 2x + 2y + 3z subject to the following constraints:\n",
    "    - 2x + 7y + 3z <= 50\n",
    "    - 3x - 5y + 7z <= 45\n",
    "    - 5x + 2y - 6z <= 37\n",
    "    - x, y, z >= 0\n",
    "    - x, y, z are integers "
   ]
  },
  {
   "cell_type": "code",
   "execution_count": 8,
   "id": "96fc57a0-060b-404e-bb43-a88ed99cba07",
   "metadata": {},
   "outputs": [],
   "source": [
    "def OptimizationProblemExample():\n",
    "    \n",
    "    # Creates the model.\n",
    "    model = cp_model.CpModel()\n",
    "\n",
    "    # Creates the variables.\n",
    "    var_upper_bound = max(50, 45, 37)\n",
    "    \n",
    "    x = model.NewIntVar(0, var_upper_bound, \"x\")\n",
    "    y = model.NewIntVar(0, var_upper_bound, \"y\")\n",
    "    z = model.NewIntVar(0, var_upper_bound, \"z\")\n",
    "\n",
    "    # Creates the constraints.\n",
    "    model.Add(2 * x + 7 * y + 3 * z <= 50)\n",
    "    model.Add(3 * x - 5 * y + 7 * z <= 45)\n",
    "    model.Add(5 * x + 2 * y - 6 * z <= 37)\n",
    "\n",
    "    model.Maximize(2 * x + 2 * y + 3 * z)\n",
    "\n",
    "    # Creates a solver and solves the model.\n",
    "    solver = cp_model.CpSolver()\n",
    "    status = solver.Solve(model)\n",
    "\n",
    "    if status == cp_model.OPTIMAL or status == cp_model.FEASIBLE:\n",
    "        print(f\"Maximum of objective function: {solver.ObjectiveValue()}\\n\")\n",
    "        print(f\"x, y, z = {solver.Value(x)}, {solver.Value(y)}, {solver.Value(z)}\")\n",
    "    else:\n",
    "        print(\"No solution found.\")\n",
    "\n",
    "    # Statistics.\n",
    "    print(\"\\nStatistics\")\n",
    "    print(f\"  status   : {solver.StatusName(status)}\")\n",
    "    print(f\"  conflicts: {solver.NumConflicts()}\")\n",
    "    print(f\"  branches : {solver.NumBranches()}\")\n",
    "    print(f\"  wall time: {solver.WallTime()} s\")"
   ]
  },
  {
   "cell_type": "code",
   "execution_count": 9,
   "id": "9216db62-480d-4bd1-a8c6-180ba266d721",
   "metadata": {},
   "outputs": [
    {
     "name": "stdout",
     "output_type": "stream",
     "text": [
      "Maximum of objective function: 35.0\n",
      "\n",
      "x, y, z = 7, 3, 5\n",
      "\n",
      "Statistics\n",
      "  status   : OPTIMAL\n",
      "  conflicts: 0\n",
      "  branches : 0\n",
      "  wall time: 0.005089000000000001 s\n"
     ]
    }
   ],
   "source": [
    "OptimizationProblemExample()"
   ]
  },
  {
   "cell_type": "markdown",
   "id": "45a81131-f27e-4583-82cd-9a6458985cc3",
   "metadata": {},
   "source": [
    "# SEND + MORE = MONEY"
   ]
  },
  {
   "cell_type": "code",
   "execution_count": 10,
   "id": "9f91bdc9-04bb-4fc8-bb63-2c1394d09ae8",
   "metadata": {},
   "outputs": [
    {
     "name": "stdout",
     "output_type": "stream",
     "text": [
      "Optimal solution found!\n",
      "s: 9\n",
      "e: 5\n",
      "n: 6\n",
      "d: 7\n",
      "m: 1\n",
      "o: 0\n",
      "r: 8\n",
      "y: 2\n"
     ]
    }
   ],
   "source": [
    "def send_more_money():\n",
    "    \"\"\"Solve the cryptarithmic puzzle SEND+MORE=MONEY.\"\"\"\n",
    "    model = cp_model.CpModel()\n",
    "\n",
    "    # Create variables.\n",
    "    # Since s is a leading digit, it can't be 0.\n",
    "    s = model.NewIntVar(1, 9, \"s\")\n",
    "    e = model.NewIntVar(0, 9, \"e\")\n",
    "    n = model.NewIntVar(0, 9, \"n\")\n",
    "    d = model.NewIntVar(0, 9, \"d\")\n",
    "    # Since m is a leading digit, it can't be 0.\n",
    "    m = model.NewIntVar(1, 9, \"m\")\n",
    "    o = model.NewIntVar(0, 9, \"o\")\n",
    "    r = model.NewIntVar(0, 9, \"r\")\n",
    "    y = model.NewIntVar(0, 9, \"y\")\n",
    "\n",
    "    # Create carry variables. c0 is true if the first column of addends carries\n",
    "    # a 1, c2 is true if the second column carries a 1, and so on.\n",
    "    c0 = model.NewBoolVar(\"c0\")\n",
    "    c1 = model.NewBoolVar(\"c1\")\n",
    "    c2 = model.NewBoolVar(\"c2\")\n",
    "    c3 = model.NewBoolVar(\"c3\")\n",
    "\n",
    "    # Force all letters to take on different values.\n",
    "    model.AddAllDifferent(s, e, n, d, m, o, r, y)\n",
    "\n",
    "    # Column 0:\n",
    "    model.Add(c0 == m)\n",
    "\n",
    "    # Column 1:\n",
    "    model.Add(c1 + s + m == o + 10 * c0)\n",
    "\n",
    "    # Column 2:\n",
    "    model.Add(c2 + e + o == n + 10 * c1)\n",
    "\n",
    "    # Column 3:\n",
    "    model.Add(c3 + n + r == e + 10 * c2)\n",
    "\n",
    "    # Column 4:\n",
    "    model.Add(d + e == y + 10 * c3)\n",
    "\n",
    "    # Solve model.\n",
    "    solver = cp_model.CpSolver()\n",
    "    if solver.Solve(model) == cp_model.OPTIMAL:\n",
    "        print(\"Optimal solution found!\")\n",
    "    print(\"s:\", solver.Value(s))\n",
    "    print(\"e:\", solver.Value(e))\n",
    "    print(\"n:\", solver.Value(n))\n",
    "    print(\"d:\", solver.Value(d))\n",
    "    print(\"m:\", solver.Value(m))\n",
    "    print(\"o:\", solver.Value(o))\n",
    "    print(\"r:\", solver.Value(r))\n",
    "    print(\"y:\", solver.Value(y))\n",
    "\n",
    "send_more_money()"
   ]
  },
  {
   "cell_type": "code",
   "execution_count": 11,
   "id": "74503317-05a4-4aca-940a-d737fe475d5e",
   "metadata": {},
   "outputs": [
    {
     "data": {
      "text/plain": [
       "10652"
      ]
     },
     "execution_count": 11,
     "metadata": {},
     "output_type": "execute_result"
    }
   ],
   "source": [
    "9567 + \\\n",
    "1085"
   ]
  },
  {
   "cell_type": "markdown",
   "id": "658cfb85-a2aa-4ad5-9f21-b2e116414113",
   "metadata": {},
   "source": [
    "# Sudoku"
   ]
  },
  {
   "cell_type": "code",
   "execution_count": 3,
   "id": "3bb2814b-e8b1-48be-a89e-efa5db440342",
   "metadata": {},
   "outputs": [
    {
     "name": "stdout",
     "output_type": "stream",
     "text": [
      "[8, 6, 1, 4, 5, 9, 7, 2, 3]\n",
      "[4, 5, 2, 3, 1, 7, 6, 9, 8]\n",
      "[7, 9, 3, 6, 8, 2, 5, 1, 4]\n",
      "[2, 1, 6, 8, 3, 5, 4, 7, 9]\n",
      "[9, 8, 4, 2, 7, 6, 1, 3, 5]\n",
      "[3, 7, 5, 1, 9, 4, 8, 6, 2]\n",
      "[5, 4, 7, 9, 2, 1, 3, 8, 6]\n",
      "[1, 3, 9, 5, 6, 8, 2, 4, 7]\n",
      "[6, 2, 8, 7, 4, 3, 9, 5, 1]\n"
     ]
    }
   ],
   "source": [
    "def solve_sudoku():\n",
    "    \"\"\"Solves the sudoku problem with the CP-SAT solver.\"\"\"\n",
    "    # Create the model.\n",
    "    model = cp_model.CpModel()\n",
    "\n",
    "    cell_size = 3\n",
    "    line_size = cell_size**2\n",
    "    line = list(range(0, line_size))\n",
    "    cell = list(range(0, cell_size))\n",
    "\n",
    "    initial_grid = [\n",
    "        [0, 6, 0, 0, 5, 0, 0, 2, 0],\n",
    "        [0, 0, 0, 3, 0, 0, 0, 9, 0],\n",
    "        [7, 0, 0, 6, 0, 0, 0, 1, 0],\n",
    "        [0, 0, 6, 0, 3, 0, 4, 0, 0],\n",
    "        [0, 0, 4, 0, 7, 0, 1, 0, 0],\n",
    "        [0, 0, 5, 0, 9, 0, 8, 0, 0],\n",
    "        [0, 4, 0, 0, 0, 1, 0, 0, 6],\n",
    "        [0, 3, 0, 0, 0, 8, 0, 0, 0],\n",
    "        [0, 2, 0, 0, 4, 0, 0, 5, 0],\n",
    "    ]\n",
    "\n",
    "    grid = {}\n",
    "    for i in line:\n",
    "        for j in line:\n",
    "            grid[(i, j)] = model.NewIntVar(1, line_size, \"grid %i %i\" % (i, j))\n",
    "\n",
    "    # AllDifferent on rows.\n",
    "    for i in line:\n",
    "        model.AddAllDifferent(grid[(i, j)] for j in line)\n",
    "\n",
    "    # AllDifferent on columns.\n",
    "    for j in line:\n",
    "        model.AddAllDifferent(grid[(i, j)] for i in line)\n",
    "\n",
    "    # AllDifferent on cells.\n",
    "    for i in cell:\n",
    "        for j in cell:\n",
    "            one_cell = []\n",
    "            for di in cell:\n",
    "                for dj in cell:\n",
    "                    one_cell.append(grid[(i * cell_size + di, j * cell_size + dj)])\n",
    "\n",
    "            model.AddAllDifferent(one_cell)\n",
    "\n",
    "    # Initial values.\n",
    "    for i in line:\n",
    "        for j in line:\n",
    "            if initial_grid[i][j]:\n",
    "                model.Add(grid[(i, j)] == initial_grid[i][j])\n",
    "\n",
    "    # Solve and print out the solution.\n",
    "    solver = cp_model.CpSolver()\n",
    "    status = solver.Solve(model)\n",
    "    if status == cp_model.OPTIMAL:\n",
    "        for i in line:\n",
    "            print([int(solver.Value(grid[(i, j)])) for j in line])\n",
    "\n",
    "\n",
    "solve_sudoku()"
   ]
  },
  {
   "cell_type": "markdown",
   "id": "6daa26df-40e4-4836-ac3e-3a597d818d8b",
   "metadata": {},
   "source": [
    "# N-Queens"
   ]
  },
  {
   "cell_type": "code",
   "execution_count": 4,
   "id": "5ff551a1-c535-4b72-a0fd-16e7473fef35",
   "metadata": {},
   "outputs": [],
   "source": [
    "def solve_nqueens(N):\n",
    "    \"\"\"Solve the N-Queens problem.\"\"\"\n",
    "    # Create the model.\n",
    "    model = cp_model.CpModel()\n",
    "\n",
    "    # There are `N` number of variables, one for a queen in each column\n",
    "    # of the board. The value of each variable is the row that the queen is in.\n",
    "\n",
    "    queens = [model.NewIntVar(0, N - 1, f\"x_{i}\") for i in range(N)]\n",
    "\n",
    "    # All rows must be different.\n",
    "    model.AddAllDifferent(queens)\n",
    "\n",
    "    # No two queens can be on the same diagonal.\n",
    "    model.AddAllDifferent(queens[i] + i for i in range(N))\n",
    "    model.AddAllDifferent(queens[i] - i for i in range(N));\n",
    "\n",
    "    solver = cp_model.CpSolver()\n",
    "    solver.parameters.enumerate_all_solutions = True\n",
    "    solution_printer = cp_model.ObjectiveSolutionPrinter()\n",
    "    \n",
    "    print(f\"NQueens(N={N})\")\n",
    "    status = solver.Solve(model, solution_printer)\n",
    "\n",
    "    # Print solution.\n",
    "    print(f\"status: {solver.StatusName(status)}\")\n",
    "    if status in (cp_model.OPTIMAL, cp_model.FEASIBLE):\n",
    "        for idx, var in enumerate(queens):\n",
    "            print(f\"Q[{idx}]: {solver.Value(var)}\")\n"
   ]
  },
  {
   "cell_type": "code",
   "execution_count": 5,
   "id": "13cb250f-ee48-4d20-9831-c4a5add06ec7",
   "metadata": {},
   "outputs": [
    {
     "name": "stdout",
     "output_type": "stream",
     "text": [
      "NQueens(N=5)\n",
      "Solution 0, time = 0.01 s, objective = 0\n",
      "Solution 1, time = 0.01 s, objective = 0\n",
      "Solution 2, time = 0.01 s, objective = 0\n",
      "Solution 3, time = 0.01 s, objective = 0\n",
      "Solution 4, time = 0.01 s, objective = 0\n",
      "Solution 5, time = 0.01 s, objective = 0\n",
      "Solution 6, time = 0.01 s, objective = 0\n",
      "Solution 7, time = 0.01 s, objective = 0\n",
      "Solution 8, time = 0.01 s, objective = 0\n",
      "Solution 9, time = 0.01 s, objective = 0\n",
      "status: OPTIMAL\n",
      "Q[0]: 0\n",
      "Q[1]: 2\n",
      "Q[2]: 4\n",
      "Q[3]: 1\n",
      "Q[4]: 3\n"
     ]
    }
   ],
   "source": [
    "solve_nqueens(5)"
   ]
  },
  {
   "cell_type": "markdown",
   "id": "fa7c0f84-4a7e-47e8-879b-42c2b70ae48e",
   "metadata": {},
   "source": [
    "# Golumb Ruler"
   ]
  },
  {
   "cell_type": "markdown",
   "id": "cb976586-ed1f-4c72-90f6-57d7bbebd64e",
   "metadata": {},
   "source": [
    "![](https://upload.wikimedia.org/wikipedia/commons/thumb/0/05/Golomb_Ruler-4.svg/440px-Golomb_Ruler-4.svg.png)"
   ]
  },
  {
   "cell_type": "code",
   "execution_count": 6,
   "id": "4d93fc8e-fe34-4b84-b826-2a1430951174",
   "metadata": {},
   "outputs": [],
   "source": [
    "def solve_golomb_ruler(order, params=None):\n",
    "    \"\"\"Solve the Golomb ruler problem.\"\"\"\n",
    "    # Create the model.\n",
    "    model = cp_model.CpModel()\n",
    "\n",
    "    var_max = order * order\n",
    "\n",
    "    all_vars = list(range(0, order))\n",
    "\n",
    "    marks = [model.NewIntVar(0, var_max, f\"marks_{i}\") for i in all_vars]\n",
    "\n",
    "    model.Add(marks[0] == 0)\n",
    "    for i in range(order - 2):\n",
    "        model.Add(marks[i + 1] > marks[i])\n",
    "\n",
    "    diffs = []\n",
    "    for i in range(order - 1):\n",
    "        for j in range(i + 1, order):\n",
    "            diff = model.NewIntVar(0, var_max, f\"diff [{j},{i}]\")\n",
    "            model.Add(diff == marks[j] - marks[i])\n",
    "            diffs.append(diff)\n",
    "    model.AddAllDifferent(diffs)\n",
    "\n",
    "    # symmetry breaking\n",
    "    if order > 2:\n",
    "        model.Add(marks[order - 1] - marks[order - 2] > marks[1] - marks[0])\n",
    "\n",
    "    # Objective\n",
    "    model.Minimize(marks[order - 1])\n",
    "\n",
    "    # Solve the model.\n",
    "    solver = cp_model.CpSolver()\n",
    "    if params:\n",
    "        text_format.Parse(params, solver.parameters)\n",
    "    solution_printer = cp_model.ObjectiveSolutionPrinter()\n",
    "    print(f\"Golomb ruler(order={order})\")\n",
    "    status = solver.Solve(model, solution_printer)\n",
    "\n",
    "    # Print solution.\n",
    "    print(f\"status: {solver.StatusName(status)}\")\n",
    "    if status in (cp_model.OPTIMAL, cp_model.FEASIBLE):\n",
    "        for idx, var in enumerate(marks):\n",
    "            print(f\"mark[{idx}]: {solver.Value(var)}\")\n",
    "        intervals = [solver.Value(diff) for diff in diffs]\n",
    "        intervals.sort()\n",
    "        print(f\"intervals: {intervals}\")\n",
    "\n",
    "    print(\"Statistics:\")\n",
    "    print(f\"- conflicts: {solver.NumConflicts()}\")\n",
    "    print(f\"- branches : {solver.NumBranches()}\")\n",
    "    print(f\"- wall time: {solver.WallTime()}s\\n\")"
   ]
  },
  {
   "cell_type": "code",
   "execution_count": 7,
   "id": "57f9637a-4edb-4b54-94b1-b73277bd2d2f",
   "metadata": {},
   "outputs": [
    {
     "name": "stdout",
     "output_type": "stream",
     "text": [
      "Golomb ruler(order=4)\n",
      "Solution 0, time = 0.02 s, objective = 7\n",
      "Solution 1, time = 0.03 s, objective = 6\n",
      "status: OPTIMAL\n",
      "mark[0]: 0\n",
      "mark[1]: 1\n",
      "mark[2]: 4\n",
      "mark[3]: 6\n",
      "intervals: [1, 2, 3, 4, 5, 6]\n",
      "Statistics:\n",
      "- conflicts: 0\n",
      "- branches : 0\n",
      "- wall time: 0.0396911s\n",
      "\n"
     ]
    }
   ],
   "source": [
    "solve_golomb_ruler(order = 4)"
   ]
  },
  {
   "cell_type": "code",
   "execution_count": 8,
   "id": "63ec768f-cee5-4759-a255-6ddc030897de",
   "metadata": {},
   "outputs": [
    {
     "name": "stdout",
     "output_type": "stream",
     "text": [
      "Golomb ruler(order=6)\n",
      "Solution 0, time = 0.01 s, objective = 20\n",
      "Solution 1, time = 0.01 s, objective = 18\n",
      "Solution 2, time = 0.01 s, objective = 17\n",
      "status: OPTIMAL\n",
      "mark[0]: 0\n",
      "mark[1]: 1\n",
      "mark[2]: 4\n",
      "mark[3]: 10\n",
      "mark[4]: 12\n",
      "mark[5]: 17\n",
      "intervals: [1, 2, 3, 4, 5, 6, 7, 8, 9, 10, 11, 12, 13, 16, 17]\n",
      "Statistics:\n",
      "- conflicts: 0\n",
      "- branches : 0\n",
      "- wall time: 0.017013s\n",
      "\n"
     ]
    }
   ],
   "source": [
    "solve_golomb_ruler(order = 6)"
   ]
  },
  {
   "cell_type": "markdown",
   "id": "59b9b80b-b4a9-47b1-8dec-54385de99625",
   "metadata": {},
   "source": [
    "# Map Coloring"
   ]
  },
  {
   "cell_type": "markdown",
   "id": "877299e6-f0fd-4c5e-9d64-9cf932d4104a",
   "metadata": {},
   "source": [
    "![](https://dmcommunity.files.wordpress.com/2019/05/mapcoloring.png)"
   ]
  },
  {
   "cell_type": "code",
   "execution_count": 9,
   "id": "31c301cd-5f9e-4322-a2ed-849736742257",
   "metadata": {},
   "outputs": [],
   "source": [
    "def map_color():\n",
    "\n",
    "  model = cp_model.CpModel()\n",
    "\n",
    "  #\n",
    "  # data\n",
    "  #\n",
    "  Belgium = 0\n",
    "  Denmark = 1\n",
    "  France = 2\n",
    "  Germany = 3\n",
    "  Netherlands = 4\n",
    "  Luxembourg = 5\n",
    "\n",
    "  n = 6\n",
    "  max_num_colors = 4\n",
    "\n",
    "  # declare variables\n",
    "  color = [model.NewIntVar(1, max_num_colors, f\"x_{i}\") for i in range(n)]\n",
    "\n",
    "  #\n",
    "  # constraints\n",
    "  #\n",
    "  model.Add(color[Belgium] == 1)  # Symmetry breaking\n",
    "  model.Add(color[France] != color[Belgium])\n",
    "  model.Add(color[France] != color[Luxembourg])\n",
    "  model.Add(color[France] != color[Germany])\n",
    "  model.Add(color[Luxembourg] != color[Germany])\n",
    "  model.Add(color[Luxembourg] != color[Belgium])\n",
    "  model.Add(color[Belgium] != color[Netherlands])\n",
    "  model.Add(color[Belgium] != color[Germany])\n",
    "  model.Add(color[Germany] != color[Netherlands])\n",
    "  model.Add(color[Germany] != color[Denmark])\n",
    "\n",
    "  #\n",
    "  # solution and search\n",
    "  #\n",
    "  solver = cp_model.CpSolver()\n",
    "  solution_printer = VarArraySolutionPrinter(color)\n",
    "  status = solver.SearchForAllSolutions(model, solution_printer)\n",
    "\n",
    "  if not (status == cp_model.OPTIMAL or status == cp_model.FEASIBLE):\n",
    "    print(\"No solutions found\")\n",
    "\n",
    "  print()\n",
    "  print(\"NumSolutions:\", solution_printer.solution_count())\n",
    "  print(\"NumConflicts:\", solver.NumConflicts())\n",
    "  print(\"NumBranches:\", solver.NumBranches())\n",
    "  print(\"WallTime:\", solver.WallTime())"
   ]
  },
  {
   "cell_type": "code",
   "execution_count": 10,
   "id": "0165eaf8-a340-435f-bbfc-99fe5d2291b1",
   "metadata": {},
   "outputs": [
    {
     "ename": "NameError",
     "evalue": "name 'VarArraySolutionPrinter' is not defined",
     "output_type": "error",
     "traceback": [
      "\u001b[1;31m---------------------------------------------------------------------------\u001b[0m",
      "\u001b[1;31mNameError\u001b[0m                                 Traceback (most recent call last)",
      "Cell \u001b[1;32mIn[10], line 1\u001b[0m\n\u001b[1;32m----> 1\u001b[0m \u001b[43mmap_color\u001b[49m\u001b[43m(\u001b[49m\u001b[43m)\u001b[49m\n",
      "Cell \u001b[1;32mIn[9], line 39\u001b[0m, in \u001b[0;36mmap_color\u001b[1;34m()\u001b[0m\n\u001b[0;32m     35\u001b[0m \u001b[38;5;66;03m#\u001b[39;00m\n\u001b[0;32m     36\u001b[0m \u001b[38;5;66;03m# solution and search\u001b[39;00m\n\u001b[0;32m     37\u001b[0m \u001b[38;5;66;03m#\u001b[39;00m\n\u001b[0;32m     38\u001b[0m solver \u001b[38;5;241m=\u001b[39m cp_model\u001b[38;5;241m.\u001b[39mCpSolver()\n\u001b[1;32m---> 39\u001b[0m solution_printer \u001b[38;5;241m=\u001b[39m \u001b[43mVarArraySolutionPrinter\u001b[49m(color)\n\u001b[0;32m     40\u001b[0m status \u001b[38;5;241m=\u001b[39m solver\u001b[38;5;241m.\u001b[39mSearchForAllSolutions(model, solution_printer)\n\u001b[0;32m     42\u001b[0m \u001b[38;5;28;01mif\u001b[39;00m \u001b[38;5;129;01mnot\u001b[39;00m (status \u001b[38;5;241m==\u001b[39m cp_model\u001b[38;5;241m.\u001b[39mOPTIMAL \u001b[38;5;129;01mor\u001b[39;00m status \u001b[38;5;241m==\u001b[39m cp_model\u001b[38;5;241m.\u001b[39mFEASIBLE):\n",
      "\u001b[1;31mNameError\u001b[0m: name 'VarArraySolutionPrinter' is not defined"
     ]
    }
   ],
   "source": [
    "map_color()"
   ]
  },
  {
   "cell_type": "markdown",
   "id": "8a325567-e5b4-48fc-9f56-4479a9032916",
   "metadata": {},
   "source": [
    "# Lecture Scheduling"
   ]
  },
  {
   "cell_type": "markdown",
   "id": "dc0d7ed1-c545-4b46-97ac-fa2c485a2100",
   "metadata": {},
   "source": [
    "\n",
    "  Suppose we wish to schedule six one-hour lectures, v1, v2, v3, v4, v5, v6.\n",
    "  \n",
    "  Among the the potential audience there are people who wish to hear both\n",
    "\n",
    "   - v1 and v2\n",
    "   - v1 and v4\n",
    "   - v3 and v5\n",
    "   - v2 and v6\n",
    "   - v4 and v5\n",
    "   - v5 and v6\n",
    "   - v1 and v6\n",
    "\n",
    "  How many hours are necessary in order that the lectures can be given\n",
    "  without clashes?\n",
    "  "
   ]
  },
  {
   "cell_type": "code",
   "execution_count": null,
   "id": "a74a6821-3ca3-4000-b05a-c91a65156dd2",
   "metadata": {},
   "outputs": [
    {
     "name": "stdout",
     "output_type": "stream",
     "text": [
      "max_c: 3 colors\n",
      "v: [0, 1, 0, 2, 1, 2]\n",
      "\n",
      "NumConflicts: 0\n",
      "NumBranches: 0\n",
      "WallTime: 0.004514000000000001\n"
     ]
    }
   ],
   "source": [
    "def lecture_schedule():\n",
    "\n",
    "  model = cp_model.CpModel()\n",
    "\n",
    "  #\n",
    "  # data\n",
    "  #\n",
    "\n",
    "  #\n",
    "  # The schedule requirements:\n",
    "  # lecture a cannot be held at the same time as b\n",
    "  # Note: 1-based\n",
    "    \n",
    "  g = [[1, 2], [1, 4], [3, 5], [2, 6], [4, 5], [5, 6], [1, 6]]\n",
    "\n",
    "  # number of nodes\n",
    "  n = 6\n",
    "\n",
    "  # number of edges\n",
    "  edges = len(g)\n",
    "\n",
    "  #\n",
    "  # declare variables\n",
    "  #\n",
    "    \n",
    "  v = [model.NewIntVar(0, n - 1, 'v[%i]' % i) for i in range(n)]\n",
    "\n",
    "  # maximum color, to minimize\n",
    "  # Note: since Python is 0-based, the\n",
    "  # number of colors is +1\n",
    "  max_c = model.NewIntVar(0, n - 1, 'max_c')\n",
    "\n",
    "  #\n",
    "  # constraints\n",
    "  #\n",
    "  model.AddMaxEquality(max_c, v)\n",
    "\n",
    "  # ensure that there are no clashes\n",
    "  # also, adjust to 0-base\n",
    "  for i in range(edges):\n",
    "    model.Add(v[g[i][0] - 1] != v[g[i][1] - 1])\n",
    "\n",
    "  # symmetry breaking:\n",
    "  # - v0 has the color 0,\n",
    "  # - v1 has either color 0 or 1\n",
    "    \n",
    "  model.Add(v[0] == 0)\n",
    "  model.Add(v[1] <= 1)\n",
    "\n",
    "  # objective\n",
    "  model.Minimize(max_c)\n",
    "\n",
    "  #\n",
    "  # solution and search\n",
    "  #\n",
    "  solver = cp_model.CpSolver()\n",
    "  status = solver.Solve(model)\n",
    "\n",
    "  if status == cp_model.OPTIMAL:\n",
    "    print(\"max_c:\", solver.Value(max_c) + 1, \"colors\")\n",
    "    print(\"v:\", [solver.Value(v[i]) for i in range(n)])\n",
    "    print()\n",
    "\n",
    "  print(\"NumConflicts:\", solver.NumConflicts())\n",
    "  print(\"NumBranches:\", solver.NumBranches())\n",
    "  print(\"WallTime:\", solver.WallTime())\n",
    "\n",
    "lecture_schedule()"
   ]
  },
  {
   "cell_type": "markdown",
   "id": "81cd0575-a527-4fe3-9945-9e58e0140a2a",
   "metadata": {},
   "source": [
    "# Coins Grid"
   ]
  },
  {
   "cell_type": "markdown",
   "id": "2f67d4fd-3dc4-4c4a-881d-d1ea9f8cb168",
   "metadata": {},
   "source": [
    " - In each row exactly c coins must be placed.\n",
    " - In each column exactly c coins must be placed.\n",
    " - The sum of the quadratic horizontal distance from the main diagonal of all cells containing a coin must be as small as possible.\n",
    " - In each cell at most one coin can be placed."
   ]
  },
  {
   "cell_type": "code",
   "execution_count": null,
   "id": "1a3743dc-e782-4901-af7d-047056f54fda",
   "metadata": {},
   "outputs": [],
   "source": [
    "def coins_grid(n=31, c=14):\n",
    "    \n",
    "  model = cp_model.CpModel() \n",
    "\n",
    "  # data\n",
    "  print(\"n: \", n)\n",
    "  print(\"c: \", c)\n",
    "\n",
    "  # declare variables\n",
    "  x = {}\n",
    "  for i in range(n):\n",
    "    for j in range(n):\n",
    "      x[(i, j)] = model.NewBoolVar(f\"x {i} {j}\")\n",
    "\n",
    "  #\n",
    "  # constraints\n",
    "  #\n",
    "\n",
    "  # sum rows/columns == c\n",
    "    \n",
    "  for i in range(n):\n",
    "    model.Add(sum([x[(i, j)] for j in range(n)]) == c)  # sum rows\n",
    "    model.Add(sum([x[(j, i)] for j in range(n)]) == c)  # sum cols\n",
    "\n",
    "  # quadratic horizonal distance var\n",
    "    \n",
    "  obj = model.NewIntVar(0, n*n*c*c, \"obj\") \n",
    "  model.Add(obj == sum([x[(i, j)] * (i - j) * (i - j) for i in range(n) for j in range(n)]))\n",
    "\n",
    "  # objective\n",
    "  model.Minimize(obj)\n",
    "\n",
    "  # Search and solution\n",
    "  solver = cp_model.CpSolver()\n",
    "  status = solver.Solve(model)\n",
    "\n",
    "  if status == cp_model.OPTIMAL:\n",
    "    print(\"obj:\", solver.Value(obj))\n",
    "    for i in range(n):\n",
    "      for j in range(n):\n",
    "        print(solver.Value(x[(i, j)]), end=\" \")\n",
    "      print()\n",
    "    print()\n",
    "\n",
    "  print(\"NumConflicts:\", solver.NumConflicts())\n",
    "  print(\"NumBranches:\", solver.NumBranches())\n",
    "  print(\"WallTime:\", solver.WallTime())"
   ]
  },
  {
   "cell_type": "code",
   "execution_count": null,
   "id": "104a6c00-cdcc-4837-ae02-3fb0a1f513ec",
   "metadata": {},
   "outputs": [
    {
     "name": "stdout",
     "output_type": "stream",
     "text": [
      "n:  8\n",
      "c:  4\n",
      "obj: 80\n",
      "1 1 1 1 0 0 0 0 \n",
      "1 1 1 1 0 0 0 0 \n",
      "1 1 1 1 0 0 0 0 \n",
      "1 1 1 1 0 0 0 0 \n",
      "0 0 0 0 1 1 1 1 \n",
      "0 0 0 0 1 1 1 1 \n",
      "0 0 0 0 1 1 1 1 \n",
      "0 0 0 0 1 1 1 1 \n",
      "\n",
      "NumConflicts: 0\n",
      "NumBranches: 0\n",
      "WallTime: 0.012405000000000001\n"
     ]
    }
   ],
   "source": [
    "coins_grid(n = 8, c = 4)"
   ]
  },
  {
   "cell_type": "code",
   "execution_count": null,
   "id": "85856b25-f65e-4cb9-bed9-480ba6d19e9f",
   "metadata": {},
   "outputs": [
    {
     "name": "stdout",
     "output_type": "stream",
     "text": [
      "n:  12\n",
      "c:  5\n",
      "obj: 234\n",
      "1 1 1 1 1 0 0 0 0 0 0 0 \n",
      "1 1 1 1 1 0 0 0 0 0 0 0 \n",
      "1 1 1 1 1 0 0 0 0 0 0 0 \n",
      "1 1 1 1 0 1 0 0 0 0 0 0 \n",
      "1 1 1 0 0 1 1 0 0 0 0 0 \n",
      "0 0 0 1 1 1 1 1 0 0 0 0 \n",
      "0 0 0 0 1 1 1 1 1 0 0 0 \n",
      "0 0 0 0 0 1 1 0 0 1 1 1 \n",
      "0 0 0 0 0 0 1 0 1 1 1 1 \n",
      "0 0 0 0 0 0 0 1 1 1 1 1 \n",
      "0 0 0 0 0 0 0 1 1 1 1 1 \n",
      "0 0 0 0 0 0 0 1 1 1 1 1 \n",
      "\n",
      "NumConflicts: 0\n",
      "NumBranches: 0\n",
      "WallTime: 0.049262\n"
     ]
    }
   ],
   "source": [
    "coins_grid(n = 12, c = 5)"
   ]
  },
  {
   "cell_type": "code",
   "execution_count": null,
   "id": "98991bc2-8343-49ea-a076-877f76a963b8",
   "metadata": {},
   "outputs": [
    {
     "name": "stdout",
     "output_type": "stream",
     "text": [
      "n:  31\n",
      "c:  14\n",
      "obj: 13668\n",
      "1 1 1 1 1 1 1 1 1 1 1 1 1 1 0 0 0 0 0 0 0 0 0 0 0 0 0 0 0 0 0 \n",
      "1 1 1 1 1 1 1 1 1 1 1 1 1 1 0 0 0 0 0 0 0 0 0 0 0 0 0 0 0 0 0 \n",
      "1 1 1 1 1 1 1 1 1 1 1 1 1 1 0 0 0 0 0 0 0 0 0 0 0 0 0 0 0 0 0 \n",
      "1 1 1 1 1 1 1 1 1 1 1 1 1 1 0 0 0 0 0 0 0 0 0 0 0 0 0 0 0 0 0 \n",
      "1 1 1 1 1 1 1 1 1 1 1 1 1 1 0 0 0 0 0 0 0 0 0 0 0 0 0 0 0 0 0 \n",
      "1 1 1 1 1 1 1 1 1 1 1 1 1 1 0 0 0 0 0 0 0 0 0 0 0 0 0 0 0 0 0 \n",
      "1 1 1 1 1 1 1 1 1 1 1 1 1 0 1 0 0 0 0 0 0 0 0 0 0 0 0 0 0 0 0 \n",
      "1 1 1 1 1 1 1 1 1 1 1 1 1 0 1 0 0 0 0 0 0 0 0 0 0 0 0 0 0 0 0 \n",
      "1 1 1 1 1 1 1 1 1 1 1 1 1 0 1 0 0 0 0 0 0 0 0 0 0 0 0 0 0 0 0 \n",
      "1 1 1 1 1 1 1 1 1 1 1 1 0 0 1 1 0 0 0 0 0 0 0 0 0 0 0 0 0 0 0 \n",
      "1 1 1 1 1 1 1 1 1 1 1 0 0 1 1 1 0 0 0 0 0 0 0 0 0 0 0 0 0 0 0 \n",
      "1 1 1 1 1 1 1 1 1 1 0 0 0 1 1 1 1 0 0 0 0 0 0 0 0 0 0 0 0 0 0 \n",
      "1 1 1 1 1 1 1 1 0 0 0 1 1 1 1 1 1 0 0 0 0 0 0 0 0 0 0 0 0 0 0 \n",
      "1 1 1 1 1 1 0 0 0 0 1 1 1 1 1 1 1 1 0 0 0 0 0 0 0 0 0 0 0 0 0 \n",
      "0 0 0 0 0 0 1 1 1 1 1 1 1 1 1 1 1 1 1 1 0 0 0 0 0 0 0 0 0 0 0 \n",
      "0 0 0 0 0 0 0 0 1 1 1 1 1 1 1 1 1 1 1 1 1 1 0 0 0 0 0 0 0 0 0 \n",
      "0 0 0 0 0 0 0 0 0 0 0 0 1 1 1 1 1 1 1 1 1 1 1 1 1 1 0 0 0 0 0 \n",
      "0 0 0 0 0 0 0 0 0 0 0 0 0 1 1 1 1 1 1 1 1 1 0 0 0 0 1 1 1 1 1 \n",
      "0 0 0 0 0 0 0 0 0 0 0 0 0 0 1 1 1 1 1 0 0 0 1 1 1 1 1 1 1 1 1 \n",
      "0 0 0 0 0 0 0 0 0 0 0 0 0 0 1 1 1 1 1 0 0 0 1 1 1 1 1 1 1 1 1 \n",
      "0 0 0 0 0 0 0 0 0 0 0 0 0 0 0 1 1 1 0 0 1 1 1 1 1 1 1 1 1 1 1 \n",
      "0 0 0 0 0 0 0 0 0 0 0 0 0 0 0 1 1 0 0 1 1 1 1 1 1 1 1 1 1 1 1 \n",
      "0 0 0 0 0 0 0 0 0 0 0 0 0 0 0 1 1 0 0 1 1 1 1 1 1 1 1 1 1 1 1 \n",
      "0 0 0 0 0 0 0 0 0 0 0 0 0 0 0 0 1 0 1 1 1 1 1 1 1 1 1 1 1 1 1 \n",
      "0 0 0 0 0 0 0 0 0 0 0 0 0 0 0 0 1 0 1 1 1 1 1 1 1 1 1 1 1 1 1 \n",
      "0 0 0 0 0 0 0 0 0 0 0 0 0 0 0 0 0 1 1 1 1 1 1 1 1 1 1 1 1 1 1 \n",
      "0 0 0 0 0 0 0 0 0 0 0 0 0 0 0 0 0 1 1 1 1 1 1 1 1 1 1 1 1 1 1 \n",
      "0 0 0 0 0 0 0 0 0 0 0 0 0 0 0 0 0 1 1 1 1 1 1 1 1 1 1 1 1 1 1 \n",
      "0 0 0 0 0 0 0 0 0 0 0 0 0 0 0 0 0 1 1 1 1 1 1 1 1 1 1 1 1 1 1 \n",
      "0 0 0 0 0 0 0 0 0 0 0 0 0 0 0 0 0 1 1 1 1 1 1 1 1 1 1 1 1 1 1 \n",
      "0 0 0 0 0 0 0 0 0 0 0 0 0 0 0 0 0 1 1 1 1 1 1 1 1 1 1 1 1 1 1 \n",
      "\n",
      "NumConflicts: 0\n",
      "NumBranches: 1540\n",
      "WallTime: 0.104796\n"
     ]
    }
   ],
   "source": [
    "coins_grid(n = 31, c = 14)"
   ]
  }
 ],
 "metadata": {
  "kernelspec": {
   "display_name": "Python 3 (ipykernel)",
   "language": "python",
   "name": "python3"
  },
  "language_info": {
   "codemirror_mode": {
    "name": "ipython",
    "version": 3
   },
   "file_extension": ".py",
   "mimetype": "text/x-python",
   "name": "python",
   "nbconvert_exporter": "python",
   "pygments_lexer": "ipython3",
   "version": "3.9.13"
  }
 },
 "nbformat": 4,
 "nbformat_minor": 5
}
