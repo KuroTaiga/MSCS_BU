{
 "cells": [
  {
   "cell_type": "markdown",
   "id": "4a4bb486-41b4-46d3-9c6e-7acadc480906",
   "metadata": {},
   "source": [
    "---\n",
    "title: \"Constraint Satisfaction Problems (CSP) - AIMA (Part1)\"\n",
    "format: html\n",
    "page-layout: full\n",
    "code-line-numbers: true\n",
    "code-block-border: true\n",
    "toc: true\n",
    "toc-location: left\n",
    "number-sections: true\n",
    "jupyter: python3\n",
    "---"
   ]
  },
  {
   "cell_type": "markdown",
   "id": "94a427f0-1ed1-47e9-8f70-4a9c98a25cdb",
   "metadata": {},
   "source": [
    "- CSPs are a special kind of search problems.\n",
    "- A CSP State is defined by a set of variables which can take values from corresponding domains.\n",
    "- These variables can take only certain values in their domains to satisfy the constraints.\n",
    "- A set of assignments which satisfies all constraints passes the goal test."
   ]
  },
  {
   "cell_type": "code",
   "execution_count": 1,
   "id": "a836602d-5210-410a-ba36-a0e95a66b4a1",
   "metadata": {},
   "outputs": [],
   "source": [
    "%matplotlib inline\n",
    "import matplotlib.pyplot as plt\n",
    "import matplotlib\n",
    "\n",
    "import random, heapq, math\n",
    "import sys, os, time, copy\n",
    "import itertools, re\n",
    "\n",
    "from collections import defaultdict, deque, Counter\n",
    "from operator import eq, neg\n",
    "from sortedcontainers import SortedSet\n",
    "from functools import reduce\n",
    "\n",
    "import ipywidgets as widgets\n",
    "from IPython.display import display"
   ]
  },
  {
   "cell_type": "markdown",
   "id": "0750b6f1-8dfa-4d0c-9a4d-660a9a785e99",
   "metadata": {},
   "source": [
    "# CSP class"
   ]
  },
  {
   "cell_type": "code",
   "execution_count": 2,
   "id": "191b8bba-8356-484b-a59c-6885fd972fd9",
   "metadata": {},
   "outputs": [],
   "source": [
    "class Problem:\n",
    "    \"\"\"The abstract class for a formal problem. A new domain subclasses this,\n",
    "    overriding `actions` and `results`, and perhaps other methods.\n",
    "    The default heuristic is 0 and the default action cost is 1 for all states.\n",
    "    When yiou create an instance of a subclass, specify `initial`, and `goal` states \n",
    "    (or give an `is_goal` method) and perhaps other keyword args for the subclass.\"\"\"\n",
    "\n",
    "    def __init__(self, initial=None, goal=None, **kwds): \n",
    "        self.__dict__.update(initial=initial, goal=goal, **kwds) \n",
    "        \n",
    "    def actions(self, state):        raise NotImplementedError\n",
    "    def result(self, state, action): raise NotImplementedError\n",
    "    def is_goal(self, state):        return state == self.goal\n",
    "    def action_cost(self, s, a, s1): return 1\n",
    "    def h(self, node):               return 0\n",
    "    \n",
    "    def __str__(self):\n",
    "        return '{}({!r}, {!r})'.format(\n",
    "            type(self).__name__, self.initial, self.goal)\n",
    "    "
   ]
  },
  {
   "cell_type": "code",
   "execution_count": 3,
   "id": "0999d34c-62e8-44d6-8cfa-6210937f69af",
   "metadata": {},
   "outputs": [],
   "source": [
    "class CSP(Problem):\n",
    "    \"\"\"This class describes finite-domain Constraint Satisfaction Problems.\n",
    "    A CSP is specified by the following inputs:\n",
    "        variables   A list of variables; each is atomic (e.g. int or string).\n",
    "        domains     A dict of {var:[possible_value, ...]} entries.\n",
    "        neighbors   A dict of {var:[var,...]} that for each variable lists\n",
    "                    the other variables that participate in constraints.\n",
    "        constraints A function f(A, a, B, b) that returns true if neighbors\n",
    "                    A, B satisfy the constraint when they have values A=a, B=b\n",
    "\n",
    "    In the textbook and in most mathematical definitions, the\n",
    "    constraints are specified as explicit pairs of allowable values,\n",
    "    but the formulation here is easier to express and more compact for\n",
    "    most cases (for example, the n-Queens problem can be represented\n",
    "    in O(n) space using this notation, instead of O(n^4) for the\n",
    "    explicit representation). In terms of describing the CSP as a\n",
    "    problem, that's all there is.\n",
    "\n",
    "    However, the class also supports data structures and methods that help you\n",
    "    solve CSPs by calling a search function on the CSP. Methods and slots are\n",
    "    as follows, where the argument 'a' represents an assignment, which is a\n",
    "    dict of {var:val} entries:\n",
    "        assign(var, val, a)     Assign a[var] = val; do other bookkeeping\n",
    "        unassign(var, a)        Do del a[var], plus other bookkeeping\n",
    "        nconflicts(var, val, a) Return the number of other variables that\n",
    "                                conflict with var=val\n",
    "        curr_domains[var]       Slot: remaining consistent values for var\n",
    "                                Used by constraint propagation routines.\n",
    "    The following methods are used only by graph_search and tree_search:\n",
    "        actions(state)          Return a list of actions\n",
    "        result(state, action)   Return a successor of state\n",
    "        is_goal(state)        Return true if all constraints satisfied\n",
    "    The following are just for debugging purposes:\n",
    "        nassigns                Slot: tracks the number of assignments made\n",
    "        display(a)              Print a human-readable representation\n",
    "    \"\"\"\n",
    "\n",
    "    def __init__(self, variables, domains, neighbors, constraints):\n",
    "        \"\"\"Construct a CSP problem. If variables is empty, it becomes domains.keys().\"\"\"\n",
    "        \n",
    "        super().__init__(())\n",
    "        variables = variables or list(domains.keys())\n",
    "        self.variables = variables\n",
    "        self.domains = domains\n",
    "        self.neighbors = neighbors\n",
    "        self.constraints = constraints\n",
    "        self.curr_domains = None\n",
    "        self.nassigns = 0\n",
    "\n",
    "    def assign(self, var, val, assignment):\n",
    "        \"\"\"Add {var: val} to assignment; Discard the old value if any.\"\"\"\n",
    "        \n",
    "        assignment[var] = val\n",
    "        self.nassigns += 1\n",
    "\n",
    "    def unassign(self, var, assignment):\n",
    "        \"\"\"Remove {var: val} from assignment.\n",
    "        DO NOT call this if you are changing a variable to a new value;\n",
    "        just call assign for that.\"\"\"\n",
    "        \n",
    "        if var in assignment:\n",
    "            del assignment[var]\n",
    "\n",
    "    def nconflicts(self, var, val, assignment):\n",
    "        \"\"\"Return the number of conflicts var=val has with other variables.\"\"\"\n",
    "\n",
    "        # Subclasses may implement this more efficiently\n",
    "        def conflict(var2):\n",
    "            return var2 in assignment and not self.constraints(var, val, var2, assignment[var2])\n",
    "\n",
    "        return count(conflict(v) for v in self.neighbors[var])\n",
    "\n",
    "    def display(self, assignment):\n",
    "        \"\"\"Show a human-readable representation of the CSP.\"\"\"\n",
    "        # Subclasses can print in a prettier way, or display with a GUI\n",
    "        \n",
    "        print(assignment)\n",
    "\n",
    "    # These methods are for the tree and graph-search interface:\n",
    "\n",
    "    def actions(self, state):\n",
    "        \"\"\"Return a list of applicable actions: non conflicting\n",
    "        assignments to an unassigned variable.\"\"\"\n",
    "        \n",
    "        if len(state) == len(self.variables):\n",
    "            return []\n",
    "        else:\n",
    "            assignment = dict(state)\n",
    "            var = first([v for v in self.variables if v not in assignment])\n",
    "            return [(var, val) for val in self.domains[var]\n",
    "                    if self.nconflicts(var, val, assignment) == 0]\n",
    "\n",
    "    def result(self, state, action):\n",
    "        \"\"\"Perform an action and return the new state.\"\"\"\n",
    "        \n",
    "        (var, val) = action\n",
    "        return state + ((var, val),)\n",
    "\n",
    "    def is_goal(self, state):\n",
    "        \"\"\"The goal is to assign all variables, with all constraints satisfied.\"\"\"\n",
    "        \n",
    "        assignment = dict(state)\n",
    "        return (len(assignment) == len(self.variables)\n",
    "                and all(self.nconflicts(variables, assignment[variables], assignment) == 0\n",
    "                        for variables in self.variables))\n",
    "\n",
    "    # These are for constraint propagation\n",
    "\n",
    "    def support_pruning(self):\n",
    "        \"\"\"Make sure we can prune values from domains. (We want to pay\n",
    "        for this only if we use it.)\"\"\"\n",
    "        \n",
    "        if self.curr_domains is None:\n",
    "            self.curr_domains = {v: list(self.domains[v]) for v in self.variables}\n",
    "\n",
    "    def suppose(self, var, value):\n",
    "        \"\"\"Start accumulating inferences from assuming var=value.\"\"\"\n",
    "        \n",
    "        self.support_pruning()\n",
    "        removals = [(var, a) for a in self.curr_domains[var] if a != value]\n",
    "        self.curr_domains[var] = [value]\n",
    "        return removals\n",
    "\n",
    "    def prune(self, var, value, removals):\n",
    "        \"\"\"Rule out var=value.\"\"\"\n",
    "        \n",
    "        self.curr_domains[var].remove(value)\n",
    "        if removals is not None:\n",
    "            removals.append((var, value))\n",
    "\n",
    "    def choices(self, var):\n",
    "        \"\"\"Return all values for var that aren't currently ruled out.\"\"\"\n",
    "        \n",
    "        return (self.curr_domains or self.domains)[var]\n",
    "\n",
    "    def infer_assignment(self):\n",
    "        \"\"\"Return the partial assignment implied by the current inferences.\"\"\"\n",
    "        \n",
    "        self.support_pruning()\n",
    "        return {v: self.curr_domains[v][0]\n",
    "                for v in self.variables if 1 == len(self.curr_domains[v])}\n",
    "\n",
    "    def restore(self, removals):\n",
    "        \"\"\"Undo a supposition and all inferences from it.\"\"\"\n",
    "        \n",
    "        for B, b in removals:\n",
    "            self.curr_domains[B].append(b)\n",
    "\n",
    "    # This is for min_conflicts search\n",
    "\n",
    "    def conflicted_vars(self, current):\n",
    "        \"\"\"Return a list of variables in current assignment that are in conflict\"\"\"\n",
    "        \n",
    "        return [var for var in self.variables\n",
    "                if self.nconflicts(var, current[var], current) > 0]\n"
   ]
  },
  {
   "cell_type": "code",
   "execution_count": 4,
   "id": "dda129b3-d08c-415a-abdf-49a0e7c4fa67",
   "metadata": {},
   "outputs": [],
   "source": [
    "def count(seq):\n",
    "    \"\"\"Count the number of items in sequence that are interpreted as true.\"\"\"\n",
    "    return sum(map(bool, seq))"
   ]
  },
  {
   "cell_type": "markdown",
   "id": "2d45d7fb-1e72-4190-b18e-2434c950986d",
   "metadata": {},
   "source": [
    "# Graph Coloring"
   ]
  },
  {
   "cell_type": "markdown",
   "id": "cd468417-51a5-43f5-a262-81f5366f17f4",
   "metadata": {},
   "source": [
    " - The idea of map coloring problem is that the adjacent nodes (those connected by edges) should not have the same color throughout the graph.\n",
    " - The graph can be colored using a fixed number of colors.\n",
    " - Here each node is a variable and the values are the colors that can be assigned to them.\n",
    " - Given that the domain will be the same for all our nodes we use a custom dict defined by the **UniversalDict** class.\n",
    " - The **UniversalDict** Class takes in a parameter and returns it as a value for all the keys of the dict. "
   ]
  },
  {
   "cell_type": "code",
   "execution_count": 5,
   "id": "26ecd57a-e731-4b99-993e-6af453bcc859",
   "metadata": {},
   "outputs": [],
   "source": [
    "class UniversalDict:\n",
    "    \"\"\"A universal dict maps any key to the same value. We use it here\n",
    "    as the domains dict for CSPs in which all variables have the same domain.\n",
    "    >>> d = UniversalDict(42)\n",
    "    >>> d['life']\n",
    "    42\n",
    "    \"\"\"\n",
    "\n",
    "    def __init__(self, value): self.value = value\n",
    "\n",
    "    def __getitem__(self, key): return self.value\n",
    "\n",
    "    def __repr__(self): return '{{Any: {0!r}}}'.format(self.value)"
   ]
  },
  {
   "cell_type": "code",
   "execution_count": 6,
   "id": "04f1b0cd-f9dd-4457-84f0-c9196ba454b1",
   "metadata": {},
   "outputs": [
    {
     "data": {
      "text/plain": [
       "{Any: 42}"
      ]
     },
     "execution_count": 6,
     "metadata": {},
     "output_type": "execute_result"
    }
   ],
   "source": [
    "d = UniversalDict(42)\n",
    "d"
   ]
  },
  {
   "cell_type": "code",
   "execution_count": 7,
   "id": "0d97dc6c-f0c2-4b50-af69-456eb7b6f861",
   "metadata": {},
   "outputs": [
    {
     "data": {
      "text/plain": [
       "(42, 42)"
      ]
     },
     "execution_count": 7,
     "metadata": {},
     "output_type": "execute_result"
    }
   ],
   "source": [
    "d['life'], d['hello']"
   ]
  },
  {
   "cell_type": "markdown",
   "id": "408e5df5-cd88-48b6-98a0-f550fba34a77",
   "metadata": {},
   "source": [
    "- For the CSP we also need to define a constraint function **f(A, a, B, b)**.\n",
    "- In this problem, we need to ensure that the neighbors don't have the same color.\n",
    "- This is defined in the function **different_values_constraint** of the module."
   ]
  },
  {
   "cell_type": "code",
   "execution_count": 8,
   "id": "dc4ff379-efab-4874-a672-5475dc8bd742",
   "metadata": {},
   "outputs": [],
   "source": [
    "def different_values_constraint(A, a, B, b):\n",
    "    \"\"\"A constraint saying two neighboring variables must differ in value.\"\"\"\n",
    "    return a != b\n"
   ]
  },
  {
   "cell_type": "markdown",
   "id": "8c2668c1-6d49-48d4-b3fd-02d5bce3271a",
   "metadata": {},
   "source": [
    "- The **MapColoringCSP** function creates and returns a CSP with the above constraint function and states.\n",
    "- The variables are the keys of the neighbors dict and the constraint is the one specified by the **different_values_constratint** function."
   ]
  },
  {
   "cell_type": "code",
   "execution_count": 9,
   "id": "c8d1ca01-90ef-465f-8bb8-0a0d9333d5df",
   "metadata": {},
   "outputs": [],
   "source": [
    "def MapColoringCSP(colors, neighbors):\n",
    "    \"\"\"Make a CSP for the problem of coloring a map with different colors\n",
    "    for any two adjacent regions. Arguments are a list of colors, and a\n",
    "    dict of {region: [neighbor,...]} entries. This dict may also be\n",
    "    specified as a string of the form defined by parse_neighbors.\"\"\"\n",
    "    \n",
    "    if isinstance(neighbors, str):\n",
    "        neighbors = parse_neighbors(neighbors)\n",
    "    \n",
    "    return CSP(list(neighbors.keys()), \n",
    "               UniversalDict(colors), neighbors, \n",
    "               different_values_constraint)"
   ]
  },
  {
   "cell_type": "code",
   "execution_count": 10,
   "id": "49f79af1-b681-4b22-8975-a0b42037dae0",
   "metadata": {},
   "outputs": [],
   "source": [
    "def parse_neighbors(neighbors):\n",
    "    \"\"\"Convert a string of the form 'X: Y Z; Y: Z' into a dict mapping\n",
    "    regions to neighbors. The syntax is a region name followed by a ':'\n",
    "    followed by zero or more region names, followed by ';', repeated for\n",
    "    each region name. If you say 'X: Y' you don't need 'Y: X'.\n",
    "    >>> parse_neighbors('X: Y Z; Y: Z') == {'Y': ['X', 'Z'], 'X': ['Y', 'Z'], 'Z': ['X', 'Y']}\n",
    "    True\n",
    "    \"\"\"\n",
    "    \n",
    "    dic = defaultdict(list)\n",
    "    specs = [spec.split(':') for spec in neighbors.split(';')]\n",
    "    for (A, Aneighbors) in specs:\n",
    "        A = A.strip()\n",
    "        for B in Aneighbors.split():\n",
    "            dic[A].append(B)\n",
    "            dic[B].append(A)\n",
    "    return dic"
   ]
  },
  {
   "cell_type": "code",
   "execution_count": 11,
   "id": "dbf0bbc1-c608-40ed-a419-b7e26b4f364e",
   "metadata": {},
   "outputs": [],
   "source": [
    "australia_csp = MapColoringCSP(\n",
    "    list('RGB'), \n",
    "    \"\"\"SA: WA NT Q NSW V; NT: WA Q; NSW: Q V; T: \"\"\")"
   ]
  },
  {
   "cell_type": "code",
   "execution_count": 12,
   "id": "da9956cc-7517-4c0f-b330-b799a1710407",
   "metadata": {},
   "outputs": [
    {
     "data": {
      "text/plain": [
       "['SA', 'WA', 'NT', 'Q', 'NSW', 'V']"
      ]
     },
     "execution_count": 12,
     "metadata": {},
     "output_type": "execute_result"
    }
   ],
   "source": [
    "australia_csp.variables"
   ]
  },
  {
   "cell_type": "code",
   "execution_count": 13,
   "id": "f8cb0a4a-0ca7-487e-b488-5914ba9bb085",
   "metadata": {},
   "outputs": [
    {
     "data": {
      "text/plain": [
       "{Any: ['R', 'G', 'B']}"
      ]
     },
     "execution_count": 13,
     "metadata": {},
     "output_type": "execute_result"
    }
   ],
   "source": [
    "australia_csp.domains"
   ]
  },
  {
   "cell_type": "code",
   "execution_count": 14,
   "id": "86f29942-4baf-4ca5-a9b7-0588492d05b5",
   "metadata": {},
   "outputs": [
    {
     "data": {
      "text/plain": [
       "defaultdict(list,\n",
       "            {'SA': ['WA', 'NT', 'Q', 'NSW', 'V'],\n",
       "             'WA': ['SA', 'NT'],\n",
       "             'NT': ['SA', 'WA', 'Q'],\n",
       "             'Q': ['SA', 'NT', 'NSW'],\n",
       "             'NSW': ['SA', 'Q', 'V'],\n",
       "             'V': ['SA', 'NSW']})"
      ]
     },
     "execution_count": 14,
     "metadata": {},
     "output_type": "execute_result"
    }
   ],
   "source": [
    "australia_csp.neighbors"
   ]
  },
  {
   "cell_type": "code",
   "execution_count": 15,
   "id": "856886fa-ce39-4879-ad7f-ea093e169ada",
   "metadata": {},
   "outputs": [],
   "source": [
    "usa_csp = MapColoringCSP(\n",
    "    list('RGBY'),\n",
    "    \"\"\"WA: OR ID; OR: ID NV CA; CA: NV AZ; NV: ID UT AZ; ID: MT WY UT;\n",
    "     UT: WY CO AZ; MT: ND SD WY; WY: SD NE CO; CO: NE KA OK NM; NM: OK TX AZ;\n",
    "     ND: MN SD; SD: MN IA NE; NE: IA MO KA; KA: MO OK; OK: MO AR TX;\n",
    "     TX: AR LA; MN: WI IA; IA: WI IL MO; MO: IL KY TN AR; AR: MS TN LA;\n",
    "     LA: MS; WI: MI IL; IL: IN KY; IN: OH KY; MS: TN AL; AL: TN GA FL;\n",
    "     MI: OH IN; OH: PA WV KY; KY: WV VA TN; TN: VA NC GA; GA: NC SC FL;\n",
    "     PA: NY NJ DE MD WV; WV: MD VA; VA: MD DC NC; NC: SC; NY: VT MA CT NJ;\n",
    "     NJ: DE; DE: MD; MD: DC; VT: NH MA; MA: NH RI CT; CT: RI; ME: NH;\n",
    "     HI: ; AK: \"\"\")"
   ]
  },
  {
   "cell_type": "code",
   "execution_count": 16,
   "id": "007fddd7-f1fb-4765-8f97-95596436eab7",
   "metadata": {},
   "outputs": [],
   "source": [
    "france_csp = MapColoringCSP(\n",
    "    list('RGBY'),\n",
    "    \"\"\"AL: LO FC; AQ: MP LI PC; AU: LI CE BO RA LR MP; BO: CE IF CA FC RA\n",
    "    AU; BR: NB PL; CA: IF PI LO FC BO; CE: PL NB NH IF BO AU LI PC; FC: BO\n",
    "    CA LO AL RA; IF: NH PI CA BO CE; LI: PC CE AU MP AQ; LO: CA AL FC; LR:\n",
    "    MP AU RA PA; MP: AQ LI AU LR; NB: NH CE PL BR; NH: PI IF CE NB; NO:\n",
    "    PI; PA: LR RA; PC: PL CE LI AQ; PI: NH NO CA IF; PL: BR NB CE PC; RA:\n",
    "    AU BO FC PA LR\"\"\")"
   ]
  },
  {
   "cell_type": "markdown",
   "id": "502645c6-d63e-48a7-8c6a-16b96e5970a8",
   "metadata": {},
   "source": [
    "# N-Queens"
   ]
  },
  {
   "cell_type": "code",
   "execution_count": 17,
   "id": "be240c62-0f33-473f-96b7-5fb8126c8a72",
   "metadata": {},
   "outputs": [],
   "source": [
    "def queen_constraint(A, a, B, b):\n",
    "    \"\"\"Constraint is satisfied (true) if A, B are really the same variable,\n",
    "    or if they are not in the same row, down diagonal, or up diagonal.\"\"\"\n",
    "    \n",
    "    return A == B or (a != b and A + a != B + b and A - a != B - b)"
   ]
  },
  {
   "cell_type": "code",
   "execution_count": 18,
   "id": "a5b0f919-0590-458e-9fcd-311232d63c70",
   "metadata": {},
   "outputs": [],
   "source": [
    "class NQueensCSP(CSP):\n",
    "    \"\"\"\n",
    "    Make a CSP for the nQueens problem for search with min_conflicts.\n",
    "    Suitable for large n, it uses only data structures of size O(n).\n",
    "    Think of placing queens one per column, from left to right.\n",
    "    That means position (x, y) represents (var, val) in the CSP.\n",
    "    The main structures are three arrays to count queens that could conflict:\n",
    "        rows[i]      Number of queens in the ith row (i.e. val == i)\n",
    "        downs[i]     Number of queens in the \\\\ diagonal\n",
    "                     such that their (x, y) coordinates sum to i\n",
    "        ups[i]       Number of queens in the / diagonal\n",
    "                     such that their (x, y) coordinates have x-y+n-1 = i\n",
    "    We increment/decrement these counts each time a queen is placed/moved from\n",
    "    a row/diagonal. So moving is O(1), as is nconflicts.  But choosing\n",
    "    a variable, and a best value for the variable, are each O(n).\n",
    "    If you want, you can keep track of conflicted variables, then variable\n",
    "    selection will also be O(1).\n",
    "    >>> len(backtracking_search(NQueensCSP(8)))\n",
    "    8\n",
    "    \"\"\"\n",
    "\n",
    "    def __init__(self, n):\n",
    "        \"\"\"Initialize data structures for n Queens.\"\"\"\n",
    "        CSP.__init__(self, list(range(n)), \n",
    "                     UniversalDict(list(range(n))),\n",
    "                     UniversalDict(list(range(n))), \n",
    "                     queen_constraint)\n",
    "\n",
    "        self.rows =  [0] * n\n",
    "        self.ups =   [0] * (2 * n - 1)\n",
    "        self.downs = [0] * (2 * n - 1)\n",
    "\n",
    "    def nconflicts(self, var, val, assignment):\n",
    "        \"\"\"The number of conflicts, as recorded with each assignment.\n",
    "        Count conflicts in row and in up, down diagonals. If there\n",
    "        is a queen there, it can't conflict with itself, so subtract 3.\"\"\"\n",
    "        \n",
    "        n = len(self.variables)\n",
    "        c = self.rows[val] + self.downs[var + val] + self.ups[var - val + n - 1]\n",
    "        if assignment.get(var, None) == val:\n",
    "            c -= 3\n",
    "        return c\n",
    "\n",
    "    def assign(self, var, val, assignment):\n",
    "        \"\"\"Assign var, and keep track of conflicts.\"\"\"\n",
    "        \n",
    "        old_val = assignment.get(var, None)\n",
    "        if val != old_val:\n",
    "            if old_val is not None:  # Remove old val if there was one\n",
    "                self.record_conflict(assignment, var, old_val, -1)\n",
    "            self.record_conflict(assignment, var, val, +1)\n",
    "            CSP.assign(self, var, val, assignment)\n",
    "\n",
    "    def unassign(self, var, assignment):\n",
    "        \"\"\"Remove var from assignment (if it is there) and track conflicts.\"\"\"\n",
    "        \n",
    "        if var in assignment:\n",
    "            self.record_conflict(assignment, var, assignment[var], -1)\n",
    "        CSP.unassign(self, var, assignment)\n",
    "\n",
    "    def record_conflict(self, assignment, var, val, delta):\n",
    "        \"\"\"Record conflicts caused by addition or deletion of a Queen.\"\"\"\n",
    "        \n",
    "        n = len(self.variables)\n",
    "        self.rows[val] += delta\n",
    "        self.downs[var + val] += delta\n",
    "        self.ups[var - val + n - 1] += delta\n",
    "\n",
    "    def display(self, assignment):\n",
    "        \"\"\"Print the queens and the nconflicts values (for debugging).\"\"\"\n",
    "        \n",
    "        n = len(self.variables)\n",
    "        for val in range(n):\n",
    "            for var in range(n):\n",
    "                if assignment.get(var, '') == val:\n",
    "                    ch = 'Q'\n",
    "                elif (var + val) % 2 == 0:\n",
    "                    ch = '.'\n",
    "                else:\n",
    "                    ch = '-'\n",
    "                print(ch, end=' ')\n",
    "            print('    ', end=' ')\n",
    "            for var in range(n):\n",
    "                if assignment.get(var, '') == val:\n",
    "                    ch = '*'\n",
    "                else:\n",
    "                    ch = ' '\n",
    "                print(str(self.nconflicts(var, val, assignment)) + ch, end=' ')\n",
    "            print()\n",
    "\n"
   ]
  },
  {
   "cell_type": "code",
   "execution_count": 19,
   "id": "f4d56a96-3b8f-4ec1-aad1-5023e19d6c85",
   "metadata": {},
   "outputs": [],
   "source": [
    "eight_queens = NQueensCSP(8)"
   ]
  },
  {
   "cell_type": "code",
   "execution_count": 20,
   "id": "b93aa42a-0069-4b89-bc54-cb7af4e3432c",
   "metadata": {},
   "outputs": [
    {
     "data": {
      "text/plain": [
       "[0, 1, 2, 3, 4, 5, 6, 7]"
      ]
     },
     "execution_count": 20,
     "metadata": {},
     "output_type": "execute_result"
    }
   ],
   "source": [
    "eight_queens.variables"
   ]
  },
  {
   "cell_type": "code",
   "execution_count": 21,
   "id": "26093b1a-c0b7-4331-a18a-865b435541a8",
   "metadata": {},
   "outputs": [
    {
     "data": {
      "text/plain": [
       "{Any: [0, 1, 2, 3, 4, 5, 6, 7]}"
      ]
     },
     "execution_count": 21,
     "metadata": {},
     "output_type": "execute_result"
    }
   ],
   "source": [
    "eight_queens.domains"
   ]
  },
  {
   "cell_type": "code",
   "execution_count": 22,
   "id": "6f7315fd-8e99-477b-9422-d16fac9083ed",
   "metadata": {},
   "outputs": [
    {
     "data": {
      "text/plain": [
       "{Any: [0, 1, 2, 3, 4, 5, 6, 7]}"
      ]
     },
     "execution_count": 22,
     "metadata": {},
     "output_type": "execute_result"
    }
   ],
   "source": [
    "eight_queens.neighbors"
   ]
  },
  {
   "cell_type": "markdown",
   "id": "29c9d9a4-fa53-4e7f-a3ee-156e1567d2dc",
   "metadata": {},
   "source": [
    "# Min-Conflicts CSP Solver"
   ]
  },
  {
   "cell_type": "markdown",
   "id": "7ddc5e53-2f9a-4a87-909d-e058df223c88",
   "metadata": {},
   "source": [
    "- In the start, all the variables of the CSP are _randomly_ initialized. \n",
    "- The algorithm then randomly selects a variable that has conflicts and violates some constraints of the CSP.\n",
    "- The selected variable is then assigned a value that _minimizes_ the number of conflicts.\n",
    "- This is a simple **stochastic algorithm** which works on a principle similar to **Hill-climbing**.\n",
    "- The conflicting state is repeatedly changed into a state with fewer conflicts in an attempt to reach an approximate solution.\n"
   ]
  },
  {
   "cell_type": "code",
   "execution_count": 23,
   "id": "1a278d3f-779f-40b3-8811-64cc8ac1cdf3",
   "metadata": {},
   "outputs": [],
   "source": [
    "def min_conflicts(csp, max_steps=100000):\n",
    "    \"\"\"Solve a CSP by stochastic Hill Climbing on the number of conflicts.\"\"\"\n",
    "    \n",
    "    # Generate a complete assignment for all variables (probably with conflicts)\n",
    "    csp.current = current = {}\n",
    "    csp.nassigns = 0\n",
    "    for var in csp.variables:\n",
    "        val = min_conflicts_value(csp, var, current)\n",
    "        csp.assign(var, val, current)\n",
    "    \n",
    "    # Now repeatedly choose a random conflicted variable and change it\n",
    "    for i in range(max_steps):\n",
    "        conflicted = csp.conflicted_vars(current)\n",
    "        if not conflicted:\n",
    "            return current\n",
    "        var = random.choice(conflicted)\n",
    "        val = min_conflicts_value(csp, var, current)\n",
    "        csp.assign(var, val, current)\n",
    "        \n",
    "    return None"
   ]
  },
  {
   "cell_type": "code",
   "execution_count": 24,
   "id": "213b3c47-4fc5-4d68-aabe-f00b87238616",
   "metadata": {},
   "outputs": [],
   "source": [
    "def min_conflicts_value(csp, var, current):\n",
    "    \"\"\"Return the value that will give var the least number of conflicts.\n",
    "    If there is a tie, choose at random.\"\"\"\n",
    "    \n",
    "    return argmin_random_tie(\n",
    "        csp.domains[var], \n",
    "        key=lambda val: csp.nconflicts(var, val, current))\n"
   ]
  },
  {
   "cell_type": "code",
   "execution_count": 25,
   "id": "29a733fb-5f09-4d6d-949f-d2d54137b5cf",
   "metadata": {},
   "outputs": [],
   "source": [
    "identity = lambda x: x\n",
    "\n",
    "def argmin_random_tie(seq, key=identity):\n",
    "    \"\"\"Return a minimum element of seq; break ties at random.\"\"\"\n",
    "    return min(shuffled(seq), key=key)\n",
    "\n",
    "\n",
    "def argmax_random_tie(seq, key=identity):\n",
    "    \"\"\"Return an element with highest fn(seq[i]) score; break ties at random.\"\"\"\n",
    "    return max(shuffled(seq), key=key)\n",
    "\n",
    "\n",
    "def shuffled(iterable):\n",
    "    \"\"\"Randomly shuffle a copy of iterable.\"\"\"\n",
    "    items = list(iterable)\n",
    "    random.shuffle(items)\n",
    "    return items"
   ]
  },
  {
   "cell_type": "code",
   "execution_count": 26,
   "id": "1ebf9961-5e2c-4f57-bce1-384ed563ef8e",
   "metadata": {},
   "outputs": [
    {
     "name": "stdout",
     "output_type": "stream",
     "text": [
      "{0: 5, 1: 3, 2: 6, 3: 0, 4: 7, 5: 1, 6: 4, 7: 2}\n"
     ]
    }
   ],
   "source": [
    "random.seed(123)\n",
    "\n",
    "eight_queens = NQueensCSP(8)\n",
    "solution = min_conflicts(eight_queens)\n",
    "print(solution)"
   ]
  },
  {
   "cell_type": "code",
   "execution_count": 27,
   "id": "63042a7d-470d-449f-b6be-3c5be3c089d5",
   "metadata": {},
   "outputs": [
    {
     "name": "stdout",
     "output_type": "stream",
     "text": [
      ". - . Q . - . -      1  1  2  0* 3  3  2  1  \n",
      "- . - . - Q - .      1  1  2  3  3  0* 2  2  \n",
      ". - . - . - . Q      2  2  2  2  3  2  3  0* \n",
      "- Q - . - . - .      3  0* 2  2  1  3  3  3  \n",
      ". - . - . - Q -      3  3  3  1  2  2  0* 3  \n",
      "Q . - . - . - .      0* 3  2  3  2  2  2  2  \n",
      ". - Q - . - . -      2  2  0* 3  3  2  1  1  \n",
      "- . - . Q . - .      1  2  3  3  0* 2  1  1  \n"
     ]
    }
   ],
   "source": [
    "eight_queens.display(solution)"
   ]
  },
  {
   "cell_type": "code",
   "execution_count": 28,
   "id": "a64f6f65-8c18-42a6-a028-65438e568e77",
   "metadata": {},
   "outputs": [
    {
     "data": {
      "text/plain": [
       "{'SA': 'R', 'WA': 'B', 'NT': 'G', 'Q': 'B', 'NSW': 'G', 'V': 'B'}"
      ]
     },
     "execution_count": 28,
     "metadata": {},
     "output_type": "execute_result"
    }
   ],
   "source": [
    "min_conflicts(australia_csp)"
   ]
  },
  {
   "cell_type": "code",
   "execution_count": 29,
   "id": "013032f5-afcd-423c-a2dd-51dbc719415b",
   "metadata": {},
   "outputs": [
    {
     "data": {
      "text/plain": [
       "{'AL': 'R',\n",
       " 'LO': 'G',\n",
       " 'FC': 'Y',\n",
       " 'AQ': 'R',\n",
       " 'MP': 'B',\n",
       " 'LI': 'G',\n",
       " 'PC': 'Y',\n",
       " 'AU': 'R',\n",
       " 'CE': 'B',\n",
       " 'BO': 'G',\n",
       " 'RA': 'B',\n",
       " 'LR': 'Y',\n",
       " 'IF': 'Y',\n",
       " 'CA': 'B',\n",
       " 'BR': 'G',\n",
       " 'NB': 'Y',\n",
       " 'PL': 'R',\n",
       " 'PI': 'G',\n",
       " 'NH': 'R',\n",
       " 'PA': 'G',\n",
       " 'NO': 'R'}"
      ]
     },
     "execution_count": 29,
     "metadata": {},
     "output_type": "execute_result"
    }
   ],
   "source": [
    "min_conflicts(france_csp)"
   ]
  },
  {
   "cell_type": "code",
   "execution_count": 30,
   "id": "a1d5dae7-698e-4552-9305-c14bd0020141",
   "metadata": {},
   "outputs": [
    {
     "data": {
      "text/plain": [
       "{'WA': 'B',\n",
       " 'OR': 'R',\n",
       " 'ID': 'G',\n",
       " 'NV': 'Y',\n",
       " 'CA': 'B',\n",
       " 'AZ': 'G',\n",
       " 'UT': 'B',\n",
       " 'MT': 'Y',\n",
       " 'WY': 'R',\n",
       " 'CO': 'Y',\n",
       " 'ND': 'R',\n",
       " 'SD': 'B',\n",
       " 'NE': 'G',\n",
       " 'KA': 'B',\n",
       " 'OK': 'G',\n",
       " 'NM': 'B',\n",
       " 'TX': 'R',\n",
       " 'MN': 'G',\n",
       " 'IA': 'Y',\n",
       " 'MO': 'R',\n",
       " 'AR': 'B',\n",
       " 'LA': 'Y',\n",
       " 'WI': 'B',\n",
       " 'IL': 'G',\n",
       " 'KY': 'B',\n",
       " 'TN': 'G',\n",
       " 'MS': 'R',\n",
       " 'MI': 'Y',\n",
       " 'IN': 'R',\n",
       " 'OH': 'G',\n",
       " 'AL': 'Y',\n",
       " 'GA': 'B',\n",
       " 'FL': 'R',\n",
       " 'PA': 'B',\n",
       " 'WV': 'Y',\n",
       " 'VA': 'R',\n",
       " 'NC': 'Y',\n",
       " 'SC': 'G',\n",
       " 'NY': 'R',\n",
       " 'NJ': 'G',\n",
       " 'DE': 'R',\n",
       " 'MD': 'G',\n",
       " 'DC': 'B',\n",
       " 'VT': 'G',\n",
       " 'MA': 'Y',\n",
       " 'CT': 'B',\n",
       " 'NH': 'B',\n",
       " 'RI': 'G',\n",
       " 'ME': 'Y'}"
      ]
     },
     "execution_count": 30,
     "metadata": {},
     "output_type": "execute_result"
    }
   ],
   "source": [
    "min_conflicts(usa_csp)"
   ]
  },
  {
   "cell_type": "markdown",
   "id": "5b970ac2-bdc6-4017-bd97-41a74630f997",
   "metadata": {},
   "source": [
    "# Helper Functions\n",
    "\n",
    "- Helper functions that will allow us to visualize the Coloring Problem\n",
    "- Few modifications to the existing classes and functions for additional record keeping.\n",
    "- Modify the **assign** and **unassign** methods in the **CSP** in order to add a copy of the assignment to the **assignment_history**.\n",
    "- The new class is called **InstruCSP**; it will allow us to see how the assignment evolves over time. "
   ]
  },
  {
   "cell_type": "code",
   "execution_count": 31,
   "id": "6673da76-d64a-41e2-bf3c-18e4bcaaa080",
   "metadata": {},
   "outputs": [],
   "source": [
    "class InstruCSP(CSP):\n",
    "    \n",
    "    def __init__(self, variables, domains, neighbors, constraints):\n",
    "        super().__init__(variables, domains, neighbors, constraints)\n",
    "        self.assignment_history = []\n",
    "        \n",
    "    def assign(self, var, val, assignment):\n",
    "        super().assign(var,val, assignment)\n",
    "        print(f\"  Assign {var} = {val}, {assignment}\")\n",
    "        self.assignment_history.append(copy.deepcopy(assignment))\n",
    "    \n",
    "    def unassign(self, var, assignment):\n",
    "        super().unassign(var,assignment)\n",
    "        print(f\" Unassign {var} = {assignment}\")\n",
    "        self.assignment_history.append(copy.deepcopy(assignment))"
   ]
  },
  {
   "cell_type": "code",
   "execution_count": 32,
   "id": "b5c4dec5-821e-4504-be49-6eec995905ab",
   "metadata": {},
   "outputs": [],
   "source": [
    "def make_instru(csp):\n",
    "    return InstruCSP(csp.variables, csp.domains, csp.neighbors, csp.constraints)"
   ]
  },
  {
   "cell_type": "code",
   "execution_count": 33,
   "id": "a32a834b-1481-4943-af75-cf9fb6f9759e",
   "metadata": {},
   "outputs": [
    {
     "name": "stdout",
     "output_type": "stream",
     "text": [
      "  Assign 0 = 3, {0: 3}\n",
      "  Assign 1 = 6, {0: 3, 1: 6}\n",
      "  Assign 2 = 2, {0: 3, 1: 6, 2: 2}\n",
      "  Assign 3 = 7, {0: 3, 1: 6, 2: 2, 3: 7}\n",
      "  Assign 4 = 1, {0: 3, 1: 6, 2: 2, 3: 7, 4: 1}\n",
      "  Assign 5 = 4, {0: 3, 1: 6, 2: 2, 3: 7, 4: 1, 5: 4}\n",
      "  Assign 6 = 0, {0: 3, 1: 6, 2: 2, 3: 7, 4: 1, 5: 4, 6: 0}\n",
      "  Assign 7 = 5, {0: 3, 1: 6, 2: 2, 3: 7, 4: 1, 5: 4, 6: 0, 7: 5}\n",
      "{0: 3, 1: 6, 2: 2, 3: 7, 4: 1, 5: 4, 6: 0, 7: 5}\n"
     ]
    }
   ],
   "source": [
    "random.seed(1)\n",
    "\n",
    "N = 8\n",
    "nqueens = NQueensCSP(N)\n",
    "instru_nqueens = make_instru(nqueens)\n",
    "\n",
    "solution = min_conflicts(instru_nqueens)\n",
    "print(solution)"
   ]
  },
  {
   "cell_type": "code",
   "execution_count": 34,
   "id": "911cba72-646c-4808-b80b-61347ccf5528",
   "metadata": {},
   "outputs": [
    {
     "name": "stdout",
     "output_type": "stream",
     "text": [
      "  Assign 0 = 0, {0: 0}\n",
      "  Assign 1 = 7, {0: 0, 1: 7}\n",
      "  Assign 2 = 1, {0: 0, 1: 7, 2: 1}\n",
      "  Assign 3 = 6, {0: 0, 1: 7, 2: 1, 3: 6}\n",
      "  Assign 4 = 2, {0: 0, 1: 7, 2: 1, 3: 6, 4: 2}\n",
      "  Assign 5 = 0, {0: 0, 1: 7, 2: 1, 3: 6, 4: 2, 5: 0}\n",
      "  Assign 6 = 4, {0: 0, 1: 7, 2: 1, 3: 6, 4: 2, 5: 0, 6: 4}\n",
      "  Assign 7 = 3, {0: 0, 1: 7, 2: 1, 3: 6, 4: 2, 5: 0, 6: 4, 7: 3}\n",
      "  Assign 7 = 3, {0: 0, 1: 7, 2: 1, 3: 6, 4: 2, 5: 0, 6: 4, 7: 3}\n",
      "  Assign 5 = 6, {0: 0, 1: 7, 2: 1, 3: 6, 4: 2, 5: 6, 6: 4, 7: 3}\n",
      "  Assign 7 = 3, {0: 0, 1: 7, 2: 1, 3: 6, 4: 2, 5: 6, 6: 4, 7: 3}\n",
      "  Assign 3 = 6, {0: 0, 1: 7, 2: 1, 3: 6, 4: 2, 5: 6, 6: 4, 7: 3}\n",
      "  Assign 6 = 1, {0: 0, 1: 7, 2: 1, 3: 6, 4: 2, 5: 6, 6: 1, 7: 3}\n",
      "  Assign 5 = 7, {0: 0, 1: 7, 2: 1, 3: 6, 4: 2, 5: 7, 6: 1, 7: 3}\n",
      "  Assign 2 = 3, {0: 0, 1: 7, 2: 3, 3: 6, 4: 2, 5: 7, 6: 1, 7: 3}\n",
      "  Assign 5 = 7, {0: 0, 1: 7, 2: 3, 3: 6, 4: 2, 5: 7, 6: 1, 7: 3}\n",
      "  Assign 1 = 0, {0: 0, 1: 0, 2: 3, 3: 6, 4: 2, 5: 7, 6: 1, 7: 3}\n",
      "  Assign 2 = 6, {0: 0, 1: 0, 2: 6, 3: 6, 4: 2, 5: 7, 6: 1, 7: 3}\n",
      "  Assign 1 = 4, {0: 0, 1: 4, 2: 6, 3: 6, 4: 2, 5: 7, 6: 1, 7: 3}\n",
      "  Assign 3 = 0, {0: 0, 1: 4, 2: 6, 3: 0, 4: 2, 5: 7, 6: 1, 7: 3}\n",
      "  Assign 3 = 0, {0: 0, 1: 4, 2: 6, 3: 0, 4: 2, 5: 7, 6: 1, 7: 3}\n",
      "  Assign 0 = 0, {0: 0, 1: 4, 2: 6, 3: 0, 4: 2, 5: 7, 6: 1, 7: 3}\n",
      "  Assign 0 = 1, {0: 1, 1: 4, 2: 6, 3: 0, 4: 2, 5: 7, 6: 1, 7: 3}\n",
      "  Assign 6 = 5, {0: 1, 1: 4, 2: 6, 3: 0, 4: 2, 5: 7, 6: 5, 7: 3}\n",
      "{0: 1, 1: 4, 2: 6, 3: 0, 4: 2, 5: 7, 6: 5, 7: 3}\n"
     ]
    }
   ],
   "source": [
    "random.seed(3)\n",
    "\n",
    "N = 8\n",
    "nqueens = NQueensCSP(N)\n",
    "instru_nqueens = make_instru(nqueens)\n",
    "\n",
    "solution = min_conflicts(instru_nqueens)\n",
    "print(solution)"
   ]
  },
  {
   "cell_type": "code",
   "execution_count": 35,
   "id": "7ccc8143-7194-49b8-8542-eb914fc04264",
   "metadata": {},
   "outputs": [
    {
     "name": "stdout",
     "output_type": "stream",
     "text": [
      "  Assign SA = B, {'SA': 'B'}\n",
      "  Assign WA = R, {'SA': 'B', 'WA': 'R'}\n",
      "  Assign NT = G, {'SA': 'B', 'WA': 'R', 'NT': 'G'}\n",
      "  Assign Q = R, {'SA': 'B', 'WA': 'R', 'NT': 'G', 'Q': 'R'}\n",
      "  Assign NSW = G, {'SA': 'B', 'WA': 'R', 'NT': 'G', 'Q': 'R', 'NSW': 'G'}\n",
      "  Assign V = R, {'SA': 'B', 'WA': 'R', 'NT': 'G', 'Q': 'R', 'NSW': 'G', 'V': 'R'}\n"
     ]
    },
    {
     "data": {
      "text/plain": [
       "{'SA': 'B', 'WA': 'R', 'NT': 'G', 'Q': 'R', 'NSW': 'G', 'V': 'R'}"
      ]
     },
     "execution_count": 35,
     "metadata": {},
     "output_type": "execute_result"
    }
   ],
   "source": [
    "min_conflicts(make_instru(australia_csp))"
   ]
  },
  {
   "cell_type": "code",
   "execution_count": 36,
   "id": "1157d94e-801f-4712-b289-979ce5dc51cf",
   "metadata": {},
   "outputs": [],
   "source": [
    "neighbors = parse_neighbors('A: B; B: ')\n",
    "domains = {'A': [1, 2, 3, 4], 'B': [1, 2, 3, 4]}\n",
    "constraints = lambda X, x, Y, y: x % 2 == 0 and (x + y) == 4 and y % 2 == 0"
   ]
  },
  {
   "cell_type": "code",
   "execution_count": 37,
   "id": "507d5109-693d-43fc-95d1-b95739e0ba51",
   "metadata": {},
   "outputs": [
    {
     "name": "stdout",
     "output_type": "stream",
     "text": [
      "  Assign A = 3, {'A': 3}\n",
      "  Assign B = 3, {'A': 3, 'B': 3}\n",
      "  Assign A = 1, {'A': 1, 'B': 3}\n",
      "  Assign B = 2, {'A': 1, 'B': 2}\n",
      "  Assign B = 2, {'A': 1, 'B': 2}\n",
      "  Assign A = 2, {'A': 2, 'B': 2}\n"
     ]
    },
    {
     "data": {
      "text/plain": [
       "{'A': 2, 'B': 2}"
      ]
     },
     "execution_count": 37,
     "metadata": {},
     "output_type": "execute_result"
    }
   ],
   "source": [
    "random.seed(123)\n",
    "\n",
    "min_conflicts(make_instru(\n",
    "    CSP(variables=['A','B'],  \n",
    "        domains=domains, \n",
    "        neighbors=neighbors,\n",
    "        constraints=constraints)))"
   ]
  },
  {
   "cell_type": "code",
   "execution_count": 38,
   "id": "27643529-ee8d-41e2-b310-48537d3bf1f3",
   "metadata": {},
   "outputs": [
    {
     "name": "stdout",
     "output_type": "stream",
     "text": [
      "  Assign A = 4, {'A': 4}\n",
      "  Assign B = 4, {'A': 4, 'B': 4}\n",
      "  Assign A = 4, {'A': 4, 'B': 4}\n",
      "  Assign A = 4, {'A': 4, 'B': 4}\n",
      "  Assign A = 3, {'A': 3, 'B': 4}\n",
      "  Assign A = 1, {'A': 1, 'B': 4}\n",
      "  Assign A = 4, {'A': 4, 'B': 4}\n",
      "  Assign B = 1, {'A': 4, 'B': 1}\n",
      "  Assign B = 2, {'A': 4, 'B': 2}\n",
      "  Assign B = 1, {'A': 4, 'B': 1}\n",
      "  Assign A = 1, {'A': 1, 'B': 1}\n",
      "  Assign A = 2, {'A': 2, 'B': 1}\n",
      "  Assign B = 2, {'A': 2, 'B': 2}\n"
     ]
    },
    {
     "data": {
      "text/plain": [
       "{'A': 2, 'B': 2}"
      ]
     },
     "execution_count": 38,
     "metadata": {},
     "output_type": "execute_result"
    }
   ],
   "source": [
    "random.seed(13)\n",
    "min_conflicts(make_instru(CSP(variables=['A','B'],  \n",
    "                              domains=domains,\n",
    "                              neighbors=neighbors, \n",
    "                              constraints=constraints)))"
   ]
  },
  {
   "cell_type": "code",
   "execution_count": 39,
   "id": "d4420ef4-8baf-4e27-bafd-c3eb424fed2f",
   "metadata": {},
   "outputs": [],
   "source": [
    "# No solution problem\n",
    "\n",
    "neighbors = parse_neighbors('A: B; B: ')\n",
    "domains = {'A': [1, 2, 3, 4], 'B': [1, 2, 3, 4]}\n",
    "constraints = lambda X, x, Y, y: x % 2 == 0 and (x + y) == 4 and y % 2 != 0"
   ]
  },
  {
   "cell_type": "code",
   "execution_count": 40,
   "id": "ea658c67-01ca-4d40-9313-8d662fa952ab",
   "metadata": {},
   "outputs": [
    {
     "name": "stdout",
     "output_type": "stream",
     "text": [
      "  Assign A = 4, {'A': 4}\n",
      "  Assign B = 4, {'A': 4, 'B': 4}\n",
      "  Assign A = 4, {'A': 4, 'B': 4}\n",
      "  Assign A = 4, {'A': 4, 'B': 4}\n",
      "  Assign A = 3, {'A': 3, 'B': 4}\n",
      "  Assign A = 1, {'A': 1, 'B': 4}\n",
      "  Assign A = 4, {'A': 4, 'B': 4}\n",
      "  Assign B = 1, {'A': 4, 'B': 1}\n",
      "  Assign B = 2, {'A': 4, 'B': 2}\n",
      "  Assign B = 1, {'A': 4, 'B': 1}\n",
      "  Assign A = 1, {'A': 1, 'B': 1}\n",
      "  Assign A = 2, {'A': 2, 'B': 1}\n",
      "  Assign B = 1, {'A': 2, 'B': 1}\n",
      "  Assign B = 4, {'A': 2, 'B': 4}\n",
      "  Assign B = 4, {'A': 2, 'B': 4}\n",
      "  Assign A = 2, {'A': 2, 'B': 4}\n",
      "  Assign B = 3, {'A': 2, 'B': 3}\n",
      "  Assign B = 2, {'A': 2, 'B': 2}\n",
      "  Assign B = 1, {'A': 2, 'B': 1}\n",
      "  Assign A = 1, {'A': 1, 'B': 1}\n",
      "  Assign B = 1, {'A': 1, 'B': 1}\n",
      "  Assign A = 1, {'A': 1, 'B': 1}\n",
      "  Assign A = 2, {'A': 2, 'B': 1}\n",
      "  Assign B = 4, {'A': 2, 'B': 4}\n",
      "  Assign A = 4, {'A': 4, 'B': 4}\n",
      "  Assign A = 3, {'A': 3, 'B': 4}\n",
      "  Assign A = 3, {'A': 3, 'B': 4}\n",
      "  Assign A = 3, {'A': 3, 'B': 4}\n",
      "  Assign B = 4, {'A': 3, 'B': 4}\n",
      "  Assign B = 2, {'A': 3, 'B': 2}\n",
      "  Assign B = 4, {'A': 3, 'B': 4}\n",
      "  Assign B = 4, {'A': 3, 'B': 4}\n",
      "  Assign B = 3, {'A': 3, 'B': 3}\n",
      "  Assign A = 4, {'A': 4, 'B': 3}\n",
      "  Assign B = 2, {'A': 4, 'B': 2}\n",
      "  Assign B = 1, {'A': 4, 'B': 1}\n",
      "  Assign B = 1, {'A': 4, 'B': 1}\n",
      "  Assign B = 4, {'A': 4, 'B': 4}\n",
      "  Assign B = 2, {'A': 4, 'B': 2}\n",
      "  Assign A = 4, {'A': 4, 'B': 2}\n",
      "  Assign B = 3, {'A': 4, 'B': 3}\n",
      "  Assign B = 2, {'A': 4, 'B': 2}\n",
      "  Assign A = 3, {'A': 3, 'B': 2}\n",
      "  Assign A = 1, {'A': 1, 'B': 2}\n",
      "  Assign B = 3, {'A': 1, 'B': 3}\n",
      "  Assign A = 1, {'A': 1, 'B': 3}\n",
      "  Assign B = 4, {'A': 1, 'B': 4}\n",
      "  Assign A = 3, {'A': 3, 'B': 4}\n",
      "  Assign A = 2, {'A': 2, 'B': 4}\n",
      "  Assign A = 3, {'A': 3, 'B': 4}\n",
      "  Assign B = 2, {'A': 3, 'B': 2}\n",
      "  Assign A = 1, {'A': 1, 'B': 2}\n"
     ]
    }
   ],
   "source": [
    "random.seed(13)\n",
    "\n",
    "min_conflicts(make_instru(CSP(variables=['A','B'],  \n",
    "                              domains=domains,\n",
    "                              neighbors=neighbors, \n",
    "                              constraints=constraints)),\n",
    "             max_steps=50)"
   ]
  },
  {
   "cell_type": "markdown",
   "id": "72eac436-fd49-443d-8f4d-e48ec09262fb",
   "metadata": {},
   "source": [
    "# CONSTRAINT PROPAGATION\n",
    "\n",
    "- Algorithms that solve CSPs have a choice between searching and or doing a _constraint propagation_, a specific type of inference.\n",
    "- The constraints can be used to reduce the number of legal values for another variable, which in turn can reduce the legal values for some other variable, and so on. \n",
    "- Constraint propagation tries to enforce _local consistency_.\n",
    "- Consider each variable as a node in a graph and each binary constraint as an arc.\n",
    "- Enforcing local consistency causes inconsistent values to be eliminated throughout the graph\n",
    "  \n",
    "There are different types of local consistencies:\n",
    " -  Node consistency\n",
    " - Arc consistency\n",
    " - Path consistency\n",
    " - K-consistency\n",
    " - Global constraints\n"
   ]
  },
  {
   "cell_type": "markdown",
   "id": "f2a304b5-484c-4bd9-821d-e2df2d0832ac",
   "metadata": {},
   "source": [
    "# AC-3"
   ]
  },
  {
   "cell_type": "markdown",
   "id": "63f5130d-781f-46e2-80db-9a338c98f663",
   "metadata": {},
   "source": [
    "- A variable X<sub>i</sub> is __arc-consistent__ with respect to another variable X<sub>j</sub> if for every value in the current domain D<sub>i</sub>  there is some value in the domain D<sub>j</sub>  that satisfies the binary constraint on the arc (X<sub>i</sub>, X<sub>j</sub>).\n",
    "<br>\n",
    "- A network is arc-consistent if every variable is arc-consistent with every other variable.\n",
    "<br>\n",
    "\n",
    "- AC-3 is an algorithm that enforces arc consistency.\n",
    "\n",
    "- After applying AC-3, either every arc is arc-consistent, or some variable has an empty domain, indicating that the CSP cannot be solved.\n"
   ]
  },
  {
   "cell_type": "markdown",
   "id": "e8d2dd6c-1bf3-42d0-8b26-0a564918b2f4",
   "metadata": {},
   "source": [
    "![](https://cite-media.pearson.com/legacy_paths/d43fd1c4-e476-4283-bea8-9d45f79dba17/FG_06_003.png)"
   ]
  },
  {
   "cell_type": "markdown",
   "id": "a8577e40-ab05-478d-bc69-ee36193f8c7b",
   "metadata": {},
   "source": [
    "- if the Domain D<sub>i</sub> gets revised (i.e., gets smaller), all arcs (X<sub>k</sub>, X<sub>i</sub>), where X<sub>k</sub> is a neighbor of X<sub>i</sub>, are added to the queue\n",
    "- the change in D<sub>i</sub> might enable further reductions in D<sub>k</sub>, even if X<sub>k</sub> was previously considered. "
   ]
  },
  {
   "cell_type": "code",
   "execution_count": 41,
   "id": "4f518761-28c7-4e6c-a45d-1ed07bd55f21",
   "metadata": {},
   "outputs": [],
   "source": [
    "def no_arc_heuristic(csp, queue):\n",
    "    return queue\n",
    "\n",
    "\n",
    "def dom_j_up(csp, queue):\n",
    "    return SortedSet(queue, key=lambda t: neg(len(csp.curr_domains[t[1]])))\n"
   ]
  },
  {
   "cell_type": "code",
   "execution_count": 42,
   "id": "87a61de2-fcc2-4805-9440-c3cb9a30946c",
   "metadata": {},
   "outputs": [],
   "source": [
    "def AC3(csp, queue=None, removals=None, arc_heuristic=dom_j_up):\n",
    "    \n",
    "    if queue is None:\n",
    "        queue = {(Xi, Xk) for Xi in csp.variables for Xk in csp.neighbors[Xi]}\n",
    "    \n",
    "    csp.support_pruning()\n",
    "    \n",
    "    queue = arc_heuristic(csp, queue)\n",
    "    \n",
    "    while queue:\n",
    "        (Xi, Xj) = queue.pop()\n",
    "        if revise(csp, Xi, Xj, removals):\n",
    "            if not csp.curr_domains[Xi]:\n",
    "                return False\n",
    "            for Xk in csp.neighbors[Xi]:\n",
    "                if Xk != Xj:\n",
    "                    queue.add((Xk, Xi))\n",
    "    return True"
   ]
  },
  {
   "cell_type": "code",
   "execution_count": 43,
   "id": "9d51abc2-bfa9-41cb-9841-87d25179269f",
   "metadata": {},
   "outputs": [],
   "source": [
    "def revise(csp, Xi, Xj, removals):\n",
    "    \"\"\"Return true if we remove a value.\"\"\"\n",
    "    \n",
    "    revised = False\n",
    "    \n",
    "    #print(f\"Before {Xi}->{Xj} : {csp.curr_domains[Xi]}\")\n",
    "    \n",
    "    for x in csp.curr_domains[Xi][:]:\n",
    "        # If Xi=x conflicts with Xj=y for every possible y, eliminate Xi=x\n",
    "    \n",
    "        if all(not csp.constraints(Xi, x, Xj, y) for y in csp.curr_domains[Xj]):\n",
    "            csp.prune(Xi, x, removals)\n",
    "            revised = True\n",
    "    \n",
    "    #print(f\"After {Xi}->{Xj} : {csp.curr_domains[Xi]}\")\n",
    "    \n",
    "    return revised"
   ]
  },
  {
   "cell_type": "code",
   "execution_count": 44,
   "id": "97296f69-f4ac-409d-a2ac-d11e0fe6e89d",
   "metadata": {},
   "outputs": [
    {
     "data": {
      "text/plain": [
       "True"
      ]
     },
     "execution_count": 44,
     "metadata": {},
     "output_type": "execute_result"
    }
   ],
   "source": [
    "neighbors = parse_neighbors('A: B; B: ')\n",
    "domains = {'A': [1, 2, 3, 4], 'B': [1, 2, 3, 4]}\n",
    "constraints = lambda X, x, Y, y: x % 2 == 0 and (x + y) == 4 and y % 2 == 0\n",
    "\n",
    "csp1 = CSP(variables=None, \n",
    "           domains=domains, \n",
    "           neighbors=neighbors, \n",
    "           constraints=constraints)\n",
    "\n",
    "AC3(csp1, removals=[])"
   ]
  },
  {
   "cell_type": "code",
   "execution_count": 45,
   "id": "8c86364a-aaa9-4285-aa17-81c2ac6b2ea1",
   "metadata": {},
   "outputs": [
    {
     "data": {
      "text/plain": [
       "False"
      ]
     },
     "execution_count": 45,
     "metadata": {},
     "output_type": "execute_result"
    }
   ],
   "source": [
    "# no solution\n",
    "\n",
    "neighbors = parse_neighbors('A: B; B: ')\n",
    "domains = {'A': [1, 2, 3, 4], 'B': [1, 2, 3, 4]}\n",
    "constraints = lambda X, x, Y, y: x % 2 == 0 and (x + y) == 4 and y % 2 != 0\n",
    "\n",
    "csp2 = CSP(variables=None, \n",
    "           domains=domains, \n",
    "           neighbors=neighbors, \n",
    "           constraints=constraints)\n",
    "\n",
    "AC3(csp2, removals=[])"
   ]
  },
  {
   "cell_type": "markdown",
   "id": "f5280339-31b8-408e-b750-400709df45e6",
   "metadata": {},
   "source": [
    "# Backtracking Search"
   ]
  },
  {
   "cell_type": "markdown",
   "id": "cc0f716f-1c61-40e7-9ec7-1d40a609658b",
   "metadata": {},
   "source": [
    "- The main issue with using Naive Search Algorithms to solve a CSP is that they can continue to expand obviously wrong paths\n",
    "- In backtracking search, we check the constraints as we go and we deal with only one variable at a time. "
   ]
  },
  {
   "cell_type": "markdown",
   "id": "ad8aed90-7963-4445-97db-92c2ceab3b0e",
   "metadata": {},
   "source": [
    "![](https://cite-media.pearson.com/legacy_paths/0e2b8835-d034-4f91-9ff8-ac3d2db183ea/FG_06_005.png)"
   ]
  },
  {
   "cell_type": "markdown",
   "id": "9c4e49e7-77f5-48e6-8cf8-65b9fe2fd799",
   "metadata": {},
   "source": [
    "![](https://cite-media.pearson.com/legacy_paths/a98178b0-e228-4a59-8ed6-c0ca4d814984/FG_06_006.png)"
   ]
  },
  {
   "cell_type": "markdown",
   "id": "91419730-3f34-4cbc-899c-5d978a0e14e3",
   "metadata": {},
   "source": [
    "## Variable Ordering\n",
    " - The order in which the variables will be selected for assignment.\n",
    " - We use a heuristic called Most Restricted Variable which is implemented by the function _mrv_.\n",
    " - The idea behind _mrv_ is to choose the variable with the least legal values left in its domain.\n",
    " - The intuition behind selecting the mrv or the most constrained variable is that it allows us to encounter failure quickly before going too deep into a tree if we have selected a wrong step before"
   ]
  },
  {
   "cell_type": "code",
   "execution_count": 46,
   "id": "2cc248a1-62de-405b-b69b-cfbe600eefd6",
   "metadata": {},
   "outputs": [],
   "source": [
    "# Variable ordering\n",
    "\n",
    "def first(iterable, default=None):\n",
    "    \"\"\"Return the first element of an iterable; or default.\"\"\"\n",
    "    \n",
    "    return next(iter(iterable), default)\n",
    "\n",
    "\n",
    "def first_unassigned_variable(assignment, csp):\n",
    "    \"\"\"The default variable order.\"\"\"\n",
    "    \n",
    "    return first([var for var in csp.variables if var not in assignment])\n",
    "\n",
    "\n",
    "def mrv(assignment, csp):\n",
    "    \"\"\"Minimum-remaining-values heuristic.\"\"\"\n",
    "    \n",
    "    return argmin_random_tie([v for v in csp.variables if v not in assignment],\n",
    "                             key=lambda var: num_legal_values(csp, var, assignment))\n",
    "\n",
    "\n",
    "def num_legal_values(csp, var, assignment):\n",
    "    if csp.curr_domains:\n",
    "        return len(csp.curr_domains[var])\n",
    "    else:\n",
    "        return count(csp.nconflicts(var, val, assignment) == 0 \n",
    "                     for val in csp.domains[var])"
   ]
  },
  {
   "cell_type": "markdown",
   "id": "f61ea956-460e-410d-a9dc-66a6e7a0b224",
   "metadata": {},
   "source": [
    "## Value Ordering\n",
    "\n",
    " - Select the Least Constraining Value which is implemented by the function _lcv_.\n",
    " - The idea is to select the value which rules out least number of values in the remaining variables.\n",
    " - The intuition behind selecting the _lcv_ is that it allows a lot of freedom to assign values later."
   ]
  },
  {
   "cell_type": "code",
   "execution_count": 47,
   "id": "e17b83f7-e030-4a1d-ae8a-1627b1837085",
   "metadata": {},
   "outputs": [],
   "source": [
    "# Value ordering\n",
    "\n",
    "def unordered_domain_values(var, assignment, csp):\n",
    "    \"\"\"The default value order.\"\"\"\n",
    "    return csp.choices(var)\n",
    "\n",
    "def lcv(var, assignment, csp):\n",
    "    \"\"\"Least-constraining-values heuristic.\"\"\"\n",
    "    return sorted(csp.choices(var), \n",
    "                  key=lambda val: csp.nconflicts(var, val, assignment))"
   ]
  },
  {
   "cell_type": "markdown",
   "id": "3fc4a4b9-e6d6-4dd4-b441-4f2bf189fe5a",
   "metadata": {},
   "source": [
    "## Inference\n",
    "\n",
    "  - Arc consistency or forward checking\n",
    "  - The idea of inference is to detect the possible failure before it occurs and to look ahead to not make mistakes\n",
    "    "
   ]
  },
  {
   "cell_type": "code",
   "execution_count": 48,
   "id": "d4ee9ebe-8ff1-4545-b0db-6acb33085e05",
   "metadata": {},
   "outputs": [],
   "source": [
    "# Inference\n",
    "\n",
    "def no_inference(csp, var, value, assignment, removals):\n",
    "    return True\n",
    "\n",
    "def forward_checking(csp, var, value, assignment, removals):\n",
    "    \"\"\"Prune neighbor values inconsistent with var=value.\"\"\"\n",
    "    \n",
    "    csp.support_pruning()\n",
    "    for B in csp.neighbors[var]:\n",
    "        if B not in assignment:\n",
    "            for b in csp.curr_domains[B][:]:\n",
    "                if not csp.constraints(var, value, B, b):\n",
    "                    csp.prune(B, b, removals)\n",
    "            if not csp.curr_domains[B]:\n",
    "                return False\n",
    "    return True\n",
    "\n",
    "def mac(csp, var, value, assignment, removals, \n",
    "        constraint_propagation=AC3):\n",
    "    \"\"\"Maintain arc consistency.\"\"\"\n",
    "    \n",
    "    return constraint_propagation(csp, \n",
    "                                  {(X, var) for X in csp.neighbors[var]}, \n",
    "                                  removals)"
   ]
  },
  {
   "cell_type": "code",
   "execution_count": 49,
   "id": "36dd57bc-4b3c-4284-9dc2-9d2adca22cc9",
   "metadata": {},
   "outputs": [],
   "source": [
    "def backtracking_search(csp, \n",
    "                        select_unassigned_variable=first_unassigned_variable,\n",
    "                        order_domain_values=unordered_domain_values, \n",
    "                        inference=no_inference):\n",
    "    \n",
    "    def backtrack(assignment):\n",
    "        if len(assignment) == len(csp.variables):\n",
    "            return assignment\n",
    "        var = select_unassigned_variable(assignment, csp)\n",
    "        for value in order_domain_values(var, assignment, csp):\n",
    "            if 0 == csp.nconflicts(var, value, assignment):\n",
    "                csp.assign(var, value, assignment)\n",
    "                removals = csp.suppose(var, value)\n",
    "                if inference(csp, var, value, assignment, removals):\n",
    "                    result = backtrack(assignment)\n",
    "                    if result is not None:\n",
    "                        return result\n",
    "                csp.restore(removals)\n",
    "        csp.unassign(var, assignment)\n",
    "        return None\n",
    "\n",
    "    csp.nassigns = 0\n",
    "    \n",
    "    result = backtrack({})\n",
    "    assert result is None or csp.is_goal(result)\n",
    "    return result"
   ]
  },
  {
   "cell_type": "code",
   "execution_count": 50,
   "id": "8c4dacd9-2944-4ee3-81f2-e1d94d425ad7",
   "metadata": {},
   "outputs": [
    {
     "data": {
      "text/plain": [
       "{'SA': 'R', 'WA': 'G', 'NT': 'B', 'Q': 'G', 'NSW': 'B', 'V': 'G'}"
      ]
     },
     "execution_count": 50,
     "metadata": {},
     "output_type": "execute_result"
    }
   ],
   "source": [
    "backtracking_search(australia_csp)"
   ]
  },
  {
   "cell_type": "code",
   "execution_count": 51,
   "id": "d2491856-177b-4cfa-b590-18d7922c7ca7",
   "metadata": {},
   "outputs": [
    {
     "name": "stdout",
     "output_type": "stream",
     "text": [
      "0\n",
      "{0: 0, 1: 4, 2: 7, 3: 5, 4: 2, 5: 6, 6: 1, 7: 3}\n",
      "116\n"
     ]
    }
   ],
   "source": [
    "random.seed(123)\n",
    "\n",
    "nqueens = NQueensCSP(8)\n",
    "print(nqueens.nassigns)\n",
    "\n",
    "solution = backtracking_search(nqueens)\n",
    "\n",
    "print(solution)\n",
    "print(nqueens.nassigns)"
   ]
  },
  {
   "cell_type": "code",
   "execution_count": 52,
   "id": "61b7a574-f188-433e-9f92-09007140929a",
   "metadata": {},
   "outputs": [
    {
     "name": "stdout",
     "output_type": "stream",
     "text": [
      "0\n",
      "{0: 0, 1: 4, 2: 7, 3: 5, 4: 2, 5: 6, 6: 1, 7: 3}\n",
      "89\n"
     ]
    }
   ],
   "source": [
    "random.seed(123)\n",
    "\n",
    "nqueens = NQueensCSP(8)\n",
    "print(nqueens.nassigns)\n",
    "\n",
    "solution = backtracking_search(nqueens, \n",
    "                               inference=forward_checking)\n",
    "\n",
    "print(solution)\n",
    "print(nqueens.nassigns)"
   ]
  },
  {
   "cell_type": "code",
   "execution_count": 53,
   "id": "29748cb4-6d30-405d-99e3-77d08d39cc57",
   "metadata": {},
   "outputs": [
    {
     "name": "stdout",
     "output_type": "stream",
     "text": [
      "0\n",
      "  Assign 0 = 0, {0: 0}\n",
      "  Assign 1 = 2, {0: 0, 1: 2}\n",
      "  Assign 2 = 4, {0: 0, 1: 2, 2: 4}\n",
      "  Assign 2 = 5, {0: 0, 1: 2, 2: 5}\n",
      "  Assign 2 = 6, {0: 0, 1: 2, 2: 6}\n",
      "  Assign 2 = 7, {0: 0, 1: 2, 2: 7}\n",
      " Unassign 2 = {0: 0, 1: 2}\n",
      "  Assign 1 = 3, {0: 0, 1: 3}\n",
      "  Assign 2 = 7, {0: 0, 1: 3, 2: 7}\n",
      "  Assign 2 = 6, {0: 0, 1: 3, 2: 6}\n",
      "  Assign 2 = 5, {0: 0, 1: 3, 2: 5}\n",
      "  Assign 2 = 1, {0: 0, 1: 3, 2: 1}\n",
      " Unassign 2 = {0: 0, 1: 3}\n",
      "  Assign 1 = 4, {0: 0, 1: 4}\n",
      "  Assign 2 = 1, {0: 0, 1: 4, 2: 1}\n",
      "  Assign 2 = 6, {0: 0, 1: 4, 2: 6}\n",
      "  Assign 2 = 7, {0: 0, 1: 4, 2: 7}\n",
      "  Assign 3 = 5, {0: 0, 1: 4, 2: 7, 3: 5}\n",
      "  Assign 4 = 2, {0: 0, 1: 4, 2: 7, 3: 5, 4: 2}\n",
      "  Assign 5 = 6, {0: 0, 1: 4, 2: 7, 3: 5, 4: 2, 5: 6}\n",
      "  Assign 6 = 1, {0: 0, 1: 4, 2: 7, 3: 5, 4: 2, 5: 6, 6: 1}\n",
      "  Assign 7 = 3, {0: 0, 1: 4, 2: 7, 3: 5, 4: 2, 5: 6, 6: 1, 7: 3}\n",
      "{0: 0, 1: 4, 2: 7, 3: 5, 4: 2, 5: 6, 6: 1, 7: 3}\n",
      "20\n"
     ]
    }
   ],
   "source": [
    "random.seed(123)\n",
    "\n",
    "nqueens = make_instru(NQueensCSP(8))\n",
    "\n",
    "print(nqueens.nassigns)\n",
    "\n",
    "solution = backtracking_search(nqueens, inference=mac)\n",
    "\n",
    "print(solution)\n",
    "print(nqueens.nassigns)"
   ]
  },
  {
   "cell_type": "code",
   "execution_count": 54,
   "id": "7ffc4377-156c-43de-a27c-7a9b9c3dc563",
   "metadata": {},
   "outputs": [
    {
     "name": "stdout",
     "output_type": "stream",
     "text": [
      "0\n",
      "  Assign 1 = 0, {1: 0}\n",
      "  Assign 7 = 1, {1: 0, 7: 1}\n",
      "  Assign 5 = 2, {1: 0, 7: 1, 5: 2}\n",
      "  Assign 3 = 3, {1: 0, 7: 1, 5: 2, 3: 3}\n",
      "  Assign 3 = 7, {1: 0, 7: 1, 5: 2, 3: 7}\n",
      "  Assign 6 = 6, {1: 0, 7: 1, 5: 2, 3: 7, 6: 6}\n",
      "  Assign 2 = 4, {1: 0, 7: 1, 5: 2, 3: 7, 6: 6, 2: 4}\n",
      "  Assign 0 = 3, {1: 0, 7: 1, 5: 2, 3: 7, 6: 6, 2: 4, 0: 3}\n",
      "  Assign 4 = 5, {1: 0, 7: 1, 5: 2, 3: 7, 6: 6, 2: 4, 0: 3, 4: 5}\n",
      "{1: 0, 7: 1, 5: 2, 3: 7, 6: 6, 2: 4, 0: 3, 4: 5}\n",
      "9\n"
     ]
    }
   ],
   "source": [
    "random.seed(123)\n",
    "\n",
    "nqueens = make_instru(NQueensCSP(8))\n",
    "print(nqueens.nassigns)\n",
    "\n",
    "solution = backtracking_search(nqueens, \n",
    "                               select_unassigned_variable=mrv, \n",
    "                               inference=mac)\n",
    "\n",
    "print(solution)\n",
    "print(nqueens.nassigns)"
   ]
  },
  {
   "cell_type": "markdown",
   "id": "f9fddb00-b399-4273-850a-2a5870d57082",
   "metadata": {},
   "source": [
    "# Tree CSP Solver"
   ]
  },
  {
   "cell_type": "markdown",
   "id": "99a1bf2b-63d9-4335-9b5c-fc1e2f6599fb",
   "metadata": {},
   "source": [
    "- A constraint graph is a **tree** when any two variables are connected by only a single path\n",
    "- A tree-structured CSP can be solved in time linear in the number of variables\n",
    "- Directional Arc Consistency (DAC)\n",
    "  - A CSP is directional arc-consistent under an ordering of variables X<sub>1</sub>, X<sub>2</sub>, ..., X<sub>n</sub> if and only if every X<sub>i</sub> is arc consistent with each X<sub>j</sub> for j > i."
   ]
  },
  {
   "cell_type": "markdown",
   "id": "46bafaa2-af3b-4118-81b3-7538ca00ff0f",
   "metadata": {},
   "source": [
    "- First pick any variable to be the root of the tree\n",
    "- Topological sort of the tree\n",
    "  - Choose an ordering of the variables such that each variable appears after its parent in the tree "
   ]
  },
  {
   "cell_type": "markdown",
   "id": "0920d4d4-c756-4019-a1a5-64c96b23bac3",
   "metadata": {},
   "source": [
    "![](https://cite-media.pearson.com/legacy_paths/29fee076-5ccb-4590-bacd-f1b63e12977d/FG_06_010.png)"
   ]
  },
  {
   "cell_type": "markdown",
   "id": "50bb2e38-fabd-44a2-8af3-75d0c3d79633",
   "metadata": {},
   "source": [
    "![](https://cite-media.pearson.com/legacy_paths/18abe00a-3b88-496e-909e-86865813fde7/FG_06_011.png)"
   ]
  },
  {
   "cell_type": "code",
   "execution_count": 55,
   "id": "ef03a043-ad22-4b32-a45e-12f0d7c41e3c",
   "metadata": {},
   "outputs": [],
   "source": [
    "def tree_csp_solver(csp):\n",
    "    \n",
    "    assignment = {}\n",
    "    root = csp.variables[0]\n",
    "    X, parent = topological_sort(csp, root)\n",
    "\n",
    "    csp.support_pruning()\n",
    "    for Xj in reversed(X[1:]):\n",
    "        if not make_arc_consistent(parent[Xj], Xj, csp):\n",
    "            return None\n",
    "\n",
    "    assignment[root] = csp.curr_domains[root][0]\n",
    "    for Xi in X[1:]:\n",
    "        assignment[Xi] = assign_value(parent[Xi], Xi, csp, assignment)\n",
    "        if not assignment[Xi]:\n",
    "            return None\n",
    "    return assignment"
   ]
  },
  {
   "cell_type": "code",
   "execution_count": 56,
   "id": "22b8bff1-f0f3-470d-958b-102cf1ec5a63",
   "metadata": {},
   "outputs": [],
   "source": [
    "def topological_sort(X, root):\n",
    "    \"\"\"Returns the topological sort of X starting from the root.\n",
    "\n",
    "    Input:\n",
    "    X is a list with the nodes of the graph\n",
    "    N is the dictionary with the neighbors of each node\n",
    "    root denotes the root of the graph.\n",
    "\n",
    "    Output:\n",
    "    stack is a list with the nodes topologically sorted\n",
    "    parents is a dictionary pointing to each node's parent\n",
    "\n",
    "    Other:\n",
    "    visited shows the state (visited - not visited) of nodes\n",
    "\n",
    "    \"\"\"\n",
    "    neighbors = X.neighbors\n",
    "\n",
    "    visited = defaultdict(lambda: False)\n",
    "\n",
    "    stack = []\n",
    "    parents = {}\n",
    "\n",
    "    build_topological(root, None, neighbors, visited, stack, parents)\n",
    "    return stack, parents\n",
    "\n",
    "\n",
    "def build_topological(node, parent, neighbors, visited, stack, parents):\n",
    "    \"\"\"Build the topological sort and the parents of each node in the graph.\"\"\"\n",
    "    visited[node] = True\n",
    "\n",
    "    for n in neighbors[node]:\n",
    "        if not visited[n]:\n",
    "            build_topological(n, node, neighbors, visited, stack, parents)\n",
    "\n",
    "    parents[node] = parent\n",
    "    stack.insert(0, node)"
   ]
  },
  {
   "cell_type": "code",
   "execution_count": 57,
   "id": "93fb77d0-417c-4290-86fc-65865a8c527e",
   "metadata": {},
   "outputs": [],
   "source": [
    "def make_arc_consistent(Xj, Xk, csp):\n",
    "    \"\"\"Make arc between parent (Xj) and child (Xk) consistent under the csp's constraints,\n",
    "    by removing the possible values of Xj that cause inconsistencies.\"\"\"\n",
    "    \n",
    "    for val1 in csp.domains[Xj]:\n",
    "        keep = False  # Keep or remove val1\n",
    "        for val2 in csp.domains[Xk]:\n",
    "            if csp.constraints(Xj, val1, Xk, val2):\n",
    "                # Found a consistent assignment for val1, keep it\n",
    "                keep = True\n",
    "                break\n",
    "\n",
    "        if not keep:\n",
    "            # Remove val1\n",
    "            csp.prune(Xj, val1, None)\n",
    "\n",
    "    return csp.curr_domains[Xj]"
   ]
  },
  {
   "cell_type": "code",
   "execution_count": 58,
   "id": "19e9bb89-9879-452b-8805-a07392e8db72",
   "metadata": {},
   "outputs": [],
   "source": [
    "def assign_value(Xj, Xk, csp, assignment):\n",
    "    \"\"\"Assign a value to Xk given Xj's (Xk's parent) assignment.\n",
    "    Return the first value that satisfies the constraints.\"\"\"\n",
    "    \n",
    "    parent_assignment = assignment[Xj]\n",
    "    for val in csp.curr_domains[Xk]:\n",
    "        if csp.constraints(Xj, parent_assignment, Xk, val):\n",
    "            return val\n",
    "\n",
    "    # No consistent assignment available\n",
    "    return None"
   ]
  },
  {
   "cell_type": "code",
   "execution_count": 59,
   "id": "95776da3-7af6-4f7e-8a92-6813a547b7f0",
   "metadata": {},
   "outputs": [],
   "source": [
    "australia_small = MapColoringCSP(list('RB'),\n",
    "                           'NT: WA Q; NSW: Q V')"
   ]
  },
  {
   "cell_type": "code",
   "execution_count": 60,
   "id": "21101da3-d0c6-4415-a4d6-57456cb63a15",
   "metadata": {},
   "outputs": [
    {
     "name": "stdout",
     "output_type": "stream",
     "text": [
      "{'NT': 'R', 'Q': 'B', 'NSW': 'R', 'V': 'B', 'WA': 'B'}\n"
     ]
    }
   ],
   "source": [
    "assignment = tree_csp_solver(australia_small)\n",
    "print(assignment)"
   ]
  },
  {
   "cell_type": "markdown",
   "id": "635cc64b-a30a-4cac-a444-ef1b96945fbf",
   "metadata": {},
   "source": [
    "# Sudoku"
   ]
  },
  {
   "cell_type": "code",
   "execution_count": 61,
   "id": "a95aea67-c471-49e6-b7c6-567a8dc0750b",
   "metadata": {},
   "outputs": [],
   "source": [
    "def flatten(seqs):\n",
    "    return sum(seqs, [])\n",
    "\n",
    "\n",
    "easy1 = '..3.2.6..9..3.5..1..18.64....81.29..7.......8..67.82....26.95..8..2.3..9..5.1.3..'\n",
    "harder1 = '4173698.5.3..........7......2.....6.....8.4......1.......6.3.7.5..2.....1.4......'\n",
    "\n",
    "_R3 = list(range(3))\n",
    "_CELL = itertools.count().__next__\n",
    "_BGRID = [[[[_CELL() for x in _R3] for y in _R3] for bx in _R3] for by in _R3]\n",
    "_BOXES = flatten([list(map(flatten, brow)) for brow in _BGRID])\n",
    "_ROWS = flatten([list(map(flatten, zip(*brow))) for brow in _BGRID])\n",
    "_COLS = list(zip(*_ROWS))\n",
    "\n",
    "_NEIGHBORS = {v: set() for v in flatten(_ROWS)}\n",
    "for unit in map(set, _BOXES + _ROWS + _COLS):\n",
    "    for v in unit:\n",
    "        _NEIGHBORS[v].update(unit - {v})"
   ]
  },
  {
   "cell_type": "code",
   "execution_count": 62,
   "id": "b31d7e03-7a69-4204-bbe1-d174fafe65c6",
   "metadata": {},
   "outputs": [
    {
     "data": {
      "text/plain": [
       "[[0, 1, 2, 9, 10, 11, 18, 19, 20],\n",
       " [3, 4, 5, 12, 13, 14, 21, 22, 23],\n",
       " [6, 7, 8, 15, 16, 17, 24, 25, 26],\n",
       " [27, 28, 29, 36, 37, 38, 45, 46, 47],\n",
       " [30, 31, 32, 39, 40, 41, 48, 49, 50],\n",
       " [33, 34, 35, 42, 43, 44, 51, 52, 53],\n",
       " [54, 55, 56, 63, 64, 65, 72, 73, 74],\n",
       " [57, 58, 59, 66, 67, 68, 75, 76, 77],\n",
       " [60, 61, 62, 69, 70, 71, 78, 79, 80]]"
      ]
     },
     "execution_count": 62,
     "metadata": {},
     "output_type": "execute_result"
    }
   ],
   "source": [
    "_ROWS"
   ]
  },
  {
   "cell_type": "code",
   "execution_count": 63,
   "id": "1ec3833a-a5c9-4076-aba4-6d41d50c8a38",
   "metadata": {},
   "outputs": [
    {
     "data": {
      "text/plain": [
       "[(0, 3, 6, 27, 30, 33, 54, 57, 60),\n",
       " (1, 4, 7, 28, 31, 34, 55, 58, 61),\n",
       " (2, 5, 8, 29, 32, 35, 56, 59, 62),\n",
       " (9, 12, 15, 36, 39, 42, 63, 66, 69),\n",
       " (10, 13, 16, 37, 40, 43, 64, 67, 70),\n",
       " (11, 14, 17, 38, 41, 44, 65, 68, 71),\n",
       " (18, 21, 24, 45, 48, 51, 72, 75, 78),\n",
       " (19, 22, 25, 46, 49, 52, 73, 76, 79),\n",
       " (20, 23, 26, 47, 50, 53, 74, 77, 80)]"
      ]
     },
     "execution_count": 63,
     "metadata": {},
     "output_type": "execute_result"
    }
   ],
   "source": [
    "_COLS"
   ]
  },
  {
   "cell_type": "code",
   "execution_count": 64,
   "id": "f2f7cdfa-72c0-495d-b706-c9f7b51cafad",
   "metadata": {},
   "outputs": [
    {
     "data": {
      "text/plain": [
       "{1, 2, 3, 4, 5, 6, 7, 8, 9, 10, 11, 18, 19, 20, 27, 30, 33, 54, 57, 60}"
      ]
     },
     "execution_count": 64,
     "metadata": {},
     "output_type": "execute_result"
    }
   ],
   "source": [
    "_NEIGHBORS[0]"
   ]
  },
  {
   "cell_type": "code",
   "execution_count": 65,
   "id": "232a6d0c-0559-4836-bd11-884a5cddfa2f",
   "metadata": {},
   "outputs": [
    {
     "data": {
      "text/plain": [
       "{0, 1, 2, 10, 11, 12, 13, 14, 15, 16, 17, 18, 19, 20, 36, 39, 42, 63, 66, 69}"
      ]
     },
     "execution_count": 65,
     "metadata": {},
     "output_type": "execute_result"
    }
   ],
   "source": [
    "_NEIGHBORS[9]"
   ]
  },
  {
   "cell_type": "code",
   "execution_count": 66,
   "id": "afef01a1-82fc-436d-8b83-93b95c679a7b",
   "metadata": {},
   "outputs": [],
   "source": [
    "class Sudoku(CSP):\n",
    "    \"\"\"\n",
    "    A Sudoku problem.\n",
    "    The box grid is a 3x3 array of boxes, each a 3x3 array of cells.\n",
    "    Each cell holds a digit in 1..9. In each box, all digits are\n",
    "    different; the same for each row and column as a 9x9 grid.\n",
    "    >>> e = Sudoku(easy1)\n",
    "    >>> e.display(e.infer_assignment())\n",
    "    . . 3 | . 2 . | 6 . .\n",
    "    9 . . | 3 . 5 | . . 1\n",
    "    . . 1 | 8 . 6 | 4 . .\n",
    "    ------+-------+------\n",
    "    . . 8 | 1 . 2 | 9 . .\n",
    "    7 . . | . . . | . . 8\n",
    "    . . 6 | 7 . 8 | 2 . .\n",
    "    ------+-------+------\n",
    "    . . 2 | 6 . 9 | 5 . .\n",
    "    8 . . | 2 . 3 | . . 9\n",
    "    . . 5 | . 1 . | 3 . .\n",
    "    >>> AC3(e)  # doctest: +ELLIPSIS\n",
    "    (True, ...)\n",
    "    >>> e.display(e.infer_assignment())\n",
    "    4 8 3 | 9 2 1 | 6 5 7\n",
    "    9 6 7 | 3 4 5 | 8 2 1\n",
    "    2 5 1 | 8 7 6 | 4 9 3\n",
    "    ------+-------+------\n",
    "    5 4 8 | 1 3 2 | 9 7 6\n",
    "    7 2 9 | 5 6 4 | 1 3 8\n",
    "    1 3 6 | 7 9 8 | 2 4 5\n",
    "    ------+-------+------\n",
    "    3 7 2 | 6 8 9 | 5 1 4\n",
    "    8 1 4 | 2 5 3 | 7 6 9\n",
    "    6 9 5 | 4 1 7 | 3 8 2\n",
    "    >>> h = Sudoku(harder1)\n",
    "    >>> backtracking_search(h, select_unassigned_variable=mrv, inference=forward_checking) is not None\n",
    "    True\n",
    "    \"\"\"\n",
    "\n",
    "    R3 = _R3\n",
    "    Cell = _CELL\n",
    "    bgrid = _BGRID\n",
    "    boxes = _BOXES\n",
    "    rows = _ROWS\n",
    "    cols = _COLS\n",
    "    neighbors = _NEIGHBORS\n",
    "\n",
    "    def __init__(self, grid):\n",
    "        \"\"\"Build a Sudoku problem from a string representing the grid:\n",
    "        the digits 1-9 denote a filled cell, '.' or '0' an empty one;\n",
    "        other characters are ignored.\"\"\"\n",
    "        squares = iter(re.findall(r'\\d|\\.', grid))\n",
    "        domains = {var: [ch] if ch in '123456789' else '123456789'\n",
    "                   for var, ch in zip(flatten(self.rows), squares)}\n",
    "        for _ in squares:\n",
    "            raise ValueError(\"Not a Sudoku grid\", grid)  # Too many squares\n",
    "        CSP.__init__(self, None, domains, self.neighbors, different_values_constraint)\n",
    "\n",
    "    def display(self, assignment):\n",
    "        def show_box(box): return [' '.join(map(show_cell, row)) for row in box]\n",
    "\n",
    "        def show_cell(cell): return str(assignment.get(cell, '.'))\n",
    "\n",
    "        def abut(lines1, lines2): return list(\n",
    "            map(' | '.join, list(zip(lines1, lines2))))\n",
    "\n",
    "        print('\\n------+-------+------\\n'.join(\n",
    "            '\\n'.join(reduce(\n",
    "                abut, map(show_box, brow))) for brow in self.bgrid))"
   ]
  },
  {
   "cell_type": "code",
   "execution_count": 67,
   "id": "60c72c01-24b1-418e-9231-6c67f4e9c13a",
   "metadata": {},
   "outputs": [
    {
     "data": {
      "text/plain": [
       "'..3.2.6..9..3.5..1..18.64....81.29..7.......8..67.82....26.95..8..2.3..9..5.1.3..'"
      ]
     },
     "execution_count": 67,
     "metadata": {},
     "output_type": "execute_result"
    }
   ],
   "source": [
    "easy1"
   ]
  },
  {
   "cell_type": "code",
   "execution_count": 68,
   "id": "87e25f1f-17f1-4630-8098-412e8da34f47",
   "metadata": {},
   "outputs": [],
   "source": [
    "e1 = Sudoku(easy1)"
   ]
  },
  {
   "cell_type": "code",
   "execution_count": 69,
   "id": "84f119b9-3fd9-4c11-bf71-b7712a59972c",
   "metadata": {},
   "outputs": [
    {
     "name": "stdout",
     "output_type": "stream",
     "text": [
      ". . 3 | . 2 . | 6 . .\n",
      "9 . . | 3 . 5 | . . 1\n",
      ". . 1 | 8 . 6 | 4 . .\n",
      "------+-------+------\n",
      ". . 8 | 1 . 2 | 9 . .\n",
      "7 . . | . . . | . . 8\n",
      ". . 6 | 7 . 8 | 2 . .\n",
      "------+-------+------\n",
      ". . 2 | 6 . 9 | 5 . .\n",
      "8 . . | 2 . 3 | . . 9\n",
      ". . 5 | . 1 . | 3 . .\n"
     ]
    }
   ],
   "source": [
    "e1.display(e1.infer_assignment())"
   ]
  },
  {
   "cell_type": "code",
   "execution_count": 70,
   "id": "a9e653d3-2a3d-41f8-8dff-a6bd35dda943",
   "metadata": {},
   "outputs": [
    {
     "data": {
      "text/plain": [
       "True"
      ]
     },
     "execution_count": 70,
     "metadata": {},
     "output_type": "execute_result"
    }
   ],
   "source": [
    "AC3(e1)"
   ]
  },
  {
   "cell_type": "code",
   "execution_count": 71,
   "id": "4b5e12c8-2d17-4d59-97d8-06ab2fb88880",
   "metadata": {},
   "outputs": [
    {
     "name": "stdout",
     "output_type": "stream",
     "text": [
      "4 8 3 | 9 2 1 | 6 5 7\n",
      "9 6 7 | 3 4 5 | 8 2 1\n",
      "2 5 1 | 8 7 6 | 4 9 3\n",
      "------+-------+------\n",
      "5 4 8 | 1 3 2 | 9 7 6\n",
      "7 2 9 | 5 6 4 | 1 3 8\n",
      "1 3 6 | 7 9 8 | 2 4 5\n",
      "------+-------+------\n",
      "3 7 2 | 6 8 9 | 5 1 4\n",
      "8 1 4 | 2 5 3 | 7 6 9\n",
      "6 9 5 | 4 1 7 | 3 8 2\n"
     ]
    }
   ],
   "source": [
    "e1.display(e1.infer_assignment())"
   ]
  },
  {
   "cell_type": "code",
   "execution_count": 72,
   "id": "b362dd85-293f-4cf5-9d04-1455347058d9",
   "metadata": {},
   "outputs": [
    {
     "data": {
      "text/plain": [
       "'4173698.5.3..........7......2.....6.....8.4......1.......6.3.7.5..2.....1.4......'"
      ]
     },
     "execution_count": 72,
     "metadata": {},
     "output_type": "execute_result"
    }
   ],
   "source": [
    "harder1"
   ]
  },
  {
   "cell_type": "code",
   "execution_count": 73,
   "id": "28543fd8-2776-4405-a166-066c4b3852a1",
   "metadata": {},
   "outputs": [],
   "source": [
    "h1 = Sudoku(harder1)"
   ]
  },
  {
   "cell_type": "code",
   "execution_count": 74,
   "id": "f5b56e55-2232-4618-9d4c-446150d17743",
   "metadata": {},
   "outputs": [
    {
     "name": "stdout",
     "output_type": "stream",
     "text": [
      "4 1 7 | 3 6 9 | 8 . 5\n",
      ". 3 . | . . . | . . .\n",
      ". . . | 7 . . | . . .\n",
      "------+-------+------\n",
      ". 2 . | . . . | . 6 .\n",
      ". . . | . 8 . | 4 . .\n",
      ". . . | . 1 . | . . .\n",
      "------+-------+------\n",
      ". . . | 6 . 3 | . 7 .\n",
      "5 . . | 2 . . | . . .\n",
      "1 . 4 | . . . | . . .\n"
     ]
    }
   ],
   "source": [
    "h1.display(h1.infer_assignment())"
   ]
  },
  {
   "cell_type": "code",
   "execution_count": 75,
   "id": "fa57313b-e4c9-463b-82b8-e2f6b0069eb5",
   "metadata": {},
   "outputs": [
    {
     "data": {
      "text/plain": [
       "True"
      ]
     },
     "execution_count": 75,
     "metadata": {},
     "output_type": "execute_result"
    }
   ],
   "source": [
    "AC3(h1)"
   ]
  },
  {
   "cell_type": "code",
   "execution_count": 76,
   "id": "8230ebd9-a1a9-4a3e-bd35-37e3762a46b7",
   "metadata": {},
   "outputs": [
    {
     "name": "stdout",
     "output_type": "stream",
     "text": [
      "4 1 7 | 3 6 9 | 8 2 5\n",
      ". 3 . | . . . | . . .\n",
      ". . . | 7 . . | . . .\n",
      "------+-------+------\n",
      ". 2 . | . . . | . 6 .\n",
      ". . . | . 8 . | 4 . .\n",
      ". . . | . 1 . | . . .\n",
      "------+-------+------\n",
      ". . . | 6 . 3 | . 7 .\n",
      "5 . . | 2 . . | . . .\n",
      "1 . 4 | . . . | . . .\n"
     ]
    }
   ],
   "source": [
    "h1.display(h1.infer_assignment())"
   ]
  },
  {
   "cell_type": "code",
   "execution_count": 77,
   "id": "acfae583-5a8a-4955-871e-f6b5e8b640cd",
   "metadata": {},
   "outputs": [
    {
     "name": "stdout",
     "output_type": "stream",
     "text": [
      "{20: '5', 60: '1', 4: '3', 2: '7', 43: '1', 62: '4', 46: '6', 10: '6', 57: '5', 28: '2', 65: '3', 15: '7', 19: '2', 18: '8', 0: '4', 11: '9', 48: '4', 1: '1', 9: '3', 66: '2', 63: '6', 40: '8', 73: '7', 39: '5', 42: '9', 36: '4', 38: '7', 37: '3', 69: '8', 12: '1', 71: '5', 44: '2', 41: '6', 14: '8', 17: '4', 68: '1', 31: '9', 27: '8', 55: '8', 22: '4', 7: '5', 16: '2', 13: '5', 30: '7', 49: '3', 79: '9', 70: '7', 76: '8', 32: '1', 61: '6', 50: '2', 29: '5', 25: '1', 52: '5', 34: '4', 51: '7', 58: '7', 53: '8', 80: '3', 75: '6', 21: '9', 24: '3', 45: '1', 26: '6', 6: '9', 54: '2', 3: '6', 47: '9', 5: '2', 72: '5', 77: '4', 23: '7', 56: '9', 33: '3', 64: '4', 8: '8', 59: '3', 67: '9', 78: '2', 74: '1', 35: '6'}\n"
     ]
    }
   ],
   "source": [
    "solution = backtracking_search(h1, \n",
    "                               select_unassigned_variable=mrv, \n",
    "                               inference=forward_checking)\n",
    "print(solution)"
   ]
  },
  {
   "cell_type": "code",
   "execution_count": 78,
   "id": "9f437a94-99dd-479b-9c74-d7d4ff628bc4",
   "metadata": {},
   "outputs": [
    {
     "data": {
      "text/plain": [
       "[[0, 1, 2, 9, 10, 11, 18, 19, 20],\n",
       " [3, 4, 5, 12, 13, 14, 21, 22, 23],\n",
       " [6, 7, 8, 15, 16, 17, 24, 25, 26],\n",
       " [27, 28, 29, 36, 37, 38, 45, 46, 47],\n",
       " [30, 31, 32, 39, 40, 41, 48, 49, 50],\n",
       " [33, 34, 35, 42, 43, 44, 51, 52, 53],\n",
       " [54, 55, 56, 63, 64, 65, 72, 73, 74],\n",
       " [57, 58, 59, 66, 67, 68, 75, 76, 77],\n",
       " [60, 61, 62, 69, 70, 71, 78, 79, 80]]"
      ]
     },
     "execution_count": 78,
     "metadata": {},
     "output_type": "execute_result"
    }
   ],
   "source": [
    "_ROWS"
   ]
  },
  {
   "cell_type": "code",
   "execution_count": 79,
   "id": "8759a0ec-cdaa-4781-a7e6-e51fdb60fd06",
   "metadata": {},
   "outputs": [
    {
     "name": "stdout",
     "output_type": "stream",
     "text": [
      "4 1 7 | 3 6 9 | 8 2 5\n",
      "6 3 2 | 1 5 8 | 9 4 7\n",
      "9 5 8 | 7 2 4 | 3 1 6\n",
      "------+-------+------\n",
      "8 2 5 | 4 3 7 | 1 6 9\n",
      "7 9 1 | 5 8 6 | 4 3 2\n",
      "3 4 6 | 9 1 2 | 7 5 8\n",
      "------+-------+------\n",
      "2 8 9 | 6 4 3 | 5 7 1\n",
      "5 7 3 | 2 9 1 | 6 8 4\n",
      "1 6 4 | 8 7 5 | 2 9 3\n"
     ]
    }
   ],
   "source": [
    "h1.display(h1.infer_assignment())"
   ]
  },
  {
   "cell_type": "markdown",
   "id": "f64136fa-dbf7-437b-97f4-a8aef7b0b92f",
   "metadata": {},
   "source": [
    "# Visualization"
   ]
  },
  {
   "cell_type": "code",
   "execution_count": 80,
   "id": "a01f64c9-5d86-466d-9031-874790590928",
   "metadata": {},
   "outputs": [],
   "source": [
    "def label_queen_conflicts(assignment,grid):\n",
    "    ''' Mark grid with queens that are under conflict. '''\n",
    "    for col, row in assignment.items(): # check each queen for conflict\n",
    "        conflicts = {temp_col:temp_row for temp_col,temp_row in assignment.items() \n",
    "                         if (temp_row == row and temp_col != col)\n",
    "                          or (temp_row+temp_col == row+col and temp_col != col)\n",
    "                          or (temp_row-temp_col == row-col and temp_col != col)}\n",
    "        \n",
    "        # Place a 3 in positions where this is a conflict\n",
    "        for col, row in conflicts.items():\n",
    "                grid[col][row] = 3\n",
    "\n",
    "    return grid\n",
    "\n",
    "def make_plot_board_step_function(instru_csp):\n",
    "    '''ipywidgets interactive function supports\n",
    "       single parameter as input. This function\n",
    "       creates and return such a function by taking\n",
    "       in input other parameters.\n",
    "    '''\n",
    "    n = len(instru_csp.variables)\n",
    "    \n",
    "    \n",
    "    def plot_board_step(iteration):\n",
    "        ''' Add Queens to the Board.'''\n",
    "        data = instru_csp.assignment_history[iteration]\n",
    "        \n",
    "        grid = [[(col+row+1)%2 for col in range(n)] for row in range(n)]\n",
    "        grid = label_queen_conflicts(data, grid) # Update grid with conflict labels.\n",
    "        \n",
    "        # color map of fixed colors\n",
    "        cmap = matplotlib.colors.ListedColormap(['white','lightsteelblue','red'])\n",
    "        bounds=[0,1,2,3] # 0 for white 1 for black 2 onwards for conflict labels (red).\n",
    "        norm = matplotlib.colors.BoundaryNorm(bounds, cmap.N)\n",
    "        \n",
    "        fig = plt.imshow(grid, interpolation='nearest', cmap = cmap,norm=norm)\n",
    "\n",
    "        plt.axis('off')\n",
    "        fig.axes.get_xaxis().set_visible(False)\n",
    "        fig.axes.get_yaxis().set_visible(False)\n",
    "\n",
    "        # Place the Queens Unicode Symbol\n",
    "        for col, row in data.items():\n",
    "            fig.axes.text(row, col, u\"\\u265B\", va='center', ha='center', \n",
    "                          family='Dejavu Sans', fontsize=32)\n",
    "        plt.show()\n",
    "    \n",
    "    return plot_board_step\n",
    "\n",
    "def make_visualize(slider):\n",
    "    ''' Takes an input a slider and returns \n",
    "        callback function for timer and animation\n",
    "    '''\n",
    "    \n",
    "    def visualize_callback(Visualize, time_step):\n",
    "        if Visualize is True:\n",
    "            for i in range(slider.min, slider.max + 1):\n",
    "                slider.value = i\n",
    "                time.sleep(float(time_step))\n",
    "    \n",
    "    return visualize_callback"
   ]
  },
  {
   "cell_type": "code",
   "execution_count": 81,
   "id": "9244263c-d327-47c5-8b24-f2d07b476753",
   "metadata": {},
   "outputs": [
    {
     "name": "stdout",
     "output_type": "stream",
     "text": [
      "  Assign 0 = 0, {0: 0}\n",
      "  Assign 1 = 2, {0: 0, 1: 2}\n",
      "  Assign 2 = 4, {0: 0, 1: 2, 2: 4}\n",
      "  Assign 3 = 1, {0: 0, 1: 2, 2: 4, 3: 1}\n",
      "  Assign 4 = 3, {0: 0, 1: 2, 2: 4, 3: 1, 4: 3}\n",
      " Unassign 5 = {0: 0, 1: 2, 2: 4, 3: 1, 4: 3}\n",
      "  Assign 4 = 7, {0: 0, 1: 2, 2: 4, 3: 1, 4: 7}\n",
      " Unassign 5 = {0: 0, 1: 2, 2: 4, 3: 1, 4: 7}\n",
      " Unassign 4 = {0: 0, 1: 2, 2: 4, 3: 1}\n",
      "  Assign 3 = 6, {0: 0, 1: 2, 2: 4, 3: 6}\n",
      "  Assign 4 = 3, {0: 0, 1: 2, 2: 4, 3: 6, 4: 3}\n",
      " Unassign 5 = {0: 0, 1: 2, 2: 4, 3: 6, 4: 3}\n",
      "  Assign 4 = 1, {0: 0, 1: 2, 2: 4, 3: 6, 4: 1}\n",
      "  Assign 5 = 3, {0: 0, 1: 2, 2: 4, 3: 6, 4: 1, 5: 3}\n",
      "  Assign 6 = 5, {0: 0, 1: 2, 2: 4, 3: 6, 4: 1, 5: 3, 6: 5}\n",
      " Unassign 7 = {0: 0, 1: 2, 2: 4, 3: 6, 4: 1, 5: 3, 6: 5}\n",
      " Unassign 6 = {0: 0, 1: 2, 2: 4, 3: 6, 4: 1, 5: 3}\n",
      " Unassign 5 = {0: 0, 1: 2, 2: 4, 3: 6, 4: 1}\n",
      " Unassign 4 = {0: 0, 1: 2, 2: 4, 3: 6}\n",
      "  Assign 3 = 7, {0: 0, 1: 2, 2: 4, 3: 7}\n",
      "  Assign 4 = 1, {0: 0, 1: 2, 2: 4, 3: 7, 4: 1}\n",
      "  Assign 5 = 3, {0: 0, 1: 2, 2: 4, 3: 7, 4: 1, 5: 3}\n",
      "  Assign 6 = 5, {0: 0, 1: 2, 2: 4, 3: 7, 4: 1, 5: 3, 6: 5}\n",
      " Unassign 7 = {0: 0, 1: 2, 2: 4, 3: 7, 4: 1, 5: 3, 6: 5}\n",
      " Unassign 6 = {0: 0, 1: 2, 2: 4, 3: 7, 4: 1, 5: 3}\n",
      " Unassign 5 = {0: 0, 1: 2, 2: 4, 3: 7, 4: 1}\n",
      "  Assign 4 = 3, {0: 0, 1: 2, 2: 4, 3: 7, 4: 3}\n",
      " Unassign 5 = {0: 0, 1: 2, 2: 4, 3: 7, 4: 3}\n",
      " Unassign 4 = {0: 0, 1: 2, 2: 4, 3: 7}\n",
      " Unassign 3 = {0: 0, 1: 2, 2: 4}\n",
      "  Assign 2 = 5, {0: 0, 1: 2, 2: 5}\n",
      "  Assign 3 = 7, {0: 0, 1: 2, 2: 5, 3: 7}\n",
      "  Assign 4 = 1, {0: 0, 1: 2, 2: 5, 3: 7, 4: 1}\n",
      "  Assign 5 = 3, {0: 0, 1: 2, 2: 5, 3: 7, 4: 1, 5: 3}\n",
      " Unassign 6 = {0: 0, 1: 2, 2: 5, 3: 7, 4: 1, 5: 3}\n",
      "  Assign 5 = 4, {0: 0, 1: 2, 2: 5, 3: 7, 4: 1, 5: 4}\n",
      " Unassign 6 = {0: 0, 1: 2, 2: 5, 3: 7, 4: 1, 5: 4}\n",
      " Unassign 5 = {0: 0, 1: 2, 2: 5, 3: 7, 4: 1}\n",
      " Unassign 4 = {0: 0, 1: 2, 2: 5, 3: 7}\n",
      "  Assign 3 = 1, {0: 0, 1: 2, 2: 5, 3: 1}\n",
      "  Assign 4 = 6, {0: 0, 1: 2, 2: 5, 3: 1, 4: 6}\n",
      "  Assign 5 = 4, {0: 0, 1: 2, 2: 5, 3: 1, 4: 6, 5: 4}\n",
      " Unassign 6 = {0: 0, 1: 2, 2: 5, 3: 1, 4: 6, 5: 4}\n",
      " Unassign 5 = {0: 0, 1: 2, 2: 5, 3: 1, 4: 6}\n",
      " Unassign 4 = {0: 0, 1: 2, 2: 5, 3: 1}\n",
      " Unassign 3 = {0: 0, 1: 2, 2: 5}\n",
      "  Assign 2 = 6, {0: 0, 1: 2, 2: 6}\n",
      "  Assign 3 = 1, {0: 0, 1: 2, 2: 6, 3: 1}\n",
      "  Assign 4 = 3, {0: 0, 1: 2, 2: 6, 3: 1, 4: 3}\n",
      "  Assign 5 = 7, {0: 0, 1: 2, 2: 6, 3: 1, 4: 3, 5: 7}\n",
      " Unassign 6 = {0: 0, 1: 2, 2: 6, 3: 1, 4: 3, 5: 7}\n",
      " Unassign 5 = {0: 0, 1: 2, 2: 6, 3: 1, 4: 3}\n",
      "  Assign 4 = 7, {0: 0, 1: 2, 2: 6, 3: 1, 4: 7}\n",
      "  Assign 5 = 4, {0: 0, 1: 2, 2: 6, 3: 1, 4: 7, 5: 4}\n",
      " Unassign 6 = {0: 0, 1: 2, 2: 6, 3: 1, 4: 7, 5: 4}\n",
      " Unassign 5 = {0: 0, 1: 2, 2: 6, 3: 1, 4: 7}\n",
      " Unassign 4 = {0: 0, 1: 2, 2: 6, 3: 1}\n",
      " Unassign 3 = {0: 0, 1: 2, 2: 6}\n",
      "  Assign 2 = 7, {0: 0, 1: 2, 2: 7}\n",
      "  Assign 3 = 1, {0: 0, 1: 2, 2: 7, 3: 1}\n",
      "  Assign 4 = 3, {0: 0, 1: 2, 2: 7, 3: 1, 4: 3}\n",
      " Unassign 5 = {0: 0, 1: 2, 2: 7, 3: 1, 4: 3}\n",
      "  Assign 4 = 6, {0: 0, 1: 2, 2: 7, 3: 1, 4: 6}\n",
      " Unassign 5 = {0: 0, 1: 2, 2: 7, 3: 1, 4: 6}\n",
      " Unassign 4 = {0: 0, 1: 2, 2: 7, 3: 1}\n",
      "  Assign 3 = 5, {0: 0, 1: 2, 2: 7, 3: 5}\n",
      "  Assign 4 = 3, {0: 0, 1: 2, 2: 7, 3: 5, 4: 3}\n",
      "  Assign 5 = 1, {0: 0, 1: 2, 2: 7, 3: 5, 4: 3, 5: 1}\n",
      "  Assign 6 = 4, {0: 0, 1: 2, 2: 7, 3: 5, 4: 3, 5: 1, 6: 4}\n",
      " Unassign 7 = {0: 0, 1: 2, 2: 7, 3: 5, 4: 3, 5: 1, 6: 4}\n",
      " Unassign 6 = {0: 0, 1: 2, 2: 7, 3: 5, 4: 3, 5: 1}\n",
      " Unassign 5 = {0: 0, 1: 2, 2: 7, 3: 5, 4: 3}\n",
      "  Assign 4 = 1, {0: 0, 1: 2, 2: 7, 3: 5, 4: 1}\n",
      " Unassign 5 = {0: 0, 1: 2, 2: 7, 3: 5, 4: 1}\n",
      " Unassign 4 = {0: 0, 1: 2, 2: 7, 3: 5}\n",
      " Unassign 3 = {0: 0, 1: 2, 2: 7}\n",
      " Unassign 2 = {0: 0, 1: 2}\n",
      "  Assign 1 = 3, {0: 0, 1: 3}\n",
      "  Assign 2 = 7, {0: 0, 1: 3, 2: 7}\n",
      "  Assign 3 = 2, {0: 0, 1: 3, 2: 7, 3: 2}\n",
      " Unassign 4 = {0: 0, 1: 3, 2: 7, 3: 2}\n",
      "  Assign 3 = 4, {0: 0, 1: 3, 2: 7, 3: 4}\n",
      "  Assign 4 = 1, {0: 0, 1: 3, 2: 7, 3: 4, 4: 1}\n",
      " Unassign 5 = {0: 0, 1: 3, 2: 7, 3: 4, 4: 1}\n",
      "  Assign 4 = 2, {0: 0, 1: 3, 2: 7, 3: 4, 4: 2}\n",
      " Unassign 5 = {0: 0, 1: 3, 2: 7, 3: 4, 4: 2}\n",
      " Unassign 4 = {0: 0, 1: 3, 2: 7, 3: 4}\n",
      " Unassign 3 = {0: 0, 1: 3, 2: 7}\n",
      "  Assign 2 = 6, {0: 0, 1: 3, 2: 6}\n",
      "  Assign 3 = 4, {0: 0, 1: 3, 2: 6, 3: 4}\n",
      "  Assign 4 = 2, {0: 0, 1: 3, 2: 6, 3: 4, 4: 2}\n",
      " Unassign 5 = {0: 0, 1: 3, 2: 6, 3: 4, 4: 2}\n",
      "  Assign 4 = 1, {0: 0, 1: 3, 2: 6, 3: 4, 4: 1}\n",
      " Unassign 5 = {0: 0, 1: 3, 2: 6, 3: 4, 4: 1}\n",
      "  Assign 4 = 7, {0: 0, 1: 3, 2: 6, 3: 4, 4: 7}\n",
      "  Assign 5 = 1, {0: 0, 1: 3, 2: 6, 3: 4, 4: 7, 5: 1}\n",
      " Unassign 6 = {0: 0, 1: 3, 2: 6, 3: 4, 4: 7, 5: 1}\n",
      " Unassign 5 = {0: 0, 1: 3, 2: 6, 3: 4, 4: 7}\n",
      " Unassign 4 = {0: 0, 1: 3, 2: 6, 3: 4}\n",
      "  Assign 3 = 2, {0: 0, 1: 3, 2: 6, 3: 2}\n",
      "  Assign 4 = 7, {0: 0, 1: 3, 2: 6, 3: 2, 4: 7}\n",
      "  Assign 5 = 1, {0: 0, 1: 3, 2: 6, 3: 2, 4: 7, 5: 1}\n",
      "  Assign 6 = 4, {0: 0, 1: 3, 2: 6, 3: 2, 4: 7, 5: 1, 6: 4}\n",
      " Unassign 7 = {0: 0, 1: 3, 2: 6, 3: 2, 4: 7, 5: 1, 6: 4}\n",
      " Unassign 6 = {0: 0, 1: 3, 2: 6, 3: 2, 4: 7, 5: 1}\n",
      " Unassign 5 = {0: 0, 1: 3, 2: 6, 3: 2, 4: 7}\n",
      "  Assign 4 = 5, {0: 0, 1: 3, 2: 6, 3: 2, 4: 5}\n",
      "  Assign 5 = 1, {0: 0, 1: 3, 2: 6, 3: 2, 4: 5, 5: 1}\n",
      "  Assign 6 = 4, {0: 0, 1: 3, 2: 6, 3: 2, 4: 5, 5: 1, 6: 4}\n",
      " Unassign 7 = {0: 0, 1: 3, 2: 6, 3: 2, 4: 5, 5: 1, 6: 4}\n",
      " Unassign 6 = {0: 0, 1: 3, 2: 6, 3: 2, 4: 5, 5: 1}\n",
      " Unassign 5 = {0: 0, 1: 3, 2: 6, 3: 2, 4: 5}\n",
      " Unassign 4 = {0: 0, 1: 3, 2: 6, 3: 2}\n",
      " Unassign 3 = {0: 0, 1: 3, 2: 6}\n",
      "  Assign 2 = 5, {0: 0, 1: 3, 2: 5}\n",
      "  Assign 3 = 2, {0: 0, 1: 3, 2: 5, 3: 2}\n",
      " Unassign 4 = {0: 0, 1: 3, 2: 5, 3: 2}\n",
      "  Assign 3 = 7, {0: 0, 1: 3, 2: 5, 3: 7}\n",
      "  Assign 4 = 1, {0: 0, 1: 3, 2: 5, 3: 7, 4: 1}\n",
      "  Assign 5 = 4, {0: 0, 1: 3, 2: 5, 3: 7, 4: 1, 5: 4}\n",
      "  Assign 6 = 2, {0: 0, 1: 3, 2: 5, 3: 7, 4: 1, 5: 4, 6: 2}\n",
      " Unassign 7 = {0: 0, 1: 3, 2: 5, 3: 7, 4: 1, 5: 4, 6: 2}\n",
      " Unassign 6 = {0: 0, 1: 3, 2: 5, 3: 7, 4: 1, 5: 4}\n",
      "  Assign 5 = 6, {0: 0, 1: 3, 2: 5, 3: 7, 4: 1, 5: 6}\n",
      "  Assign 6 = 2, {0: 0, 1: 3, 2: 5, 3: 7, 4: 1, 5: 6, 6: 2}\n",
      " Unassign 7 = {0: 0, 1: 3, 2: 5, 3: 7, 4: 1, 5: 6, 6: 2}\n",
      " Unassign 6 = {0: 0, 1: 3, 2: 5, 3: 7, 4: 1, 5: 6}\n",
      " Unassign 5 = {0: 0, 1: 3, 2: 5, 3: 7, 4: 1}\n",
      "  Assign 4 = 2, {0: 0, 1: 3, 2: 5, 3: 7, 4: 2}\n",
      "  Assign 5 = 6, {0: 0, 1: 3, 2: 5, 3: 7, 4: 2, 5: 6}\n",
      " Unassign 6 = {0: 0, 1: 3, 2: 5, 3: 7, 4: 2, 5: 6}\n",
      "  Assign 5 = 4, {0: 0, 1: 3, 2: 5, 3: 7, 4: 2, 5: 4}\n",
      " Unassign 6 = {0: 0, 1: 3, 2: 5, 3: 7, 4: 2, 5: 4}\n",
      " Unassign 5 = {0: 0, 1: 3, 2: 5, 3: 7, 4: 2}\n",
      " Unassign 4 = {0: 0, 1: 3, 2: 5, 3: 7}\n",
      " Unassign 3 = {0: 0, 1: 3, 2: 5}\n",
      "  Assign 2 = 1, {0: 0, 1: 3, 2: 1}\n",
      "  Assign 3 = 7, {0: 0, 1: 3, 2: 1, 3: 7}\n",
      "  Assign 4 = 2, {0: 0, 1: 3, 2: 1, 3: 7, 4: 2}\n",
      "  Assign 5 = 6, {0: 0, 1: 3, 2: 1, 3: 7, 4: 2, 5: 6}\n",
      " Unassign 6 = {0: 0, 1: 3, 2: 1, 3: 7, 4: 2, 5: 6}\n",
      " Unassign 5 = {0: 0, 1: 3, 2: 1, 3: 7, 4: 2}\n",
      "  Assign 4 = 5, {0: 0, 1: 3, 2: 1, 3: 7, 4: 5}\n",
      "  Assign 5 = 2, {0: 0, 1: 3, 2: 1, 3: 7, 4: 5, 5: 2}\n",
      " Unassign 6 = {0: 0, 1: 3, 2: 1, 3: 7, 4: 5, 5: 2}\n",
      " Unassign 5 = {0: 0, 1: 3, 2: 1, 3: 7, 4: 5}\n",
      " Unassign 4 = {0: 0, 1: 3, 2: 1, 3: 7}\n",
      "  Assign 3 = 4, {0: 0, 1: 3, 2: 1, 3: 4}\n",
      "  Assign 4 = 2, {0: 0, 1: 3, 2: 1, 3: 4, 4: 2}\n",
      " Unassign 5 = {0: 0, 1: 3, 2: 1, 3: 4, 4: 2}\n",
      "  Assign 4 = 7, {0: 0, 1: 3, 2: 1, 3: 4, 4: 7}\n",
      " Unassign 5 = {0: 0, 1: 3, 2: 1, 3: 4, 4: 7}\n",
      " Unassign 4 = {0: 0, 1: 3, 2: 1, 3: 4}\n",
      "  Assign 3 = 6, {0: 0, 1: 3, 2: 1, 3: 6}\n",
      "  Assign 4 = 2, {0: 0, 1: 3, 2: 1, 3: 6, 4: 2}\n",
      " Unassign 5 = {0: 0, 1: 3, 2: 1, 3: 6, 4: 2}\n",
      " Unassign 4 = {0: 0, 1: 3, 2: 1, 3: 6}\n",
      " Unassign 3 = {0: 0, 1: 3, 2: 1}\n",
      " Unassign 2 = {0: 0, 1: 3}\n",
      "  Assign 1 = 4, {0: 0, 1: 4}\n",
      "  Assign 2 = 1, {0: 0, 1: 4, 2: 1}\n",
      "  Assign 3 = 7, {0: 0, 1: 4, 2: 1, 3: 7}\n",
      "  Assign 4 = 2, {0: 0, 1: 4, 2: 1, 3: 7, 4: 2}\n",
      "  Assign 5 = 6, {0: 0, 1: 4, 2: 1, 3: 7, 4: 2, 5: 6}\n",
      "  Assign 6 = 3, {0: 0, 1: 4, 2: 1, 3: 7, 4: 2, 5: 6, 6: 3}\n",
      " Unassign 7 = {0: 0, 1: 4, 2: 1, 3: 7, 4: 2, 5: 6, 6: 3}\n",
      " Unassign 6 = {0: 0, 1: 4, 2: 1, 3: 7, 4: 2, 5: 6}\n",
      " Unassign 5 = {0: 0, 1: 4, 2: 1, 3: 7, 4: 2}\n",
      "  Assign 4 = 5, {0: 0, 1: 4, 2: 1, 3: 7, 4: 5}\n",
      "  Assign 5 = 2, {0: 0, 1: 4, 2: 1, 3: 7, 4: 5, 5: 2}\n",
      " Unassign 6 = {0: 0, 1: 4, 2: 1, 3: 7, 4: 5, 5: 2}\n",
      "  Assign 5 = 3, {0: 0, 1: 4, 2: 1, 3: 7, 4: 5, 5: 3}\n",
      " Unassign 6 = {0: 0, 1: 4, 2: 1, 3: 7, 4: 5, 5: 3}\n",
      " Unassign 5 = {0: 0, 1: 4, 2: 1, 3: 7, 4: 5}\n",
      " Unassign 4 = {0: 0, 1: 4, 2: 1, 3: 7}\n",
      "  Assign 3 = 5, {0: 0, 1: 4, 2: 1, 3: 5}\n",
      "  Assign 4 = 2, {0: 0, 1: 4, 2: 1, 3: 5, 4: 2}\n",
      "  Assign 5 = 6, {0: 0, 1: 4, 2: 1, 3: 5, 4: 2, 5: 6}\n",
      "  Assign 6 = 3, {0: 0, 1: 4, 2: 1, 3: 5, 4: 2, 5: 6, 6: 3}\n",
      " Unassign 7 = {0: 0, 1: 4, 2: 1, 3: 5, 4: 2, 5: 6, 6: 3}\n",
      " Unassign 6 = {0: 0, 1: 4, 2: 1, 3: 5, 4: 2, 5: 6}\n",
      " Unassign 5 = {0: 0, 1: 4, 2: 1, 3: 5, 4: 2}\n",
      " Unassign 4 = {0: 0, 1: 4, 2: 1, 3: 5}\n",
      " Unassign 3 = {0: 0, 1: 4, 2: 1}\n",
      "  Assign 2 = 6, {0: 0, 1: 4, 2: 6}\n",
      "  Assign 3 = 1, {0: 0, 1: 4, 2: 6, 3: 1}\n",
      "  Assign 4 = 5, {0: 0, 1: 4, 2: 6, 3: 1, 4: 5}\n",
      "  Assign 5 = 2, {0: 0, 1: 4, 2: 6, 3: 1, 4: 5, 5: 2}\n",
      " Unassign 6 = {0: 0, 1: 4, 2: 6, 3: 1, 4: 5, 5: 2}\n",
      "  Assign 5 = 7, {0: 0, 1: 4, 2: 6, 3: 1, 4: 5, 5: 7}\n",
      " Unassign 6 = {0: 0, 1: 4, 2: 6, 3: 1, 4: 5, 5: 7}\n",
      " Unassign 5 = {0: 0, 1: 4, 2: 6, 3: 1, 4: 5}\n",
      "  Assign 4 = 3, {0: 0, 1: 4, 2: 6, 3: 1, 4: 3}\n",
      "  Assign 5 = 7, {0: 0, 1: 4, 2: 6, 3: 1, 4: 3, 5: 7}\n",
      " Unassign 6 = {0: 0, 1: 4, 2: 6, 3: 1, 4: 3, 5: 7}\n",
      " Unassign 5 = {0: 0, 1: 4, 2: 6, 3: 1, 4: 3}\n",
      " Unassign 4 = {0: 0, 1: 4, 2: 6, 3: 1}\n",
      " Unassign 3 = {0: 0, 1: 4, 2: 6}\n",
      "  Assign 2 = 7, {0: 0, 1: 4, 2: 7}\n",
      "  Assign 3 = 1, {0: 0, 1: 4, 2: 7, 3: 1}\n",
      "  Assign 4 = 3, {0: 0, 1: 4, 2: 7, 3: 1, 4: 3}\n",
      "  Assign 5 = 6, {0: 0, 1: 4, 2: 7, 3: 1, 4: 3, 5: 6}\n",
      "  Assign 6 = 2, {0: 0, 1: 4, 2: 7, 3: 1, 4: 3, 5: 6, 6: 2}\n",
      " Unassign 7 = {0: 0, 1: 4, 2: 7, 3: 1, 4: 3, 5: 6, 6: 2}\n",
      " Unassign 6 = {0: 0, 1: 4, 2: 7, 3: 1, 4: 3, 5: 6}\n",
      " Unassign 5 = {0: 0, 1: 4, 2: 7, 3: 1, 4: 3}\n",
      "  Assign 4 = 6, {0: 0, 1: 4, 2: 7, 3: 1, 4: 6}\n",
      "  Assign 5 = 2, {0: 0, 1: 4, 2: 7, 3: 1, 4: 6, 5: 2}\n",
      "  Assign 6 = 5, {0: 0, 1: 4, 2: 7, 3: 1, 4: 6, 5: 2, 6: 5}\n",
      " Unassign 7 = {0: 0, 1: 4, 2: 7, 3: 1, 4: 6, 5: 2, 6: 5}\n",
      " Unassign 6 = {0: 0, 1: 4, 2: 7, 3: 1, 4: 6, 5: 2}\n",
      " Unassign 5 = {0: 0, 1: 4, 2: 7, 3: 1, 4: 6}\n",
      " Unassign 4 = {0: 0, 1: 4, 2: 7, 3: 1}\n",
      "  Assign 3 = 5, {0: 0, 1: 4, 2: 7, 3: 5}\n",
      "  Assign 4 = 3, {0: 0, 1: 4, 2: 7, 3: 5, 4: 3}\n",
      "  Assign 5 = 6, {0: 0, 1: 4, 2: 7, 3: 5, 4: 3, 5: 6}\n",
      " Unassign 6 = {0: 0, 1: 4, 2: 7, 3: 5, 4: 3, 5: 6}\n",
      "  Assign 5 = 1, {0: 0, 1: 4, 2: 7, 3: 5, 4: 3, 5: 1}\n",
      " Unassign 6 = {0: 0, 1: 4, 2: 7, 3: 5, 4: 3, 5: 1}\n",
      " Unassign 5 = {0: 0, 1: 4, 2: 7, 3: 5, 4: 3}\n",
      "  Assign 4 = 2, {0: 0, 1: 4, 2: 7, 3: 5, 4: 2}\n",
      "  Assign 5 = 6, {0: 0, 1: 4, 2: 7, 3: 5, 4: 2, 5: 6}\n",
      "  Assign 6 = 1, {0: 0, 1: 4, 2: 7, 3: 5, 4: 2, 5: 6, 6: 1}\n",
      "  Assign 7 = 3, {0: 0, 1: 4, 2: 7, 3: 5, 4: 2, 5: 6, 6: 1, 7: 3}\n"
     ]
    }
   ],
   "source": [
    "nqueens_csp = NQueensCSP(8)\n",
    "backtracking_instru_queen = make_instru(nqueens_csp)\n",
    "result = backtracking_search(backtracking_instru_queen)"
   ]
  },
  {
   "cell_type": "code",
   "execution_count": 82,
   "id": "43763409-5618-4dfc-8e4e-05a6dede3164",
   "metadata": {},
   "outputs": [],
   "source": [
    "backtrack_queen_step = make_plot_board_step_function(\n",
    "    backtracking_instru_queen) # Step Function for Widgets"
   ]
  },
  {
   "cell_type": "code",
   "execution_count": 83,
   "id": "7a95f677-50ad-4fbc-b0d1-dc33b3725c6b",
   "metadata": {},
   "outputs": [
    {
     "data": {
      "application/vnd.jupyter.widget-view+json": {
       "model_id": "bcca49145da4487bb1f674d0276f5659",
       "version_major": 2,
       "version_minor": 0
      },
      "text/plain": [
       "interactive(children=(IntSlider(value=0, description='iteration', max=223, step=0), Output()), _dom_classes=('…"
      ]
     },
     "metadata": {},
     "output_type": "display_data"
    },
    {
     "data": {
      "application/vnd.jupyter.widget-view+json": {
       "model_id": "cd103371811942f392d1c08dc392fb50",
       "version_major": 2,
       "version_minor": 0
      },
      "text/plain": [
       "interactive(children=(ToggleButton(value=False, description='Visualize'), ToggleButtons(description='Extra Del…"
      ]
     },
     "metadata": {},
     "output_type": "display_data"
    }
   ],
   "source": [
    "matplotlib.rcParams['figure.figsize'] = (6.0, 6.0)\n",
    "matplotlib.rcParams['font.family'].append(u'Dejavu Sans')\n",
    "\n",
    "iteration_slider = widgets.IntSlider(min=0, max=len(backtracking_instru_queen.assignment_history)-1, step=0, value=0)\n",
    "w=widgets.interactive(backtrack_queen_step,iteration=iteration_slider)\n",
    "display(w)\n",
    "\n",
    "visualize_callback = make_visualize(iteration_slider)\n",
    "\n",
    "visualize_button = widgets.ToggleButton(description = \"Visualize\", value = False)\n",
    "time_select = widgets.ToggleButtons(description='Extra Delay:',options=['0', '0.1', '0.2', '0.5', '0.7', '1.0'])\n",
    "\n",
    "a = widgets.interactive(visualize_callback, Visualize = visualize_button, time_step=time_select)\n",
    "display(a)"
   ]
  },
  {
   "cell_type": "code",
   "execution_count": null,
   "id": "f34e27ce-4b4b-4104-ab51-d8ab932bbd73",
   "metadata": {},
   "outputs": [],
   "source": []
  }
 ],
 "metadata": {
  "kernelspec": {
   "display_name": "Python 3 (ipykernel)",
   "language": "python",
   "name": "python3"
  },
  "language_info": {
   "codemirror_mode": {
    "name": "ipython",
    "version": 3
   },
   "file_extension": ".py",
   "mimetype": "text/x-python",
   "name": "python",
   "nbconvert_exporter": "python",
   "pygments_lexer": "ipython3",
   "version": "3.12.1"
  }
 },
 "nbformat": 4,
 "nbformat_minor": 5
}
