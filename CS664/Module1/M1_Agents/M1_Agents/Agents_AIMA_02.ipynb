{
 "cells": [
  {
   "cell_type": "markdown",
   "id": "c3d248d6-76b0-4197-a859-d621450d0222",
   "metadata": {},
   "source": [
    "---\n",
    "title: \"Agents - AIMA - Russell & Norvig (Part2)\"\n",
    "format: html\n",
    "page-layout: full\n",
    "code-line-numbers: true\n",
    "code-block-border: true\n",
    "toc: true\n",
    "toc-location: left\n",
    "number-sections: true\n",
    "jupyter: python3\n",
    "---"
   ]
  },
  {
   "cell_type": "markdown",
   "id": "dc91b56d-4dd9-43b3-9da2-790ffa0438c6",
   "metadata": {},
   "source": [
    "# Part2 - Case Study"
   ]
  },
  {
   "cell_type": "code",
   "execution_count": 1,
   "id": "4f8bd0a7-b570-43a6-afe2-5c1994e3868c",
   "metadata": {},
   "outputs": [],
   "source": [
    "import collections, copy, random\n",
    "import numbers"
   ]
  },
  {
   "cell_type": "code",
   "execution_count": 2,
   "id": "cf1e2cb1-28bd-4533-b9dd-f2e79d0cbf1a",
   "metadata": {},
   "outputs": [],
   "source": [
    "class Thing:\n",
    "    \"\"\"This represents any physical object that can appear in an Environment.\n",
    "    You subclass Thing to get the things you want. Each thing can have a\n",
    "    .__name__  slot (used for output only).\"\"\"\n",
    "\n",
    "    def __repr__(self):\n",
    "        return '<{}>'.format(getattr(self, '__name__', self.__class__.__name__))\n",
    "\n",
    "    def is_alive(self):\n",
    "        \"\"\"Things that are 'alive' should return true.\"\"\"\n",
    "        return hasattr(self, 'alive') and self.alive\n",
    "\n",
    "    def show_state(self):\n",
    "        \"\"\"Display the agent's internal state. Subclasses should override.\"\"\"\n",
    "        print(\"I don't know how to show_state.\")"
   ]
  },
  {
   "cell_type": "code",
   "execution_count": 3,
   "id": "768dfbc8-42b5-447e-bffc-8863456f6099",
   "metadata": {},
   "outputs": [],
   "source": [
    "class Agent(Thing):\n",
    "    \"\"\"An Agent is a subclass of Thing with one required instance attribute \n",
    "    (aka slot), .program, which should hold a function that takes one argument,\n",
    "    the percept, and returns an action. (What counts as a percept or action \n",
    "    will depend on the specific environment in which the agent exists.)\n",
    "    Note that 'program' is a slot, not a method. If it were a method, then the\n",
    "    program could 'cheat' and look at aspects of the agent. It's not supposed\n",
    "    to do that: the program can only look at the percepts. An agent program\n",
    "    that needs a model of the world (and of the agent itself) will have to\n",
    "    build and maintain its own model. There is an optional slot, .performance,\n",
    "    which is a number giving the performance measure of the agent in its\n",
    "    environment.\"\"\"\n",
    "\n",
    "    def __init__(self, program=None):\n",
    "        self.alive = True\n",
    "        self.bump = False\n",
    "        self.holding = []\n",
    "        self.performance = 0\n",
    "        if program is None or not isinstance(program, collections.abc.Callable):\n",
    "            print(\"Can't find a valid program for {}, falling back to default.\".format(self.__class__.__name__))\n",
    "\n",
    "            def program(percept):\n",
    "                return eval(input('Percept={}; action? '.format(percept)))\n",
    "\n",
    "        self.program = program\n",
    "\n",
    "    def can_grab(self, thing):\n",
    "        \"\"\"Return True if this agent can grab this thing.\n",
    "        Override for appropriate subclasses of Agent and Thing.\"\"\"\n",
    "        return False"
   ]
  },
  {
   "cell_type": "code",
   "execution_count": 4,
   "id": "d132d153-65ab-486f-91c3-fc73821345b1",
   "metadata": {},
   "outputs": [],
   "source": [
    "class Food(Thing):\n",
    "    pass\n",
    "\n",
    "class Water(Thing):\n",
    "    pass"
   ]
  },
  {
   "cell_type": "markdown",
   "id": "e42b58ae-b706-4b45-846b-6fa651bd5fac",
   "metadata": {},
   "source": [
    "# The Agent"
   ]
  },
  {
   "cell_type": "markdown",
   "id": "31f5a7a7-a995-4b69-a59a-8f4d1ae7c9f2",
   "metadata": {},
   "source": [
    "![Cool dog](https://gifgun.files.wordpress.com/2015/07/wpid-wp-1435860392895.gif)\n"
   ]
  },
  {
   "cell_type": "code",
   "execution_count": 5,
   "id": "787a4675-c1e5-48f8-b7a7-d8aa4cd7ad36",
   "metadata": {},
   "outputs": [],
   "source": [
    "class BlindDog(Agent):\n",
    "    location = 1\n",
    "    \n",
    "    def movedown(self):\n",
    "        self.location += 1\n",
    "        \n",
    "    def eat(self, thing):\n",
    "        '''returns True upon success or False otherwise'''\n",
    "        if isinstance(thing, Food):\n",
    "            return True\n",
    "        return False\n",
    "    \n",
    "    def drink(self, thing):\n",
    "        ''' returns True upon success or False otherwise'''\n",
    "        if isinstance(thing, Water):\n",
    "            return True\n",
    "        return False"
   ]
  },
  {
   "cell_type": "markdown",
   "id": "e8e40d91-1955-4465-882e-f8ada8d2b3c4",
   "metadata": {},
   "source": [
    "Now its time to implement a <b>program</b> module for our dog. A program controls how the dog acts upon its environment. Our program will be very simple, and is shown in the table below.\n",
    "\n",
    "| Percept | Action |\n",
    "| :------- | :----------- |\n",
    "| Feel Food | eat |\n",
    "| Feel Water | drink |\n",
    "| Feel Nothing | move down |"
   ]
  },
  {
   "cell_type": "code",
   "execution_count": 6,
   "id": "d491b22e-611f-45a6-a84e-cebab057c729",
   "metadata": {},
   "outputs": [],
   "source": [
    "def program(percepts):\n",
    "    '''Returns an action based on the dog's percepts'''\n",
    "    for p in percepts:\n",
    "        if isinstance(p, Food):\n",
    "            return 'eat'\n",
    "        elif isinstance(p, Water):\n",
    "            return 'drink'\n",
    "            \n",
    "    return 'move down'"
   ]
  },
  {
   "cell_type": "markdown",
   "id": "5bf1216a-e91e-4900-b9f7-e9c7be90d883",
   "metadata": {},
   "source": [
    "# The Environment\n",
    " - A park is an example of an environment because the dog can perceive and act upon it.\n",
    " - We will start with a 1D park where the dog can only move down."
   ]
  },
  {
   "cell_type": "code",
   "execution_count": 7,
   "id": "37bbe33b-a4a3-43b6-b302-8ec3cd40cc6f",
   "metadata": {},
   "outputs": [],
   "source": [
    "class Environment:\n",
    "    \"\"\"Abstract class representing an Environment. 'Real' Environment classes\n",
    "    inherit from this. Your Environment will typically need to implement:\n",
    "        percept:           Define the percept that an agent sees.\n",
    "        execute_action:    Define the effects of executing an action.\n",
    "                           Also update the agent.performance slot.\n",
    "    The environment keeps a list of .things and .agents (which is a subset\n",
    "    of .things). Each agent has a .performance slot, initialized to 0.\n",
    "    Each thing has a .location slot, even though some environments may not\n",
    "    need this.\"\"\"\n",
    "\n",
    "    def __init__(self):\n",
    "        self.things = []\n",
    "        self.agents = []\n",
    "\n",
    "    def thing_classes(self):\n",
    "        return []  # List of classes that can go into environment\n",
    "\n",
    "    def percept(self, agent):\n",
    "        \"\"\"Return the percept that the agent sees at this point. (Implement this.)\"\"\"\n",
    "        raise NotImplementedError\n",
    "\n",
    "    def execute_action(self, agent, action):\n",
    "        \"\"\"Change the world to reflect this action. (Implement this.)\"\"\"\n",
    "        raise NotImplementedError\n",
    "\n",
    "    def default_location(self, thing):\n",
    "        \"\"\"Default location to place a new thing with unspecified location.\"\"\"\n",
    "        return None\n",
    "\n",
    "    def exogenous_change(self):\n",
    "        \"\"\"If there is spontaneous change in the world, override this.\"\"\"\n",
    "        pass\n",
    "\n",
    "    def is_done(self):\n",
    "        \"\"\"By default, we're done when we can't find a live agent.\"\"\"\n",
    "        return not any(agent.is_alive() for agent in self.agents)\n",
    "\n",
    "    def step(self):\n",
    "        \"\"\"Run the environment for one time step. If the\n",
    "        actions and exogenous changes are independent, this method will\n",
    "        do. If there are interactions between them, you'll need to\n",
    "        override this method.\"\"\"\n",
    "        if not self.is_done():\n",
    "            actions = []\n",
    "            for agent in self.agents:\n",
    "                if agent.alive:\n",
    "                    actions.append(agent.program(self.percept(agent)))\n",
    "                else:\n",
    "                    actions.append(\"\")\n",
    "            for (agent, action) in zip(self.agents, actions):\n",
    "                self.execute_action(agent, action)\n",
    "                \n",
    "            self.exogenous_change()\n",
    "\n",
    "    def run(self, steps=1000):\n",
    "        \"\"\"Run the Environment for given number of time steps.\"\"\"\n",
    "        for step in range(steps):\n",
    "            if self.is_done():\n",
    "                print(\"All done!\")\n",
    "                return\n",
    "            self.step()\n",
    "\n",
    "    def list_things_at(self, location, tclass=Thing):\n",
    "        \"\"\"Return all things exactly at a given location.\"\"\"\n",
    "        if isinstance(location, numbers.Number):\n",
    "            return [thing for thing in self.things\n",
    "                    if thing.location == location and isinstance(thing, tclass)]\n",
    "        return [thing for thing in self.things\n",
    "                if all(x == y for x, y in zip(thing.location, location)) and isinstance(thing, tclass)]\n",
    "\n",
    "    def some_things_at(self, location, tclass=Thing):\n",
    "        \"\"\"Return true if at least one of the things at location\n",
    "        is an instance of class tclass (or a subclass).\"\"\"\n",
    "        return self.list_things_at(location, tclass) != []\n",
    "\n",
    "    def add_thing(self, thing, location=None):\n",
    "        \"\"\"Add a thing to the environment, setting its location. For\n",
    "        convenience, if thing is an agent program we make a new agent\n",
    "        for it. (Shouldn't need to override this.)\"\"\"\n",
    "        if not isinstance(thing, Thing):\n",
    "            thing = Agent(thing)\n",
    "        if thing in self.things:\n",
    "            print(\"Can't add the same thing twice\")\n",
    "        else:\n",
    "            thing.location = location if location is not None else self.default_location(thing)\n",
    "            self.things.append(thing)\n",
    "            if isinstance(thing, Agent):\n",
    "                thing.performance = 0\n",
    "                self.agents.append(thing)\n",
    "\n",
    "    def delete_thing(self, thing):\n",
    "        \"\"\"Remove a thing from the environment.\"\"\"\n",
    "        try:\n",
    "            self.things.remove(thing)\n",
    "        except ValueError as e:\n",
    "            print(e)\n",
    "            print(\"  in Environment delete_thing\")\n",
    "            print(\"  Thing to be removed: {} at {}\".format(thing, thing.location))\n",
    "            print(\"  from list: {}\".format([(thing, thing.location) for thing in self.things]))\n",
    "        if thing in self.agents:\n",
    "            self.agents.remove(thing)"
   ]
  },
  {
   "cell_type": "code",
   "execution_count": 8,
   "id": "48756b3e-418e-41f2-b812-756408bb02a8",
   "metadata": {},
   "outputs": [],
   "source": [
    "class Park(Environment):\n",
    "    \n",
    "    def percept(self, agent):\n",
    "        '''return a list of things that are in our agent's location'''\n",
    "        things = self.list_things_at(agent.location)\n",
    "        return things\n",
    "    \n",
    "    def execute_action(self, agent, action):\n",
    "        '''changes the state of the environment based on what the agent does.'''\n",
    "        if action == \"move down\":\n",
    "            print('{} decided to {} at location: {}'.format(str(agent)[1:-1], action, agent.location))\n",
    "            agent.movedown()\n",
    "            \n",
    "        elif action == \"eat\":\n",
    "            items = self.list_things_at(agent.location, tclass=Food)\n",
    "            if len(items) != 0:\n",
    "                if agent.eat(items[0]): #Have the dog eat the first item\n",
    "                    print('{} ate {} at location: {}'\n",
    "                          .format(str(agent)[1:-1], str(items[0])[1:-1], agent.location))\n",
    "                    self.delete_thing(items[0]) #Delete it from the Park after.\n",
    "                    \n",
    "        elif action == \"drink\":\n",
    "            items = self.list_things_at(agent.location, tclass=Water)\n",
    "            if len(items) != 0:\n",
    "                if agent.drink(items[0]): #Have the dog drink the first item\n",
    "                    print('{} drank {} at location: {}'\n",
    "                          .format(str(agent)[1:-1], str(items[0])[1:-1], agent.location))\n",
    "                    self.delete_thing(items[0]) #Delete it from the Park after.\n",
    "\n",
    "    def is_done(self):\n",
    "        '''By default, we're done when we can't find a live agent, \n",
    "        but to prevent killing our cute dog, we will stop before itself - when there is no more food or water'''\n",
    "        no_edibles = not any(isinstance(thing, Food) or isinstance(thing, Water) for thing in self.things)\n",
    "        dead_agents = not any(agent.is_alive() for agent in self.agents)\n",
    "        return dead_agents or no_edibles"
   ]
  },
  {
   "cell_type": "markdown",
   "id": "3ea7b2fb-8722-4671-ba89-cf917d1291a3",
   "metadata": {},
   "source": [
    "# Simulation"
   ]
  },
  {
   "cell_type": "code",
   "execution_count": 9,
   "id": "25f1d22c-7330-4cfa-8e99-95671c165df7",
   "metadata": {},
   "outputs": [],
   "source": [
    "park = Park()\n",
    "dog = BlindDog(program)\n",
    "dogfood = Food()\n",
    "water = Water()\n",
    "\n",
    "park.add_thing(dog, 1)\n",
    "park.add_thing(dogfood, 5)\n",
    "park.add_thing(water, 7)"
   ]
  },
  {
   "cell_type": "code",
   "execution_count": 10,
   "id": "1282b5a6-c604-4fe6-97b1-b08c1a5b64cf",
   "metadata": {},
   "outputs": [
    {
     "name": "stdout",
     "output_type": "stream",
     "text": [
      "BlindDog decided to move down at location: 1\n",
      "BlindDog decided to move down at location: 2\n",
      "BlindDog decided to move down at location: 3\n",
      "BlindDog decided to move down at location: 4\n",
      "BlindDog ate Food at location: 5\n"
     ]
    }
   ],
   "source": [
    "park.run(5)"
   ]
  },
  {
   "cell_type": "code",
   "execution_count": 11,
   "id": "cd0ecf42-3575-4b47-9c2a-91326c0d7e5c",
   "metadata": {},
   "outputs": [
    {
     "name": "stdout",
     "output_type": "stream",
     "text": [
      "BlindDog decided to move down at location: 5\n",
      "BlindDog decided to move down at location: 6\n",
      "BlindDog drank Water at location: 7\n",
      "All done!\n"
     ]
    }
   ],
   "source": [
    "park.run(5)"
   ]
  },
  {
   "cell_type": "code",
   "execution_count": 12,
   "id": "078d4134-b671-48d3-bb4a-84186eefb343",
   "metadata": {},
   "outputs": [
    {
     "name": "stdout",
     "output_type": "stream",
     "text": [
      "BlindDog decided to move down at location: 7\n",
      "BlindDog decided to move down at location: 8\n",
      "BlindDog decided to move down at location: 9\n",
      "BlindDog decided to move down at location: 10\n",
      "BlindDog decided to move down at location: 11\n",
      "BlindDog decided to move down at location: 12\n",
      "BlindDog decided to move down at location: 13\n",
      "BlindDog decided to move down at location: 14\n",
      "BlindDog drank Water at location: 15\n",
      "All done!\n"
     ]
    }
   ],
   "source": [
    "park.add_thing(water, 15)\n",
    "park.run(10)"
   ]
  },
  {
   "cell_type": "markdown",
   "id": "f1cae530-002d-40fc-bdeb-fb7fe2ec85aa",
   "metadata": {},
   "source": [
    "# Agents in 2D Environment"
   ]
  },
  {
   "cell_type": "code",
   "execution_count": 13,
   "id": "ad677525-8e3c-4308-994d-a447898728af",
   "metadata": {},
   "outputs": [],
   "source": [
    "class Direction:\n",
    "    \"\"\"A direction class for agents that want to move in a 2D plane\n",
    "        Usage:\n",
    "            d = Direction(\"down\")\n",
    "            To change directions:\n",
    "            d = d + \"right\" or d = d + Direction.R #Both do the same thing\n",
    "            Note that the argument to __add__ must be a string and not a Direction object.\n",
    "            Also, it (the argument) can only be right or left.\"\"\"\n",
    "\n",
    "    R = \"right\"\n",
    "    L = \"left\"\n",
    "    U = \"up\"\n",
    "    D = \"down\"\n",
    "\n",
    "    def __init__(self, direction):\n",
    "        self.direction = direction\n",
    "\n",
    "    def __repr__(self):\n",
    "        return f\"<<{self.direction}>>\"\n",
    "\n",
    "    def __add__(self, heading):\n",
    "        \"\"\"\n",
    "        >>> d = Direction('right')\n",
    "        >>> l1 = d.__add__(Direction.L)\n",
    "        >>> l2 = d.__add__(Direction.R)\n",
    "        >>> l1.direction\n",
    "        'up'\n",
    "        >>> l2.direction\n",
    "        'down'\n",
    "        >>> d = Direction('down')\n",
    "        >>> l1 = d.__add__('right')\n",
    "        >>> l2 = d.__add__('left')\n",
    "        >>> l1.direction == Direction.L\n",
    "        True\n",
    "        >>> l2.direction == Direction.R\n",
    "        True\n",
    "        \"\"\"\n",
    "        if self.direction == self.R:\n",
    "            return {\n",
    "                self.R: Direction(self.D),\n",
    "                self.L: Direction(self.U),\n",
    "            }.get(heading)\n",
    "        elif self.direction == self.L:\n",
    "            return {\n",
    "                self.R: Direction(self.U),\n",
    "                self.L: Direction(self.D),\n",
    "            }.get(heading)\n",
    "        elif self.direction == self.U:\n",
    "            return {\n",
    "                self.R: Direction(self.R),\n",
    "                self.L: Direction(self.L),\n",
    "            }.get(heading)\n",
    "        elif self.direction == self.D:\n",
    "            return {\n",
    "                self.R: Direction(self.L),\n",
    "                self.L: Direction(self.R),\n",
    "            }.get(heading)\n",
    "\n",
    "    def move_forward(self, from_location):\n",
    "        \"\"\"\n",
    "        >>> d = Direction('up')\n",
    "        >>> l1 = d.move_forward((0, 0))\n",
    "        >>> l1\n",
    "        (0, -1)\n",
    "        >>> d = Direction(Direction.R)\n",
    "        >>> l1 = d.move_forward((0, 0))\n",
    "        >>> l1\n",
    "        (1, 0)\n",
    "        \"\"\"\n",
    "        # get the iterable class to return\n",
    "        iclass = from_location.__class__\n",
    "        x, y = from_location\n",
    "        if self.direction == self.R:\n",
    "            return iclass((x + 1, y))\n",
    "        elif self.direction == self.L:\n",
    "            return iclass((x - 1, y))\n",
    "        elif self.direction == self.U:\n",
    "            return iclass((x, y - 1))\n",
    "        elif self.direction == self.D:\n",
    "            return iclass((x, y + 1))"
   ]
  },
  {
   "cell_type": "code",
   "execution_count": 14,
   "id": "0c91acb4-a7ae-455f-8eba-720a0a10c6cb",
   "metadata": {},
   "outputs": [
    {
     "name": "stdout",
     "output_type": "stream",
     "text": [
      "<<down>>\n",
      "<<left>>\n",
      "<<down>>\n"
     ]
    }
   ],
   "source": [
    "d = Direction(\"right\")\n",
    "d2 = d + \"right\"\n",
    "print(d2)\n",
    "d2 = d2 + \"right\"\n",
    "print(d2)\n",
    "d2 = d2 + \"left\"\n",
    "print(d2)"
   ]
  },
  {
   "cell_type": "code",
   "execution_count": 15,
   "id": "0cbc7136-b6af-4360-b9ab-5deec97091e1",
   "metadata": {},
   "outputs": [
    {
     "data": {
      "text/plain": [
       "(11, 20)"
      ]
     },
     "execution_count": 15,
     "metadata": {},
     "output_type": "execute_result"
    }
   ],
   "source": [
    "d = Direction(\"right\")\n",
    "d.move_forward((10,20))"
   ]
  },
  {
   "cell_type": "code",
   "execution_count": 16,
   "id": "198d9f69-22ed-421d-8ac9-4be0cb14e19a",
   "metadata": {},
   "outputs": [
    {
     "data": {
      "text/plain": [
       "(10, 21)"
      ]
     },
     "execution_count": 16,
     "metadata": {},
     "output_type": "execute_result"
    }
   ],
   "source": [
    "d = Direction(\"down\")\n",
    "d.move_forward((10,20))"
   ]
  },
  {
   "cell_type": "code",
   "execution_count": 17,
   "id": "1262102c-eb9b-4a82-a7d6-7c0d168247b9",
   "metadata": {},
   "outputs": [],
   "source": [
    "# 2D version but still moves only down\n",
    "\n",
    "class BlindDog2(Agent):\n",
    "    \n",
    "    location = [0,1] # change location to a 2d value\n",
    "    direction = Direction(\"down\") # variable to store the direction our dog is facing\n",
    "    \n",
    "    def movedown(self):\n",
    "        self.location[1] += 1\n",
    "        \n",
    "    def eat(self, thing):\n",
    "        '''returns True upon success or False otherwise'''\n",
    "        if isinstance(thing, Food):\n",
    "            return True\n",
    "        return False\n",
    "    \n",
    "    def drink(self, thing):\n",
    "        ''' returns True upon success or False otherwise'''\n",
    "        if isinstance(thing, Water):\n",
    "            return True\n",
    "        return False"
   ]
  },
  {
   "cell_type": "code",
   "execution_count": 18,
   "id": "05663ce1-7a03-4797-95ff-ed598a86c357",
   "metadata": {},
   "outputs": [
    {
     "name": "stdout",
     "output_type": "stream",
     "text": [
      "BlindDog starts at (1,1) facing downwards, lets see if he can find any food!\n"
     ]
    }
   ],
   "source": [
    "park = Park()\n",
    "dog = BlindDog2(program)\n",
    "dogfood = Food()\n",
    "water = Water()\n",
    "park.add_thing(dog, [0,1])\n",
    "park.add_thing(dogfood, [0,5])\n",
    "park.add_thing(water, [0,7])\n",
    "morewater = Water()\n",
    "park.add_thing(morewater, [0,15])\n",
    "print(\"BlindDog starts at (1,1) facing downwards, lets see if he can find any food!\")"
   ]
  },
  {
   "cell_type": "code",
   "execution_count": 19,
   "id": "3017fed2-20b7-448d-9712-aa5e03401ead",
   "metadata": {},
   "outputs": [
    {
     "name": "stdout",
     "output_type": "stream",
     "text": [
      "BlindDog2 decided to move down at location: [0, 1]\n",
      "BlindDog2 decided to move down at location: [0, 2]\n",
      "BlindDog2 decided to move down at location: [0, 3]\n",
      "BlindDog2 decided to move down at location: [0, 4]\n",
      "BlindDog2 ate Food at location: [0, 5]\n"
     ]
    }
   ],
   "source": [
    "park.run(5)"
   ]
  },
  {
   "cell_type": "code",
   "execution_count": 20,
   "id": "485eda0a-ab1b-4099-a9ef-09817cf8060e",
   "metadata": {},
   "outputs": [
    {
     "name": "stdout",
     "output_type": "stream",
     "text": [
      "BlindDog2 decided to move down at location: [0, 5]\n",
      "BlindDog2 decided to move down at location: [0, 6]\n",
      "BlindDog2 drank Water at location: [0, 7]\n",
      "BlindDog2 decided to move down at location: [0, 7]\n",
      "BlindDog2 decided to move down at location: [0, 8]\n"
     ]
    }
   ],
   "source": [
    "park.run(5)"
   ]
  },
  {
   "cell_type": "code",
   "execution_count": 21,
   "id": "b16375dd-303c-4bfd-8c48-316e44ad0a43",
   "metadata": {},
   "outputs": [
    {
     "name": "stdout",
     "output_type": "stream",
     "text": [
      "BlindDog2 decided to move down at location: [0, 9]\n",
      "BlindDog2 decided to move down at location: [0, 10]\n",
      "BlindDog2 decided to move down at location: [0, 11]\n",
      "BlindDog2 decided to move down at location: [0, 12]\n",
      "BlindDog2 decided to move down at location: [0, 13]\n",
      "BlindDog2 decided to move down at location: [0, 14]\n",
      "BlindDog2 drank Water at location: [0, 15]\n",
      "All done!\n"
     ]
    }
   ],
   "source": [
    "park.run(10)"
   ]
  },
  {
   "cell_type": "markdown",
   "id": "79833cb4-783b-4665-b318-6f2a00089fa8",
   "metadata": {},
   "source": [
    "## PROGRAM - EnergeticBlindDog\n",
    "\n",
    "Let's make our dog turn or move forwards at random. However, our dog is blind so the dog wouldn't know which way to turn - the dog just have to try arbitrarily.\n",
    "\n",
    "<table>\n",
    "    <tr>\n",
    "        <td><b>Percept:</b> </td>\n",
    "        <td>Feel Food </td>\n",
    "        <td>Feel Water</td>\n",
    "        <td>Feel Nothing</td>\n",
    "   </tr>\n",
    "   <tr>\n",
    "       <td><b>Action:</b> </td>\n",
    "       <td>eat</td>\n",
    "       <td>drink</td>\n",
    "       <td>\n",
    "       <table>\n",
    "           <tr>\n",
    "               <td><b>Remember being at Edge : </b></td>\n",
    "               <td>At Edge</td>\n",
    "               <td>Not at Edge</td>\n",
    "           </tr>\n",
    "           <tr>\n",
    "               <td><b>Action : </b></td>\n",
    "               <td>Turn Left / Turn Right <br> ( 50% - 50% chance )</td>\n",
    "               <td>Turn Left / Turn Right / Move Forward <br> ( 25% - 25% - 50% chance )</td>\n",
    "           </tr>\n",
    "       </table>\n",
    "       </td>\n",
    "   </tr>\n",
    "        \n",
    "</table>"
   ]
  },
  {
   "cell_type": "code",
   "execution_count": 22,
   "id": "c3d8afc3-8f60-4b77-a0c1-2a93a4c46b1c",
   "metadata": {},
   "outputs": [],
   "source": [
    "class EnergeticBlindDog(Agent):\n",
    "    location = [0,1]\n",
    "    direction = Direction(\"down\")\n",
    "    \n",
    "    def moveforward(self, success=True):\n",
    "        '''moveforward possible only if success (i.e. valid destination location)'''\n",
    "        if not success:\n",
    "            return\n",
    "        if self.direction.direction == Direction.R:\n",
    "            self.location[0] += 1\n",
    "        elif self.direction.direction == Direction.L:\n",
    "            self.location[0] -= 1\n",
    "        elif self.direction.direction == Direction.D:\n",
    "            self.location[1] += 1\n",
    "        elif self.direction.direction == Direction.U:\n",
    "            self.location[1] -= 1\n",
    "    \n",
    "    def turn(self, d):\n",
    "        self.direction = self.direction + d\n",
    "        \n",
    "    def eat(self, thing):\n",
    "        '''returns True upon success or False otherwise'''\n",
    "        if isinstance(thing, Food):\n",
    "            return True\n",
    "        return False\n",
    "    \n",
    "    def drink(self, thing):\n",
    "        ''' returns True upon success or False otherwise'''\n",
    "        if isinstance(thing, Water):\n",
    "            return True\n",
    "        return False\n",
    "        "
   ]
  },
  {
   "cell_type": "code",
   "execution_count": 23,
   "id": "b8c591a7-190d-4ce8-8906-8651c45759b3",
   "metadata": {},
   "outputs": [],
   "source": [
    "def program(percepts):\n",
    "    '''Returns an action based on it's percepts'''\n",
    "    \n",
    "    #print(f\" Percepts: {percepts}\")\n",
    "    \n",
    "    for p in percepts: # first eat or drink - you're a dog!\n",
    "        if isinstance(p, Food):\n",
    "            return 'eat'\n",
    "        elif isinstance(p, Water):\n",
    "            return 'drink'\n",
    "        if isinstance(p,Bump): # then check if you are at an edge and have to turn\n",
    "            choice = random.choice((1,2));\n",
    "        else:\n",
    "            choice = random.choice((1,2,3,4)) # 1-right, 2-left, others-forward\n",
    "        \n",
    "    if choice == 1:\n",
    "        return 'turnright'\n",
    "    elif choice == 2:\n",
    "        return 'turnleft'\n",
    "    else:\n",
    "        return 'moveforward'"
   ]
  },
  {
   "cell_type": "code",
   "execution_count": 24,
   "id": "72bb3f91-d66c-494f-9475-dec380fbb607",
   "metadata": {},
   "outputs": [],
   "source": [
    "class Bump(Thing):\n",
    "    pass\n"
   ]
  },
  {
   "cell_type": "code",
   "execution_count": 25,
   "id": "3b196e2b-37a7-4496-b075-e1ec826f199d",
   "metadata": {},
   "outputs": [],
   "source": [
    "class Park2D(Environment):\n",
    "\n",
    "    def __init__(self, width=10, height=10):\n",
    "        super().__init__()\n",
    "\n",
    "        self.width = width\n",
    "        self.height = height\n",
    "        self.x_start, self.y_start = (0, 0)\n",
    "        self.x_end, self.y_end = (self.width, self.height)\n",
    "    \n",
    "    def percept(self, agent):\n",
    "        '''return a list of things that are in our agent's location'''\n",
    "        things = self.list_things_at(agent.location)\n",
    "        \n",
    "        loc = copy.deepcopy(agent.location) # find out the target location\n",
    "        #Check if agent is about to bump into a wall\n",
    "        \n",
    "        if agent.direction.direction == Direction.R:\n",
    "            loc[0] += 1\n",
    "        elif agent.direction.direction == Direction.L:\n",
    "            loc[0] -= 1\n",
    "        elif agent.direction.direction == Direction.D:\n",
    "            loc[1] += 1\n",
    "        elif agent.direction.direction == Direction.U:\n",
    "            loc[1] -= 1\n",
    "            \n",
    "        if not self.is_inbounds(loc):\n",
    "            things.append(Bump())\n",
    "            \n",
    "        return things\n",
    "\n",
    "    def is_inbounds(self, location):\n",
    "        x, y = location\n",
    "        return not (x < self.x_start or x > self.x_end - 1 or y < self.y_start or y > self.y_end - 1)\n",
    "    \n",
    "    def execute_action(self, agent, action):\n",
    "        '''changes the state of the environment based on what the agent does.'''\n",
    "        \n",
    "        if action == 'turnright':\n",
    "            print('  {} decided to {} at location: {} Current direction {}'.format(\n",
    "                str(agent)[1:-1], action, agent.location, agent.direction))\n",
    "            agent.turn(Direction.R)\n",
    "            \n",
    "        elif action == 'turnleft':\n",
    "            print('  {} decided to {} at location: {} Current direction {}'.format(\n",
    "                str(agent)[1:-1], action, agent.location, agent.direction))\n",
    "            agent.turn(Direction.L)\n",
    "            \n",
    "        elif action == 'moveforward':\n",
    "            print('  {} decided to move {}wards at location: {}  Current direction {}'.format(\n",
    "                str(agent)[1:-1], agent.direction.direction, agent.location, agent.direction))\n",
    "            agent.moveforward()     \n",
    "            \n",
    "        elif action == \"eat\":\n",
    "            items = self.list_things_at(agent.location, tclass=Food)\n",
    "            if len(items) != 0:\n",
    "                if agent.eat(items[0]): #Have the dog eat the first item\n",
    "                    print('{} ate {} at location: {}'\n",
    "                          .format(str(agent)[1:-1], str(items[0])[1:-1], agent.location))\n",
    "                    self.delete_thing(items[0]) #Delete it from the Park after.\n",
    "                    \n",
    "        elif action == \"drink\":\n",
    "            items = self.list_things_at(agent.location, tclass=Water)\n",
    "            if len(items) != 0:\n",
    "                if agent.drink(items[0]): #Have the dog drink the first item\n",
    "                    print('{} drank {} at location: {}'\n",
    "                          .format(str(agent)[1:-1], str(items[0])[1:-1], agent.location))\n",
    "                    self.delete_thing(items[0]) #Delete it from the Park after.\n",
    "\n",
    "    def is_done(self):\n",
    "        '''By default, we're done when we can't find a live agent, \n",
    "        but to prevent killing our cute dog, we will stop before itself - when there is no more food or water'''\n",
    "        no_edibles = not any(isinstance(thing, Food) or isinstance(thing, Water) for thing in self.things)\n",
    "        dead_agents = not any(agent.is_alive() for agent in self.agents)\n",
    "        return dead_agents or no_edibles"
   ]
  },
  {
   "cell_type": "code",
   "execution_count": 26,
   "id": "bb766c86-ffdb-496a-8020-a6c2748cd852",
   "metadata": {},
   "outputs": [
    {
     "name": "stdout",
     "output_type": "stream",
     "text": [
      "dog started at [0,0], facing down. Let's see if he found any food or water!\n"
     ]
    }
   ],
   "source": [
    "random.seed(1)\n",
    "\n",
    "park = Park2D(5,5)\n",
    "dog = EnergeticBlindDog(program)\n",
    "dogfood = Food()\n",
    "water = Water()\n",
    "\n",
    "park.add_thing(dog, [0,0])\n",
    "park.add_thing(dogfood, [1,2])\n",
    "park.add_thing(water, [0,1])\n",
    "\n",
    "morewater = Water()\n",
    "morefood = Food()\n",
    "\n",
    "park.add_thing(morewater, [2,4])\n",
    "park.add_thing(morefood, [4,3])\n",
    "\n",
    "print(\"dog started at [0,0], facing down. Let's see if he found any food or water!\")"
   ]
  },
  {
   "cell_type": "code",
   "execution_count": 28,
   "id": "d576e8ee-96e7-449e-952c-fe9baafc8be8",
   "metadata": {},
   "outputs": [
    {
     "name": "stdout",
     "output_type": "stream",
     "text": [
      "  EnergeticBlindDog decided to turnright at location: [4, 0] Current direction <<left>>\n",
      "  EnergeticBlindDog decided to turnleft at location: [4, 0] Current direction <<up>>\n",
      "  EnergeticBlindDog decided to move leftwards at location: [4, 0]  Current direction <<left>>\n",
      "  EnergeticBlindDog decided to move leftwards at location: [3, 0]  Current direction <<left>>\n",
      "  EnergeticBlindDog decided to move leftwards at location: [2, 0]  Current direction <<left>>\n",
      "  EnergeticBlindDog decided to turnleft at location: [1, 0] Current direction <<left>>\n",
      "  EnergeticBlindDog decided to move downwards at location: [1, 0]  Current direction <<down>>\n",
      "  EnergeticBlindDog decided to turnright at location: [1, 1] Current direction <<down>>\n",
      "  EnergeticBlindDog decided to move leftwards at location: [1, 1]  Current direction <<left>>\n",
      "  EnergeticBlindDog decided to turnleft at location: [0, 1] Current direction <<left>>\n"
     ]
    }
   ],
   "source": [
    "park.run(10)"
   ]
  }
 ],
 "metadata": {
  "kernelspec": {
   "display_name": "Python 3 (ipykernel)",
   "language": "python",
   "name": "python3"
  },
  "language_info": {
   "codemirror_mode": {
    "name": "ipython",
    "version": 3
   },
   "file_extension": ".py",
   "mimetype": "text/x-python",
   "name": "python",
   "nbconvert_exporter": "python",
   "pygments_lexer": "ipython3",
   "version": "3.11.5"
  }
 },
 "nbformat": 4,
 "nbformat_minor": 5
}
