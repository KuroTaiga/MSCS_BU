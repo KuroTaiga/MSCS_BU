{
 "cells": [
  {
   "cell_type": "markdown",
   "id": "5c3a097d-23a9-43ee-9cdc-934c1bc39956",
   "metadata": {},
   "source": [
    "---\n",
    "title: \"Agents - AIMA - Russell & Norvig (Part1)\"\n",
    "format: html\n",
    "page-layout: full\n",
    "code-line-numbers: true\n",
    "code-block-border: true\n",
    "toc: true\n",
    "toc-location: left\n",
    "number-sections: true\n",
    "jupyter: python3\n",
    "---"
   ]
  },
  {
   "cell_type": "markdown",
   "id": "f49ec9ee-a058-40fa-8e53-a4ddee203b1f",
   "metadata": {},
   "source": [
    " - Readings: Chapters 1 and 2"
   ]
  },
  {
   "cell_type": "markdown",
   "id": "ed9412e7-f416-4df6-b814-e9bcc7e33c43",
   "metadata": {},
   "source": [
    "# Representing Agents"
   ]
  },
  {
   "cell_type": "code",
   "execution_count": 5,
   "id": "7c538339-9850-406e-a25e-be85cf45177d",
   "metadata": {},
   "outputs": [],
   "source": [
    "import random\n",
    "import copy\n",
    "import collections\n",
    "import numbers\n",
    "\n",
    "from statistics import mean\n",
    "from time import sleep"
   ]
  },
  {
   "cell_type": "code",
   "execution_count": 6,
   "id": "698c1a34-493b-48d1-9798-bc6ebfd36010",
   "metadata": {},
   "outputs": [],
   "source": [
    "class Thing:\n",
    "    \"\"\"This represents any physical object that can appear in an Environment.\n",
    "    You subclass Thing to get the things you want. Each thing can have a\n",
    "    .__name__  slot (used for output only).\"\"\"\n",
    "\n",
    "    def __repr__(self):\n",
    "        return '<{}>'.format(getattr(self, '__name__', self.__class__.__name__))\n",
    "\n",
    "    def is_alive(self):\n",
    "        \"\"\"Things that are 'alive' should return true.\"\"\"\n",
    "        return hasattr(self, 'alive') and self.alive\n",
    "\n",
    "    def show_state(self):\n",
    "        \"\"\"Display the agent's internal state. Subclasses should override.\"\"\"\n",
    "        print(\"I don't know how to show_state.\")"
   ]
  },
  {
   "cell_type": "markdown",
   "id": "19dde59a-3e9b-4155-aa62-781b726cff27",
   "metadata": {},
   "source": [
    "The `Agent` has two methods.\n",
    "* `__init__(self, program=None)`: The constructor defines various attributes of the Agent. These include\n",
    "\n",
    "    * `alive`: which keeps track of whether the agent is alive or not \n",
    "    \n",
    "    * `bump`: which tracks if the agent collides with an edge of the environment (for eg, a wall in a park)\n",
    "    \n",
    "    * `holding`: which is a list containing the `Things` an agent is holding, \n",
    "    \n",
    "    * `performance`: which evaluates the performance metrics of the agent \n",
    "    \n",
    "    * `program`: which is the agent program and maps an agent's percepts to actions in the environment. If no implementation is provided, it defaults to asking the user to provide actions for each percept.\n",
    "    \n",
    "* `can_grab(self, thing)`: Is used when an environment contains things that an agent can grab and carry. By default, an agent can carry nothing."
   ]
  },
  {
   "cell_type": "code",
   "execution_count": 7,
   "id": "b2de3d59-adca-419c-b61d-f1d435dc1ed7",
   "metadata": {},
   "outputs": [],
   "source": [
    "class Agent(Thing):\n",
    "    \"\"\"An Agent is a subclass of Thing with one required slot,\n",
    "    .program, which should hold a function that takes one argument, the\n",
    "    percept, and returns an action. (What counts as a percept or action\n",
    "    will depend on the specific environment in which the agent exists.)\n",
    "    Note that 'program' is a slot, not a method. If it were a method,\n",
    "    then the program could 'cheat' and look at aspects of the agent.\n",
    "    It's not supposed to do that: the program can only look at the\n",
    "    percepts. An agent program that needs a model of the world (and of\n",
    "    the agent itself) will have to build and maintain its own model.\n",
    "    There is an optional slot, .performance, which is a number giving\n",
    "    the performance measure of the agent in its environment.\"\"\"\n",
    "\n",
    "    def __init__(self, program=None):\n",
    "        self.alive = True\n",
    "        self.bump = False\n",
    "        self.holding = []\n",
    "        self.performance = 0\n",
    "        if program is None or not isinstance(program, collections.abc.Callable):\n",
    "            print(\"Can't find a valid program for {}, falling back to default.\".format(\n",
    "                self.__class__.__name__))\n",
    "\n",
    "            def program(percept):\n",
    "                return eval(input('Percept={}; action? '.format(percept)))\n",
    "\n",
    "        self.program = program\n",
    "\n",
    "    def can_grab(self, thing):\n",
    "        \"\"\"Return True if this agent can grab this thing.\n",
    "        Override for appropriate subclasses of Agent and Thing.\"\"\"\n",
    "        return False\n"
   ]
  },
  {
   "cell_type": "code",
   "execution_count": 8,
   "id": "917892fb-77a8-4e66-904b-b03e6bdb6990",
   "metadata": {},
   "outputs": [],
   "source": [
    "def TraceAgent(agent):\n",
    "    \"\"\"Wrap the agent's program to print its input and output. This will let\n",
    "    you see what the agent is doing in the environment.\"\"\"\n",
    "    \n",
    "    old_program = agent.program\n",
    "\n",
    "    def new_program(percept):\n",
    "        action = old_program(percept)\n",
    "        print('{} perceives {} and does {}'.format(agent, percept, action))\n",
    "        return action\n",
    "\n",
    "    agent.program = new_program\n",
    "    return agent"
   ]
  },
  {
   "cell_type": "markdown",
   "id": "41f1f698-601c-43b1-bc02-8ad2e360fdbc",
   "metadata": {},
   "source": [
    "# Structure of Agents"
   ]
  },
  {
   "cell_type": "markdown",
   "id": "2529c5eb-10e9-4053-9dd1-9ae4559741cf",
   "metadata": {},
   "source": [
    "## Table Driven Agent"
   ]
  },
  {
   "cell_type": "markdown",
   "id": "1a4456b8-6d98-4009-b0d5-26e4b6ce9ea9",
   "metadata": {},
   "source": [
    "![](https://cite-media.pearson.com/legacy_paths/d40be9b8-7f4a-4033-a740-dddf12b8cc82/FG_02_002.png)"
   ]
  },
  {
   "cell_type": "markdown",
   "id": "6c9e8d5a-2acc-427e-a115-6b61bfb80475",
   "metadata": {},
   "source": [
    "![](https://cite-media.pearson.com/legacy_paths/eb49c44c-8f0e-442e-949a-fb76f5fd4d65/FG_02_003.png)"
   ]
  },
  {
   "cell_type": "markdown",
   "id": "853929ae-10cc-42b1-b4b7-6bb88877227c",
   "metadata": {},
   "source": [
    "\n",
    "![](https://cite-media.pearson.com/legacy_paths/e5cc76fd-1ae4-4103-a225-17dc3f584202/FG_02_007.png)"
   ]
  },
  {
   "cell_type": "code",
   "execution_count": 9,
   "id": "73a8d7e5-2d8f-49da-9daa-7a2ddae16a2e",
   "metadata": {},
   "outputs": [],
   "source": [
    "def TableDrivenAgentProgram(table):\n",
    "    \"\"\"\n",
    "    This agent selects an action based on the percept sequence.\n",
    "    It is practical only for tiny domains.\n",
    "    To customize it, provide as table a dictionary of all\n",
    "    {percept_sequence:action} pairs.\n",
    "    \"\"\"\n",
    "    percepts = []\n",
    "\n",
    "    def program(percept):\n",
    "        percepts.append(percept)\n",
    "        action = table.get(tuple(percepts))\n",
    "        return action\n",
    "\n",
    "    return program"
   ]
  },
  {
   "cell_type": "markdown",
   "id": "ffc10a63-2499-4422-8dee-05eceb87fef6",
   "metadata": {},
   "source": [
    "## Random Action Agent"
   ]
  },
  {
   "cell_type": "code",
   "execution_count": 10,
   "id": "04c29356-66ec-4be0-9a06-31615cd1f5d9",
   "metadata": {},
   "outputs": [],
   "source": [
    "def RandomAgentProgram(actions):\n",
    "    \"\"\"An agent that chooses an action at random, ignoring all percepts.\n",
    "    >>> list = ['Right', 'Left', 'Suck', 'NoOp']\n",
    "    >>> program = RandomAgentProgram(list)\n",
    "    >>> agent = Agent(program)\n",
    "    >>> environment = TrivialVacuumEnvironment()\n",
    "    >>> environment.add_thing(agent)\n",
    "    >>> environment.run()\n",
    "    >>> environment.status == {(1, 0): 'Clean' , (0, 0): 'Clean'}\n",
    "    True\n",
    "    \"\"\"\n",
    "    def program(percept):\n",
    "        return random.choice(actions)\n",
    "    \n",
    "    return program\n",
    "    "
   ]
  },
  {
   "cell_type": "markdown",
   "id": "d8ad0884-da6a-43f5-a7d5-3cf901214c33",
   "metadata": {},
   "source": [
    "## Simple reflex agents"
   ]
  },
  {
   "cell_type": "markdown",
   "id": "61de1630-974e-4f95-8788-2cd9caf62353",
   "metadata": {},
   "source": [
    "![](https://cite-media.pearson.com/legacy_paths/240f4a84-9c63-4c9d-82fe-9d94d2e94907/FG_02_009.png)"
   ]
  },
  {
   "cell_type": "markdown",
   "id": "e18a5614-4d9d-4c9b-bc7c-a94f976422c8",
   "metadata": {},
   "source": [
    "![](https://cite-media.pearson.com/legacy_paths/136254f5-0b0a-4214-9671-56647b138663/FG_02_010.png)"
   ]
  },
  {
   "cell_type": "markdown",
   "id": "8602c077-b1a1-462d-b024-73c6021f4145",
   "metadata": {},
   "source": [
    "![](https://cite-media.pearson.com/legacy_paths/c470c1a1-f712-44e4-9de5-ad85006e81ea/FG_02_008.png)"
   ]
  },
  {
   "cell_type": "code",
   "execution_count": 11,
   "id": "e057e9cc-1f0d-4813-92d4-383e83911fe5",
   "metadata": {},
   "outputs": [],
   "source": [
    "def SimpleReflexAgentProgram(rules, interpret_input):\n",
    "    \"\"\"\n",
    "    This agent takes action based solely on the percept.\n",
    "    \"\"\"\n",
    "\n",
    "    def program(percept):\n",
    "        state = interpret_input(percept)\n",
    "        rule = rule_match(state, rules)\n",
    "        action = rule.action\n",
    "        return action\n",
    "\n",
    "    return program"
   ]
  },
  {
   "cell_type": "markdown",
   "id": "6253bbe6-bddb-4d02-8475-5e9917616904",
   "metadata": {},
   "source": [
    "## Model-based reflex agents\n",
    "   - Utilize both transition model and sensor model"
   ]
  },
  {
   "cell_type": "markdown",
   "id": "f3fc6986-bd8e-4b24-b1b1-2f71ab2e92c5",
   "metadata": {},
   "source": [
    "![](https://cite-media.pearson.com/legacy_paths/746f71d5-8aa0-4467-871f-32aa3d9fc6b4/FG_02_011.png)"
   ]
  },
  {
   "cell_type": "markdown",
   "id": "d9fb23d9-67e7-4e50-9114-e1204ec5ae88",
   "metadata": {},
   "source": [
    "![](https://cite-media.pearson.com/legacy_paths/7aa98a4e-3d73-4bf8-a8d9-3338dd3885f3/FG_02_012.png)"
   ]
  },
  {
   "cell_type": "code",
   "execution_count": 12,
   "id": "fe2558fa-b893-4b56-bb56-1d0dd74ce1ef",
   "metadata": {},
   "outputs": [],
   "source": [
    "def ModelBasedReflexAgentProgram(rules, update_state, transition_model, sensor_model):\n",
    "    \"\"\"\n",
    "    This agent takes action based on the percept and state.\n",
    "    \"\"\"\n",
    "\n",
    "    def program(percept):\n",
    "        program.state = update_state(program.state, program.action, \n",
    "                                     percept, transition_model, sensor_model)\n",
    "        rule = rule_match(program.state, rules)\n",
    "        action = rule.action\n",
    "        return action\n",
    "\n",
    "    program.state = program.action = None\n",
    "    return program\n",
    "\n",
    "\n",
    "def rule_match(state, rules):\n",
    "    \"\"\"Find the first rule that matches state.\"\"\"\n",
    "    for rule in rules:\n",
    "        if rule.matches(state):\n",
    "            return rule"
   ]
  },
  {
   "cell_type": "markdown",
   "id": "1c2f6cb5-b3ea-458d-9f7f-2f44862d715b",
   "metadata": {},
   "source": [
    "# Examples - Vacuum Agents"
   ]
  },
  {
   "cell_type": "code",
   "execution_count": 13,
   "id": "5d0bfee8-09cc-483c-a411-d8f69983c0c2",
   "metadata": {},
   "outputs": [],
   "source": [
    "loc_A, loc_B = (0, 0), (1, 0)  # The two locations for the Vacuum world"
   ]
  },
  {
   "cell_type": "code",
   "execution_count": 14,
   "id": "6b605b16-f873-4677-8947-ff4767f27383",
   "metadata": {},
   "outputs": [],
   "source": [
    "def RandomVacuumAgent():\n",
    "    \"\"\"Randomly choose one of the actions from the vacuum environment.\n",
    "    >>> agent = RandomVacuumAgent()\n",
    "    >>> environment = TrivialVacuumEnvironment()\n",
    "    >>> environment.add_thing(agent)\n",
    "    >>> environment.run()\n",
    "    >>> environment.status == {(1,0):'Clean' , (0,0) : 'Clean'}\n",
    "    True\n",
    "    \"\"\"\n",
    "    return Agent(RandomAgentProgram(['Right', 'Left', 'Suck', 'NoOp']))\n"
   ]
  },
  {
   "cell_type": "code",
   "execution_count": 1,
   "id": "e29fbeae-566c-41c0-afde-b15ddf1147f8",
   "metadata": {},
   "outputs": [],
   "source": [
    "def TableDrivenVacuumAgent():\n",
    "    \"\"\"Tabular approach towards vacuum world\n",
    "    >>> agent = TableDrivenVacuumAgent()\n",
    "    >>> environment = TrivialVacuumEnvironment()\n",
    "    >>> environment.add_thing(agent)\n",
    "    >>> environment.run()\n",
    "    >>> environment.status == {(1,0):'Clean' , (0,0) : 'Clean'}\n",
    "    True\n",
    "    \"\"\"\n",
    "    table = {((loc_A, 'Clean'),): 'Right',\n",
    "             ((loc_A, 'Dirty'),): 'Suck',\n",
    "             ((loc_B, 'Clean'),): 'Left',\n",
    "             ((loc_B, 'Dirty'),): 'Suck',\n",
    "             ((loc_A, 'Dirty'), (loc_A, 'Clean')): 'Right',\n",
    "             ((loc_A, 'Clean'), (loc_B, 'Dirty')): 'Suck',\n",
    "             ((loc_B, 'Clean'), (loc_A, 'Dirty')): 'Suck',\n",
    "             ((loc_B, 'Dirty'), (loc_B, 'Clean')): 'Left',\n",
    "             ((loc_A, 'Dirty'), (loc_A, 'Clean'), (loc_B, 'Dirty')): 'Suck',\n",
    "             ((loc_B, 'Dirty'), (loc_B, 'Clean'), (loc_A, 'Dirty')): 'Suck'}\n",
    "    \n",
    "    return Agent(TableDrivenAgentProgram(table))"
   ]
  },
  {
   "cell_type": "code",
   "execution_count": 2,
   "id": "96ddd2de-0b44-4b6b-8062-c75045cdc250",
   "metadata": {},
   "outputs": [],
   "source": [
    "def ReflexVacuumAgent():\n",
    "    \"\"\"\n",
    "    A reflex agent for the two-state vacuum environment.\n",
    "    >>> agent = ReflexVacuumAgent()\n",
    "    >>> environment = TrivialVacuumEnvironment()\n",
    "    >>> environment.add_thing(agent)\n",
    "    >>> environment.run()\n",
    "    >>> environment.status == {(1,0):'Clean' , (0,0) : 'Clean'}\n",
    "    True\n",
    "    \"\"\"\n",
    "\n",
    "    def program(percept):\n",
    "        location, status = percept\n",
    "        if status == 'Dirty':\n",
    "            return 'Suck'\n",
    "        elif location == loc_A:\n",
    "            return 'Right'\n",
    "        elif location == loc_B:\n",
    "            return 'Left'\n",
    "\n",
    "    return Agent(program)"
   ]
  },
  {
   "cell_type": "code",
   "execution_count": 3,
   "id": "bacef22e-b8ee-49fd-b234-c134f4ed3f8e",
   "metadata": {},
   "outputs": [],
   "source": [
    "def ModelBasedVacuumAgent():\n",
    "    \"\"\"An agent that keeps track of what locations are clean or dirty.\n",
    "    >>> agent = ModelBasedVacuumAgent()\n",
    "    >>> environment = TrivialVacuumEnvironment()\n",
    "    >>> environment.add_thing(agent)\n",
    "    >>> environment.run()\n",
    "    >>> environment.status == {(1,0):'Clean' , (0,0) : 'Clean'}\n",
    "    True\n",
    "    \"\"\"\n",
    "    model = {loc_A: None, loc_B: None}\n",
    "\n",
    "    def program(percept):\n",
    "        \"\"\"Same as ReflexVacuumAgent, except if everything is clean, do NoOp.\"\"\"\n",
    "        location, status = percept\n",
    "        model[location] = status  # Update the model here\n",
    "        if model[loc_A] == model[loc_B] == 'Clean':\n",
    "            return 'NoOp'\n",
    "        elif status == 'Dirty':\n",
    "            return 'Suck'\n",
    "        elif location == loc_A:\n",
    "            return 'Right'\n",
    "        elif location == loc_B:\n",
    "            return 'Left'\n",
    "\n",
    "    return Agent(program)"
   ]
  },
  {
   "cell_type": "markdown",
   "id": "af4b786f-bf3e-4d10-93bf-c5a62461ba89",
   "metadata": {},
   "source": [
    "# Environment"
   ]
  },
  {
   "cell_type": "markdown",
   "id": "740b288c-fab3-4af8-91f6-6e9cf581e7fa",
   "metadata": {},
   "source": [
    "`Environment` class has lot of methods! But most of them are incredibly simple, so let's see the ones we'll be using in this notebook.\n",
    "\n",
    "* `thing_classes(self)`: Returns a static array of `Thing` sub-classes that determine what things are allowed in the environment and what aren't\n",
    "\n",
    "* `add_thing(self, thing, location=None)`: Adds a thing to the environment at location\n",
    "\n",
    "* `run(self, steps)`: Runs an environment with the agent in it for a given number of steps.\n",
    "\n",
    "* `is_done(self)`: Returns true if the objective of the agent and the environment has been completed\n",
    "\n",
    "The next two functions must be implemented by each subclasses of `Environment` for the agent to recieve percepts and execute actions \n",
    "\n",
    "* `percept(self, agent)`: Given an agent, this method returns a list of percepts that the agent sees at the current time\n",
    "\n",
    "* `execute_action(self, agent, action)`: The environment reacts to an action performed by a given agent. The changes may result in agent experiencing new percepts or other elements reacting to agent input."
   ]
  },
  {
   "cell_type": "code",
   "execution_count": 15,
   "id": "4eff33d1-80f0-496b-ad9b-a6629daf9439",
   "metadata": {},
   "outputs": [],
   "source": [
    "class Environment:\n",
    "    \"\"\"Abstract class representing an Environment. 'Real' Environment classes\n",
    "    inherit from this. Your Environment will typically need to implement:\n",
    "        percept:           Define the percept that an agent sees.\n",
    "        execute_action:    Define the effects of executing an action.\n",
    "                           Also update the agent.performance slot.\n",
    "    The environment keeps a list of .things and .agents (which is a subset\n",
    "    of .things). Each agent has a .performance slot, initialized to 0.\n",
    "    Each thing has a .location slot, even though some environments may not\n",
    "    need this.\"\"\"\n",
    "\n",
    "    def __init__(self):\n",
    "        self.things = []\n",
    "        self.agents = []\n",
    "\n",
    "    def thing_classes(self):\n",
    "        return []  # List of classes that can go into environment\n",
    "\n",
    "    def percept(self, agent):\n",
    "        \"\"\"Return the percept that the agent sees at this point. (Implement this.)\"\"\"\n",
    "        raise NotImplementedError\n",
    "\n",
    "    def execute_action(self, agent, action):\n",
    "        \"\"\"Change the world to reflect this action. (Implement this.)\"\"\"\n",
    "        raise NotImplementedError\n",
    "\n",
    "    def default_location(self, thing):\n",
    "        \"\"\"Default location to place a new thing with unspecified location.\"\"\"\n",
    "        return None\n",
    "\n",
    "    def exogenous_change(self):\n",
    "        \"\"\"If there is spontaneous change in the world, override this.\"\"\"\n",
    "        pass\n",
    "\n",
    "    def is_done(self):\n",
    "        \"\"\"By default, we're done when we can't find a live agent.\"\"\"\n",
    "        return not any(agent.is_alive() for agent in self.agents)\n",
    "\n",
    "    def step(self):\n",
    "        \"\"\"Run the environment for one time step. If the\n",
    "        actions and exogenous changes are independent, this method will\n",
    "        do. If there are interactions between them, you'll need to\n",
    "        override this method.\"\"\"\n",
    "        if not self.is_done():\n",
    "            actions = []\n",
    "            for agent in self.agents:\n",
    "                if agent.alive:\n",
    "                    actions.append(agent.program(self.percept(agent)))\n",
    "                else:\n",
    "                    actions.append(\"\")\n",
    "            for (agent, action) in zip(self.agents, actions):\n",
    "                self.execute_action(agent, action)\n",
    "            self.exogenous_change()\n",
    "\n",
    "    def run(self, steps=1000):\n",
    "        \"\"\"Run the Environment for given number of time steps.\"\"\"\n",
    "        for step in range(steps):\n",
    "            if self.is_done():\n",
    "                return\n",
    "            self.step()\n",
    "\n",
    "    def list_things_at(self, location, tclass=Thing):\n",
    "        \"\"\"Return all things exactly at a given location.\"\"\"\n",
    "        if isinstance(location, numbers.Number):\n",
    "            return [thing for thing in self.things\n",
    "                    if thing.location == location and isinstance(thing, tclass)]\n",
    "        return [thing for thing in self.things\n",
    "                if all(x == y for x, y in zip(thing.location, location)) and isinstance(thing, tclass)]\n",
    "\n",
    "    def some_things_at(self, location, tclass=Thing):\n",
    "        \"\"\"Return true if at least one of the things at location\n",
    "        is an instance of class tclass (or a subclass).\"\"\"\n",
    "        return self.list_things_at(location, tclass) != []\n",
    "\n",
    "    def add_thing(self, thing, location=None):\n",
    "        \"\"\"Add a thing to the environment, setting its location. For\n",
    "        convenience, if thing is an agent program we make a new agent\n",
    "        for it. (Shouldn't need to override this.)\"\"\"\n",
    "        if not isinstance(thing, Thing):\n",
    "            thing = Agent(thing)\n",
    "        if thing in self.things:\n",
    "            print(\"Can't add the same thing twice\")\n",
    "        else:\n",
    "            thing.location = location if location is not None else self.default_location(thing)\n",
    "            self.things.append(thing)\n",
    "            if isinstance(thing, Agent):\n",
    "                thing.performance = 0\n",
    "                self.agents.append(thing)\n",
    "\n",
    "    def delete_thing(self, thing):\n",
    "        \"\"\"Remove a thing from the environment.\"\"\"\n",
    "        try:\n",
    "            self.things.remove(thing)\n",
    "        except ValueError as e:\n",
    "            print(e)\n",
    "            print(\"  in Environment delete_thing\")\n",
    "            print(\"  Thing to be removed: {} at {}\".format(thing, thing.location))\n",
    "            print(\"  from list: {}\".format([(thing, thing.location) for thing in self.things]))\n",
    "        if thing in self.agents:\n",
    "            self.agents.remove(thing)\n"
   ]
  },
  {
   "cell_type": "code",
   "execution_count": 16,
   "id": "9de4d408-3a52-4010-b635-9a93f31c55cb",
   "metadata": {},
   "outputs": [],
   "source": [
    "class Obstacle(Thing):\n",
    "    \"\"\"Something that can cause a bump, preventing an agent from\n",
    "    moving into the same square it's in.\"\"\"\n",
    "    pass\n",
    "\n",
    "\n",
    "class Wall(Obstacle):\n",
    "    pass\n",
    "\n",
    "class Dirt(Thing):\n",
    "    pass\n"
   ]
  },
  {
   "cell_type": "code",
   "execution_count": 24,
   "id": "ed9998d9-e9c7-4e8d-9365-9031c68aaf6d",
   "metadata": {},
   "outputs": [],
   "source": [
    "class TrivialVacuumEnvironment(Environment):\n",
    "    \"\"\"This environment has two locations, A and B. Each can be Dirty\n",
    "    or Clean. The agent perceives its location and the location's\n",
    "    status. This serves as an example of how to implement a simple\n",
    "    Environment.\"\"\"\n",
    "\n",
    "    def __init__(self):\n",
    "        super().__init__()\n",
    "        self.status = {loc_A: random.choice(['Clean', 'Dirty']),\n",
    "                       loc_B: random.choice(['Clean', 'Dirty'])}\n",
    "\n",
    "    def thing_classes(self):\n",
    "        return [Wall, Dirt, \n",
    "                ReflexVacuumAgent, \n",
    "                RandomVacuumAgent, \n",
    "                TableDrivenVacuumAgent, \n",
    "                ModelBasedVacuumAgent]\n",
    "\n",
    "    def percept(self, agent):\n",
    "        \"\"\"Returns the agent's location, and the location status (Dirty/Clean).\"\"\"\n",
    "        return agent.location, self.status[agent.location]\n",
    "\n",
    "    def execute_action(self, agent, action):\n",
    "        \"\"\"Change agent's location and/or location's status; track performance.\n",
    "        Score 10 for each dirt cleaned; -1 for each move.\"\"\"\n",
    "        if action == 'Right':\n",
    "            agent.location = loc_B\n",
    "            agent.performance -= 1\n",
    "        elif action == 'Left':\n",
    "            agent.location = loc_A\n",
    "            agent.performance -= 1\n",
    "        elif action == 'Suck':\n",
    "            if self.status[agent.location] == 'Dirty':\n",
    "                agent.performance += 10\n",
    "            self.status[agent.location] = 'Clean'\n",
    "\n",
    "    def default_location(self, thing):\n",
    "        \"\"\"Agents start in either location at random.\"\"\"\n",
    "        return random.choice([loc_A, loc_B])\n",
    "\n"
   ]
  },
  {
   "cell_type": "markdown",
   "id": "18695e8c-ff86-4cbb-8b0d-153662ef8f8d",
   "metadata": {},
   "source": [
    "## Simulations"
   ]
  },
  {
   "cell_type": "code",
   "execution_count": 30,
   "id": "2c31542e-aae1-45d1-8304-f4c86775061e",
   "metadata": {},
   "outputs": [
    {
     "name": "stdout",
     "output_type": "stream",
     "text": [
      "<Agent> perceives ((0, 0), 'Clean') and does NoOp\n",
      "<Agent> perceives ((0, 0), 'Clean') and does Suck\n",
      "<Agent> perceives ((0, 0), 'Clean') and does Right\n",
      "<Agent> perceives ((1, 0), 'Dirty') and does Right\n",
      "<Agent> perceives ((1, 0), 'Dirty') and does NoOp\n",
      "<Agent> perceives ((1, 0), 'Dirty') and does Suck\n",
      "<Agent> perceives ((1, 0), 'Clean') and does Suck\n",
      "<Agent> perceives ((1, 0), 'Clean') and does Right\n",
      "<Agent> perceives ((1, 0), 'Clean') and does Left\n",
      "<Agent> perceives ((0, 0), 'Clean') and does Left\n"
     ]
    },
    {
     "data": {
      "text/plain": [
       "True"
      ]
     },
     "execution_count": 30,
     "metadata": {},
     "output_type": "execute_result"
    }
   ],
   "source": [
    "random.seed(123)\n",
    "agent = RandomVacuumAgent()\n",
    "agent = TraceAgent(agent)\n",
    "\n",
    "environment = TrivialVacuumEnvironment()\n",
    "environment.add_thing(agent)\n",
    "environment.run(10)\n",
    "\n",
    "environment.status == {(1, 0): 'Clean' , (0, 0): 'Clean'}"
   ]
  },
  {
   "cell_type": "code",
   "execution_count": 31,
   "id": "f88c3bc3-251a-4ac7-ac2e-2835c820cb4b",
   "metadata": {},
   "outputs": [
    {
     "name": "stdout",
     "output_type": "stream",
     "text": [
      "<Agent> perceives ((0, 0), 'Clean') and does Right\n",
      "<Agent> perceives ((1, 0), 'Dirty') and does Suck\n",
      "<Agent> perceives ((1, 0), 'Clean') and does None\n",
      "<Agent> perceives ((1, 0), 'Clean') and does None\n",
      "<Agent> perceives ((1, 0), 'Clean') and does None\n",
      "<Agent> perceives ((1, 0), 'Clean') and does None\n",
      "<Agent> perceives ((1, 0), 'Clean') and does None\n",
      "<Agent> perceives ((1, 0), 'Clean') and does None\n",
      "<Agent> perceives ((1, 0), 'Clean') and does None\n",
      "<Agent> perceives ((1, 0), 'Clean') and does None\n"
     ]
    },
    {
     "data": {
      "text/plain": [
       "True"
      ]
     },
     "execution_count": 31,
     "metadata": {},
     "output_type": "execute_result"
    }
   ],
   "source": [
    "random.seed(123)\n",
    "agent = TableDrivenVacuumAgent()\n",
    "agent = TraceAgent(agent)\n",
    "\n",
    "environment = TrivialVacuumEnvironment()\n",
    "environment.add_thing(agent)\n",
    "environment.run(10)\n",
    "\n",
    "environment.status == {(1,0):'Clean' , (0,0) : 'Clean'}"
   ]
  },
  {
   "cell_type": "code",
   "execution_count": 32,
   "id": "7f7d7b71-7fb5-46f4-8697-2431f945d4d8",
   "metadata": {},
   "outputs": [
    {
     "name": "stdout",
     "output_type": "stream",
     "text": [
      "<Agent> perceives ((0, 0), 'Clean') and does Right\n",
      "<Agent> perceives ((1, 0), 'Dirty') and does Suck\n",
      "<Agent> perceives ((1, 0), 'Clean') and does Left\n",
      "<Agent> perceives ((0, 0), 'Clean') and does Right\n",
      "<Agent> perceives ((1, 0), 'Clean') and does Left\n",
      "<Agent> perceives ((0, 0), 'Clean') and does Right\n",
      "<Agent> perceives ((1, 0), 'Clean') and does Left\n",
      "<Agent> perceives ((0, 0), 'Clean') and does Right\n",
      "<Agent> perceives ((1, 0), 'Clean') and does Left\n",
      "<Agent> perceives ((0, 0), 'Clean') and does Right\n"
     ]
    },
    {
     "data": {
      "text/plain": [
       "True"
      ]
     },
     "execution_count": 32,
     "metadata": {},
     "output_type": "execute_result"
    }
   ],
   "source": [
    "random.seed(123)\n",
    "agent = ReflexVacuumAgent()\n",
    "agent = TraceAgent(agent)\n",
    "\n",
    "environment = TrivialVacuumEnvironment()\n",
    "environment.add_thing(agent)\n",
    "environment.run(10)\n",
    "\n",
    "environment.status == {(1,0):'Clean' , (0,0) : 'Clean'}"
   ]
  },
  {
   "cell_type": "code",
   "execution_count": 33,
   "id": "3902487c-ad21-4d8f-9193-4fff7f4febb3",
   "metadata": {},
   "outputs": [
    {
     "name": "stdout",
     "output_type": "stream",
     "text": [
      "<Agent> perceives ((0, 0), 'Clean') and does Right\n",
      "<Agent> perceives ((1, 0), 'Dirty') and does Suck\n",
      "<Agent> perceives ((1, 0), 'Clean') and does NoOp\n",
      "<Agent> perceives ((1, 0), 'Clean') and does NoOp\n",
      "<Agent> perceives ((1, 0), 'Clean') and does NoOp\n",
      "<Agent> perceives ((1, 0), 'Clean') and does NoOp\n",
      "<Agent> perceives ((1, 0), 'Clean') and does NoOp\n",
      "<Agent> perceives ((1, 0), 'Clean') and does NoOp\n",
      "<Agent> perceives ((1, 0), 'Clean') and does NoOp\n",
      "<Agent> perceives ((1, 0), 'Clean') and does NoOp\n"
     ]
    },
    {
     "data": {
      "text/plain": [
       "True"
      ]
     },
     "execution_count": 33,
     "metadata": {},
     "output_type": "execute_result"
    }
   ],
   "source": [
    "random.seed(123)\n",
    "agent = ModelBasedVacuumAgent()\n",
    "agent = TraceAgent(agent)\n",
    "\n",
    "environment = TrivialVacuumEnvironment()\n",
    "environment.add_thing(agent)\n",
    "environment.run(10)\n",
    "\n",
    "environment.status == {(1,0):'Clean' , (0,0) : 'Clean'}"
   ]
  }
 ],
 "metadata": {
  "kernelspec": {
   "display_name": "Python 3 (ipykernel)",
   "language": "python",
   "name": "python3"
  },
  "language_info": {
   "codemirror_mode": {
    "name": "ipython",
    "version": 3
   },
   "file_extension": ".py",
   "mimetype": "text/x-python",
   "name": "python",
   "nbconvert_exporter": "python",
   "pygments_lexer": "ipython3",
   "version": "3.11.5"
  }
 },
 "nbformat": 4,
 "nbformat_minor": 5
}
