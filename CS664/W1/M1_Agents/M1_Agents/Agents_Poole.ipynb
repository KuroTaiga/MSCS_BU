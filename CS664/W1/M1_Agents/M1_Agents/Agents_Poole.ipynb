{
 "cells": [
  {
   "cell_type": "markdown",
   "id": "92f346aa-5f5b-4179-89a0-07c4b68e0dd0",
   "metadata": {},
   "source": [
    "---\n",
    "title: \"Agents - Poole & Mackworth\"\n",
    "format: html\n",
    "page-layout: full\n",
    "code-line-numbers: true\n",
    "code-block-border: true\n",
    "toc: true\n",
    "toc-location: left\n",
    "number-sections: true\n",
    "jupyter: python3\n",
    "---"
   ]
  },
  {
   "cell_type": "markdown",
   "id": "85112403-366c-4a81-bd48-683d8f0c6ba9",
   "metadata": {},
   "source": [
    "  - Readings: Chapters 1 and 2"
   ]
  },
  {
   "cell_type": "markdown",
   "id": "36858455-fa11-4133-b1b5-2d8ac4c5b554",
   "metadata": {},
   "source": [
    "# Representing Agents and Environments"
   ]
  },
  {
   "cell_type": "code",
   "execution_count": 1,
   "id": "6e41e15d-0f2d-470f-bc0a-3decceff9bc9",
   "metadata": {},
   "outputs": [],
   "source": [
    "import random, math, time\n",
    "import matplotlib.pyplot as plt\n",
    "from IPython.display import clear_output\n",
    "\n",
    "%matplotlib inline\n"
   ]
  },
  {
   "cell_type": "code",
   "execution_count": 2,
   "id": "b89bc2d1-d696-4510-b2ab-39f48a3ed432",
   "metadata": {},
   "outputs": [],
   "source": [
    "# A simple way to trace the intermediate steps of algorithms\n",
    "\n",
    "class Displayable(object):\n",
    "    \"\"\"Class that uses 'display'.\n",
    "    The amount of detail is controlled by max_display_level\n",
    "    \"\"\"\n",
    "    max_display_level = 1   # can be overridden in subclasses or instances\n",
    "\n",
    "    def display(self,level,*args,**nargs):\n",
    "        \"\"\"print the arguments if level is less than or equal to the\n",
    "        current max_display_level.\n",
    "        level is an integer.\n",
    "        the other arguments are whatever arguments print can take.\n",
    "        \"\"\"\n",
    "        if level <= self.max_display_level:\n",
    "            print(*args, **nargs) "
   ]
  },
  {
   "cell_type": "markdown",
   "id": "07347443-7b15-4fb5-a614-1a06e5e469c5",
   "metadata": {},
   "source": [
    "# Agents and Environment"
   ]
  },
  {
   "cell_type": "markdown",
   "id": "24f08e3a-15ee-4885-bbff-64d450943a1d",
   "metadata": {},
   "source": [
    "![](https://artint.info/3e/html/x6.png)"
   ]
  },
  {
   "cell_type": "markdown",
   "id": "8c13f037-42c1-4a54-9bdc-9c22e428610e",
   "metadata": {},
   "source": [
    "- An agent takes the precept, updates its internal state, and output its next action.\n",
    "- An agent implements the method *select_action* that takes percept and returns its next action."
   ]
  },
  {
   "cell_type": "code",
   "execution_count": null,
   "id": "3df6de38-14df-4a0b-b540-b3f542bfcf88",
   "metadata": {},
   "outputs": [],
   "source": [
    "class Agent(Displayable):\n",
    "\n",
    "    def initial_action(self, percept):\n",
    "        \"\"\"return the initial action.\"\"\"\n",
    "        return self.select_action(percept)   # same as select_action\n",
    "\n",
    "    def select_action(self, percept):\n",
    "        \"\"\"return the next action (and update internal state) given percept\n",
    "        percept is variable:value dictionary\n",
    "        \"\"\"\n",
    "        raise NotImplementedError(\"go\")   # abstract method"
   ]
  },
  {
   "cell_type": "markdown",
   "id": "744b7cfd-98fe-4272-bcab-d5a3b403774b",
   "metadata": {},
   "source": [
    "- An environment takes in actions of the agents, updates its internal state and returns the next percept, using the method *do*."
   ]
  },
  {
   "cell_type": "code",
   "execution_count": null,
   "id": "a46a1a69-f282-40b4-9d32-8eff10eb04f5",
   "metadata": {},
   "outputs": [],
   "source": [
    "class Environment(Displayable):\n",
    "    \n",
    "    def initial_percept(self):\n",
    "        \"\"\"returns the initial percept for the agent\"\"\"\n",
    "        raise NotImplementedError(\"initial_percept\")   # abstract method\n",
    "\n",
    "    def do(self, action):\n",
    "        \"\"\"does the action in the environment\n",
    "        returns the next percept \"\"\"\n",
    "        raise NotImplementedError(\"Environment.do\")   # abstract method"
   ]
  },
  {
   "cell_type": "markdown",
   "id": "93ef6497-4abf-4c65-ad66-5feb1f9aa293",
   "metadata": {},
   "source": [
    "- The simulator lets the agent and the environment take turns in updating their states and returning the action and the percept."
   ]
  },
  {
   "cell_type": "code",
   "execution_count": null,
   "id": "d5d14c4a-01db-4b3e-97bd-a76a75ae0fd0",
   "metadata": {},
   "outputs": [],
   "source": [
    "class Simulate(Displayable):\n",
    "    \"\"\"simulate the interaction between the agent and the environment\n",
    "    for n time steps.\n",
    "    Returns a pair of the agent state and the environment state.\n",
    "    \"\"\"\n",
    "    def __init__(self,agent, environment):\n",
    "        self.agent = agent\n",
    "        self.env = environment\n",
    "        self.percept = self.env.initial_percept()\n",
    "        self.percept_history = [self.percept]\n",
    "        self.action_history = []\n",
    "        \n",
    "    def go(self, n):\n",
    "        for i in range(n):\n",
    "            action = self.agent.select_action(self.percept)\n",
    "            self.display(2,f\"i={i} action={action}\")\n",
    "            self.percept = self.env.do(action)\n",
    "            self.display(2,f\"      percept={self.percept}\")"
   ]
  },
  {
   "cell_type": "markdown",
   "id": "217c9e81-3b8e-45ed-a703-8fc9946de557",
   "metadata": {},
   "source": [
    "# Case Study - Paper buying agent and Environment"
   ]
  },
  {
   "cell_type": "markdown",
   "id": "bd609a56-5755-43d3-9ed1-56e813833e00",
   "metadata": {},
   "source": [
    " - The environment state is given in terms of the time and the amount of paper in stock.\n",
    " - It also remembers the in-stock history and the price history.\n",
    " - The percept consists of the price and the amount of paper in stock.\n",
    " - The action of the agent is the number to buy."
   ]
  },
  {
   "cell_type": "code",
   "execution_count": null,
   "id": "66e55fde-5065-4863-98de-473de2947c7c",
   "metadata": {},
   "outputs": [],
   "source": [
    "class TP_env(Environment):\n",
    "    \n",
    "    price_delta = [0, 0, 0, 21, 0, 20, 0, -64, 0, 0, 23, 0, 0, 0, -35,\n",
    "        0, 76, 0, -41, 0, 0, 0, 21, 0, 5, 0, 5, 0, 0, 0, 5, 0, -15, 0, 5,\n",
    "       0, 5, 0, -115, 0, 115, 0, 5, 0, -15, 0, 5, 0, 5, 0, 0, 0, 5, 0,\n",
    "       -59, 0, 44, 0, 5, 0, 5, 0, 0, 0, 5, 0, -65, 50, 0, 5, 0, 5, 0, 0,\n",
    "       0, 5, 0] \n",
    "    \n",
    "    sd = 5  # noise standard deviation\n",
    "\n",
    "    def __init__(self):\n",
    "        \"\"\"paper buying agent\"\"\"\n",
    "        self.time=0\n",
    "        self.stock=10\n",
    "        self.stock_history = []  # memory of the stock history\n",
    "        self.price_history = []  # memory of the price history\n",
    "\n",
    "    def initial_percept(self):\n",
    "        \"\"\"return initial percept\"\"\"\n",
    "        \n",
    "        self.stock_history.append(self.stock)\n",
    "        \n",
    "        self.price = round(234 + self.sd*random.gauss(0,1))\n",
    "        self.price_history.append(self.price)\n",
    "        \n",
    "        return {'price': self.price,\n",
    "                'instock': self.stock}\n",
    "\n",
    "    def do(self, action):\n",
    "        \"\"\"does action (buy) and returns percept consisting of price and instock\"\"\"\n",
    "      \n",
    "        used = select_from_dist({6:0.1, 5:0.1, 4:0.1, 3:0.3, 2:0.2, 1:0.2})\n",
    "        # used = select_from_dist({7:0.1, 6:0.2, 5:0.2, 4:0.3, 3:0.1, 2:0.1}) # uses more paper\n",
    "        \n",
    "        bought = action['buy']\n",
    "        \n",
    "        self.stock = self.stock + bought - used\n",
    "        self.stock_history.append(self.stock)\n",
    "        \n",
    "        self.time += 1\n",
    "        self.price =  round(self.price\n",
    "                        + self.price_delta[self.time%len(self.price_delta)] # repeating pattern\n",
    "                        + self.sd*random.gauss(0,1)) # plus randomness\n",
    "        \n",
    "        self.price_history.append(self.price)\n",
    "        \n",
    "        return {'price': self.price,\n",
    "                'instock': self.stock}"
   ]
  },
  {
   "cell_type": "code",
   "execution_count": null,
   "id": "ef85328a-0464-47ff-9d14-90217b6085fe",
   "metadata": {},
   "outputs": [],
   "source": [
    "class TP_agent(Agent):\n",
    "    \n",
    "    def __init__(self, initial_percept):\n",
    "        self.spent = 0\n",
    "        self.ave = self.last_price = initial_percept['price']\n",
    "        self.instock = initial_percept['instock']\n",
    "        self.buy_history = []\n",
    "        \n",
    "    def select_action(self, percept):\n",
    "        \"\"\"return next action to carry out\n",
    "        \"\"\"\n",
    "        self.last_price = percept['price']\n",
    "        self.ave = self.ave + (self.last_price - self.ave) * 0.05 # 20 day rolling average\n",
    "        \n",
    "        self.instock = percept['instock']\n",
    "        \n",
    "        if self.last_price < 0.9 * self.ave and self.instock < 60:\n",
    "            tobuy = 48\n",
    "        elif self.instock < 12:\n",
    "            tobuy = 12\n",
    "        else:\n",
    "            tobuy = 0\n",
    "        \n",
    "        self.spent += tobuy*self.last_price\n",
    "        self.buy_history.append(tobuy)\n",
    "        \n",
    "        return {'buy': tobuy}"
   ]
  },
  {
   "cell_type": "markdown",
   "id": "fe277e11-07cd-44ca-8b8c-be6f93912016",
   "metadata": {},
   "source": [
    "## Rolling Average Reference:\n",
    "  - https://artint.info/3e/html/ArtInt3e.A1.S1.html#A1.E1"
   ]
  },
  {
   "cell_type": "code",
   "execution_count": null,
   "id": "abcfe477-261e-42a0-92d9-4f5f786614d5",
   "metadata": {},
   "outputs": [],
   "source": [
    "def select_from_dist(item_prob_dist):\n",
    "    \"\"\" returns a value from a distribution.\n",
    "    item_prob_dist is an item:probability dictionary, where the\n",
    "        probabilities sum to 1.\n",
    "    returns an item chosen in proportion to its probability\n",
    "    \"\"\"\n",
    "    ranreal = random.random()\n",
    "    for (it,prob) in item_prob_dist.items():\n",
    "        if ranreal < prob:\n",
    "            return it\n",
    "        else:\n",
    "            ranreal -= prob\n",
    "    raise RuntimeError(f\"{item_prob_dist} is not a probability distribution\")"
   ]
  },
  {
   "cell_type": "code",
   "execution_count": null,
   "id": "bc9e5d0b-9b8f-4c3e-a36b-2750c8a85555",
   "metadata": {},
   "outputs": [],
   "source": [
    "random.seed(1)\n",
    "\n",
    "Simulate.max_display_level = 1\n",
    "\n",
    "env = TP_env()\n",
    "ag = TP_agent(env.initial_percept())\n",
    "sim = Simulate(ag,env)\n",
    "\n",
    "sim.go(10)"
   ]
  },
  {
   "cell_type": "code",
   "execution_count": null,
   "id": "a19cf404-f534-4cb7-8434-3968930d2cef",
   "metadata": {},
   "outputs": [],
   "source": [
    "class Plot_history(object):\n",
    "    \"\"\"Set up the plot for history of price and number in stock\"\"\"\n",
    "    def __init__(self, ag, env):\n",
    "        self.ag = ag\n",
    "        self.env = env\n",
    "        plt.ion()\n",
    "        plt.xlabel(\"Time\")\n",
    "        plt.ylabel(\"Value\")\n",
    "        \n",
    "\n",
    "    def plot_env_hist(self):\n",
    "        \"\"\"plot history of price and instock\"\"\"\n",
    "        num = len(env.stock_history)\n",
    "        plt.plot(range(num),env.price_history,label=\"Price\")\n",
    "        plt.plot(range(num),env.stock_history,label=\"In stock\")\n",
    "        plt.legend()\n",
    "        plt.draw()\n",
    "\n",
    "    def plot_agent_hist(self):\n",
    "        \"\"\"plot history of buying\"\"\"\n",
    "        num = len(ag.buy_history)\n",
    "        plt.bar(range(1,num+1), ag.buy_history, label=\"Bought\")\n",
    "        plt.legend()\n",
    "        plt.draw()"
   ]
  },
  {
   "cell_type": "code",
   "execution_count": null,
   "id": "4bfbeec7-8a80-4136-b1a7-7569a82c7073",
   "metadata": {},
   "outputs": [],
   "source": [
    "pl = Plot_history(ag,env); pl.plot_env_hist(); pl.plot_agent_hist()"
   ]
  },
  {
   "cell_type": "markdown",
   "id": "0ddf5381-b248-4e95-bb6e-aa14e591c0ca",
   "metadata": {},
   "source": [
    "## Sampling from the given probability distribution"
   ]
  },
  {
   "cell_type": "code",
   "execution_count": null,
   "id": "102202a1-b8fe-4810-a30a-6edd55501d0e",
   "metadata": {},
   "outputs": [],
   "source": [
    "#random.seed(123)\n",
    "\n",
    "d = {'a': 0.1, 'b': 0.2, 'c': 0.3, 'd': 0.4}\n",
    "counts = {'a': 0, 'b': 0, 'c': 0, 'd': 0}\n",
    "\n",
    "for i in range(10000):\n",
    "    choice = select_from_dist(d)\n",
    "    counts[choice] += 1\n",
    "\n",
    "print(counts)\n",
    "    "
   ]
  },
  {
   "cell_type": "markdown",
   "id": "ef9da195-cfce-4c94-bdd6-5e9418bc524f",
   "metadata": {},
   "source": [
    "# Case Study - Hierarchical Controller (Optional)"
   ]
  },
  {
   "cell_type": "markdown",
   "id": "24a55b6b-bcd4-4744-b8da-3142a9cb735b",
   "metadata": {},
   "source": [
    "![](https://artint.info/3e/html/x3.png)"
   ]
  },
  {
   "cell_type": "markdown",
   "id": "03b1604f-74e6-4aa3-be5f-cee503a5b55a",
   "metadata": {},
   "source": [
    "## Delivery Robot\n",
    "   ![](https://artint.info/3e/html/x10.png)\n",
    "  - Required to visit a sequence of named locations while avoiding the obstacles\n",
    "  -  The robot is given a high-level plan consisting of a list of named locations to visit in sequence.\n",
    "  -  The robot needs to sense the world and to move in the world in order to carry out the plan.\n",
    "    "
   ]
  },
  {
   "cell_type": "markdown",
   "id": "3d2f3b20-b359-4eb8-baae-e6cad7354c5d",
   "metadata": {},
   "source": [
    "## Environment"
   ]
  },
  {
   "cell_type": "markdown",
   "id": "e4a4a0a4-8e37-4907-bf34-3545966bcee9",
   "metadata": {},
   "source": [
    "- The environment defines the walls.\n"
   ]
  },
  {
   "cell_type": "code",
   "execution_count": null,
   "id": "99cf7476-26e8-4269-b3e3-6dbe2b7ac400",
   "metadata": {},
   "outputs": [],
   "source": [
    "trace_points = []\n",
    "\n",
    "class Rob_env(Environment):\n",
    "    def __init__(self, walls = {}):\n",
    "        \"\"\"walls is a set of line segments \n",
    "               where each line segment is of the form ((x0,y0),(x1,y1))\n",
    "        \"\"\"\n",
    "        self.walls = walls"
   ]
  },
  {
   "cell_type": "markdown",
   "id": "12300711-fbdd-4943-9edb-0d40b39b7cb0",
   "metadata": {},
   "source": [
    "## Agent Body\n",
    " - Defines the agent body"
   ]
  },
  {
   "cell_type": "code",
   "execution_count": null,
   "id": "97dfcd2d-d504-419a-bda0-bd4fb38b3f1b",
   "metadata": {},
   "outputs": [],
   "source": [
    "class Rob_body(Environment):\n",
    "    def __init__(self, env, init_pos=(0,0,90)):\n",
    "        \"\"\" env is the current environment\n",
    "        init_pos is a triple of (x-position, y-position, direction) \n",
    "            direction is in degrees; 0 is to right, 90 is straight-up, etc\n",
    "        \"\"\"\n",
    "        self.env = env\n",
    "        self.rob_x, self.rob_y, self.rob_dir = init_pos\n",
    "        self.turning_angle = 18   # degrees that a left makes\n",
    "        self.whisker_length = 6   # length of the whisker\n",
    "        self.whisker_angle = 30   # angle of whisker relative to robot\n",
    "        self.crashed = False\n",
    "        \n",
    "        # The following are data structures maintained:\n",
    "        self.history = [(self.rob_x, self.rob_y)] # history of (x,y) positions\n",
    "        self.wall_history = []     # history of hitting the wall\n",
    "\n",
    "    def percept(self):\n",
    "        return {'rob_x_pos':self.rob_x, 'rob_y_pos':self.rob_y,\n",
    "                'rob_dir':self.rob_dir, 'whisker':self.whisker(), 'crashed':self.crashed}\n",
    "    \n",
    "    initial_percept = percept  # use percept function for initial percept too\n",
    "\n",
    "    def do(self,action):\n",
    "        \"\"\" action is {'steer':direction}\n",
    "        direction is 'left', 'right' or 'straight'\n",
    "        \"\"\"\n",
    "        if self.crashed:\n",
    "            return self.percept()\n",
    "\n",
    "        global trace_points\n",
    "        \n",
    "        direction = action['steer']  \n",
    "        compass_deriv = {'left':1,'straight':0,'right':-1}[direction]*self.turning_angle\n",
    "        self.rob_dir = (self.rob_dir + compass_deriv +360)%360  # make in range [0,360)\n",
    "        rob_x_new = self.rob_x + math.cos(self.rob_dir*math.pi/180)\n",
    "        rob_y_new = self.rob_y + math.sin(self.rob_dir*math.pi/180)\n",
    "        path = ((self.rob_x,self.rob_y),(rob_x_new,rob_y_new))\n",
    "        \n",
    "        if any(line_segments_intersect(path,wall) for wall in self.env.walls):\n",
    "            self.crashed = True\n",
    "            trace_points.append((self.rob_x, self.rob_y, \"r*\"))\n",
    "        \n",
    "        self.rob_x, self.rob_y = rob_x_new, rob_y_new \n",
    "        self.history.append((self.rob_x, self.rob_y))\n",
    "        \n",
    "        if not self.crashed:\n",
    "            trace_points.append((self.rob_x, self.rob_y, \"go\"))\n",
    "        \n",
    "        return self.percept()\n",
    "\n",
    "    def whisker(self):\n",
    "        \"\"\"returns true whenever the whisker sensor intersects with a wall\n",
    "        \"\"\"\n",
    "        whisk_ang_world = (self.rob_dir-self.whisker_angle)*math.pi/180\n",
    "            # angle in radians in world coordinates\n",
    "        wx = self.rob_x + self.whisker_length * math.cos(whisk_ang_world)\n",
    "        wy = self.rob_y + self.whisker_length * math.sin(whisk_ang_world)\n",
    "        whisker_line = ((self.rob_x,self.rob_y),(wx,wy))\n",
    "        hit = any(line_segments_intersect(whisker_line,wall)\n",
    "                    for wall in self.env.walls)\n",
    "        if hit:\n",
    "            self.wall_history.append((self.rob_x, self.rob_y))\n",
    "            trace_points.append((self.rob_x, self.rob_y, \"ro\"))\n",
    "                \n",
    "        return hit"
   ]
  },
  {
   "cell_type": "code",
   "execution_count": null,
   "id": "5d63cbd0-477f-46a5-9e41-c44b5baf3931",
   "metadata": {},
   "outputs": [],
   "source": [
    "def line_segments_intersect(linea,lineb):\n",
    "    \"\"\"returns true if the line segments, linea and lineb intersect.\n",
    "    A line segment is represented as a pair of points.\n",
    "    A point is represented as a (x,y) pair.\n",
    "    \"\"\"\n",
    "    ((x0a,y0a),(x1a,y1a)) = linea\n",
    "    ((x0b,y0b),(x1b,y1b)) = lineb\n",
    "    da, db = x1a-x0a, x1b-x0b\n",
    "    ea, eb = y1a-y0a, y1b-y0b\n",
    "    \n",
    "    denom = db * ea - eb * da\n",
    "    \n",
    "    if denom==0:    # line segments are parallel\n",
    "        return False\n",
    "    \n",
    "    cb = (da*(y0b-y0a)-ea*(x0b-x0a))/denom  # position along line b\n",
    "    if cb<0 or cb>1:\n",
    "        return False\n",
    "    \n",
    "    ca = (db*(y0b-y0a)-eb*(x0b-x0a))/denom # position along line a\n",
    "    return 0<=ca<=1"
   ]
  },
  {
   "cell_type": "markdown",
   "id": "a10b1087-5d1b-42c5-818c-676a954bb5d3",
   "metadata": {},
   "source": [
    "## Middle Layer\n",
    " - The middle layer acts like both a controller (for the environment layer) and an environment for the upper layer.\n",
    " - It has to tell the environment how to steer. Thus it calls env.do(...)\n",
    " - It also is told the position to go to and the timeout. Thus it also has to implement do(...)"
   ]
  },
  {
   "cell_type": "code",
   "execution_count": null,
   "id": "73de5b9c-7197-4582-88db-208d94088116",
   "metadata": {},
   "outputs": [],
   "source": [
    "class Rob_middle_layer(Environment):\n",
    "    def __init__(self,env):\n",
    "        self.env=env\n",
    "        self.percept = env.initial_percept()\n",
    "        self.straight_angle = 11 # angle that is close enough to straight ahead\n",
    "        self.close_threshold = 2  # distance that is close enough to arrived\n",
    "        self.close_threshold_squared = self.close_threshold**2 # just compute it once\n",
    "\n",
    "    def initial_percept(self):\n",
    "        return {}\n",
    "\n",
    "    def do(self, action):\n",
    "        \"\"\"action is {'go_to':target_pos,'timeout':timeout}\n",
    "        target_pos is (x,y) pair\n",
    "        timeout is the number of steps to try\n",
    "        returns {'arrived':True} when arrived is true\n",
    "             or {'arrived':False} if it reached the timeout \n",
    "        \"\"\"\n",
    "        if 'timeout' in action:\n",
    "            remaining = action['timeout']\n",
    "        else:\n",
    "            remaining = -1    # will never reach 0\n",
    "            \n",
    "        target_pos = action['go_to']\n",
    "        arrived = self.close_enough(target_pos)\n",
    "        \n",
    "        while not arrived and remaining != 0:\n",
    "            self.percept = self.env.do({\"steer\":self.steer(target_pos)})\n",
    "            remaining -= 1\n",
    "            arrived = self.close_enough(target_pos)\n",
    "        \n",
    "        return {'arrived':arrived}\n",
    "\n",
    "    def steer(self,target_pos):\n",
    "        \"\"\"The following method determines how to steer depending on whether the goal\n",
    "        is to the right or the left of where the robot is facing.\n",
    "        \"\"\"\n",
    "        if self.percept['whisker']:\n",
    "            self.display(3,'whisker on', self.percept)\n",
    "            return \"left\"\n",
    "        else:\n",
    "            return self.head_towards(target_pos)\n",
    "\n",
    "    def head_towards(self,target_pos):\n",
    "            \"\"\" given a target position, return the action that heads towards that position\n",
    "            \"\"\"\n",
    "            gx,gy = target_pos\n",
    "            rx,ry = self.percept['rob_x_pos'],self.percept['rob_y_pos']\n",
    "            goal_dir = math.acos((gx-rx)/math.sqrt((gx-rx)*(gx-rx)\n",
    "                                                   +(gy-ry)*(gy-ry)))*180/math.pi\n",
    "            if ry>gy:\n",
    "                goal_dir = -goal_dir\n",
    "            goal_from_rob = (goal_dir - self.percept['rob_dir']+540)%360-180\n",
    "            assert -180 < goal_from_rob <= 180\n",
    "            if goal_from_rob > self.straight_angle:\n",
    "                return \"left\"\n",
    "            elif goal_from_rob < -self.straight_angle:\n",
    "                return \"right\"\n",
    "            else:\n",
    "                return \"straight\"\n",
    "\n",
    "    def close_enough(self,target_pos):\n",
    "        gx,gy = target_pos\n",
    "        rx,ry = self.percept['rob_x_pos'],self.percept['rob_y_pos']\n",
    "        return (gx-rx)**2 + (gy-ry)**2 <= self.close_threshold_squared"
   ]
  },
  {
   "cell_type": "markdown",
   "id": "455cc58f-d939-4260-846c-e9e12b6abbd4",
   "metadata": {},
   "source": [
    "## Top Layer\n",
    " - The top layer treats the middle layer as its environment.\n",
    " - Note that the top layer is an environment for us to tell it what to visit."
   ]
  },
  {
   "cell_type": "code",
   "execution_count": null,
   "id": "4755b8af-c4aa-40e0-8a67-64e3c05fd966",
   "metadata": {},
   "outputs": [],
   "source": [
    "class Rob_top_layer(Environment):\n",
    "    def __init__(self, middle, timeout=200, locations = {'mail':(-5,10), \n",
    "                          'o103':(50,10), 'o109':(100,10),'storage':(101,51)} ):\n",
    "        \"\"\"middle is the middle layer\n",
    "        timeout is the number of steps the middle layer goes before giving up\n",
    "        locations is a loc:pos dictionary \n",
    "            where loc is a named location, and pos is an (x,y) position.\n",
    "        \"\"\"\n",
    "        self.middle = middle\n",
    "        self.timeout = timeout  # number of steps before the middle layer should give up\n",
    "        self.locations = locations\n",
    "        \n",
    "    def do(self,plan):\n",
    "        \"\"\"carry out actions.\n",
    "        actions is of the form {'visit':list_of_locations}\n",
    "        It visits the locations in turn.\n",
    "        \"\"\"\n",
    "        to_do = plan['visit']\n",
    "        for loc in to_do:\n",
    "            position = self.locations[loc]\n",
    "            arrived = self.middle.do({'go_to':position, 'timeout':self.timeout})\n",
    "            self.display(1,\"Arrived at\",loc,arrived)"
   ]
  },
  {
   "cell_type": "markdown",
   "id": "f2a41c9d-3f2f-41b2-9053-244f87e37ca6",
   "metadata": {},
   "source": [
    "## Plotting"
   ]
  },
  {
   "cell_type": "code",
   "execution_count": null,
   "id": "7af1827d-2625-4594-b794-eedc1fd17d1a",
   "metadata": {},
   "outputs": [],
   "source": [
    "class Plot_env(Displayable):\n",
    "    def __init__(self, body,top):\n",
    "        \"\"\"sets up the plot\n",
    "        \"\"\"\n",
    "        self.body = body\n",
    "        self.top = top\n",
    "        self.redraw()\n",
    "\n",
    "    def redraw(self):\n",
    "\n",
    "        opacity = 0.5\n",
    "        for i in range(len(trace_points)):\n",
    "            clear_output(wait = True)\n",
    "            fig = plt.figure(figsize=(8,8))\n",
    "            plt.axes().set_aspect('equal')\n",
    "        \n",
    "            for wall in self.body.env.walls:\n",
    "                ((x0,y0),(x1,y1)) = wall\n",
    "                plt.plot([x0,x1],[y0,y1],\"-k\",linewidth=3)\n",
    "            for loc in self.top.locations:\n",
    "                (x,y) = self.top.locations[loc]\n",
    "                plt.plot([x],[y],\"k<\")\n",
    "                plt.text(x+1.0,y+0.5,loc) # print the label above and to the right\n",
    "            \n",
    "            for point in trace_points[:i+1]:\n",
    "                if point[2] == 'r*':\n",
    "                    plt.plot([point[0]],[point[1]],point[2], markersize=20)    \n",
    "                else:\n",
    "                    plt.plot([point[0]],[point[1]],point[2], alpha=opacity)\n",
    "            \n",
    "            plt.show()\n",
    "            #time.sleep(0.0001)\n",
    "            \n",
    "\n"
   ]
  },
  {
   "cell_type": "code",
   "execution_count": null,
   "id": "1fac5271-368c-4130-a5f7-a846ac75bc29",
   "metadata": {},
   "outputs": [],
   "source": [
    "env = Rob_env({((20,0),(30,20)), ((70,-5),(70,25))})\n",
    "body = Rob_body(env)\n",
    "middle = Rob_middle_layer(body)\n",
    "top = Rob_top_layer(middle)\n",
    "trace_points = []"
   ]
  },
  {
   "cell_type": "code",
   "execution_count": null,
   "id": "5be472b5-606e-49c2-a2cb-ecba5b3ca5da",
   "metadata": {},
   "outputs": [],
   "source": [
    "top.do({'visit':['o109','storage','o109','o103', 'mail']})"
   ]
  },
  {
   "cell_type": "code",
   "execution_count": null,
   "id": "8ea221f5-8b86-4800-b8e3-fafa19c9e095",
   "metadata": {
    "scrolled": true
   },
   "outputs": [],
   "source": [
    "trace_points[:10]"
   ]
  },
  {
   "cell_type": "code",
   "execution_count": null,
   "id": "b2005697-2a92-4a8c-b660-3f2a22d8f2be",
   "metadata": {},
   "outputs": [],
   "source": [
    "Plot_env(body,top);"
   ]
  },
  {
   "cell_type": "code",
   "execution_count": null,
   "id": "f1e5b4cb-95e0-4188-9131-1516bda8f06c",
   "metadata": {},
   "outputs": [],
   "source": [
    "len(trace_points)"
   ]
  },
  {
   "cell_type": "code",
   "execution_count": null,
   "id": "c17359bf-dfd6-4909-9058-bf594857bb9d",
   "metadata": {},
   "outputs": [],
   "source": [
    "trap_env = Rob_env({((10,-21),(10,0)), ((10,10),(10,31)), ((30,-10),(30,0)),\n",
    "                    ((30,10),(30,20)),  ((50,-21),(50,31)), ((10,-21),(50,-21)),\n",
    "                    ((10,0),(30,0)),  ((10,10),(30,10)),  ((10,31),(50,31))})\n",
    "trap_body = Rob_body(trap_env,init_pos=(20,-25,90))\n",
    "trap_middle = Rob_middle_layer(trap_body)\n",
    "trap_top = Rob_top_layer(trap_middle,locations={'goal':(71,0)})\n",
    "trace_points = []\n",
    "\n",
    "Rob_body.max_display_level = 5"
   ]
  },
  {
   "cell_type": "code",
   "execution_count": null,
   "id": "4fbb408d-a222-443a-b40c-a89e9b851bd6",
   "metadata": {},
   "outputs": [],
   "source": [
    "trap_top.do({'visit':['goal']})"
   ]
  },
  {
   "cell_type": "code",
   "execution_count": null,
   "id": "4d24eaf5-cb91-4fd9-b3d0-448ea4257142",
   "metadata": {},
   "outputs": [],
   "source": [
    "Plot_env(trap_body,trap_top);"
   ]
  }
 ],
 "metadata": {
  "kernelspec": {
   "display_name": "Python 3 (ipykernel)",
   "language": "python",
   "name": "python3"
  },
  "language_info": {
   "codemirror_mode": {
    "name": "ipython",
    "version": 3
   },
   "file_extension": ".py",
   "mimetype": "text/x-python",
   "name": "python",
   "nbconvert_exporter": "python",
   "pygments_lexer": "ipython3",
   "version": "3.11.5"
  },
  "nbTranslate": {
   "displayLangs": [
    "*"
   ],
   "hotkey": "alt-t",
   "langInMainMenu": true,
   "sourceLang": "en",
   "targetLang": "fr",
   "useGoogleTranslate": true
  },
  "toc": {
   "base_numbering": 1,
   "nav_menu": {},
   "number_sections": true,
   "sideBar": true,
   "skip_h1_title": true,
   "title_cell": "Table of Contents",
   "title_sidebar": "Contents",
   "toc_cell": false,
   "toc_position": {
    "height": "calc(100% - 180px)",
    "left": "10px",
    "top": "150px",
    "width": "202.188px"
   },
   "toc_section_display": true,
   "toc_window_display": true
  }
 },
 "nbformat": 4,
 "nbformat_minor": 5
}
