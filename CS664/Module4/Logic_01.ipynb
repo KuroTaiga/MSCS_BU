{
 "cells": [
  {
   "cell_type": "markdown",
   "id": "e6bb3bfd-42de-4978-a83e-c390ff33a677",
   "metadata": {},
   "source": [
    "---\n",
    "title: \"Logic & Inference - Poole & Mackworth\"\n",
    "format: html\n",
    "page-layout: full\n",
    "code-line-numbers: true\n",
    "code-block-border: true\n",
    "toc: true\n",
    "toc-location: left\n",
    "number-sections: true\n",
    "jupyter: python3\n",
    "---"
   ]
  },
  {
   "cell_type": "markdown",
   "id": "b31ddb68-80dd-41a5-a04a-93a64ff17770",
   "metadata": {},
   "source": [
    "# Representing Knowledge Bases"
   ]
  },
  {
   "cell_type": "markdown",
   "id": "5c244643-52bc-46ae-aeaf-b7682c4e1e4a",
   "metadata": {},
   "source": [
    "- A clause consists of a head (an atom) and a body. \n",
    "- A body is represented as a list of atoms. \n",
    "- Atoms are represented as strings."
   ]
  },
  {
   "cell_type": "code",
   "execution_count": 8,
   "id": "5d729d79-944b-45c9-b994-4e1adaab13cc",
   "metadata": {},
   "outputs": [],
   "source": [
    "class Clause(object):\n",
    "    \"\"\"A definite clause\"\"\"\n",
    "\n",
    "    def __init__(self,head,body=[]):\n",
    "        \"\"\"clause with atom head and list of atoms body\"\"\"\n",
    "        self.head=head\n",
    "        self.body = body\n",
    "\n",
    "    def __repr__(self):\n",
    "        \"\"\"returns the string representation of a clause.\n",
    "        \"\"\"\n",
    "        if self.body:\n",
    "            return self.head + \" <- \" + \" & \".join(str(a) for a in self.body) + \"\\n\"\n",
    "        else:\n",
    "            return self.head + \".\""
   ]
  },
  {
   "cell_type": "code",
   "execution_count": 9,
   "id": "4117e6f4-1c26-4cac-bc10-8092f450c92d",
   "metadata": {},
   "outputs": [
    {
     "data": {
      "text/plain": [
       "x."
      ]
     },
     "execution_count": 9,
     "metadata": {},
     "output_type": "execute_result"
    }
   ],
   "source": [
    "Clause('x')"
   ]
  },
  {
   "cell_type": "code",
   "execution_count": 10,
   "id": "e388a34c-4db6-44e9-9f10-d634399d79c1",
   "metadata": {},
   "outputs": [
    {
     "data": {
      "text/plain": [
       "a <- b & c"
      ]
     },
     "execution_count": 10,
     "metadata": {},
     "output_type": "execute_result"
    }
   ],
   "source": [
    "Clause('a', ['b', 'c'])"
   ]
  },
  {
   "cell_type": "markdown",
   "id": "c198ced8-8b66-4f31-96a2-650623f4ccce",
   "metadata": {},
   "source": [
    "- An askable atom can be asked of the user.\n",
    "- The user can respond in English or French or just with a “y”."
   ]
  },
  {
   "cell_type": "code",
   "execution_count": 11,
   "id": "fbd0a980-dd91-48ec-9c31-1af8ca0c0e81",
   "metadata": {},
   "outputs": [],
   "source": [
    "class Askable(object):\n",
    "    \"\"\"An askable atom\"\"\"\n",
    "\n",
    "    def __init__(self,atom):\n",
    "        \"\"\"clause with atom head and list of atoms body\"\"\"\n",
    "        self.atom=atom\n",
    "\n",
    "    def __str__(self):\n",
    "        \"\"\"returns the string representation of a clause.\"\"\"\n",
    "        return \"askable \" + self.atom + \".\""
   ]
  },
  {
   "cell_type": "code",
   "execution_count": 12,
   "id": "3203c582-fc52-4fa0-a4c5-293645c1beff",
   "metadata": {},
   "outputs": [],
   "source": [
    "def yes(ans):\n",
    "    \"\"\"returns true if the answer is yes in some form\"\"\"\n",
    "    return ans.lower() in ['yes', 'yes.', 'oui', 'oui.', 'y', 'y.']    # bilingual"
   ]
  },
  {
   "cell_type": "markdown",
   "id": "51cf09a9-13e1-4efc-89e2-38f996e460b5",
   "metadata": {},
   "source": [
    " - A knowledge base is a list of clauses and askables.\n",
    "   -  In order to make top-down inference faster, this creates a dictionary that maps each atoms into the set of clauses with that atom in the head."
   ]
  },
  {
   "cell_type": "code",
   "execution_count": 13,
   "id": "d22e6874-c088-4443-934c-35bff9c1462c",
   "metadata": {},
   "outputs": [],
   "source": [
    "class Displayable(object):\n",
    "    \"\"\"Class that uses 'display'.\n",
    "    The amount of detail is controlled by max_display_level\n",
    "    \"\"\"\n",
    "    max_display_level = 1   # can be overridden in subclasses or instances\n",
    "\n",
    "    def display(self,level,*args,**nargs):\n",
    "        \"\"\"print the arguments if level is less than or equal to the\n",
    "        current max_display_level.\n",
    "        level is an integer.\n",
    "        the other arguments are whatever arguments print can take.\n",
    "        \"\"\"\n",
    "        if level <= self.max_display_level:\n",
    "            print(*args, **nargs)  ##if error you are using Python2 not Python3\n",
    "        "
   ]
  },
  {
   "cell_type": "code",
   "execution_count": 14,
   "id": "b32eb4ce-5500-4b92-a323-b5d0f1a690a3",
   "metadata": {},
   "outputs": [],
   "source": [
    "class KB(Displayable):\n",
    "    \"\"\"A knowledge base consists of a set of clauses.\n",
    "    This also creates a dictionary to give fast access to the clauses with an atom in head.\n",
    "    \"\"\"\n",
    "    def __init__(self, statements=[]):\n",
    "        self.statements = statements\n",
    "        self.clauses = [c for c in statements if isinstance(c, Clause)]\n",
    "        self.askables = [c.atom for c in statements if isinstance(c, Askable)]\n",
    "        self.atom_to_clauses = {}  # dictionary giving clauses with atom as head\n",
    "        for c in self.clauses:\n",
    "            self.add_clause(c)\n",
    "\n",
    "    def add_clause(self, c):\n",
    "        if c not in self.statements:\n",
    "            self.statements.append(c)\n",
    "            \n",
    "        if c.head in self.atom_to_clauses:\n",
    "            self.atom_to_clauses[c.head].add(c)\n",
    "        else:\n",
    "            self.atom_to_clauses[c.head] = {c}\n",
    "\n",
    "    def clauses_for_atom(self,a):\n",
    "        \"\"\"returns set of clauses with atom a as the head\"\"\"\n",
    "        if a in self.atom_to_clauses:\n",
    "            return  self.atom_to_clauses[a]\n",
    "        else:\n",
    "            return set()\n",
    "\n",
    "    def __str__(self):\n",
    "        \"\"\"returns a string representation of this knowledge base.\n",
    "        \"\"\"\n",
    "        return '\\n'.join([str(c) for c in self.statements])"
   ]
  },
  {
   "cell_type": "code",
   "execution_count": 15,
   "id": "98d2f72d-565f-4d3b-b0f8-4428b6842cc4",
   "metadata": {},
   "outputs": [
    {
     "name": "stdout",
     "output_type": "stream",
     "text": [
      "i_am <- i_think\n",
      "\n",
      "i_think.\n",
      "i_smell <- i_exist\n",
      "\n"
     ]
    }
   ],
   "source": [
    "triv_KB = KB([\n",
    "    Clause('i_am', ['i_think']),\n",
    "    Clause('i_think'),\n",
    "    Clause('i_smell', ['i_exist'])\n",
    "    ])\n",
    "\n",
    "print(triv_KB)"
   ]
  },
  {
   "cell_type": "markdown",
   "id": "c780fef9-aad2-4af0-babe-5f4b2d6c58ae",
   "metadata": {},
   "source": [
    "![](https://artint.info/3e/html/x42.png)"
   ]
  },
  {
   "cell_type": "code",
   "execution_count": 16,
   "id": "93b1a4f5-af09-408d-9a7a-f26c9c431a0d",
   "metadata": {},
   "outputs": [
    {
     "name": "stdout",
     "output_type": "stream",
     "text": [
      "light_l1.\n",
      "light_l2.\n",
      "ok_l1.\n",
      "ok_l2.\n",
      "ok_cb1.\n",
      "ok_cb2.\n",
      "live_outside.\n",
      "live_l1 <- live_w0\n",
      "\n",
      "live_w0 <- up_s2 & live_w1\n",
      "\n",
      "live_w0 <- down_s2 & live_w2\n",
      "\n",
      "live_w1 <- up_s1 & live_w3\n",
      "\n",
      "live_w2 <- down_s1 & live_w3\n",
      "\n",
      "live_l2 <- live_w4\n",
      "\n",
      "live_w4 <- up_s3 & live_w3\n",
      "\n",
      "live_p_1 <- live_w3\n",
      "\n",
      "live_w3 <- live_w5 & ok_cb1\n",
      "\n",
      "live_p_2 <- live_w6\n",
      "\n",
      "live_w6 <- live_w5 & ok_cb2\n",
      "\n",
      "live_w5 <- live_outside\n",
      "\n",
      "lit_l1 <- light_l1 & live_l1 & ok_l1\n",
      "\n",
      "lit_l2 <- light_l2 & live_l2 & ok_l2\n",
      "\n",
      "askable up_s1.\n",
      "askable down_s1.\n",
      "askable up_s2.\n",
      "askable down_s2.\n",
      "askable up_s3.\n",
      "askable down_s2.\n"
     ]
    }
   ],
   "source": [
    "elect_KB = KB([\n",
    "    Clause('light_l1'),\n",
    "    Clause('light_l2'),\n",
    "    Clause('ok_l1'),\n",
    "    Clause('ok_l2'),\n",
    "    Clause('ok_cb1'),\n",
    "    Clause('ok_cb2'),\n",
    "    Clause('live_outside'),\n",
    "    Clause('live_l1', ['live_w0']),\n",
    "    Clause('live_w0', ['up_s2','live_w1']),\n",
    "    Clause('live_w0', ['down_s2','live_w2']),\n",
    "    Clause('live_w1', ['up_s1', 'live_w3']),\n",
    "    Clause('live_w2', ['down_s1','live_w3' ]),\n",
    "    Clause('live_l2', ['live_w4']),\n",
    "    Clause('live_w4', ['up_s3','live_w3' ]),\n",
    "    Clause('live_p_1', ['live_w3']),\n",
    "    Clause('live_w3', ['live_w5', 'ok_cb1']),\n",
    "    Clause('live_p_2', ['live_w6']),\n",
    "    Clause('live_w6', ['live_w5', 'ok_cb2']),\n",
    "    Clause('live_w5', ['live_outside']),\n",
    "    Clause('lit_l1', ['light_l1', 'live_l1', 'ok_l1']),\n",
    "    Clause('lit_l2', ['light_l2', 'live_l2', 'ok_l2']),\n",
    "    Askable('up_s1'),\n",
    "    Askable('down_s1'),\n",
    "    Askable('up_s2'),\n",
    "    Askable('down_s2'),\n",
    "    Askable('up_s3'),\n",
    "    Askable('down_s2')\n",
    "    ])\n",
    "\n",
    "print(elect_KB)"
   ]
  },
  {
   "cell_type": "markdown",
   "id": "a28d60d9-ddc8-4eec-8d80-f6d9b2cc6afa",
   "metadata": {},
   "source": [
    "# Bottom-up Proofs"
   ]
  },
  {
   "cell_type": "markdown",
   "id": "85dd17a5-af7e-4363-978c-12c7a60fe21a",
   "metadata": {},
   "source": [
    "- Derive all logical consequences of a knowledge base\n",
    "- Rule of inference called **modus ponens**\n",
    "  - If h &larr; a~1~ &and; a~2~ &and; ... a~m~ is a definite clause in the knowledge base, and each a~i~ has been derived, then *h* can be derived."
   ]
  },
  {
   "cell_type": "code",
   "execution_count": 17,
   "id": "c96a313d-1a8f-4d04-9f25-04114470035c",
   "metadata": {},
   "outputs": [],
   "source": [
    "def ask_askables(kb):\n",
    "    return {at for at in kb.askables if yes(input(\"Is \" + at + \" true? \"))}"
   ]
  },
  {
   "cell_type": "code",
   "execution_count": 18,
   "id": "c49ddb9c-4f7f-4786-8ba5-38d6b2933abd",
   "metadata": {},
   "outputs": [],
   "source": [
    "def fixed_point(kb):\n",
    "    \"\"\"Returns the fixed point of knowledge base kb.\n",
    "    \"\"\"\n",
    "    fp = ask_askables(kb)\n",
    "    added = True\n",
    "    while added:\n",
    "        added = False   # added is true when an atom was added to fp this iteration\n",
    "        for c in kb.clauses:\n",
    "            if c.head not in fp and all(b in fp for b in c.body):\n",
    "                fp.add(c.head)\n",
    "                added = True\n",
    "                kb.display(2,c.head,\"added to fp due to clause\",c)\n",
    "    return fp\n"
   ]
  },
  {
   "cell_type": "code",
   "execution_count": 19,
   "id": "d0ef9eb9-16a2-4d34-9eb4-5ca70cfcab31",
   "metadata": {},
   "outputs": [
    {
     "name": "stdout",
     "output_type": "stream",
     "text": [
      "i_am <- i_think\n",
      "\n",
      "i_think.\n",
      "i_smell <- i_exist\n",
      "\n"
     ]
    }
   ],
   "source": [
    "print(triv_KB)"
   ]
  },
  {
   "cell_type": "code",
   "execution_count": 20,
   "id": "c9392869-c93b-455a-aaef-30f6966278a3",
   "metadata": {},
   "outputs": [],
   "source": [
    "def test1(kb=triv_KB, fixedpt = {'i_am','i_think'}):\n",
    "    fp = fixed_point(kb)\n",
    "    assert fp == fixedpt, f\"kb gave result {fp}\"\n",
    "    print(\"Passed unit test\")"
   ]
  },
  {
   "cell_type": "code",
   "execution_count": 21,
   "id": "f137bcf5-2f5f-4a2b-9008-d256710233b7",
   "metadata": {},
   "outputs": [
    {
     "name": "stdout",
     "output_type": "stream",
     "text": [
      "Passed unit test\n"
     ]
    }
   ],
   "source": [
    "test1()"
   ]
  },
  {
   "cell_type": "code",
   "execution_count": 22,
   "id": "3fde5fef-a002-434e-b514-6b6a36254c13",
   "metadata": {},
   "outputs": [
    {
     "name": "stdout",
     "output_type": "stream",
     "text": [
      "i_think added to fp due to clause i_think.\n",
      "i_am added to fp due to clause i_am <- i_think\n",
      "\n"
     ]
    },
    {
     "data": {
      "text/plain": [
       "{'i_am', 'i_think'}"
      ]
     },
     "execution_count": 22,
     "metadata": {},
     "output_type": "execute_result"
    }
   ],
   "source": [
    "triv_KB.max_display_level = 3\n",
    "\n",
    "fixed_point(triv_KB)"
   ]
  },
  {
   "cell_type": "code",
   "execution_count": 23,
   "id": "70fbf9b5-7980-4c25-b5f5-c0918d272a24",
   "metadata": {},
   "outputs": [
    {
     "name": "stdout",
     "output_type": "stream",
     "text": [
      "light_l1.\n",
      "light_l2.\n",
      "ok_l1.\n",
      "ok_l2.\n",
      "ok_cb1.\n",
      "ok_cb2.\n",
      "live_outside.\n",
      "live_l1 <- live_w0\n",
      "\n",
      "live_w0 <- up_s2 & live_w1\n",
      "\n",
      "live_w0 <- down_s2 & live_w2\n",
      "\n",
      "live_w1 <- up_s1 & live_w3\n",
      "\n",
      "live_w2 <- down_s1 & live_w3\n",
      "\n",
      "live_l2 <- live_w4\n",
      "\n",
      "live_w4 <- up_s3 & live_w3\n",
      "\n",
      "live_p_1 <- live_w3\n",
      "\n",
      "live_w3 <- live_w5 & ok_cb1\n",
      "\n",
      "live_p_2 <- live_w6\n",
      "\n",
      "live_w6 <- live_w5 & ok_cb2\n",
      "\n",
      "live_w5 <- live_outside\n",
      "\n",
      "lit_l1 <- light_l1 & live_l1 & ok_l1\n",
      "\n",
      "lit_l2 <- light_l2 & live_l2 & ok_l2\n",
      "\n",
      "askable up_s1.\n",
      "askable down_s1.\n",
      "askable up_s2.\n",
      "askable down_s2.\n",
      "askable up_s3.\n",
      "askable down_s2.\n"
     ]
    }
   ],
   "source": [
    "print(elect_KB)"
   ]
  },
  {
   "cell_type": "code",
   "execution_count": 24,
   "id": "905f4139-0035-4c4a-9623-bdea37bba8b6",
   "metadata": {},
   "outputs": [
    {
     "ename": "KeyboardInterrupt",
     "evalue": "Interrupted by user",
     "output_type": "error",
     "traceback": [
      "\u001b[1;31m---------------------------------------------------------------------------\u001b[0m",
      "\u001b[1;31mKeyboardInterrupt\u001b[0m                         Traceback (most recent call last)",
      "Cell \u001b[1;32mIn[24], line 3\u001b[0m\n\u001b[0;32m      1\u001b[0m elect_KB\u001b[38;5;241m.\u001b[39mmax_display_level \u001b[38;5;241m=\u001b[39m \u001b[38;5;241m3\u001b[39m\n\u001b[1;32m----> 3\u001b[0m \u001b[43mfixed_point\u001b[49m\u001b[43m(\u001b[49m\u001b[43melect_KB\u001b[49m\u001b[43m)\u001b[49m\n",
      "Cell \u001b[1;32mIn[18], line 4\u001b[0m, in \u001b[0;36mfixed_point\u001b[1;34m(kb)\u001b[0m\n\u001b[0;32m      1\u001b[0m \u001b[38;5;28;01mdef\u001b[39;00m \u001b[38;5;21mfixed_point\u001b[39m(kb):\n\u001b[0;32m      2\u001b[0m \u001b[38;5;250m    \u001b[39m\u001b[38;5;124;03m\"\"\"Returns the fixed point of knowledge base kb.\u001b[39;00m\n\u001b[0;32m      3\u001b[0m \u001b[38;5;124;03m    \"\"\"\u001b[39;00m\n\u001b[1;32m----> 4\u001b[0m     fp \u001b[38;5;241m=\u001b[39m \u001b[43mask_askables\u001b[49m\u001b[43m(\u001b[49m\u001b[43mkb\u001b[49m\u001b[43m)\u001b[49m\n\u001b[0;32m      5\u001b[0m     added \u001b[38;5;241m=\u001b[39m \u001b[38;5;28;01mTrue\u001b[39;00m\n\u001b[0;32m      6\u001b[0m     \u001b[38;5;28;01mwhile\u001b[39;00m added:\n",
      "Cell \u001b[1;32mIn[17], line 2\u001b[0m, in \u001b[0;36mask_askables\u001b[1;34m(kb)\u001b[0m\n\u001b[0;32m      1\u001b[0m \u001b[38;5;28;01mdef\u001b[39;00m \u001b[38;5;21mask_askables\u001b[39m(kb):\n\u001b[1;32m----> 2\u001b[0m     \u001b[38;5;28;01mreturn\u001b[39;00m {at \u001b[38;5;28;01mfor\u001b[39;00m at \u001b[38;5;129;01min\u001b[39;00m kb\u001b[38;5;241m.\u001b[39maskables \u001b[38;5;28;01mif\u001b[39;00m yes(\u001b[38;5;28minput\u001b[39m(\u001b[38;5;124m\"\u001b[39m\u001b[38;5;124mIs \u001b[39m\u001b[38;5;124m\"\u001b[39m \u001b[38;5;241m+\u001b[39m at \u001b[38;5;241m+\u001b[39m \u001b[38;5;124m\"\u001b[39m\u001b[38;5;124m true? \u001b[39m\u001b[38;5;124m\"\u001b[39m))}\n",
      "Cell \u001b[1;32mIn[17], line 2\u001b[0m, in \u001b[0;36m<setcomp>\u001b[1;34m(.0)\u001b[0m\n\u001b[0;32m      1\u001b[0m \u001b[38;5;28;01mdef\u001b[39;00m \u001b[38;5;21mask_askables\u001b[39m(kb):\n\u001b[1;32m----> 2\u001b[0m     \u001b[38;5;28;01mreturn\u001b[39;00m {at \u001b[38;5;28;01mfor\u001b[39;00m at \u001b[38;5;129;01min\u001b[39;00m kb\u001b[38;5;241m.\u001b[39maskables \u001b[38;5;28;01mif\u001b[39;00m yes(\u001b[38;5;28;43minput\u001b[39;49m\u001b[43m(\u001b[49m\u001b[38;5;124;43m\"\u001b[39;49m\u001b[38;5;124;43mIs \u001b[39;49m\u001b[38;5;124;43m\"\u001b[39;49m\u001b[43m \u001b[49m\u001b[38;5;241;43m+\u001b[39;49m\u001b[43m \u001b[49m\u001b[43mat\u001b[49m\u001b[43m \u001b[49m\u001b[38;5;241;43m+\u001b[39;49m\u001b[43m \u001b[49m\u001b[38;5;124;43m\"\u001b[39;49m\u001b[38;5;124;43m true? \u001b[39;49m\u001b[38;5;124;43m\"\u001b[39;49m\u001b[43m)\u001b[49m)}\n",
      "File \u001b[1;32m~\\AppData\\Roaming\\Python\\Python39\\site-packages\\ipykernel\\kernelbase.py:1282\u001b[0m, in \u001b[0;36mKernel.raw_input\u001b[1;34m(self, prompt)\u001b[0m\n\u001b[0;32m   1280\u001b[0m     msg \u001b[38;5;241m=\u001b[39m \u001b[38;5;124m\"\u001b[39m\u001b[38;5;124mraw_input was called, but this frontend does not support input requests.\u001b[39m\u001b[38;5;124m\"\u001b[39m\n\u001b[0;32m   1281\u001b[0m     \u001b[38;5;28;01mraise\u001b[39;00m StdinNotImplementedError(msg)\n\u001b[1;32m-> 1282\u001b[0m \u001b[38;5;28;01mreturn\u001b[39;00m \u001b[38;5;28;43mself\u001b[39;49m\u001b[38;5;241;43m.\u001b[39;49m\u001b[43m_input_request\u001b[49m\u001b[43m(\u001b[49m\n\u001b[0;32m   1283\u001b[0m \u001b[43m    \u001b[49m\u001b[38;5;28;43mstr\u001b[39;49m\u001b[43m(\u001b[49m\u001b[43mprompt\u001b[49m\u001b[43m)\u001b[49m\u001b[43m,\u001b[49m\n\u001b[0;32m   1284\u001b[0m \u001b[43m    \u001b[49m\u001b[38;5;28;43mself\u001b[39;49m\u001b[38;5;241;43m.\u001b[39;49m\u001b[43m_parent_ident\u001b[49m\u001b[43m[\u001b[49m\u001b[38;5;124;43m\"\u001b[39;49m\u001b[38;5;124;43mshell\u001b[39;49m\u001b[38;5;124;43m\"\u001b[39;49m\u001b[43m]\u001b[49m\u001b[43m,\u001b[49m\n\u001b[0;32m   1285\u001b[0m \u001b[43m    \u001b[49m\u001b[38;5;28;43mself\u001b[39;49m\u001b[38;5;241;43m.\u001b[39;49m\u001b[43mget_parent\u001b[49m\u001b[43m(\u001b[49m\u001b[38;5;124;43m\"\u001b[39;49m\u001b[38;5;124;43mshell\u001b[39;49m\u001b[38;5;124;43m\"\u001b[39;49m\u001b[43m)\u001b[49m\u001b[43m,\u001b[49m\n\u001b[0;32m   1286\u001b[0m \u001b[43m    \u001b[49m\u001b[43mpassword\u001b[49m\u001b[38;5;241;43m=\u001b[39;49m\u001b[38;5;28;43;01mFalse\u001b[39;49;00m\u001b[43m,\u001b[49m\n\u001b[0;32m   1287\u001b[0m \u001b[43m\u001b[49m\u001b[43m)\u001b[49m\n",
      "File \u001b[1;32m~\\AppData\\Roaming\\Python\\Python39\\site-packages\\ipykernel\\kernelbase.py:1325\u001b[0m, in \u001b[0;36mKernel._input_request\u001b[1;34m(self, prompt, ident, parent, password)\u001b[0m\n\u001b[0;32m   1322\u001b[0m \u001b[38;5;28;01mexcept\u001b[39;00m \u001b[38;5;167;01mKeyboardInterrupt\u001b[39;00m:\n\u001b[0;32m   1323\u001b[0m     \u001b[38;5;66;03m# re-raise KeyboardInterrupt, to truncate traceback\u001b[39;00m\n\u001b[0;32m   1324\u001b[0m     msg \u001b[38;5;241m=\u001b[39m \u001b[38;5;124m\"\u001b[39m\u001b[38;5;124mInterrupted by user\u001b[39m\u001b[38;5;124m\"\u001b[39m\n\u001b[1;32m-> 1325\u001b[0m     \u001b[38;5;28;01mraise\u001b[39;00m \u001b[38;5;167;01mKeyboardInterrupt\u001b[39;00m(msg) \u001b[38;5;28;01mfrom\u001b[39;00m \u001b[38;5;28;01mNone\u001b[39;00m\n\u001b[0;32m   1326\u001b[0m \u001b[38;5;28;01mexcept\u001b[39;00m \u001b[38;5;167;01mException\u001b[39;00m:\n\u001b[0;32m   1327\u001b[0m     \u001b[38;5;28mself\u001b[39m\u001b[38;5;241m.\u001b[39mlog\u001b[38;5;241m.\u001b[39mwarning(\u001b[38;5;124m\"\u001b[39m\u001b[38;5;124mInvalid Message:\u001b[39m\u001b[38;5;124m\"\u001b[39m, exc_info\u001b[38;5;241m=\u001b[39m\u001b[38;5;28;01mTrue\u001b[39;00m)\n",
      "\u001b[1;31mKeyboardInterrupt\u001b[0m: Interrupted by user"
     ]
    }
   ],
   "source": [
    "elect_KB.max_display_level = 3\n",
    "\n",
    "fixed_point(elect_KB)"
   ]
  },
  {
   "cell_type": "markdown",
   "id": "bae25dba-f4bb-49de-a389-d460b77a8c50",
   "metadata": {},
   "source": [
    "# Top-down Proofs (with askables)"
   ]
  },
  {
   "cell_type": "code",
   "execution_count": 25,
   "id": "bfc21cbf-c86f-4046-ba01-f34a395b7b5c",
   "metadata": {},
   "outputs": [],
   "source": [
    "def prove(kb, ans_body, indent=\"\"):\n",
    "    \"\"\"returns True if kb |- ans_body\n",
    "    ans_body is a list of atoms to be proved\n",
    "    \"\"\"\n",
    "    kb.display(2,indent,'yes <-',' & '.join(ans_body))\n",
    "    if ans_body:\n",
    "        selected = ans_body[0]   # select first atom from ans_body\n",
    "        if selected in kb.askables:\n",
    "            return (yes(input(\"Is \"+selected+\" true? \"))\n",
    "                    and  prove(kb,ans_body[1:],indent+\"    \"))\n",
    "        else:\n",
    "            return any(prove(kb,cl.body+ans_body[1:],indent+\"    \")\n",
    "                       for cl in kb.clauses_for_atom(selected))\n",
    "    else:\n",
    "        return True    # empty body is true"
   ]
  },
  {
   "cell_type": "code",
   "execution_count": 26,
   "id": "a4dc98f8-48ad-4e18-9310-5d0b214aab17",
   "metadata": {},
   "outputs": [
    {
     "name": "stdout",
     "output_type": "stream",
     "text": [
      "i_am <- i_think\n",
      "\n",
      "i_think.\n",
      "i_smell <- i_exist\n",
      "\n"
     ]
    }
   ],
   "source": [
    "print(triv_KB)"
   ]
  },
  {
   "cell_type": "code",
   "execution_count": 27,
   "id": "39753647-7214-4194-ade5-a3afbcf9f879",
   "metadata": {},
   "outputs": [
    {
     "name": "stdout",
     "output_type": "stream",
     "text": [
      " yes <- i_am\n",
      "     yes <- i_think\n",
      "         yes <- \n"
     ]
    },
    {
     "data": {
      "text/plain": [
       "True"
      ]
     },
     "execution_count": 27,
     "metadata": {},
     "output_type": "execute_result"
    }
   ],
   "source": [
    "prove(triv_KB,['i_am'])"
   ]
  },
  {
   "cell_type": "code",
   "execution_count": 28,
   "id": "2eaeb0b0-26b6-42ab-8944-72a5dddf0377",
   "metadata": {},
   "outputs": [
    {
     "name": "stdout",
     "output_type": "stream",
     "text": [
      " yes <- i_smell\n",
      "     yes <- i_exist\n"
     ]
    },
    {
     "data": {
      "text/plain": [
       "False"
      ]
     },
     "execution_count": 28,
     "metadata": {},
     "output_type": "execute_result"
    }
   ],
   "source": [
    "prove(triv_KB, ['i_smell'])"
   ]
  },
  {
   "cell_type": "code",
   "execution_count": 29,
   "id": "51d40327-0520-4872-8ee9-50626e932eda",
   "metadata": {},
   "outputs": [
    {
     "name": "stdout",
     "output_type": "stream",
     "text": [
      "light_l1.\n",
      "light_l2.\n",
      "ok_l1.\n",
      "ok_l2.\n",
      "ok_cb1.\n",
      "ok_cb2.\n",
      "live_outside.\n",
      "live_l1 <- live_w0\n",
      "\n",
      "live_w0 <- up_s2 & live_w1\n",
      "\n",
      "live_w0 <- down_s2 & live_w2\n",
      "\n",
      "live_w1 <- up_s1 & live_w3\n",
      "\n",
      "live_w2 <- down_s1 & live_w3\n",
      "\n",
      "live_l2 <- live_w4\n",
      "\n",
      "live_w4 <- up_s3 & live_w3\n",
      "\n",
      "live_p_1 <- live_w3\n",
      "\n",
      "live_w3 <- live_w5 & ok_cb1\n",
      "\n",
      "live_p_2 <- live_w6\n",
      "\n",
      "live_w6 <- live_w5 & ok_cb2\n",
      "\n",
      "live_w5 <- live_outside\n",
      "\n",
      "lit_l1 <- light_l1 & live_l1 & ok_l1\n",
      "\n",
      "lit_l2 <- light_l2 & live_l2 & ok_l2\n",
      "\n",
      "askable up_s1.\n",
      "askable down_s1.\n",
      "askable up_s2.\n",
      "askable down_s2.\n",
      "askable up_s3.\n",
      "askable down_s2.\n"
     ]
    }
   ],
   "source": [
    "print(elect_KB)"
   ]
  },
  {
   "cell_type": "code",
   "execution_count": 30,
   "id": "d37c4e75-a188-4599-be0a-b09249c753a6",
   "metadata": {},
   "outputs": [
    {
     "name": "stdout",
     "output_type": "stream",
     "text": [
      " yes <- live_w6\n",
      "     yes <- live_w5 & ok_cb2\n",
      "         yes <- live_outside & ok_cb2\n",
      "             yes <- ok_cb2\n",
      "                 yes <- \n"
     ]
    },
    {
     "data": {
      "text/plain": [
       "True"
      ]
     },
     "execution_count": 30,
     "metadata": {},
     "output_type": "execute_result"
    }
   ],
   "source": [
    "elect_KB.max_display_level = 3\n",
    "\n",
    "prove(elect_KB, ['live_w6'])"
   ]
  },
  {
   "cell_type": "code",
   "execution_count": 24,
   "id": "293c8251-498b-4b9b-8d9d-51e4d1770a92",
   "metadata": {},
   "outputs": [
    {
     "name": "stdout",
     "output_type": "stream",
     "text": [
      " yes <- live_w1\n",
      "     yes <- up_s1 & live_w3\n"
     ]
    },
    {
     "name": "stdout",
     "output_type": "stream",
     "text": [
      "Is up_s1 true?  n\n"
     ]
    },
    {
     "data": {
      "text/plain": [
       "False"
      ]
     },
     "execution_count": 24,
     "metadata": {},
     "output_type": "execute_result"
    }
   ],
   "source": [
    "prove(elect_KB, ['live_w1'])"
   ]
  },
  {
   "cell_type": "code",
   "execution_count": 25,
   "id": "6135e951-257c-4ec7-b784-0cf1a9548afa",
   "metadata": {},
   "outputs": [
    {
     "name": "stdout",
     "output_type": "stream",
     "text": [
      " yes <- lit_l1\n",
      "     yes <- light_l1 & live_l1 & ok_l1\n",
      "         yes <- live_l1 & ok_l1\n",
      "             yes <- live_w0 & ok_l1\n",
      "                 yes <- up_s2 & live_w1 & ok_l1\n"
     ]
    },
    {
     "name": "stdout",
     "output_type": "stream",
     "text": [
      "Is up_s2 true?  n\n"
     ]
    },
    {
     "name": "stdout",
     "output_type": "stream",
     "text": [
      "                 yes <- down_s2 & live_w2 & ok_l1\n"
     ]
    },
    {
     "name": "stdout",
     "output_type": "stream",
     "text": [
      "Is down_s2 true?  y\n"
     ]
    },
    {
     "name": "stdout",
     "output_type": "stream",
     "text": [
      "                     yes <- live_w2 & ok_l1\n",
      "                         yes <- down_s1 & live_w3 & ok_l1\n"
     ]
    },
    {
     "name": "stdout",
     "output_type": "stream",
     "text": [
      "Is down_s1 true?  y\n"
     ]
    },
    {
     "name": "stdout",
     "output_type": "stream",
     "text": [
      "                             yes <- live_w3 & ok_l1\n",
      "                                 yes <- live_w5 & ok_cb1 & ok_l1\n",
      "                                     yes <- live_outside & ok_cb1 & ok_l1\n",
      "                                         yes <- ok_cb1 & ok_l1\n",
      "                                             yes <- ok_l1\n",
      "                                                 yes <- \n"
     ]
    },
    {
     "data": {
      "text/plain": [
       "True"
      ]
     },
     "execution_count": 25,
     "metadata": {},
     "output_type": "execute_result"
    }
   ],
   "source": [
    "prove(elect_KB, ['lit_l1'])"
   ]
  },
  {
   "cell_type": "markdown",
   "id": "9c176ec7-7445-4f17-8739-0b4e16e603c8",
   "metadata": {},
   "source": [
    "# Explanation"
   ]
  },
  {
   "cell_type": "markdown",
   "id": "cd13c5b7-2c42-4221-891d-3f0c4f119a04",
   "metadata": {},
   "source": [
    " - The top-down procedure is modified to build a proof tree than can be traversed for explanation and debugging.\n",
    " - prove_atom(kb,atom) returns a proof for atom from a knowledge base kb, where a proof is a pair of the atom and the proofs for the elements of the body of the clause used to prove the atom.\n",
    " - prove_body(kb,body) returns a list of proofs for list body from a knowledge base, kb"
   ]
  },
  {
   "cell_type": "code",
   "execution_count": 26,
   "id": "240204bc-79e5-47bf-b53e-4c31e4587a2d",
   "metadata": {},
   "outputs": [],
   "source": [
    "def prove_atom(kb, atom, indent=\"\"):\n",
    "    \"\"\"returns a pair (atom,proofs) where proofs is the list of proofs \n",
    "       of the elements of a body of a clause used to prove atom.\n",
    "    \"\"\"\n",
    "    kb.display(2,indent,'proving',atom)\n",
    "    if atom in kb.askables:\n",
    "        if yes(input(\"Is \"+atom+\" true? \")):\n",
    "            return (atom,\"answered\")\n",
    "        else:\n",
    "            return \"fail\"\n",
    "    else:\n",
    "        for cl in kb.clauses_for_atom(atom):\n",
    "            kb.display(2,indent,\"trying\",atom,'<-',' & '.join(cl.body))\n",
    "            pr_body = prove_body(kb, cl.body, indent)\n",
    "            if pr_body != \"fail\":\n",
    "                return (atom, pr_body)\n",
    "        return \"fail\""
   ]
  },
  {
   "cell_type": "code",
   "execution_count": 27,
   "id": "bff05a22-2612-4824-9a89-addab52cc661",
   "metadata": {},
   "outputs": [],
   "source": [
    "def prove_body(kb, ans_body, indent=\"\"):\n",
    "    \"\"\"returns proof tree if kb |- ans_body or \"fail\" if there is no proof \n",
    "    ans_body is a list of atoms in a body to be proved\n",
    "    \"\"\"\n",
    "    proofs = []\n",
    "    for atom in ans_body:\n",
    "        proof_at = prove_atom(kb, atom, indent+\"  \")\n",
    "        if proof_at == \"fail\":\n",
    "            return \"fail\"  # fail if any proof fails\n",
    "        else:\n",
    "            proofs.append(proof_at)\n",
    "    return proofs"
   ]
  },
  {
   "cell_type": "code",
   "execution_count": 28,
   "id": "314a4186-8aa2-4e66-963b-e1b39e51511d",
   "metadata": {},
   "outputs": [
    {
     "name": "stdout",
     "output_type": "stream",
     "text": [
      " proving i_am\n",
      " trying i_am <- i_think\n",
      "   proving i_think\n",
      "   trying i_think <- \n"
     ]
    },
    {
     "data": {
      "text/plain": [
       "('i_am', [('i_think', [])])"
      ]
     },
     "execution_count": 28,
     "metadata": {},
     "output_type": "execute_result"
    }
   ],
   "source": [
    "triv_KB.max_display_level = 3\n",
    "\n",
    "prove_atom(triv_KB,'i_am')"
   ]
  },
  {
   "cell_type": "code",
   "execution_count": 29,
   "id": "f3ba1cf2-34d5-477b-8ab1-c9ba980407a2",
   "metadata": {},
   "outputs": [
    {
     "name": "stdout",
     "output_type": "stream",
     "text": [
      " proving i_smell\n",
      " trying i_smell <- i_exist\n",
      "   proving i_exist\n"
     ]
    },
    {
     "data": {
      "text/plain": [
       "'fail'"
      ]
     },
     "execution_count": 29,
     "metadata": {},
     "output_type": "execute_result"
    }
   ],
   "source": [
    "prove_atom(triv_KB,'i_smell')"
   ]
  },
  {
   "cell_type": "code",
   "execution_count": 30,
   "id": "cd0212e7-e2e5-4751-b632-8922cc8e78ef",
   "metadata": {},
   "outputs": [
    {
     "name": "stdout",
     "output_type": "stream",
     "text": [
      " proving live_w6\n",
      " trying live_w6 <- live_w5 & ok_cb2\n",
      "   proving live_w5\n",
      "   trying live_w5 <- live_outside\n",
      "     proving live_outside\n",
      "     trying live_outside <- \n",
      "   proving ok_cb2\n",
      "   trying ok_cb2 <- \n"
     ]
    },
    {
     "data": {
      "text/plain": [
       "('live_w6', [('live_w5', [('live_outside', [])]), ('ok_cb2', [])])"
      ]
     },
     "execution_count": 30,
     "metadata": {},
     "output_type": "execute_result"
    }
   ],
   "source": [
    "elect_KB.max_display_level=3\n",
    "\n",
    "prove_atom(elect_KB, 'live_w6')"
   ]
  },
  {
   "cell_type": "code",
   "execution_count": 31,
   "id": "344db59d-24ec-4328-a30e-eb0fdd8a3e71",
   "metadata": {},
   "outputs": [
    {
     "name": "stdout",
     "output_type": "stream",
     "text": [
      " proving live_w1\n",
      " trying live_w1 <- up_s1 & live_w3\n",
      "   proving up_s1\n"
     ]
    },
    {
     "name": "stdout",
     "output_type": "stream",
     "text": [
      "Is up_s1 true?  n\n"
     ]
    },
    {
     "data": {
      "text/plain": [
       "'fail'"
      ]
     },
     "execution_count": 31,
     "metadata": {},
     "output_type": "execute_result"
    }
   ],
   "source": [
    "prove_atom(elect_KB, 'live_w1')"
   ]
  },
  {
   "cell_type": "code",
   "execution_count": 32,
   "id": "630a11fe-c6b8-4e35-94fe-6d426bd5a11f",
   "metadata": {},
   "outputs": [
    {
     "name": "stdout",
     "output_type": "stream",
     "text": [
      " proving lit_l1\n",
      " trying lit_l1 <- light_l1 & live_l1 & ok_l1\n",
      "   proving light_l1\n",
      "   trying light_l1 <- \n",
      "   proving live_l1\n",
      "   trying live_l1 <- live_w0\n",
      "     proving live_w0\n",
      "     trying live_w0 <- up_s2 & live_w1\n",
      "       proving up_s2\n"
     ]
    },
    {
     "name": "stdout",
     "output_type": "stream",
     "text": [
      "Is up_s2 true?  n\n"
     ]
    },
    {
     "name": "stdout",
     "output_type": "stream",
     "text": [
      "     trying live_w0 <- down_s2 & live_w2\n",
      "       proving down_s2\n"
     ]
    },
    {
     "name": "stdout",
     "output_type": "stream",
     "text": [
      "Is down_s2 true?  y\n"
     ]
    },
    {
     "name": "stdout",
     "output_type": "stream",
     "text": [
      "       proving live_w2\n",
      "       trying live_w2 <- down_s1 & live_w3\n",
      "         proving down_s1\n"
     ]
    },
    {
     "name": "stdout",
     "output_type": "stream",
     "text": [
      "Is down_s1 true?  y\n"
     ]
    },
    {
     "name": "stdout",
     "output_type": "stream",
     "text": [
      "         proving live_w3\n",
      "         trying live_w3 <- live_w5 & ok_cb1\n",
      "           proving live_w5\n",
      "           trying live_w5 <- live_outside\n",
      "             proving live_outside\n",
      "             trying live_outside <- \n",
      "           proving ok_cb1\n",
      "           trying ok_cb1 <- \n",
      "   proving ok_l1\n",
      "   trying ok_l1 <- \n"
     ]
    },
    {
     "data": {
      "text/plain": [
       "('lit_l1',\n",
       " [('light_l1', []),\n",
       "  ('live_l1',\n",
       "   [('live_w0',\n",
       "     [('down_s2', 'answered'),\n",
       "      ('live_w2',\n",
       "       [('down_s1', 'answered'),\n",
       "        ('live_w3',\n",
       "         [('live_w5', [('live_outside', [])]), ('ok_cb1', [])])])])]),\n",
       "  ('ok_l1', [])])"
      ]
     },
     "execution_count": 32,
     "metadata": {},
     "output_type": "execute_result"
    }
   ],
   "source": [
    "prove_atom(elect_KB, 'lit_l1')"
   ]
  },
  {
   "cell_type": "markdown",
   "id": "6f338a0e-98e5-4d88-a6e7-76f0741e5a34",
   "metadata": {},
   "source": [
    "# Negation as Failure"
   ]
  },
  {
   "cell_type": "markdown",
   "id": "38f8b784-db04-4793-9374-fe55edb04950",
   "metadata": {},
   "source": [
    "- The negation of an atom 'a' is written as Not(a) in a body."
   ]
  },
  {
   "cell_type": "code",
   "execution_count": 33,
   "id": "232b0d16-0062-4af6-99f5-63427af7669a",
   "metadata": {},
   "outputs": [],
   "source": [
    "class Not(object):\n",
    "    def __init__(self, atom):\n",
    "        self.theatom = atom\n",
    "\n",
    "    def atom(self):\n",
    "        return self.theatom\n",
    "\n",
    "    def __repr__(self):\n",
    "        return f\"Not({self.theatom})\"\n"
   ]
  },
  {
   "cell_type": "markdown",
   "id": "bed3f7b7-8421-4d3e-ad1e-1f8bb78314d0",
   "metadata": {},
   "source": [
    "- Prove with negation-as-failure (prove_naf) is like prove, but with the extra case to cover Not:"
   ]
  },
  {
   "cell_type": "code",
   "execution_count": 34,
   "id": "1c2b35e5-24ee-4539-b132-083491c53602",
   "metadata": {},
   "outputs": [],
   "source": [
    "def prove_naf(kb, ans_body, indent=\"\"):\n",
    "    \"\"\" prove with negation-as-failure and askables\n",
    "    returns True if kb |- ans_body\n",
    "    ans_body is a list of atoms to be proved\n",
    "    \"\"\"\n",
    "    kb.display(2,indent,'yes <-',' & '.join(str(e) for e in ans_body))\n",
    "    if ans_body:\n",
    "        selected = ans_body[0]   # select first atom from ans_body\n",
    "        if isinstance(selected, Not):\n",
    "            kb.display(2,indent,f\"proving {selected.atom()}\")\n",
    "            if prove_naf(kb, [selected.atom()], indent):\n",
    "                kb.display(2,indent,f\"{selected.atom()} succeeded so Not({selected.atom()}) fails\")\n",
    "                return False\n",
    "            else:\n",
    "                kb.display(2,indent,f\"{selected.atom()} fails so Not({selected.atom()}) succeeds\")\n",
    "                return prove_naf(kb, ans_body[1:],indent+\"    \")\n",
    "                \n",
    "        if selected in kb.askables:\n",
    "            return (yes(input(\"Is \"+selected+\" true? \"))\n",
    "                    and  prove_naf(kb,ans_body[1:],indent+\"    \"))\n",
    "        else:\n",
    "            return any(prove_naf(kb,cl.body+ans_body[1:],indent+\"    \")\n",
    "                       for cl in kb.clauses_for_atom(selected))\n",
    "    else:\n",
    "        return True    # empty body is true\n"
   ]
  },
  {
   "cell_type": "code",
   "execution_count": 35,
   "id": "5341661b-9eea-4015-a3d2-65a1bd1e5fe2",
   "metadata": {},
   "outputs": [
    {
     "name": "stdout",
     "output_type": "stream",
     "text": [
      "i_am <- i_think\n",
      "\n",
      "i_think.\n",
      "i_smell <- i_am & Not(dead)\n",
      "\n",
      "i_bad <- i_am & Not(i_think)\n",
      "\n"
     ]
    }
   ],
   "source": [
    "triv_KB_naf = KB([\n",
    "    Clause('i_am', ['i_think']),\n",
    "    Clause('i_think'),\n",
    "    Clause('i_smell', ['i_am', Not('dead')]),\n",
    "    Clause('i_bad', ['i_am', Not('i_think')])\n",
    "    ])\n",
    "\n",
    "print(triv_KB_naf)"
   ]
  },
  {
   "cell_type": "code",
   "execution_count": 36,
   "id": "4d869518-0cd2-4f3a-b95b-476ade5b40c0",
   "metadata": {},
   "outputs": [],
   "source": [
    "triv_KB_naf.max_display_level = 3"
   ]
  },
  {
   "cell_type": "code",
   "execution_count": 37,
   "id": "27d396a4-9982-45b6-91e3-c923d4d11c84",
   "metadata": {},
   "outputs": [
    {
     "name": "stdout",
     "output_type": "stream",
     "text": [
      " yes <- i_smell\n",
      "     yes <- i_am & Not(dead)\n",
      "         yes <- i_think & Not(dead)\n",
      "             yes <- Not(dead)\n",
      "             proving dead\n",
      "             yes <- dead\n",
      "             dead fails so Not(dead) succeeds\n",
      "                 yes <- \n"
     ]
    },
    {
     "data": {
      "text/plain": [
       "True"
      ]
     },
     "execution_count": 37,
     "metadata": {},
     "output_type": "execute_result"
    }
   ],
   "source": [
    "prove_naf(triv_KB_naf,['i_smell'])"
   ]
  },
  {
   "cell_type": "code",
   "execution_count": 38,
   "id": "a90119f8-18ac-46cc-b18e-66347167d73c",
   "metadata": {},
   "outputs": [
    {
     "name": "stdout",
     "output_type": "stream",
     "text": [
      "away_from_beach <- Not(on_beach)\n",
      "\n",
      "beach_access <- on_beach & Not(ab_beach_access)\n",
      "\n",
      "swim_at_beach <- beach_access & Not(ab_swim_at_beach)\n",
      "\n",
      "ab_swim_at_beach <- enclosed_bay & big_city & Not(ab_no_swimming_near_city)\n",
      "\n",
      "ab_no_swimming_near_city <- in_BC & Not(ab_BC_beaches)\n",
      "\n"
     ]
    }
   ],
   "source": [
    "beach_KB = KB([\n",
    "   Clause('away_from_beach', [Not('on_beach')]),\n",
    "   Clause('beach_access', ['on_beach', Not('ab_beach_access')]),\n",
    "   Clause('swim_at_beach', ['beach_access', Not('ab_swim_at_beach')]),\n",
    "   Clause('ab_swim_at_beach', ['enclosed_bay', 'big_city', Not('ab_no_swimming_near_city')]),\n",
    "   Clause('ab_no_swimming_near_city', ['in_BC', Not('ab_BC_beaches')])\n",
    "    ])\n",
    "\n",
    "print(beach_KB)"
   ]
  },
  {
   "cell_type": "code",
   "execution_count": 39,
   "id": "daa46f13-676a-479b-8083-1cfbf86072f7",
   "metadata": {},
   "outputs": [],
   "source": [
    "beach_KB.max_display_level = 4"
   ]
  },
  {
   "cell_type": "code",
   "execution_count": 40,
   "id": "d6eae997-3361-4444-b74c-80b31369acd0",
   "metadata": {},
   "outputs": [
    {
     "name": "stdout",
     "output_type": "stream",
     "text": [
      " yes <- away_from_beach\n",
      "     yes <- Not(on_beach)\n",
      "     proving on_beach\n",
      "     yes <- on_beach\n",
      "     on_beach fails so Not(on_beach) succeeds\n",
      "         yes <- \n"
     ]
    },
    {
     "data": {
      "text/plain": [
       "True"
      ]
     },
     "execution_count": 40,
     "metadata": {},
     "output_type": "execute_result"
    }
   ],
   "source": [
    "prove_naf(beach_KB, ['away_from_beach'])"
   ]
  },
  {
   "cell_type": "code",
   "execution_count": 41,
   "id": "cb54d9fe-0e0f-4b84-b795-20c6fab231e4",
   "metadata": {},
   "outputs": [
    {
     "name": "stdout",
     "output_type": "stream",
     "text": [
      " yes <- beach_access\n",
      "     yes <- on_beach & Not(ab_beach_access)\n"
     ]
    },
    {
     "data": {
      "text/plain": [
       "False"
      ]
     },
     "execution_count": 41,
     "metadata": {},
     "output_type": "execute_result"
    }
   ],
   "source": [
    "prove_naf(beach_KB, ['beach_access'])"
   ]
  },
  {
   "cell_type": "code",
   "execution_count": 42,
   "id": "83022ccd-7596-4e36-8dc6-be0d636a6b10",
   "metadata": {},
   "outputs": [
    {
     "name": "stdout",
     "output_type": "stream",
     "text": [
      "away_from_beach <- Not(on_beach)\n",
      "\n",
      "beach_access <- on_beach & Not(ab_beach_access)\n",
      "\n",
      "swim_at_beach <- beach_access & Not(ab_swim_at_beach)\n",
      "\n",
      "ab_swim_at_beach <- enclosed_bay & big_city & Not(ab_no_swimming_near_city)\n",
      "\n",
      "ab_no_swimming_near_city <- in_BC & Not(ab_BC_beaches)\n",
      "\n",
      "on_beach.\n"
     ]
    }
   ],
   "source": [
    "beach_KB.add_clause(Clause('on_beach', []))\n",
    "\n",
    "print(beach_KB)"
   ]
  },
  {
   "cell_type": "code",
   "execution_count": 43,
   "id": "a06a803b-4c85-4595-a2a1-7ad94b2e6bc0",
   "metadata": {},
   "outputs": [
    {
     "name": "stdout",
     "output_type": "stream",
     "text": [
      " yes <- away_from_beach\n",
      "     yes <- Not(on_beach)\n",
      "     proving on_beach\n",
      "     yes <- on_beach\n",
      "         yes <- \n",
      "     on_beach succeeded so Not(on_beach) fails\n"
     ]
    },
    {
     "data": {
      "text/plain": [
       "False"
      ]
     },
     "execution_count": 43,
     "metadata": {},
     "output_type": "execute_result"
    }
   ],
   "source": [
    "prove_naf(beach_KB, ['away_from_beach'])"
   ]
  },
  {
   "cell_type": "code",
   "execution_count": 44,
   "id": "76e83fdf-7c9f-41ea-9f68-639704c710bc",
   "metadata": {},
   "outputs": [
    {
     "name": "stdout",
     "output_type": "stream",
     "text": [
      " yes <- swim_at_beach\n",
      "     yes <- beach_access & Not(ab_swim_at_beach)\n",
      "         yes <- on_beach & Not(ab_beach_access) & Not(ab_swim_at_beach)\n",
      "             yes <- Not(ab_beach_access) & Not(ab_swim_at_beach)\n",
      "             proving ab_beach_access\n",
      "             yes <- ab_beach_access\n",
      "             ab_beach_access fails so Not(ab_beach_access) succeeds\n",
      "                 yes <- Not(ab_swim_at_beach)\n",
      "                 proving ab_swim_at_beach\n",
      "                 yes <- ab_swim_at_beach\n",
      "                     yes <- enclosed_bay & big_city & Not(ab_no_swimming_near_city)\n",
      "                 ab_swim_at_beach fails so Not(ab_swim_at_beach) succeeds\n",
      "                     yes <- \n"
     ]
    },
    {
     "data": {
      "text/plain": [
       "True"
      ]
     },
     "execution_count": 44,
     "metadata": {},
     "output_type": "execute_result"
    }
   ],
   "source": [
    "prove_naf(beach_KB, ['swim_at_beach'])"
   ]
  },
  {
   "cell_type": "code",
   "execution_count": 45,
   "id": "1369a82c-3cf1-4438-abda-28a0192ec1ef",
   "metadata": {},
   "outputs": [
    {
     "name": "stdout",
     "output_type": "stream",
     "text": [
      "away_from_beach <- Not(on_beach)\n",
      "\n",
      "beach_access <- on_beach & Not(ab_beach_access)\n",
      "\n",
      "swim_at_beach <- beach_access & Not(ab_swim_at_beach)\n",
      "\n",
      "ab_swim_at_beach <- enclosed_bay & big_city & Not(ab_no_swimming_near_city)\n",
      "\n",
      "ab_no_swimming_near_city <- in_BC & Not(ab_BC_beaches)\n",
      "\n",
      "on_beach.\n",
      "enclosed_bay.\n"
     ]
    }
   ],
   "source": [
    "beach_KB.add_clause(Clause('enclosed_bay',[]))\n",
    "\n",
    "print(beach_KB)"
   ]
  },
  {
   "cell_type": "code",
   "execution_count": 46,
   "id": "e551dd88-00ac-4057-91d6-d7ba63fb9d60",
   "metadata": {},
   "outputs": [
    {
     "name": "stdout",
     "output_type": "stream",
     "text": [
      " yes <- swim_at_beach\n",
      "     yes <- beach_access & Not(ab_swim_at_beach)\n",
      "         yes <- on_beach & Not(ab_beach_access) & Not(ab_swim_at_beach)\n",
      "             yes <- Not(ab_beach_access) & Not(ab_swim_at_beach)\n",
      "             proving ab_beach_access\n",
      "             yes <- ab_beach_access\n",
      "             ab_beach_access fails so Not(ab_beach_access) succeeds\n",
      "                 yes <- Not(ab_swim_at_beach)\n",
      "                 proving ab_swim_at_beach\n",
      "                 yes <- ab_swim_at_beach\n",
      "                     yes <- enclosed_bay & big_city & Not(ab_no_swimming_near_city)\n",
      "                         yes <- big_city & Not(ab_no_swimming_near_city)\n",
      "                 ab_swim_at_beach fails so Not(ab_swim_at_beach) succeeds\n",
      "                     yes <- \n"
     ]
    },
    {
     "data": {
      "text/plain": [
       "True"
      ]
     },
     "execution_count": 46,
     "metadata": {},
     "output_type": "execute_result"
    }
   ],
   "source": [
    "prove_naf(beach_KB, ['swim_at_beach'])"
   ]
  },
  {
   "cell_type": "code",
   "execution_count": 47,
   "id": "200a5e2c-45f4-47af-8242-97dfc5c81f1d",
   "metadata": {},
   "outputs": [
    {
     "name": "stdout",
     "output_type": "stream",
     "text": [
      "away_from_beach <- Not(on_beach)\n",
      "\n",
      "beach_access <- on_beach & Not(ab_beach_access)\n",
      "\n",
      "swim_at_beach <- beach_access & Not(ab_swim_at_beach)\n",
      "\n",
      "ab_swim_at_beach <- enclosed_bay & big_city & Not(ab_no_swimming_near_city)\n",
      "\n",
      "ab_no_swimming_near_city <- in_BC & Not(ab_BC_beaches)\n",
      "\n",
      "on_beach.\n",
      "enclosed_bay.\n",
      "big_city.\n"
     ]
    }
   ],
   "source": [
    "beach_KB.add_clause(Clause('big_city',[]))\n",
    "\n",
    "print(beach_KB)"
   ]
  },
  {
   "cell_type": "code",
   "execution_count": 48,
   "id": "e05f824b-ab80-41b1-a723-b3eaf211b1db",
   "metadata": {},
   "outputs": [
    {
     "name": "stdout",
     "output_type": "stream",
     "text": [
      " yes <- swim_at_beach\n",
      "     yes <- beach_access & Not(ab_swim_at_beach)\n",
      "         yes <- on_beach & Not(ab_beach_access) & Not(ab_swim_at_beach)\n",
      "             yes <- Not(ab_beach_access) & Not(ab_swim_at_beach)\n",
      "             proving ab_beach_access\n",
      "             yes <- ab_beach_access\n",
      "             ab_beach_access fails so Not(ab_beach_access) succeeds\n",
      "                 yes <- Not(ab_swim_at_beach)\n",
      "                 proving ab_swim_at_beach\n",
      "                 yes <- ab_swim_at_beach\n",
      "                     yes <- enclosed_bay & big_city & Not(ab_no_swimming_near_city)\n",
      "                         yes <- big_city & Not(ab_no_swimming_near_city)\n",
      "                             yes <- Not(ab_no_swimming_near_city)\n",
      "                             proving ab_no_swimming_near_city\n",
      "                             yes <- ab_no_swimming_near_city\n",
      "                                 yes <- in_BC & Not(ab_BC_beaches)\n",
      "                             ab_no_swimming_near_city fails so Not(ab_no_swimming_near_city) succeeds\n",
      "                                 yes <- \n",
      "                 ab_swim_at_beach succeeded so Not(ab_swim_at_beach) fails\n"
     ]
    },
    {
     "data": {
      "text/plain": [
       "False"
      ]
     },
     "execution_count": 48,
     "metadata": {},
     "output_type": "execute_result"
    }
   ],
   "source": [
    "prove_naf(beach_KB, ['swim_at_beach'])"
   ]
  },
  {
   "cell_type": "code",
   "execution_count": 49,
   "id": "1bcf7623-52e0-479a-a880-50832c10522a",
   "metadata": {},
   "outputs": [
    {
     "name": "stdout",
     "output_type": "stream",
     "text": [
      "away_from_beach <- Not(on_beach)\n",
      "\n",
      "beach_access <- on_beach & Not(ab_beach_access)\n",
      "\n",
      "swim_at_beach <- beach_access & Not(ab_swim_at_beach)\n",
      "\n",
      "ab_swim_at_beach <- enclosed_bay & big_city & Not(ab_no_swimming_near_city)\n",
      "\n",
      "ab_no_swimming_near_city <- in_BC & Not(ab_BC_beaches)\n",
      "\n",
      "on_beach.\n",
      "enclosed_bay.\n",
      "big_city.\n",
      "in_BC.\n"
     ]
    }
   ],
   "source": [
    "beach_KB.add_clause(Clause('in_BC',[]))\n",
    "\n",
    "print(beach_KB)"
   ]
  },
  {
   "cell_type": "code",
   "execution_count": 50,
   "id": "1e35d9d1-1646-40ab-b59c-3ee597109b9a",
   "metadata": {},
   "outputs": [
    {
     "name": "stdout",
     "output_type": "stream",
     "text": [
      " yes <- swim_at_beach\n",
      "     yes <- beach_access & Not(ab_swim_at_beach)\n",
      "         yes <- on_beach & Not(ab_beach_access) & Not(ab_swim_at_beach)\n",
      "             yes <- Not(ab_beach_access) & Not(ab_swim_at_beach)\n",
      "             proving ab_beach_access\n",
      "             yes <- ab_beach_access\n",
      "             ab_beach_access fails so Not(ab_beach_access) succeeds\n",
      "                 yes <- Not(ab_swim_at_beach)\n",
      "                 proving ab_swim_at_beach\n",
      "                 yes <- ab_swim_at_beach\n",
      "                     yes <- enclosed_bay & big_city & Not(ab_no_swimming_near_city)\n",
      "                         yes <- big_city & Not(ab_no_swimming_near_city)\n",
      "                             yes <- Not(ab_no_swimming_near_city)\n",
      "                             proving ab_no_swimming_near_city\n",
      "                             yes <- ab_no_swimming_near_city\n",
      "                                 yes <- in_BC & Not(ab_BC_beaches)\n",
      "                                     yes <- Not(ab_BC_beaches)\n",
      "                                     proving ab_BC_beaches\n",
      "                                     yes <- ab_BC_beaches\n",
      "                                     ab_BC_beaches fails so Not(ab_BC_beaches) succeeds\n",
      "                                         yes <- \n",
      "                             ab_no_swimming_near_city succeeded so Not(ab_no_swimming_near_city) fails\n",
      "                 ab_swim_at_beach fails so Not(ab_swim_at_beach) succeeds\n",
      "                     yes <- \n"
     ]
    },
    {
     "data": {
      "text/plain": [
       "True"
      ]
     },
     "execution_count": 50,
     "metadata": {},
     "output_type": "execute_result"
    }
   ],
   "source": [
    "prove_naf(beach_KB, ['swim_at_beach'])"
   ]
  },
  {
   "cell_type": "markdown",
   "id": "3dca1b64-eb67-4293-b514-f6a8abbd740a",
   "metadata": {},
   "source": [
    "# Relations"
   ]
  },
  {
   "cell_type": "code",
   "execution_count": 51,
   "id": "d63673b2-0a59-4e09-b113-e3e1f8010fa6",
   "metadata": {},
   "outputs": [],
   "source": [
    "class Var(Displayable):\n",
    "    \"\"\"A logical variable\"\"\"\n",
    "    def __init__(self, name):\n",
    "        \"\"\"name\"\"\"\n",
    "        self.name = name\n",
    "\n",
    "    def __str__(self):\n",
    "        return self.name\n",
    "    __repr__ = __str__\n",
    "    \n",
    "    def __eq__(self, other):\n",
    "        return isinstance(other,Var) and self.name == other.name\n",
    "        \n",
    "    def __hash__(self):\n",
    "        return hash(self.name)\n"
   ]
  },
  {
   "cell_type": "code",
   "execution_count": 52,
   "id": "af4dcfd4-01c5-4d3a-8778-ab76099c62b6",
   "metadata": {},
   "outputs": [],
   "source": [
    "class Atom(object):\n",
    "    \"\"\"An atom\"\"\"\n",
    "    def __init__(self, name, args):\n",
    "        self.name = name\n",
    "        self.args = args\n",
    "\n",
    "    def __str__(self):\n",
    "        return f\"{self.name}({', '.join(str(a) for a in self.args)})\"\n",
    "    __repr__ = __str__"
   ]
  },
  {
   "cell_type": "code",
   "execution_count": 53,
   "id": "3c7afb7f-ed7a-436c-a29e-6ae735757a2d",
   "metadata": {},
   "outputs": [],
   "source": [
    "Func = Atom  # same syntax is used for function symbols"
   ]
  },
  {
   "cell_type": "code",
   "execution_count": 54,
   "id": "7efe6aa7-f117-4843-b11f-efbd949ffe10",
   "metadata": {},
   "outputs": [],
   "source": [
    "class FOL_Clause(Clause):\n",
    "    next_index=0\n",
    "    def __init__(self, head, *args, **nargs):\n",
    "        if not isinstance(head, Atom):\n",
    "            head = Atom(head)\n",
    "        Clause.__init__(self, head, *args, **nargs)\n",
    "        self.logical_variables = log_vars([self.head,self.body],set())\n",
    "\n",
    "    def rename(self):\n",
    "        \"\"\"create a unique copy of the clause\"\"\"\n",
    "        if self.logical_variables:\n",
    "            sub = {v:Var(f\"{v.name}_{FOL_Clause.next_index}\") for v in self.logical_variables}\n",
    "            FOL_Clause.next_index += 1\n",
    "            return Clause(apply(self.head,sub),apply(self.body,sub))\n",
    "        else:\n",
    "           return self\n",
    "        "
   ]
  },
  {
   "cell_type": "code",
   "execution_count": 55,
   "id": "df9f12a9-c950-4eeb-90e2-ef4fd0a3c7eb",
   "metadata": {},
   "outputs": [],
   "source": [
    "def log_vars(exp, vs):\n",
    "    \"\"\"the union the logical variables in exp and the set vs\"\"\"\n",
    "    if isinstance(exp,Var):\n",
    "        return {exp}|vs\n",
    "    elif isinstance(exp,Atom):\n",
    "        return log_vars(exp.name, log_vars(exp.args, vs))\n",
    "    elif isinstance(exp,(list,tuple)):\n",
    "        for e in exp:\n",
    "            vs = log_vars(e, vs)\n",
    "    return vs\n"
   ]
  },
  {
   "cell_type": "code",
   "execution_count": 56,
   "id": "1cde8fd8-6cf8-473e-ae5a-66eb9615ab2c",
   "metadata": {},
   "outputs": [],
   "source": [
    "unifdisp = Var(None) # for display"
   ]
  },
  {
   "cell_type": "code",
   "execution_count": 57,
   "id": "af1da942-f721-4ae9-9a8e-5f0b8f434c89",
   "metadata": {},
   "outputs": [],
   "source": [
    "def unify(t1,t2):\n",
    "    e = [(t1,t2)]\n",
    "    s = {}  # empty dictionary\n",
    "    while e:\n",
    "        (a,b) = e.pop()\n",
    "        unifdisp.display(2,f\"unifying{(a,b)}, e={e},s={s}\")\n",
    "        if a != b:\n",
    "            if isinstance(a,Var):\n",
    "                e = apply(e,{a:b}) \n",
    "                s = apply(s,{a:b})\n",
    "                s[a]=b\n",
    "            elif isinstance(b,Var):\n",
    "                e = apply(e,{b:a}) \n",
    "                s = apply(s,{b:a})\n",
    "                s[b]=a\n",
    "            elif isinstance(a,Atom) and isinstance(b,Atom) and a.name==b.name and len(a.args)==len(b.args):\n",
    "                e += zip(a.args,b.args)\n",
    "            elif isinstance(a,(list,tuple)) and isinstance(b,(list,tuple)) and len(a)==len(b ):\n",
    "                e += zip(a,b)\n",
    "            else:\n",
    "                return False\n",
    "    return s"
   ]
  },
  {
   "cell_type": "code",
   "execution_count": 58,
   "id": "19b62958-8c84-4098-b1c4-a12d79b5454c",
   "metadata": {},
   "outputs": [],
   "source": [
    "def apply(e,sub):\n",
    "    \"\"\"e is an expression\n",
    "    sub is a {var:val} dictionary\n",
    "    returns e with all occurrence of var replaces with val\"\"\"\n",
    "    if isinstance(e,Var) and e in sub:\n",
    "        return sub[e]\n",
    "    if isinstance(e,Atom):\n",
    "        return Atom(e.name, apply(e.args,sub))\n",
    "    if isinstance(e,list):\n",
    "        return [apply(a,sub) for a in e]\n",
    "    if isinstance(e,tuple):\n",
    "        return tuple(apply(a,sub) for a in e)\n",
    "    if isinstance(e,dict):\n",
    "        return {k:apply(v,sub) for (k,v) in e.items()}\n",
    "    else:\n",
    "        return e"
   ]
  },
  {
   "cell_type": "code",
   "execution_count": 59,
   "id": "5f22e7c2-bca4-4c1a-b62b-1adf5a726025",
   "metadata": {},
   "outputs": [
    {
     "data": {
      "text/plain": [
       "{Y: 'b', Z: 'b', X: 'a'}"
      ]
     },
     "execution_count": 59,
     "metadata": {},
     "output_type": "execute_result"
    }
   ],
   "source": [
    "unifdisp.max_display_level = 1   # show trace\n",
    "e1 = Atom('p',[Var('X'),Var('Y'),Var('Y')])\n",
    "e2 = Atom('p',['a',Var('Z'),'b'])\n",
    "apply(e1,{Var('Y'):'b'})\n",
    "unify(e1,e2)"
   ]
  },
  {
   "cell_type": "code",
   "execution_count": 60,
   "id": "ae23cdb2-f0cc-4563-b839-7732ff9acfc6",
   "metadata": {},
   "outputs": [
    {
     "data": {
      "text/plain": [
       "False"
      ]
     },
     "execution_count": 60,
     "metadata": {},
     "output_type": "execute_result"
    }
   ],
   "source": [
    "e3 = Atom('p',['a',Var('Y'),Var('Y')])\n",
    "e4 = Atom('p',[Var('Z'),Var('Z'),'b'])\n",
    "unify(e3,e4)"
   ]
  },
  {
   "cell_type": "code",
   "execution_count": 61,
   "id": "fd1f3115-c52f-4f3b-863b-0c2520db4161",
   "metadata": {},
   "outputs": [],
   "source": [
    "class FOL_KB(KB):\n",
    "    \"\"\"A first-order knowledge base. \n",
    "      only the indexing is changed to index on name of the head.\"\"\"\n",
    "        \n",
    "    def add_clause(self, c):\n",
    "        \"\"\"Add clause c to clause dictionary\"\"\"\n",
    "        if c.head.name in self.atom_to_clauses:\n",
    "            self.atom_to_clauses[c.head.name].append(c)\n",
    "        else:\n",
    "            self.atom_to_clauses[c.head.name] = [c]\n",
    "\n",
    "    def ask(self, query):\n",
    "        \"\"\"self is the current KB\n",
    "        query is a list of atoms to be proved\n",
    "        generates {variable:value} dictionary\"\"\"\n",
    "\n",
    "        qvars = list(log_vars(query, set()))\n",
    "        for ans in self.prove(qvars, query):\n",
    "            yield {x:v for (x,v) in zip(qvars,ans)}\n",
    "\n",
    "    def ask_all(self, query):\n",
    "        \"\"\"returns a list of all answers to the query given kb\"\"\"\n",
    "        return list(self.ask(query))\n",
    "\n",
    "    def ask_one(self, query):\n",
    "        \"\"\"returns an answer to the query given kb or None of there are no answers\"\"\"\n",
    "        for ans in self.ask(query):\n",
    "            return ans\n",
    "\n",
    "    def prove(self, ans, ans_body, indent=\"\"):\n",
    "        \"\"\"enumerates the proofs for ans_body\n",
    "        ans_body is a list of atoms to be proved\n",
    "        ans is the list of values of the query variables\n",
    "        \"\"\"\n",
    "        self.display(2,indent,f\"(yes({ans}) <-\",\" & \".join(str(a) for a in ans_body))\n",
    "        if ans_body==[]:\n",
    "            yield ans\n",
    "        else:\n",
    "            selected, remaining = self.select_atom(ans_body)\n",
    "            if self.built_in(selected):\n",
    "                yield from self.eval_built_in(ans, selected, remaining, indent)\n",
    "            else:\n",
    "                for chosen_clause in self.atom_to_clauses[selected.name]:\n",
    "                    clause = chosen_clause.rename()  # rename variables\n",
    "                    sub = unify(selected, clause.head)\n",
    "                    if sub is not False:\n",
    "                        self.display(3,indent,\"KB.prove: selected=\", selected, \"clause=\",clause,\"sub=\",sub) \n",
    "                        resans = apply(ans,sub)\n",
    "                        new_ans_body = apply(clause.body+remaining, sub)\n",
    "                        yield from self.prove(resans, new_ans_body, indent+\"    \")\n",
    "\n",
    "    def select_atom(self,lst):\n",
    "        \"\"\"given list of atoms, return (selected atom, remaining atoms)\n",
    "        \"\"\"\n",
    "        return lst[0],lst[1:]\n",
    "\n",
    "    def built_in(self,atom):\n",
    "        return atom.name in ['lt','triple']\n",
    "\n",
    "    def eval_built_in(self,ans, selected, remaining, indent):\n",
    "        if selected.name == 'lt':  # less than\n",
    "            [a1,a2] = selected.args\n",
    "            if a1 < a2:\n",
    "                yield from self.prove(ans, remaining, indent+\"    \")\n",
    "        if selected.name == 'triple':    # use triple store (AIFCA Ch 16)\n",
    "            yield from self.eval_triple(ans, selected, remaining, indent)\n"
   ]
  },
  {
   "cell_type": "code",
   "execution_count": 62,
   "id": "e84ba5e4-6128-47e6-ba4f-824c3bc700a9",
   "metadata": {},
   "outputs": [
    {
     "data": {
      "text/plain": [
       "[{F: cons(l, cons(i, cons(s, nil))), A: 't'}]"
      ]
     },
     "execution_count": 62,
     "metadata": {},
     "output_type": "execute_result"
    }
   ],
   "source": [
    "A = Var('A')\n",
    "W = Var('W')\n",
    "X = Var('X')\n",
    "Y = Var('Y')\n",
    "Z = Var('Z')\n",
    "\n",
    "def cons(h,t): \n",
    "    return Atom('cons',[h,t])\n",
    "    \n",
    "def append(a,b,c): \n",
    "    return Atom('append',[a,b,c])\n",
    "\n",
    "app_KB = FOL_KB([\n",
    "    FOL_Clause(append('nil',W,W)),\n",
    "    FOL_Clause(append(cons(A,X), Y,cons(A,Z)),\n",
    "                [append(X,Y,Z)])\n",
    "    ])\n",
    "\n",
    "F = Var('F')\n",
    "lst = cons('l',cons('i',cons('s',cons('t','nil'))))\n",
    "\n",
    "app_KB.max_display_level = 1 #show derivation\n",
    "#ask_all(app_KB, [append(F,cons(A,'nil'), lst)])\n",
    "\n",
    "app_KB.ask_all([append(F,cons(A,'nil'), lst)])"
   ]
  },
  {
   "cell_type": "code",
   "execution_count": 63,
   "id": "bea56dfe-4db9-4bb4-8d3b-f33d13a3ad20",
   "metadata": {},
   "outputs": [
    {
     "data": {
      "text/plain": [
       "[{Y: cons(l, cons(i, cons(s, cons(t, nil)))), X: 'nil'},\n",
       " {Y: cons(i, cons(s, cons(t, nil))), X: cons(l, nil)},\n",
       " {Y: cons(s, cons(t, nil)), X: cons(l, cons(i, nil))},\n",
       " {Y: cons(t, nil), X: cons(l, cons(i, cons(s, nil)))},\n",
       " {Y: 'nil', X: cons(l, cons(i, cons(s, cons(t, nil))))}]"
      ]
     },
     "execution_count": 63,
     "metadata": {},
     "output_type": "execute_result"
    }
   ],
   "source": [
    "app_KB.ask_all([append(X, Y, lst)])"
   ]
  },
  {
   "cell_type": "code",
   "execution_count": 64,
   "id": "2f6b24e5-a208-4f26-adf5-9b990927a3d0",
   "metadata": {},
   "outputs": [
    {
     "data": {
      "text/plain": [
       "[{Y: cons(t, cons(l, cons(i, cons(s, cons(t, nil))))),\n",
       "  L: cons(l, cons(i, cons(s, cons(t, cons(l, cons(i, cons(s, cons(t, nil)))))))),\n",
       "  X: cons(l, cons(i, nil))},\n",
       " {Y: cons(t, nil),\n",
       "  L: cons(l, cons(i, cons(s, cons(t, cons(l, cons(i, cons(s, cons(t, nil)))))))),\n",
       "  X: cons(l, cons(i, cons(s, cons(t, cons(l, cons(i, nil))))))}]"
      ]
     },
     "execution_count": 64,
     "metadata": {},
     "output_type": "execute_result"
    }
   ],
   "source": [
    "L = Var('L')\n",
    "\n",
    "app_KB.ask_all([append(lst, lst, L), append(X, cons('s',Y), L)])"
   ]
  }
 ],
 "metadata": {
  "kernelspec": {
   "display_name": "Python 3 (ipykernel)",
   "language": "python",
   "name": "python3"
  },
  "language_info": {
   "codemirror_mode": {
    "name": "ipython",
    "version": 3
   },
   "file_extension": ".py",
   "mimetype": "text/x-python",
   "name": "python",
   "nbconvert_exporter": "python",
   "pygments_lexer": "ipython3",
   "version": "3.9.13"
  }
 },
 "nbformat": 4,
 "nbformat_minor": 5
}
