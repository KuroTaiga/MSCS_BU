{
 "cells": [
  {
   "cell_type": "markdown",
   "id": "3bbb18e2-3ce2-49db-8593-7480e7152f1f",
   "metadata": {
    "editable": true,
    "slideshow": {
     "slide_type": ""
    },
    "tags": []
   },
   "source": [
    "---\n",
    "title: \"Planning with Uncertainty (Part2 - Reinforcement Learning)\"\n",
    "format: html\n",
    "page-layout: full\n",
    "code-line-numbers: true\n",
    "code-block-border: true\n",
    "toc: true\n",
    "toc-location: left\n",
    "number-sections: true\n",
    "jupyter: python3\n",
    "---"
   ]
  },
  {
   "cell_type": "markdown",
   "id": "ee78ac7a-e817-472a-8844-4a2a8da2fb31",
   "metadata": {},
   "source": [
    "# Representing Agents and Environments"
   ]
  },
  {
   "cell_type": "code",
   "execution_count": 1,
   "id": "0f04882c-e8cb-4dec-b053-9d9ac4af4e58",
   "metadata": {},
   "outputs": [],
   "source": [
    "import random\n",
    "import math\n",
    "import matplotlib.pyplot as plt"
   ]
  },
  {
   "cell_type": "code",
   "execution_count": 2,
   "id": "81789764-d0a8-488c-8aa6-42b4533f0f61",
   "metadata": {},
   "outputs": [],
   "source": [
    "def flip(prob):\n",
    "    \"\"\"return true with probability prob\"\"\"\n",
    "    return random.random() < prob\n",
    "\n",
    "def argmaxall(gen):\n",
    "    \"\"\"gen is a generator of (element,value) pairs, where value is a real.\n",
    "    argmaxall returns a list of all of the elements with maximal value.\n",
    "    \"\"\"\n",
    "    maxv = -math.inf       # negative infinity\n",
    "    maxvals = []      # list of maximal elements\n",
    "    for (e,v) in gen:\n",
    "        if v>maxv:\n",
    "            maxvals,maxv = [e], v\n",
    "        elif v==maxv:\n",
    "            maxvals.append(e)\n",
    "    return maxvals\n",
    "\n",
    "def argmaxe(gen):\n",
    "    \"\"\"gen is a generator of (element,value) pairs, where value is a real.\n",
    "    argmaxe returns an element with maximal value.\n",
    "    If there are multiple elements with the max value, one is returned at random.\n",
    "    \"\"\"\n",
    "    return random.choice(argmaxall(gen))\n",
    "\n",
    "def argmax(lst):\n",
    "    \"\"\"returns maximum index in a list\"\"\"\n",
    "    return argmaxe(enumerate(lst))\n",
    "\n",
    "def argmaxd(dct):\n",
    "   \"\"\"returns the arg max of a dictionary dct\"\"\"\n",
    "   return argmaxe(dct.items())\n",
    "\n",
    "def select_from_dist(item_prob_dist):\n",
    "    \"\"\" returns a value from a distribution.\n",
    "    item_prob_dist is an item:probability dictionary, where the\n",
    "        probabilities sum to 1.\n",
    "    returns an item chosen in proportion to its probability\n",
    "    \"\"\"\n",
    "    ranreal = random.random()\n",
    "    for (it,prob) in item_prob_dist.items():\n",
    "        if ranreal < prob:\n",
    "            return it\n",
    "        else:\n",
    "            ranreal -= prob\n",
    "    raise RuntimeError(f\"{item_prob_dist} is not a probability distribution\")\n"
   ]
  },
  {
   "cell_type": "code",
   "execution_count": 3,
   "id": "f3711c11-6a4a-49ec-b443-cbda583f2c8d",
   "metadata": {},
   "outputs": [],
   "source": [
    "class Displayable(object):\n",
    "    \"\"\"Class that uses 'display'.\n",
    "    The amount of detail is controlled by max_display_level\n",
    "    \"\"\"\n",
    "    max_display_level = 1   # can be overridden in subclasses or instances\n",
    "\n",
    "    def display(self,level,*args,**nargs):\n",
    "        \"\"\"print the arguments if level is less than or equal to the\n",
    "        current max_display_level.\n",
    "        level is an integer.\n",
    "        the other arguments are whatever arguments print can take.\n",
    "        \"\"\"\n",
    "        if level <= self.max_display_level:\n",
    "            print(*args, **nargs) "
   ]
  },
  {
   "cell_type": "code",
   "execution_count": 4,
   "id": "cf0cf74e-2451-422e-a2cb-3be0b67ff23c",
   "metadata": {},
   "outputs": [],
   "source": [
    "class Agent(Displayable):\n",
    "\n",
    "    def initial_action(self, percept):\n",
    "        \"\"\"return the initial action.\"\"\"\n",
    "        return self.select_action(percept)   # same as select_action\n",
    "\n",
    "    def select_action(self, percept):\n",
    "        \"\"\"return the next action (and update internal state) given percept\n",
    "        percept is variable:value dictionary\n",
    "        \"\"\"\n",
    "        raise NotImplementedError(\"go\")   # abstract method"
   ]
  },
  {
   "cell_type": "code",
   "execution_count": 5,
   "id": "5ad9b124-503c-4071-854d-249a06b1ec0b",
   "metadata": {},
   "outputs": [],
   "source": [
    "class Environment(Displayable):\n",
    "    def initial_percept(self):\n",
    "        \"\"\"returns the initial percept for the agent\"\"\"\n",
    "        raise NotImplementedError(\"initial_percept\")   # abstract method\n",
    "\n",
    "    def do(self, action):\n",
    "        \"\"\"does the action in the environment\n",
    "        returns the next percept \"\"\"\n",
    "        raise NotImplementedError(\"Environment.do\")   # abstract method"
   ]
  },
  {
   "cell_type": "code",
   "execution_count": 6,
   "id": "f028c8d3-3f0c-44c4-9f25-3982bbd62078",
   "metadata": {},
   "outputs": [],
   "source": [
    "class RL_env(Environment):\n",
    "    def __init__(self, name, actions, state):\n",
    "        \"\"\"creates an environment given name, list of actions, and initial state\"\"\"\n",
    "        self.name = name         # the role for an agent \n",
    "        self.actions = actions   # list of all actions\n",
    "        self.state = state       # initial state\n",
    "        self.reward = None       # last reward\n",
    "\n",
    "    # must implement do(action)->(reward,state)"
   ]
  },
  {
   "cell_type": "code",
   "execution_count": 7,
   "id": "f3db6561-d146-4d77-a6fa-c8b5a5c02fef",
   "metadata": {},
   "outputs": [],
   "source": [
    "class RL_agent(Agent):\n",
    "    \"\"\"An RL_Agent \n",
    "    has percepts (s, r) for some state s and real reward r\n",
    "    \"\"\"\n",
    "    def __init__(self, actions):\n",
    "       self.actions = actions\n",
    "\n",
    "    def initial_action(self, env_state):\n",
    "        \"\"\"return the initial action, and remember the state and action\n",
    "        Act randomly initially\n",
    "        Could be overridden to initialize data structures (as the agent now knows about one state)\n",
    "        \"\"\"\n",
    "        self.state = env_state\n",
    "        self.action = random.choice(self.actions)\n",
    "        return self.action\n",
    "\n",
    "    def select_action(self, reward, state):\n",
    "        \"\"\" \n",
    "        Select the action given the reward and next state\n",
    "        Remember the action in self.action\n",
    "        This implements \"Act randomly\" and should  be overridden!\n",
    "        \"\"\"\n",
    "        self.reward = reward\n",
    "        self.action = random.choice(self.actions)\n",
    "        return self.action\n",
    "\n",
    "    def v(self, state):\n",
    "        \"v needed for GUI; an agent must also implement q()\"\n",
    "        return max(self.q(state,a) for a in self.actions)"
   ]
  },
  {
   "cell_type": "markdown",
   "id": "d2dbbf78-423b-4f60-88d9-ecddf0ca1a8c",
   "metadata": {},
   "source": [
    "## Simulating Environment-Agent interaction"
   ]
  },
  {
   "cell_type": "code",
   "execution_count": 8,
   "id": "14d937a9-5489-4a72-94e8-eb652f4e9475",
   "metadata": {},
   "outputs": [],
   "source": [
    "class Simulate(Displayable):\n",
    "    \"\"\"simulate the interaction between the agent and the environment\n",
    "    for n time steps.\n",
    "    Returns a pair of the agent state and the environment state.\n",
    "    \"\"\"\n",
    "    def __init__(self, agent, environment):\n",
    "        self.agent = agent\n",
    "        self.env = environment\n",
    "        self.reward_history = []  # for plotting\n",
    "        self.step = 0\n",
    "        self.sum_rewards = 0\n",
    "\n",
    "    def start(self):\n",
    "        self.action = self.agent.initial_action(self.env.state)\n",
    "        return self\n",
    "\n",
    "    def go(self, n):\n",
    "        for i in range(n):\n",
    "            self.step += 1\n",
    "            (reward,state) = self.env.do(self.action)\n",
    "            self.display(2,f\"step={self.step} reward={reward}, state={state}\")\n",
    "            self.sum_rewards += reward\n",
    "            self.reward_history.append(reward)\n",
    "            self.action = self.agent.select_action(reward,state)\n",
    "            self.display(2,f\"      action={self.action}\")\n",
    "        return self\n",
    "\n",
    "    def plot(self, label=None, step_size=None, xscale='linear'):\n",
    "        \"\"\"\n",
    "        plots the rewards history in the simulation\n",
    "        label is the label for the plot\n",
    "        step_size is the number of steps between each point plotted\n",
    "        xscale is 'log' or 'linear'\n",
    "\n",
    "        returns sum of rewards\n",
    "        \"\"\"\n",
    "        if step_size is None: #for long simulations (> 999), only plot some points\n",
    "            step_size = max(1,len(self.reward_history)//500)\n",
    "        if label is None:\n",
    "            label = self.agent.method\n",
    "        plt.ion()\n",
    "        plt.xscale(xscale)\n",
    "        plt.xlabel(\"step\")\n",
    "        plt.ylabel(\"Sum of rewards\")\n",
    "        sum_history, sum_rewards = acc_rews(self.reward_history, step_size)\n",
    "        plt.plot(range(0,len(self.reward_history),step_size), sum_history, label=label)\n",
    "        plt.legend()\n",
    "        plt.draw()\n",
    "        return sum_rewards\n",
    "\n",
    "def acc_rews(rews,step_size):\n",
    "    \"\"\"returns the rolling sum of the values, sampled each step_size, and the sum\n",
    "    \"\"\"\n",
    "    acc = []\n",
    "    sumr = 0; i=0\n",
    "    for e in rews:\n",
    "       sumr += e\n",
    "       i += 1\n",
    "       if (i%step_size == 0): \n",
    "           acc.append(sumr)\n",
    "    return acc, sumr"
   ]
  },
  {
   "cell_type": "markdown",
   "id": "2f915798-b85e-4aab-9431-cdad2ea26578",
   "metadata": {},
   "source": [
    "## Party Environment"
   ]
  },
  {
   "cell_type": "code",
   "execution_count": 9,
   "id": "c7a2a2b9-f8b4-4e56-8279-9c3d8395c071",
   "metadata": {},
   "outputs": [],
   "source": [
    "class Party_env(RL_env):\n",
    "    def __init__(self):\n",
    "        RL_env.__init__(self, \"Party Decision\", [\"party\", \"relax\"], \"healthy\")\n",
    "\n",
    "    def do(self, action):\n",
    "        \"\"\"updates the state based on the agent doing action.\n",
    "        returns reward,state\n",
    "        \"\"\"\n",
    "        if self.state==\"healthy\":\n",
    "            if action==\"party\":\n",
    "                self.state = \"healthy\" if flip(0.7) else \"sick\"\n",
    "                self.reward = 10\n",
    "            else:  # action==\"relax\"\n",
    "                self.state = \"healthy\" if flip(0.95) else \"sick\"\n",
    "                self.reward = 7\n",
    "        else:  # self.state==\"sick\"\n",
    "            if action==\"party\":\n",
    "                self.state = \"healthy\" if flip(0.1) else \"sick\"\n",
    "                self.reward = 2\n",
    "            else:\n",
    "                self.state = \"healthy\" if flip(0.5) else \"sick\"\n",
    "                self.reward = 0\n",
    "                \n",
    "        return self.reward, self.state\n"
   ]
  },
  {
   "cell_type": "markdown",
   "id": "f518ea2f-7e6c-4a19-9c98-60f9c3ff4c91",
   "metadata": {},
   "source": [
    "## Environment from a Problem Domain"
   ]
  },
  {
   "cell_type": "markdown",
   "id": "d4cc89a9-2b6d-4439-b623-92644ab05145",
   "metadata": {},
   "source": [
    " - Takes a *ProblemDomain* (from MDP examples)\n",
    " - Constructs an environment for reinforcement learners\n",
    " - Representation of MDP does not contain enough information to sumulate a system\n",
    "     - loses any dependency between the rewards and the resulting state\n",
    "     - only represents the expected value of rewards\n",
    "     - not how they are distributed\n",
    " - *ProblemDomain* class defines the *result* method to map states and actions into distributions over (reward, state) pairs   "
   ]
  },
  {
   "cell_type": "code",
   "execution_count": 10,
   "id": "1c523d19-ef4e-4ce7-af16-ee5e1cb1cacd",
   "metadata": {},
   "outputs": [],
   "source": [
    "class Env_from_ProblemDomain(RL_env):\n",
    "    def __init__(self, prob_dom):\n",
    "        RL_env.__init__(self, prob_dom.title, prob_dom.actions, prob_dom.state)\n",
    "        self.problem_domain = prob_dom\n",
    "        self.state = prob_dom.state\n",
    "        self.x_dim = prob_dom.x_dim\n",
    "        self.y_dim = prob_dom.y_dim \n",
    "        self.offsets = prob_dom.offsets\n",
    "        self.state2pos = self.problem_domain.state2pos\n",
    "        self.state2goal = self.problem_domain.state2goal\n",
    "        self.pos2state = self.problem_domain.pos2state\n",
    "        \n",
    "    def do(self, action):\n",
    "        \"\"\"updates the state based on the agent doing action.\n",
    "        returns state,reward\n",
    "        \"\"\"\n",
    "        (self.reward, self.state) = select_from_dist(\n",
    "            self.problem_domain.result(self.state, action))\n",
    "        \n",
    "        self.problem_domain.state = self.state\n",
    "        self.display(2,f\"do({action} -> ({self.reward}, {self.state})\")\n",
    "        return (self.reward, self.state)"
   ]
  },
  {
   "cell_type": "markdown",
   "id": "055e1e33-8a19-4ad8-85e6-e713a2cb9d1f",
   "metadata": {},
   "source": [
    "## Monster Game Environment"
   ]
  },
  {
   "cell_type": "markdown",
   "id": "32dfe526-3854-432d-9dd2-4c289db4d928",
   "metadata": {},
   "source": [
    "![](https://artint.info/3e/html/x145.png)"
   ]
  },
  {
   "cell_type": "code",
   "execution_count": 11,
   "id": "6c760c86-b187-451e-822a-558e82683f97",
   "metadata": {},
   "outputs": [],
   "source": [
    "class Monster_game_env(RL_env):\n",
    "    x_dim = 5\n",
    "    y_dim = 5\n",
    "\n",
    "    vwalls = [(0,3), (0,4), (1,4)]  # vertical walls right of these locations\n",
    "    hwalls = [] # not implemented\n",
    "    crashed_reward = -1\n",
    "    \n",
    "    prize_locs = [(0,0), (0,4), (4,0), (4,4)]\n",
    "    prize_apears_prob = 0.3\n",
    "    prize_reward = 10\n",
    "\n",
    "    monster_locs = [(0,1), (1,1), (2,3), (3,1), (4,2)]\n",
    "    monster_appears_prob = 0.4\n",
    "    monster_reward_when_damaged = -10\n",
    "    repair_stations = [(1,4)]\n",
    "\n",
    "    actions = [\"up\",\"down\",\"left\",\"right\"]\n",
    "    \n",
    "    def __init__(self):\n",
    "        # State:\n",
    "        self.x = 2\n",
    "        self.y = 2\n",
    "        self.damaged = False\n",
    "        self.prize = None\n",
    "        # Statistics\n",
    "        self.number_steps = 0\n",
    "        self.accumulated_rewards = 0   # sum of rewards received\n",
    "        self.min_accumulated_rewards = 0\n",
    "        self.min_step = 0\n",
    "        self.zero_crossing = 0\n",
    "        RL_env.__init__(self, \"Monster Game\", self.actions, (self.x, self.y, self.damaged, self.prize))\n",
    "        self.display(2,\"\",\"Step\",\"Tot Rew\",\"Ave Rew\",sep=\"\\t\")\n",
    "\n",
    "    def do(self,action):\n",
    "        \"\"\"updates the state based on the agent doing action.\n",
    "        returns reward,state\n",
    "        \"\"\"\n",
    "        assert action in self.actions, f\"Monster game, unknown action: {action}\"\n",
    "        \n",
    "        self.reward = 0.0\n",
    "        \n",
    "        # A prize can appear:\n",
    "        if self.prize is None and flip(self.prize_apears_prob):\n",
    "                self.prize = random.choice(self.prize_locs)\n",
    "        \n",
    "        # Actions can be noisy\n",
    "        if flip(0.4):\n",
    "            actual_direction = random.choice(self.actions)\n",
    "        else:\n",
    "            actual_direction = action\n",
    "        \n",
    "        # Modeling the actions given the actual direction\n",
    "        if actual_direction == \"right\":\n",
    "            if self.x==self.x_dim-1 or (self.x,self.y) in self.vwalls:\n",
    "                self.reward += self.crashed_reward\n",
    "            else:\n",
    "                self.x += 1\n",
    "        elif actual_direction == \"left\":\n",
    "            if self.x==0 or (self.x-1,self.y) in self.vwalls:\n",
    "                self.reward += self.crashed_reward\n",
    "            else:\n",
    "                self.x += -1\n",
    "        elif actual_direction == \"up\":\n",
    "            if self.y==self.y_dim-1:\n",
    "                self.reward += self.crashed_reward\n",
    "            else:\n",
    "                self.y += 1\n",
    "        elif actual_direction == \"down\":\n",
    "            if self.y==0:\n",
    "                self.reward += self.crashed_reward\n",
    "            else:\n",
    "                self.y += -1\n",
    "        else:\n",
    "            raise RuntimeError(f\"unknown_direction: {actual_direction}\")\n",
    "\n",
    "        # Monsters\n",
    "        if (self.x,self.y) in self.monster_locs and flip(self.monster_appears_prob):\n",
    "            if self.damaged:\n",
    "                self.reward += self.monster_reward_when_damaged\n",
    "            else:\n",
    "                self.damaged = True\n",
    "        if (self.x,self.y) in self.repair_stations:\n",
    "            self.damaged = False\n",
    "\n",
    "        # Prizes\n",
    "        if (self.x,self.y) == self.prize:\n",
    "            self.reward += self.prize_reward\n",
    "            self.prize = None\n",
    "\n",
    "        # Statistics\n",
    "        self.number_steps += 1\n",
    "        self.accumulated_rewards += self.reward\n",
    "        if self.accumulated_rewards < self.min_accumulated_rewards:\n",
    "            self.min_accumulated_rewards = self.accumulated_rewards\n",
    "            self.min_step = self.number_steps\n",
    "        if self.accumulated_rewards>0 and self.reward>self.accumulated_rewards:\n",
    "            self.zero_crossing = self.number_steps\n",
    "        \n",
    "        self.display(2,\"\",self.number_steps,self.accumulated_rewards,\n",
    "                      self.accumulated_rewards/self.number_steps,sep=\"\\t\")\n",
    "\n",
    "        return self.reward, (self.x, self.y, self.damaged, self.prize)\n",
    "        \n",
    "    ### For GUI\n",
    "    def state2pos(self,state):\n",
    "        \"\"\"the (x,y) position for the state\n",
    "        \"\"\"\n",
    "        (x, y, damaged, prize) = state\n",
    "        return (x,y)\n",
    "        \n",
    "    def state2goal(self,state):\n",
    "        \"\"\"the (x,y) position for the goal\n",
    "        \"\"\"\n",
    "        (x, y, damaged, prize) = state\n",
    "        return prize\n",
    "        \n",
    "    def pos2state(self,pos):\n",
    "        \"\"\"the state corresponding to the (x,y) position.\n",
    "        The damages and prize are not shown in the GUI\n",
    "        \"\"\"\n",
    "        (x,y) = pos\n",
    "        return (x, y, self.damaged, self.prize)\n",
    "        \n"
   ]
  },
  {
   "cell_type": "markdown",
   "id": "024f5e21-7f8e-4b51-89a5-37ecc8237665",
   "metadata": {},
   "source": [
    "# Rolling Average"
   ]
  },
  {
   "cell_type": "markdown",
   "id": "1f5f3401-bdc1-4199-ab42-040cc88e2c20",
   "metadata": {},
   "source": [
    " - Given a sequence of numerical values, $v_1,v_2,v_3,...$, predict the *mean* after the first $k$ values for each $k$.\n",
    " - The **rolling average**, $A_k$, is the mean of the first $k$ data points:\n",
    "   $$\n",
    "     A_k = \\frac{v_1 + ... + v_k}{k}\\,\n",
    "   $$\n",
    "\n",
    "![](figs_rl/fig08.png)"
   ]
  },
  {
   "cell_type": "markdown",
   "id": "0103d156-904d-46ba-8389-ad6cca451521",
   "metadata": {},
   "source": [
    "# Temporal Differences"
   ]
  },
  {
   "cell_type": "markdown",
   "id": "6623415a-7885-4069-a391-9969781922ee",
   "metadata": {},
   "source": [
    "- The difference, $v_k - A_{k-1}$, is called the **temporal difference (TD) error**\n",
    "- Specifies how different the new value, $v_k$, is from the old prediction, $A_{k-1}$\n",
    "- The old estimate, $A_{k-1}$, is updated $\\alpha_k$ times the TD error to get the new estimate $A_k$"
   ]
  },
  {
   "cell_type": "markdown",
   "id": "6f35486f-4163-41a4-91cb-faf626baad72",
   "metadata": {},
   "source": [
    "- In reinforcement learning, the values are often estimates of the effects of actions\n",
    "    - more recent values are more accurate than earlier values because the agent is learning, and so they should be weighted more.\n",
    "- Set $\\alpha_k = (r+1)/(r+k)$, for $r \\gt 0$\n",
    "- If $r = 9$, $\\alpha_k = (10)/(9+k)$\n",
    "- For the first experience, $\\alpha_1 = 1$, so it ignores the prior $A_0$\n",
    "- After 11 experiences, $\\alpha_{11} = 0.5$, so it weights that experience as equal to all of its prior experiences"
   ]
  },
  {
   "cell_type": "markdown",
   "id": "e54f5a69-c157-4a24-9cf1-ed4faa5f51ba",
   "metadata": {},
   "source": [
    "# Learning from Experiences"
   ]
  },
  {
   "cell_type": "markdown",
   "id": "6d94e5fb-7595-49af-9d0e-033042e565d7",
   "metadata": {},
   "source": [
    " - Agent tries to learn the optimal policy from its history of interaction with the environment\n",
    "     - $⟨s_0,a_0,r_1,s_1,a_1,r_2,s_2,a_2,r_3,s_3,a_3,r_4,s_4⁢…⟩$\n",
    "- A sequence of experiences   ⟨s,a,r,s′⟩\n",
    "- Agent needs to learn from these experiences\n",
    "  - Aim of the agent is to maximize the reward"
   ]
  },
  {
   "cell_type": "markdown",
   "id": "c1d8f447-19a1-4503-8af7-f61eb1085625",
   "metadata": {},
   "source": [
    "# Q-Learning"
   ]
  },
  {
   "cell_type": "markdown",
   "id": "86aea6d1-5eb3-4f05-9464-e9d913989b05",
   "metadata": {},
   "source": [
    " - $Q^*(s,a)$ : the expected value (cumulative discounted reward) of doing action $a$ in state $s$ and then following the optimal policy\n",
    " - **Q-learning** uses temporal differences to estimate the value of $Q^*(s,a)$\n",
    " - Agent maintains a table of $Q[S,A]$, where $S$ is the set of states and $A$ is the set of actions\n",
    " - $Q[S,A]$ represents its current estimate of $Q^*(s,a)$"
   ]
  },
  {
   "cell_type": "markdown",
   "id": "1008d70d-f60c-4c5c-9872-f80f3973891d",
   "metadata": {},
   "source": []
  },
  {
   "cell_type": "markdown",
   "id": "cc5a6bae-627e-4cd4-aadd-2907d5a5c047",
   "metadata": {},
   "source": [
    "![](figs_rl/fig01.png)"
   ]
  },
  {
   "cell_type": "markdown",
   "id": "d4613eb3-7724-4ca5-972b-40afacaaffd1",
   "metadata": {},
   "source": [
    "## Q-learning controller"
   ]
  },
  {
   "cell_type": "markdown",
   "id": "f7a15db5-e74e-459c-bb73-7cb760c78a40",
   "metadata": {},
   "source": [
    " - array N[s,a]\n",
    "    - counts the number of times action $a$ was performed in state $s$\n",
    " - The function alpha_fun computed $\\alpha$ from the count\n",
    " - $alpha\\_fun(c) = 10/(9 + c)$ used often\n",
    " - If $\\alpha$ is fixed, the count array need not be maintained "
   ]
  },
  {
   "cell_type": "markdown",
   "id": "178dbec1-bc6d-4ff0-b5c1-2104faf7a5e9",
   "metadata": {},
   "source": [
    "![](figs_rl/fig03.png)"
   ]
  },
  {
   "cell_type": "markdown",
   "id": "f0b85468-0bbe-4e03-9da2-4d98e7fa4877",
   "metadata": {},
   "source": [
    "- The Q-learner learns an approximation of the optimal Q-function as long as the agent explores enough\n",
    "- and no bound on the number of times it tries an action in any state"
   ]
  },
  {
   "cell_type": "markdown",
   "id": "6793fdf1-17e0-48d8-bf2b-d4b10c0b3247",
   "metadata": {},
   "source": [
    "## Example\n",
    "\n",
    "- Suppose Sam wanted to make an informed decision about whether to party or relax over the weekend.\n",
    "- Sam prefers to party, but is worried about getting sick. \n",
    "- Sam estimates the rewards to be the following irrespective of the resulting state\n",
    "\n",
    "| S        |       A | Reward |\n",
    "|:--------:|:--------:|:--------:|\n",
    "|  healthy |  relax   |  7    |\n",
    "|  healthy |  party   |  10    |\n",
    "|  sick    |  relax   |  0    |\n",
    "|  sick    |  party   |  2    |"
   ]
  },
  {
   "cell_type": "markdown",
   "id": "523f5bb1-71c3-45fb-add5-537496a6fe80",
   "metadata": {},
   "source": [
    " - The agent doesn't know the model and learns from the $s, a, r, s'$ experiences\n",
    " - With a discount $\\gamma = 0.8$, $\\alpha = 0.3$, and $Q$ initially 0"
   ]
  },
  {
   "cell_type": "markdown",
   "id": "8fc60459-d282-4bf4-a685-d4a71291f0e0",
   "metadata": {},
   "source": [
    "![](figs_rl/fig02.png)"
   ]
  },
  {
   "cell_type": "markdown",
   "id": "ca77e75c-30aa-4cac-b2d5-dfe86b124092",
   "metadata": {},
   "source": [
    "- With $\\alpha$ fixed, the Q-values will approximate, but not converge to, the values obtained with value iteration\n",
    "- The smaller $\\alpha$ is, the closer it will converge to the actual Q-values"
   ]
  },
  {
   "cell_type": "markdown",
   "id": "3ad8cef6-d88e-4f09-934c-747c5003837a",
   "metadata": {},
   "source": [
    "# Exploration vs Exploitation"
   ]
  },
  {
   "cell_type": "markdown",
   "id": "6cfa6dfe-39e1-41c5-aafa-7a73401e1b89",
   "metadata": {},
   "source": [
    "- Q-function estimate is not enough to determine what the agent should actually do\n",
    "- Two competing goals for an agent\n",
    "  - **Exploit** the knowledge that it has found to get higher rewards\n",
    "    - do one of the actions that maximizes Q[s,a] by doing one of the actions *a* in state *s*\n",
    "  - **Explore** to build a better estimate of the Q-function\n",
    "    - selecting an action at random at each time\n",
    "   "
   ]
  },
  {
   "cell_type": "markdown",
   "id": "5d92bff6-aef3-4d2f-982c-9961813ef764",
   "metadata": {},
   "source": [
    "- Combine exploitation and exploration\n",
    "  - **$\\epsilon$-greedy exploration strategy**, where $0 \\le \\epsilon \\le 1$\n",
    "  - **softmax** action selection\n",
    "  - **upper confidence bound** method\n",
    "  "
   ]
  },
  {
   "cell_type": "markdown",
   "id": "5b83004a-618d-48c4-a703-532ca8138bfb",
   "metadata": {},
   "source": [
    "## Epsilon-Greedy Exploration"
   ]
  },
  {
   "cell_type": "markdown",
   "id": "dae3ab4c-77fb-4416-99db-6f7c9b7c5381",
   "metadata": {},
   "source": [
    " - The agent selects\n",
    "    - a random action $\\epsilon$ of the time ($0 \\le \\epsilon \\le 1$)\n",
    "    - otherwise, an action that maximizes Q[s,a]\n",
    " - $\\epsilon$ may change over time\n",
    "    - in the early stages, an agent should act more randomly to encourage initial exploration\n",
    "    - as time progresses, the agent should act more greedily by reducing $\\epsilon$   "
   ]
  },
  {
   "cell_type": "markdown",
   "id": "a778f98f-494b-4789-be08-0454da8e0061",
   "metadata": {},
   "source": [
    "## Softmax selection"
   ]
  },
  {
   "cell_type": "markdown",
   "id": "3e0d07c1-3896-41cf-a2d4-5cb3fea7e41f",
   "metadata": {},
   "source": [
    "- Problem with $\\epsilon$-greedy strategy\n",
    "  - treats all the actions, apart from the best action, equivalently\n",
    "  - if some actions are seemingly more promising than others, put more effort in exploring those\n",
    "- Select action *a* with a probability depending on the value of Q[s,a]\n",
    "- Use **Gibbs** or **Boltzmann distribution**, where the probability of selecting action *a* in state *s* is proportional to $e^{Q[s,a]/\\tau}$\n",
    "- In state *s*, the agent selects action *a* with probability\n",
    "\n",
    "  $$\n",
    "    \\frac{e^{Q[s,a]/\\tau}}{\\Sigma_a e^{Q[s,a]/\\tau}}\\,\n",
    "  $$"
   ]
  },
  {
   "cell_type": "markdown",
   "id": "2f04a798-e35a-404a-9574-88d08a6acb32",
   "metadata": {},
   "source": [
    "- $\\tau$ is the *temperature* that specifies how randomly values should be chosen\n",
    "- When $\\tau$ is high, the actions are chosen in almost equal amounts\n",
    "- As the temperature is reduced, higher-valued actions are likely to be chosen\n",
    "- In the limit as $\\tau \\rightarrow 0$, the best action is always chosen "
   ]
  },
  {
   "cell_type": "markdown",
   "id": "afa4a943-9f66-45cb-99e4-919f1044256c",
   "metadata": {},
   "source": [
    "## Upper Confidence Bound"
   ]
  },
  {
   "cell_type": "markdown",
   "id": "983a9637-35b4-4961-8ceb-b91af6a406be",
   "metadata": {},
   "source": [
    "- Problem with the above methods\n",
    "  - they do not distinguish the actions that the agent has tried many times for which there is a good estimate of the actual Q-value, from those actions that have not been tried much for whom the estimate is quite poor\n",
    "- Model a distribution of the uncertainty of the estimate of the expected values, not just the current expected value\n",
    "- The **upper confidence bound** is an upper estimate of the expected value\n",
    "    - is the sum of two terms, the Q estimate and a confidence bound that depends on the number of times the action has been chosen\n",
    "- N[s,a]\n",
    "  - the number of times action *a* has been selected for state *s*\n",
    "- N(s) = $\\Sigma_a$ N[s,a]\n",
    "  - the number of times state *s* has been visited       "
   ]
  },
  {
   "cell_type": "markdown",
   "id": "0ed185cd-8975-442f-a315-7c4162ecba1e",
   "metadata": {},
   "source": [
    "$$\n",
    "U⁢C⁢B⁢1⁢(s,a)=Q⁢[s,a]+C * \\sqrt{\\frac{log ⁡N⁢(s)}{N⁢[s,a]}}\\,\n",
    "$$"
   ]
  },
  {
   "cell_type": "markdown",
   "id": "2def37df-e2d6-477a-965f-b0516049ef89",
   "metadata": {},
   "source": [
    "- $C$ is a constant that depends on the magnitude of the Q-values  (e.g., $\\sqrt{2}$ )"
   ]
  },
  {
   "cell_type": "markdown",
   "id": "b318ca1f-8171-47ab-bbe8-3eeb82c94025",
   "metadata": {},
   "source": [
    "## Code "
   ]
  },
  {
   "cell_type": "markdown",
   "id": "28eba254-acbf-4053-81be-66dddf24e937",
   "metadata": {},
   "source": [
    "- *State* is the state that action is chosen for\n",
    "- *Qs* is the {action : q_value} dictionary for the state\n",
    "- *Vs* is a {action : visits} dictionary for the current state\n",
    "    - where *visits* is the number of times that the action has been carried out in the current state "
   ]
  },
  {
   "cell_type": "code",
   "execution_count": 12,
   "id": "a74c6da1-bf1d-43e3-b4fb-bc3db210e134",
   "metadata": {},
   "outputs": [],
   "source": [
    "def epsilon_greedy(state, Qs, Vs={}, epsilon=0.2):\n",
    "        \"\"\"select action given epsilon greedy\n",
    "        Qs is the {action:Q-value} dictionary for current state\n",
    "        Vs is ignored\n",
    "        epsilon is the probability of acting randomly\n",
    "        \"\"\"\n",
    "        if flip(epsilon):\n",
    "            return random.choice(list(Qs.keys())) # act randomly\n",
    "        else:\n",
    "            return argmaxd(Qs) # pick an action with max Q"
   ]
  },
  {
   "cell_type": "code",
   "execution_count": 13,
   "id": "055c34ec-7fde-4a89-bc93-f4d02e4aa782",
   "metadata": {},
   "outputs": [],
   "source": [
    "def ucb(state, Qs, Vs, c=1.4):\n",
    "        \"\"\"select action given upper-confidence bound\n",
    "        Qs is the  {action:Q-value} dictionary for current state\n",
    "        Vs is the {action:visits} dictionary for current state\n",
    "\n",
    "        0.01 is to prevent divide-by zero when Vs[a]==0\n",
    "        \"\"\"\n",
    "        Ns = sum(Vs.values())\n",
    "        ucb1 = {a:Qs[a]+c*math.sqrt(Ns/(0.01+Vs[a]))\n",
    "                    for a in Qs.keys()}\n",
    "        action = argmaxd(ucb1)\n",
    "        return action"
   ]
  },
  {
   "cell_type": "markdown",
   "id": "ea176926-2298-4310-926b-e8ff4ba9420b",
   "metadata": {},
   "source": [
    "## Q-learner Code"
   ]
  },
  {
   "cell_type": "code",
   "execution_count": 14,
   "id": "aed66ac2-a36b-4f9c-856a-db17d4744f06",
   "metadata": {},
   "outputs": [],
   "source": [
    "class Q_learner(RL_agent):\n",
    "    \"\"\"A Q-learning agent has\n",
    "    belief-state consisting of\n",
    "        state is the previous state (initialized by RL_agent\n",
    "        q is a {(state,action):value} dict\n",
    "        visits is a {(state,action):n} dict.  n is how many times action was done in state\n",
    "        acc_rewards is the accumulated reward\n",
    "    \"\"\"\n",
    "    \n",
    "    def __init__(self, role, actions, discount,\n",
    "                 exploration_strategy=epsilon_greedy, es_kwargs={},\n",
    "                 alpha_fun=lambda _:0.2,\n",
    "                 Qinit=0, method=\"Q_learner\"):\n",
    "        \"\"\"\n",
    "        role is the role of the agent (e.g., in a game)\n",
    "        actions is the set of actions the agent can do\n",
    "        discount is the discount factor\n",
    "        exploration_strategy is the exploration function, default \"epsilon_greedy\"\n",
    "        es_kwargs is extra arguments of exploration_strategy \n",
    "        alpha_fun is a function that computes alpha from the number of visits\n",
    "        Qinit is the initial q-value\n",
    "        method gives the method used to implement the role (for plotting)\n",
    "        \"\"\"\n",
    "        RL_agent.__init__(self, actions)\n",
    "        self.role = role\n",
    "        self.discount = discount\n",
    "        self.exploration_strategy = exploration_strategy\n",
    "        self.es_kwargs = es_kwargs\n",
    "        self.alpha_fun = alpha_fun\n",
    "        self.Qinit = Qinit\n",
    "        self.method = method\n",
    "        self.acc_rewards = 0\n",
    "        self.Q = {}\n",
    "        self.visits = {}\n",
    "\n",
    "    def initial_action(self, state):\n",
    "        \"\"\" Returns the initial action; selected at random\n",
    "        Initialize Data Structures\n",
    "        \"\"\"\n",
    "        self.state = state\n",
    "        self.Q[state] = {act:self.Qinit for act in self.actions}\n",
    "        self.visits[state] = {act:0 for act in self.actions}\n",
    "        self.action = self.exploration_strategy(state, self.Q[state],\n",
    "                                     self.visits[state],**self.es_kwargs)\n",
    "        self.display(2, f\"Initial State: {state} Action {self.action}\")\n",
    "        self.display(2,\"s\\ta\\tr\\ts'\\tQ\")\n",
    "        return self.action\n",
    "        \n",
    "    def select_action(self, reward, next_state):\n",
    "        \"\"\"give reward and next state, select next action to be carried out\"\"\"\n",
    "        if next_state not in self.visits:  # next state not seen before\n",
    "            self.Q[next_state] = {act:self.Qinit for act in self.actions}\n",
    "            self.visits[next_state] = {act:0 for act in self.actions}\n",
    "        self.visits[self.state][self.action] +=1\n",
    "        alpha = self.alpha_fun(self.visits[self.state][self.action])\n",
    "        self.Q[self.state][self.action] += alpha*(\n",
    "                            reward\n",
    "                            + self.discount * max(self.Q[next_state].values())\n",
    "                            - self.Q[self.state][self.action])\n",
    "        self.display(2,self.state, self.action, reward, next_state, \n",
    "                     self.Q[self.state][self.action], sep='\\t')\n",
    "        self.action = self.exploration_strategy(next_state, self.Q[next_state],\n",
    "                                     self.visits[next_state],**self.es_kwargs)\n",
    "        self.state = next_state\n",
    "        self.display(3,f\"Agent {self.role} doing {self.action} in state {self.state}\")\n",
    "        return self.action\n",
    "\n",
    "    def q(self,s,a):\n",
    "        if s in self.Q and a in self.Q[s]:\n",
    "            return self.Q[s][a]\n",
    "        else:\n",
    "            return self.Qinit\n",
    "            \n",
    "    def v(self,s):\n",
    "        if s in self.Q:\n",
    "            return max(self.Q[s].values())\n",
    "        else:\n",
    "            return self.Qinit\n",
    "    \n"
   ]
  },
  {
   "cell_type": "markdown",
   "id": "ff11b39b-d6b2-4ee0-b77d-fcaa5c8a4de8",
   "metadata": {},
   "source": [
    "## Example - Party"
   ]
  },
  {
   "cell_type": "code",
   "execution_count": 15,
   "id": "0063ba1e-f11f-4af9-8302-4244490784b3",
   "metadata": {},
   "outputs": [
    {
     "name": "stdout",
     "output_type": "stream",
     "text": [
      "67.1780976396171 66.91778321587559 \n",
      "52.641191842471045 55.158532065879676 \n"
     ]
    }
   ],
   "source": [
    "env = Party_env()\n",
    "\n",
    "agent1 = Q_learner(env.name, env.actions, discount = 0.9, \n",
    "               alpha_fun = lambda k : 10/(9+k))\n",
    "sim = Simulate(agent1, env).start()\n",
    "sim.go(100000)\n",
    "\n",
    "states = ['healthy', 'sick']\n",
    "for s in states:\n",
    "    for a in env.actions:\n",
    "        print(agent1.q(s,a), end=' ')\n",
    "    print()"
   ]
  },
  {
   "cell_type": "code",
   "execution_count": 16,
   "id": "4b6ed9a9-33d4-4da1-8695-c883fb1069cf",
   "metadata": {},
   "outputs": [
    {
     "name": "stdout",
     "output_type": "stream",
     "text": [
      "Initial State: healthy Action party\n",
      "s\ta\tr\ts'\tQ\n",
      "step=1 reward=10, state=healthy\n",
      "healthy\tparty\t10\thealthy\t3.0\n",
      "Agent Party Decision doing party in state healthy\n",
      "      action=party\n",
      "step=2 reward=10, state=sick\n",
      "healthy\tparty\t10\tsick\t5.1\n",
      "Agent Party Decision doing relax in state sick\n",
      "      action=relax\n",
      "step=3 reward=0, state=healthy\n",
      "sick\trelax\t0\thealthy\t1.224\n",
      "Agent Party Decision doing party in state healthy\n",
      "      action=party\n",
      "step=4 reward=10, state=healthy\n",
      "healthy\tparty\t10\thealthy\t7.794\n",
      "Agent Party Decision doing relax in state healthy\n",
      "      action=relax\n",
      "step=5 reward=7, state=sick\n",
      "healthy\trelax\t7\tsick\t2.39376\n",
      "Agent Party Decision doing relax in state sick\n",
      "      action=relax\n",
      "step=6 reward=0, state=healthy\n",
      "sick\trelax\t0\thealthy\t2.72736\n",
      "Agent Party Decision doing party in state healthy\n",
      "      action=party\n",
      "step=7 reward=10, state=healthy\n",
      "healthy\tparty\t10\thealthy\t10.32636\n",
      "Agent Party Decision doing party in state healthy\n",
      "      action=party\n",
      "step=8 reward=10, state=sick\n",
      "healthy\tparty\t10\tsick\t10.8830184\n",
      "Agent Party Decision doing relax in state sick\n",
      "      action=relax\n",
      "step=9 reward=0, state=healthy\n",
      "sick\trelax\t0\thealthy\t4.521076416\n",
      "Agent Party Decision doing party in state healthy\n",
      "      action=party\n",
      "step=10 reward=10, state=sick\n",
      "healthy\tparty\t10\tsick\t11.70317121984\n",
      "Agent Party Decision doing relax in state sick\n",
      "      action=relax\n"
     ]
    }
   ],
   "source": [
    "random.seed(321)\n",
    "\n",
    "env = Party_env()\n",
    "env.max_display_level = 3\n",
    "\n",
    "agent1 = Q_learner(env.name, env.actions, discount = 0.8, \n",
    "               alpha_fun = lambda k : 0.3)\n",
    "agent1.max_display_level = 3\n",
    "\n",
    "sim = Simulate(agent1, env).start()\n",
    "sim.max_display_level = 3\n",
    "\n",
    "sim.go(10);"
   ]
  },
  {
   "cell_type": "markdown",
   "id": "2330a2f5-2576-40e3-996f-0c4d1001c914",
   "metadata": {},
   "source": [
    "# On-Policy Learning"
   ]
  },
  {
   "cell_type": "markdown",
   "id": "5775512e-b998-4c40-b841-1a0dd02c516c",
   "metadata": {},
   "source": [
    "- Q-learning is an **off-policy** learner\n",
    "    - learns the value of an optimal policy independently of the agent's actions, as long as it explores enough\n",
    "    -  can learn optimal policy even it is acting randomly\n",
    "    -  However, it does not learn the value of the policy it is following, because it included exploration steps\n",
    "- Drawback of an off-policy learner\n",
    "    - When there are large negative rewards, ignoring what the agent actually does is dangerous\n",
    "- Alternative approach\n",
    "    - Learn the value of the policy the agent is actually carrying out, which includes exploration steps, so that the policy can be iteratively improved\n",
    "    - Take into account the costs associated with exploration\n",
    "-   **on-policy learner** learns the value of the policy being carried out by the agent, including the exploration steps    "
   ]
  },
  {
   "cell_type": "markdown",
   "id": "684d2189-bd79-42a7-89a5-a0ea4f687d0d",
   "metadata": {},
   "source": [
    "## SARSA learner"
   ]
  },
  {
   "cell_type": "markdown",
   "id": "c5abb1a4-0b20-497f-af23-7ac743588b94",
   "metadata": {},
   "source": [
    " - Uses *state-action-reward-state-action* experiences to update Q-values\n",
    " - An **on-policy** reinforcement learning algorithm that estimates the value of the policy being followed\n",
    " - An experience is of the form ⟨s,a,r,s′,a′⟩\n",
    "     - the agent in state *s* did action *a*, received reward *r*, and ended up in state $s'$, from which it decided to do action $a'$\n",
    "     - this experience is used to update Q(s,a)\n",
    " - The new value this experience provides is\n",
    "     - r + $\\gamma$ ⁢Q⁢(s′,a′)   "
   ]
  },
  {
   "cell_type": "markdown",
   "id": "89ab3ae5-e40e-4ac1-bb62-9952934aceb0",
   "metadata": {},
   "source": [
    "![](figs_rl/fig04.png)"
   ]
  },
  {
   "cell_type": "markdown",
   "id": "38928860-51fe-4c83-9eb2-47eeb487d37f",
   "metadata": {},
   "source": [
    "## SARSA-learner Code"
   ]
  },
  {
   "cell_type": "code",
   "execution_count": 17,
   "id": "5a59590b-e874-4bf5-b896-d8e38cdb8189",
   "metadata": {},
   "outputs": [],
   "source": [
    "class SARSA(Q_learner):\n",
    "    def __init__(self,*args, **nargs):\n",
    "        Q_learner.__init__(self,*args, **nargs)\n",
    "        self.method = \"SARSA\"\n",
    "        \n",
    "    def select_action(self, reward, next_state):\n",
    "        \"\"\"give reward and next state, select next action to be carried out\"\"\"\n",
    "        if next_state not in self.visits:  # next state not seen before\n",
    "            self.Q[next_state] = {act:self.Qinit for act in self.actions}\n",
    "            self.visits[next_state] = {act:0 for act in self.actions}\n",
    "        self.visits[self.state][self.action] +=1\n",
    "        alpha = self.alpha_fun(self.visits[self.state][self.action])\n",
    "        next_action = self.exploration_strategy(next_state, self.Q[next_state],\n",
    "                                     self.visits[next_state],**self.es_kwargs)\n",
    "        self.Q[self.state][self.action] += alpha*(\n",
    "                            reward\n",
    "                            + self.discount * self.Q[next_state][next_action]\n",
    "                            - self.Q[self.state][self.action])\n",
    "        self.display(2,self.state, self.action, reward, next_state, \n",
    "                     self.Q[self.state][self.action], sep='\\t')\n",
    "        self.state = next_state\n",
    "        self.action = next_action\n",
    "        self.display(3,f\"Agent {self.role} doing {self.action} in state {self.state}\")\n",
    "        return self.action"
   ]
  },
  {
   "cell_type": "markdown",
   "id": "68b710f0-9819-4312-8c6f-533acc37552e",
   "metadata": {},
   "source": [
    "## Example - Party"
   ]
  },
  {
   "cell_type": "code",
   "execution_count": 18,
   "id": "49c854d3-f038-41c5-b6c3-ee0032550205",
   "metadata": {},
   "outputs": [
    {
     "name": "stdout",
     "output_type": "stream",
     "text": [
      "66.21525047283787 65.99113308324256 \n",
      "51.707859767761775 54.08535958884556 \n"
     ]
    }
   ],
   "source": [
    "env = Party_env()\n",
    "\n",
    "agent2 = SARSA(env.name, env.actions, discount = 0.9, \n",
    "               alpha_fun = lambda k : 10/(9+k))\n",
    "sim = Simulate(agent2, env).start()\n",
    "sim.go(100000)\n",
    "\n",
    "states = ['healthy', 'sick']\n",
    "for s in states:\n",
    "    for a in env.actions:\n",
    "        print(agent2.q(s,a), end=' ')\n",
    "    print()"
   ]
  },
  {
   "cell_type": "code",
   "execution_count": 19,
   "id": "040a947f-3618-4395-8722-b46421deb27e",
   "metadata": {},
   "outputs": [
    {
     "name": "stdout",
     "output_type": "stream",
     "text": [
      "Initial State: healthy Action party\n",
      "s\ta\tr\ts'\tQ\n",
      "step=1 reward=10, state=healthy\n",
      "healthy\tparty\t10\thealthy\t10.0\n",
      "Agent Party Decision doing relax in state healthy\n",
      "      action=relax\n",
      "step=2 reward=7, state=sick\n",
      "healthy\trelax\t7\tsick\t7.0\n",
      "Agent Party Decision doing relax in state sick\n",
      "      action=relax\n",
      "step=3 reward=0, state=healthy\n",
      "sick\trelax\t0\thealthy\t9.0\n",
      "Agent Party Decision doing party in state healthy\n",
      "      action=party\n",
      "step=4 reward=10, state=healthy\n",
      "healthy\tparty\t10\thealthy\t15.727272727272727\n",
      "Agent Party Decision doing relax in state healthy\n",
      "      action=relax\n",
      "step=5 reward=7, state=sick\n",
      "healthy\trelax\t7\tsick\t14.363636363636363\n",
      "Agent Party Decision doing relax in state sick\n",
      "      action=relax\n",
      "step=6 reward=0, state=healthy\n",
      "sick\trelax\t0\thealthy\t13.68595041322314\n",
      "Agent Party Decision doing party in state healthy\n",
      "      action=party\n",
      "step=7 reward=10, state=healthy\n",
      "healthy\tparty\t10\thealthy\t22.75\n",
      "Agent Party Decision doing party in state healthy\n",
      "      action=party\n",
      "step=8 reward=10, state=sick\n",
      "healthy\tparty\t10\tsick\t22.41719643992371\n",
      "Agent Party Decision doing relax in state sick\n",
      "      action=relax\n",
      "step=9 reward=0, state=healthy\n",
      "sick\trelax\t0\thealthy\t19.09388906547997\n",
      "Agent Party Decision doing party in state healthy\n",
      "      action=party\n",
      "step=10 reward=10, state=sick\n",
      "healthy\tparty\t10\tsick\t25.822413382072472\n",
      "Agent Party Decision doing relax in state sick\n",
      "      action=relax\n"
     ]
    }
   ],
   "source": [
    "random.seed(321)\n",
    "\n",
    "env = Party_env()\n",
    "env.max_display_level = 3\n",
    "\n",
    "agent2 = SARSA(env.name, env.actions, discount = 0.9, \n",
    "               alpha_fun = lambda k : 10/(9+k))\n",
    "agent2.max_display_level = 3\n",
    "\n",
    "sim = Simulate(agent2, env).start()\n",
    "sim.max_display_level = 3\n",
    "\n",
    "sim.go(10);"
   ]
  },
  {
   "cell_type": "markdown",
   "id": "8714017b-a4a9-42cc-aba2-565c3a8f03ee",
   "metadata": {},
   "source": [
    "## Example - Monster Game"
   ]
  },
  {
   "cell_type": "code",
   "execution_count": 20,
   "id": "a023f861-6342-4209-9304-a828dc3a9596",
   "metadata": {},
   "outputs": [
    {
     "data": {
      "image/png": "[encoded data removed]",
      "text/plain": [
       "<Figure size 640x480 with 1 Axes>"
      ]
     },
     "metadata": {},
     "output_type": "display_data"
    }
   ],
   "source": [
    "random.seed(321)\n",
    "\n",
    "mon_env = Monster_game_env()\n",
    "\n",
    "mag1 = Q_learner(mon_env.name, mon_env.actions, 0.9,\n",
    "                     method=\"alpha=0.2\")\n",
    "#Simulate(mag1,mon_env).start().go(100000).plot()\n",
    "\n",
    "\n",
    "mag_ucb = Q_learner(mon_env.name, mon_env.actions, 0.9,\n",
    "                        exploration_strategy = ucb, es_kwargs={'c':0.1}, method=\"UCB(0.1),alpha=0.2\")\n",
    "#Simulate(mag_ucb,mon_env).start().go(100000).plot()\n",
    "\n",
    "\n",
    "mag2 = Q_learner(mon_env.name, mon_env.actions, 0.9,\n",
    "                     alpha_fun=lambda k:1/k,method=\"alpha=1/k\")\n",
    "#Simulate(mag2,mon_env).start().go(100000).plot()\n",
    "\n",
    "\n",
    "mag3 = Q_learner(mon_env.name, mon_env.actions, 0.9,\n",
    "                     alpha_fun=lambda k:10/(9+k), method=\"Q; alpha=10/(9+k)\")\n",
    "Simulate(mag3,mon_env).start().go(100000).plot()\n",
    "\n",
    "mag3_1 = SARSA(mon_env.name, mon_env.actions, 0.9,\n",
    "                     alpha_fun=lambda k:10/(9+k), method=\"S; alpha=10/(9+k)\")\n",
    "Simulate(mag3_1,mon_env).start().go(100000).plot()\n",
    "\n",
    "\n",
    "mag4 = Q_learner(mon_env.name, mon_env.actions, 0.9,\n",
    "                 alpha_fun=lambda k:10/(9+k),\n",
    "                 exploration_strategy = ucb, es_kwargs={'c':0.1},\n",
    "                 method=\"ucb & alpha=10/(9+k)\")\n",
    "#Simulate(mag4,mon_env).start().go(100000).plot()\n"
   ]
  },
  {
   "cell_type": "code",
   "execution_count": null,
   "id": "2aefdc48-a72e-48c5-bb61-715a54bec0dd",
   "metadata": {},
   "outputs": [],
   "source": []
  },
  {
   "cell_type": "code",
   "execution_count": null,
   "id": "e09a37af-a412-4916-a463-f1f05681c2c3",
   "metadata": {},
   "outputs": [],
   "source": []
  },
  {
   "cell_type": "markdown",
   "id": "b5bd583a-1a82-49d6-82a8-b8d10cacbc06",
   "metadata": {},
   "source": [
    "# RL with Generalization"
   ]
  },
  {
   "cell_type": "markdown",
   "id": "96e21598-a6de-4c13-a405-42c96e36c479",
   "metadata": {},
   "source": [
    "- Alternative to reasoning explicitly in terms of states\n",
    "- Reason in terms of features, which can either be provided explicitly or learned\n",
    "- Generic reinforcement on-policy learner that incorporates a supervised learner\n",
    "- The learner carries out the following operations\n",
    "    - *add(x,y)* which adds a new example to the dataset, with input $x$ and target value $y$\n",
    "    - *predict(x)* which gives a point prediction for the target for an example with input $x$\n",
    "- In the following, the input $x$ for the learner is a *state-action* pair, and the target for pair $(s,a)$ is an estimate of $Q^*(s,a)$"
   ]
  },
  {
   "cell_type": "markdown",
   "id": "53404797-4092-476f-95be-7750154bfae5",
   "metadata": {},
   "source": [
    "![](figs_rl/fig06.png)"
   ]
  },
  {
   "cell_type": "markdown",
   "id": "9838c1e2-e3c9-495c-8f80-d98e2d359bde",
   "metadata": {},
   "source": [
    "# SARSA with Linear Function Approximation"
   ]
  },
  {
   "cell_type": "markdown",
   "id": "bcd3fd37-221a-4af7-8eb5-aad100e0da85",
   "metadata": {},
   "source": [
    "- A linear function of features for the state and the action\n",
    "- Require more information about the domain in terms of features\n",
    "- Based on incremental gradient descent that updates the parameters after every example\n",
    "- Suppose $F_1, ..., F_n$ are numerical features of the state and the action\n",
    "    - $F_i(s,a)$ provides the value for the $i^{th}$ feature for state *s* and action *a*\n",
    "- Used in representing the linear Q-function\n",
    "\n",
    "$$\n",
    "  Q_{\\bar{w}}(s,a) = w_0 + w_1 * F_1(s,a) + ... + w_n * F_n(s,a)\n",
    "$$\n",
    "\n",
    "for some tuple of weights $\\bar{w} = ⟨w_0,w_1,…,w_n⟩$ that have to be learned "
   ]
  },
  {
   "cell_type": "markdown",
   "id": "35f7dd00-5640-4bbc-af66-0aea288984ed",
   "metadata": {},
   "source": [
    "- An experience in SARSA of the form ⟨s,a,r,s',a'⟩ provides the new estimate $r + \\gamma * Q_{\\bar{w}}(s',a')$ to update $Q_{\\bar{w}}(s,a)$\n",
    "- used as a data point for **linear regression**\n",
    "- Let $\\delta = Q_{\\bar{w}}(s,a) - (r + \\gamma * Q_{\\bar{w}}(s',a')$\n",
    "- The weight $w_i$ is updated by\n",
    "  $$\n",
    "    w_i = w_i - \\eta * \\delta * F_i(s,a)\n",
    "  $$"
   ]
  },
  {
   "cell_type": "markdown",
   "id": "9b158e5a-3546-4f59-ad6a-036390b23daa",
   "metadata": {},
   "source": [
    "![](figs_rl/fig07.png)"
   ]
  },
  {
   "cell_type": "code",
   "execution_count": null,
   "id": "c58c3ed5-f1ac-4ce5-b04f-94af860f6e3c",
   "metadata": {},
   "outputs": [],
   "source": []
  }
 ],
 "metadata": {
  "kernelspec": {
   "display_name": "Python 3 (ipykernel)",
   "language": "python",
   "name": "python3"
  },
  "language_info": {
   "codemirror_mode": {
    "name": "ipython",
    "version": 3
   },
   "file_extension": ".py",
   "mimetype": "text/x-python",
   "name": "python",
   "nbconvert_exporter": "python",
   "pygments_lexer": "ipython3",
   "version": "3.12.1"
  }
 },
 "nbformat": 4,
 "nbformat_minor": 5
}
