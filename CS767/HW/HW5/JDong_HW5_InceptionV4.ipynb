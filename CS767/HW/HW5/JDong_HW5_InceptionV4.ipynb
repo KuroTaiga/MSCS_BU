{
 "cells": [
  {
   "cell_type": "code",
   "execution_count": 1,
   "id": "ca977c99-1a2c-496c-866a-0d6a63f7cdf3",
   "metadata": {},
   "outputs": [
    {
     "name": "stderr",
     "output_type": "stream",
     "text": [
      "C:\\Users\\docto\\anaconda3\\envs\\py310\\lib\\site-packages\\torchvision\\models\\_utils.py:208: UserWarning: The parameter 'pretrained' is deprecated since 0.13 and may be removed in the future, please use 'weights' instead.\n",
      "  warnings.warn(\n",
      "C:\\Users\\docto\\anaconda3\\envs\\py310\\lib\\site-packages\\torchvision\\models\\_utils.py:223: UserWarning: Arguments other than a weight enum or `None` for 'weights' are deprecated since 0.13 and may be removed in the future. The current behavior is equivalent to passing `weights=Inception_V3_Weights.IMAGENET1K_V1`. You can also use `weights=Inception_V3_Weights.DEFAULT` to get the most up-to-date weights.\n",
      "  warnings.warn(msg)\n"
     ]
    }
   ],
   "source": [
    "import torch\n",
    "from torchvision import models, transforms\n",
    "from PIL import Image\n",
    "import urllib\n",
    "import glob\n",
    "import numpy as np\n",
    "# Load the pretrained InceptionV4 model\n",
    "# Note: InceptionV4 is not directly available in torchvision, so we use InceptionV3 as a close substitute for demonstration\n",
    "model = models.inception_v3(pretrained=True)\n",
    "model.eval()  # Set the model to inference mode\n",
    "\n",
    "# Define the image preprocessing\n",
    "preprocess = transforms.Compose([\n",
    "    transforms.Resize(299),  # Resize the image to 299x299\n",
    "    transforms.CenterCrop(299),\n",
    "    transforms.ToTensor(),\n",
    "    transforms.Normalize(mean=[0.485, 0.456, 0.406], std=[0.229, 0.224, 0.225]),\n",
    "])\n",
    "\n",
    "# Load and preprocess an image from Tiny ImageNet\n",
    "image_path = 'data\\\\tiny-imagenet-200\\\\val\\\\images\\\\val_'  \n",
    "#image_path = 'data\\\\tiny-imagenet-200\\\\val\\\\images\\\\*'  \n",
    "image_list = []\n",
    "tag_list  = []\n",
    "for imageCount in range(0,10000): # this way I can set it to a lower number to get faster results\n",
    "    currpath = image_path+str(imageCount)+'.JPEG'\n",
    "#for iamgeName in glob.glob(image_path):\n",
    "    image = Image.open(currpath).convert('RGB')\n",
    "    image = preprocess(image)\n",
    "    image = image.unsqueeze(0)  # Add a batch dimension\n",
    "    image_list.append(image)\n",
    "with open('data\\\\tiny-imagenet-200\\\\val\\\\val_annotations.txt', 'r') as f:\n",
    "    for line in f:\n",
    "        y = line.split()\n",
    "        tag_list.append(y[1])\n",
    "f.close()\n",
    "with open('data\\\\tiny-imagenet-200\\\\words.txt', 'r') as f:\n",
    "    wnid_list = []\n",
    "    names_list = []\n",
    "    for line in f:\n",
    "        y = line.split('\\n')[0].split('\\t')\n",
    "        if y!=['']:\n",
    "            wnid_list.append( y[0])\n",
    "            names = y[1].split(', ')\n",
    "    \n",
    "            names_list.append(names)\n",
    "        #print(y)\n",
    "f.close()"
   ]
  },
  {
   "cell_type": "code",
   "execution_count": 2,
   "id": "708b6145-6c0e-4425-b6db-35666279a62d",
   "metadata": {},
   "outputs": [],
   "source": [
    "currpath = image_path+str(0)+'.JPEG'\n",
    "#for iamgeName in glob.glob(image_path):\n",
    "image = Image.open(currpath).convert('RGB')\n",
    "image = preprocess(image)\n",
    "image = image.unsqueeze(0)  # Add a batch dimension"
   ]
  },
  {
   "cell_type": "code",
   "execution_count": 3,
   "id": "3824c315-f348-4278-841c-ee778388e1de",
   "metadata": {},
   "outputs": [
    {
     "name": "stdout",
     "output_type": "stream",
     "text": [
      "Accuracy 0.498\n"
     ]
    }
   ],
   "source": [
    "url, filename = (\"https://raw.githubusercontent.com/pytorch/hub/master/imagenet_classes.txt\", \"imagenet_classes.txt\")\n",
    "urllib.request.urlretrieve(url, filename) \n",
    "with open(\"imagenet_classes.txt\", \"r\") as f:\n",
    "    categories = [s.strip() for s in f.readlines()]\n",
    "\n",
    "correct_count=0\n",
    "img_count = 0\n",
    "for currImage in image_list:\n",
    "    \n",
    "    # Perform inference\n",
    "    with torch.no_grad():\n",
    "        outputs = model(currImage)\n",
    "    \n",
    "    # The output has unnormalized scores. To get probabilities, apply softmax.\n",
    "    probabilities = torch.nn.functional.softmax(outputs[0], dim=0)\n",
    "    \n",
    "    # let's do top 1\n",
    "    top_prob, top_catid = torch.topk(probabilities,1)\n",
    "    catid = top_catid[0].item()\n",
    "    prob = top_prob[0].item()\n",
    "    #print(categories[catid])\n",
    "    for currlist in names_list:\n",
    "        if categories[catid] in currlist:\n",
    "           \n",
    "            predWNID = wnid_list[names_list.index(currlist)]\n",
    "\n",
    "            if predWNID in tag_list:\n",
    "\n",
    "                correct_count+=1\n",
    "    img_count+=1\n",
    "\n",
    "    # code in case we want to do top 5\n",
    "    # Display the top 5 categories per the original ImageNet labels\n",
    "    # Note: You would need to map these to Tiny ImageNet classes manually as discussed\n",
    "    # top5_prob, top5_catid = torch.topk(probabilities, 5)\n",
    "    # for i in range(top5_prob.size(0)):\n",
    "    #     print(f\"{i+1}: {top5_catid[i].item()} with probability {top5_prob[i].item()}\")\n",
    "    #     print(categories[top5_catid[i]], top5_prob[i].item())\n",
    "print(\"Accuracy\",round(correct_count/img_count,4))"
   ]
  }
 ],
 "metadata": {
  "kernelspec": {
   "display_name": "Python 3 (ipykernel)",
   "language": "python",
   "name": "python3"
  },
  "language_info": {
   "codemirror_mode": {
    "name": "ipython",
    "version": 3
   },
   "file_extension": ".py",
   "mimetype": "text/x-python",
   "name": "python",
   "nbconvert_exporter": "python",
   "pygments_lexer": "ipython3",
   "version": "3.10.14"
  }
 },
 "nbformat": 4,
 "nbformat_minor": 5
}
