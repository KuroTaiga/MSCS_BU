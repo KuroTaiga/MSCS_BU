{
 "cells": [
  {
   "cell_type": "code",
   "execution_count": 1,
   "metadata": {},
   "outputs": [
    {
     "ename": "ModuleNotFoundError",
     "evalue": "No module named 'cv2'",
     "output_type": "error",
     "traceback": [
      "\u001b[1;31m---------------------------------------------------------------------------\u001b[0m",
      "\u001b[1;31mModuleNotFoundError\u001b[0m                       Traceback (most recent call last)",
      "Cell \u001b[1;32mIn[1], line 1\u001b[0m\n\u001b[1;32m----> 1\u001b[0m \u001b[38;5;28;01mimport\u001b[39;00m \u001b[38;5;21;01mcv2\u001b[39;00m\n\u001b[0;32m      2\u001b[0m \u001b[38;5;28;01mimport\u001b[39;00m \u001b[38;5;21;01mglob\u001b[39;00m\n\u001b[0;32m      4\u001b[0m \u001b[38;5;28;01mdef\u001b[39;00m \u001b[38;5;21mresize_img\u001b[39m(image_path, size):\n",
      "\u001b[1;31mModuleNotFoundError\u001b[0m: No module named 'cv2'"
     ]
    }
   ],
   "source": [
    "import cv2\n",
    "import glob\n",
    "\n",
    "def resize_img(image_path, size):\n",
    "    img = cv2.imread(image_path)\n",
    "    img = cv2.resize(img,(size,size), interpolation = cv2.INTER_CUBIC)\n",
    "    cv2.imwrite(image_path,img)"
   ]
  },
  {
   "cell_type": "code",
   "execution_count": 3,
   "metadata": {},
   "outputs": [
    {
     "name": "stdout",
     "output_type": "stream",
     "text": [
      "Collecting tensorflow-cpu\n",
      "  Downloading tensorflow_cpu-2.16.1-cp311-cp311-win_amd64.whl.metadata (3.5 kB)\n",
      "Requirement already satisfied: tensorflow-intel==2.16.1 in c:\\users\\docto\\anaconda3\\lib\\site-packages (from tensorflow-cpu) (2.16.1)\n",
      "Requirement already satisfied: absl-py>=1.0.0 in c:\\users\\docto\\anaconda3\\lib\\site-packages (from tensorflow-intel==2.16.1->tensorflow-cpu) (2.1.0)\n",
      "Requirement already satisfied: astunparse>=1.6.0 in c:\\users\\docto\\anaconda3\\lib\\site-packages (from tensorflow-intel==2.16.1->tensorflow-cpu) (1.6.3)\n",
      "Requirement already satisfied: flatbuffers>=23.5.26 in c:\\users\\docto\\anaconda3\\lib\\site-packages (from tensorflow-intel==2.16.1->tensorflow-cpu) (24.3.25)\n",
      "Requirement already satisfied: gast!=0.5.0,!=0.5.1,!=0.5.2,>=0.2.1 in c:\\users\\docto\\anaconda3\\lib\\site-packages (from tensorflow-intel==2.16.1->tensorflow-cpu) (0.5.4)\n",
      "Requirement already satisfied: google-pasta>=0.1.1 in c:\\users\\docto\\anaconda3\\lib\\site-packages (from tensorflow-intel==2.16.1->tensorflow-cpu) (0.2.0)\n",
      "Requirement already satisfied: h5py>=3.10.0 in c:\\users\\docto\\anaconda3\\lib\\site-packages (from tensorflow-intel==2.16.1->tensorflow-cpu) (3.10.0)\n",
      "Requirement already satisfied: libclang>=13.0.0 in c:\\users\\docto\\anaconda3\\lib\\site-packages (from tensorflow-intel==2.16.1->tensorflow-cpu) (18.1.1)\n",
      "Requirement already satisfied: ml-dtypes~=0.3.1 in c:\\users\\docto\\anaconda3\\lib\\site-packages (from tensorflow-intel==2.16.1->tensorflow-cpu) (0.3.2)\n",
      "Requirement already satisfied: opt-einsum>=2.3.2 in c:\\users\\docto\\anaconda3\\lib\\site-packages (from tensorflow-intel==2.16.1->tensorflow-cpu) (3.3.0)\n",
      "Requirement already satisfied: packaging in c:\\users\\docto\\anaconda3\\lib\\site-packages (from tensorflow-intel==2.16.1->tensorflow-cpu) (23.1)\n",
      "Requirement already satisfied: protobuf!=4.21.0,!=4.21.1,!=4.21.2,!=4.21.3,!=4.21.4,!=4.21.5,<5.0.0dev,>=3.20.3 in c:\\users\\docto\\anaconda3\\lib\\site-packages (from tensorflow-intel==2.16.1->tensorflow-cpu) (3.20.3)\n",
      "Requirement already satisfied: requests<3,>=2.21.0 in c:\\users\\docto\\anaconda3\\lib\\site-packages (from tensorflow-intel==2.16.1->tensorflow-cpu) (2.31.0)\n",
      "Requirement already satisfied: setuptools in c:\\users\\docto\\anaconda3\\lib\\site-packages (from tensorflow-intel==2.16.1->tensorflow-cpu) (68.2.2)\n",
      "Requirement already satisfied: six>=1.12.0 in c:\\users\\docto\\anaconda3\\lib\\site-packages (from tensorflow-intel==2.16.1->tensorflow-cpu) (1.16.0)\n",
      "Requirement already satisfied: termcolor>=1.1.0 in c:\\users\\docto\\anaconda3\\lib\\site-packages (from tensorflow-intel==2.16.1->tensorflow-cpu) (2.4.0)\n",
      "Requirement already satisfied: typing-extensions>=3.6.6 in c:\\users\\docto\\anaconda3\\lib\\site-packages (from tensorflow-intel==2.16.1->tensorflow-cpu) (4.9.0)\n",
      "Requirement already satisfied: wrapt>=1.11.0 in c:\\users\\docto\\anaconda3\\lib\\site-packages (from tensorflow-intel==2.16.1->tensorflow-cpu) (1.14.1)\n",
      "Requirement already satisfied: grpcio<2.0,>=1.24.3 in c:\\users\\docto\\anaconda3\\lib\\site-packages (from tensorflow-intel==2.16.1->tensorflow-cpu) (1.62.1)\n",
      "Requirement already satisfied: tensorboard<2.17,>=2.16 in c:\\users\\docto\\anaconda3\\lib\\site-packages (from tensorflow-intel==2.16.1->tensorflow-cpu) (2.16.2)\n",
      "Requirement already satisfied: keras>=3.0.0 in c:\\users\\docto\\anaconda3\\lib\\site-packages (from tensorflow-intel==2.16.1->tensorflow-cpu) (3.1.1)\n",
      "Requirement already satisfied: tensorflow-io-gcs-filesystem>=0.23.1 in c:\\users\\docto\\anaconda3\\lib\\site-packages (from tensorflow-intel==2.16.1->tensorflow-cpu) (0.31.0)\n",
      "Requirement already satisfied: numpy<2.0.0,>=1.23.5 in c:\\users\\docto\\anaconda3\\lib\\site-packages (from tensorflow-intel==2.16.1->tensorflow-cpu) (1.26.4)\n",
      "Requirement already satisfied: wheel<1.0,>=0.23.0 in c:\\users\\docto\\anaconda3\\lib\\site-packages (from astunparse>=1.6.0->tensorflow-intel==2.16.1->tensorflow-cpu) (0.41.2)\n",
      "Requirement already satisfied: rich in c:\\users\\docto\\anaconda3\\lib\\site-packages (from keras>=3.0.0->tensorflow-intel==2.16.1->tensorflow-cpu) (13.3.5)\n",
      "Requirement already satisfied: namex in c:\\users\\docto\\anaconda3\\lib\\site-packages (from keras>=3.0.0->tensorflow-intel==2.16.1->tensorflow-cpu) (0.0.7)\n",
      "Requirement already satisfied: optree in c:\\users\\docto\\anaconda3\\lib\\site-packages (from keras>=3.0.0->tensorflow-intel==2.16.1->tensorflow-cpu) (0.11.0)\n",
      "Requirement already satisfied: charset-normalizer<4,>=2 in c:\\users\\docto\\anaconda3\\lib\\site-packages (from requests<3,>=2.21.0->tensorflow-intel==2.16.1->tensorflow-cpu) (2.0.4)\n",
      "Requirement already satisfied: idna<4,>=2.5 in c:\\users\\docto\\anaconda3\\lib\\site-packages (from requests<3,>=2.21.0->tensorflow-intel==2.16.1->tensorflow-cpu) (3.4)\n",
      "Requirement already satisfied: urllib3<3,>=1.21.1 in c:\\users\\docto\\anaconda3\\lib\\site-packages (from requests<3,>=2.21.0->tensorflow-intel==2.16.1->tensorflow-cpu) (2.0.7)\n",
      "Requirement already satisfied: certifi>=2017.4.17 in c:\\users\\docto\\anaconda3\\lib\\site-packages (from requests<3,>=2.21.0->tensorflow-intel==2.16.1->tensorflow-cpu) (2024.2.2)\n",
      "Requirement already satisfied: markdown>=2.6.8 in c:\\users\\docto\\anaconda3\\lib\\site-packages (from tensorboard<2.17,>=2.16->tensorflow-intel==2.16.1->tensorflow-cpu) (3.4.1)\n",
      "Requirement already satisfied: tensorboard-data-server<0.8.0,>=0.7.0 in c:\\users\\docto\\anaconda3\\lib\\site-packages (from tensorboard<2.17,>=2.16->tensorflow-intel==2.16.1->tensorflow-cpu) (0.7.2)\n",
      "Requirement already satisfied: werkzeug>=1.0.1 in c:\\users\\docto\\anaconda3\\lib\\site-packages (from tensorboard<2.17,>=2.16->tensorflow-intel==2.16.1->tensorflow-cpu) (2.2.3)\n",
      "Requirement already satisfied: MarkupSafe>=2.1.1 in c:\\users\\docto\\anaconda3\\lib\\site-packages (from werkzeug>=1.0.1->tensorboard<2.17,>=2.16->tensorflow-intel==2.16.1->tensorflow-cpu) (2.1.3)\n",
      "Requirement already satisfied: markdown-it-py<3.0.0,>=2.2.0 in c:\\users\\docto\\anaconda3\\lib\\site-packages (from rich->keras>=3.0.0->tensorflow-intel==2.16.1->tensorflow-cpu) (2.2.0)\n",
      "Requirement already satisfied: pygments<3.0.0,>=2.13.0 in c:\\users\\docto\\anaconda3\\lib\\site-packages (from rich->keras>=3.0.0->tensorflow-intel==2.16.1->tensorflow-cpu) (2.15.1)\n",
      "Requirement already satisfied: mdurl~=0.1 in c:\\users\\docto\\anaconda3\\lib\\site-packages (from markdown-it-py<3.0.0,>=2.2.0->rich->keras>=3.0.0->tensorflow-intel==2.16.1->tensorflow-cpu) (0.1.0)\n",
      "Downloading tensorflow_cpu-2.16.1-cp311-cp311-win_amd64.whl (2.1 kB)\n",
      "Installing collected packages: tensorflow-cpu\n",
      "Successfully installed tensorflow-cpu-2.16.1\n",
      "Note: you may need to restart the kernel to use updated packages.\n"
     ]
    }
   ],
   "source": [
    "pip install tensorflow-cpu"
   ]
  },
  {
   "cell_type": "code",
   "execution_count": 6,
   "metadata": {},
   "outputs": [
    {
     "name": "stdout",
     "output_type": "stream",
     "text": [
      "Note: you may need to restart the kernel to use updated packages.\n"
     ]
    },
    {
     "name": "stderr",
     "output_type": "stream",
     "text": [
      "ERROR: Could not find a version that satisfies the requirement tensorflow-directml-plugin (from versions: none)\n",
      "ERROR: No matching distribution found for tensorflow-directml-plugin\n"
     ]
    }
   ],
   "source": [
    "pip install tensorflow-directml-plugin"
   ]
  },
  {
   "cell_type": "code",
   "execution_count": 1,
   "metadata": {},
   "outputs": [
    {
     "name": "stdout",
     "output_type": "stream",
     "text": [
      "[name: \"/device:CPU:0\"\n",
      "device_type: \"CPU\"\n",
      "memory_limit: 268435456\n",
      "locality {\n",
      "}\n",
      "incarnation: 6673810345578443193\n",
      "xla_global_id: -1\n",
      "]\n"
     ]
    }
   ],
   "source": [
    "from tensorflow.python.client import device_lib \n",
    "print(device_lib.list_local_devices())"
   ]
  },
  {
   "cell_type": "code",
   "execution_count": 5,
   "metadata": {},
   "outputs": [],
   "source": [
    "target_folder = './images/256/'\n",
    "train_img = glob.glob(target_folder + 'train/*/*/*')\n",
    "val_img = glob.glob(target_folder + 'val/*/*')"
   ]
  },
  {
   "cell_type": "code",
   "execution_count": 7,
   "metadata": {},
   "outputs": [],
   "source": [
    "# target_folder = './299/'\n",
    "# train_img = glob.glob(target_folder + 'train/*/*/*')\n",
    "# val_img = glob.glob(target_folder + 'val/*/*')"
   ]
  },
  {
   "cell_type": "code",
   "execution_count": 6,
   "metadata": {
    "scrolled": true
   },
   "outputs": [],
   "source": [
    "for image in val_img:\n",
    "    resize_img(image,256)"
   ]
  },
  {
   "cell_type": "code",
   "execution_count": 7,
   "metadata": {},
   "outputs": [],
   "source": [
    "for image in train_img:\n",
    "    resize_img(image,256)"
   ]
  },
  {
   "cell_type": "code",
   "execution_count": 4,
   "metadata": {},
   "outputs": [],
   "source": [
    "target_folder = './NTAT/PNG/*.png'\n",
    "imgs = glob.glob(target_folder)\n",
    "for img in imgs:\n",
    "    resize_img(img, 299)"
   ]
  }
 ],
 "metadata": {
  "kernelspec": {
   "display_name": "Python 3 (ipykernel)",
   "language": "python",
   "name": "python3"
  },
  "language_info": {
   "codemirror_mode": {
    "name": "ipython",
    "version": 3
   },
   "file_extension": ".py",
   "mimetype": "text/x-python",
   "name": "python",
   "nbconvert_exporter": "python",
   "pygments_lexer": "ipython3",
   "version": "3.11.7"
  }
 },
 "nbformat": 4,
 "nbformat_minor": 4
}
